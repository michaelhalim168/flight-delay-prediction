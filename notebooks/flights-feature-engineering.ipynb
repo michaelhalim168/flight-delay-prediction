{
 "cells": [
  {
   "cell_type": "markdown",
   "metadata": {},
   "source": [
    "# Predicting Flights Delay: Flights Feature Engineering"
   ]
  },
  {
   "cell_type": "code",
   "execution_count": 2,
   "metadata": {},
   "outputs": [],
   "source": [
    "import pandas as pd\n",
    "import numpy as np\n",
    "import datetime as dt\n",
    "import seaborn as sns\n",
    "import matplotlib.pyplot as plt\n",
    "import datetime as dt"
   ]
  },
  {
   "cell_type": "code",
   "execution_count": 3,
   "metadata": {},
   "outputs": [],
   "source": [
    "from sklearn.preprocessing import LabelEncoder, OneHotEncoder\n",
    "from sklearn.compose import ColumnTransformer\n",
    "from sklearn.model_selection import train_test_split"
   ]
  },
  {
   "cell_type": "code",
   "execution_count": 4,
   "metadata": {},
   "outputs": [],
   "source": [
    "flights = pd.read_csv('../data/flights_data_merge.csv')"
   ]
  },
  {
   "cell_type": "code",
   "execution_count": 5,
   "metadata": {},
   "outputs": [],
   "source": [
    "original_flights =  pd.read_csv('../data/flights_data_merge.csv')"
   ]
  },
  {
   "cell_type": "code",
   "execution_count": 6,
   "metadata": {},
   "outputs": [
    {
     "data": {
      "text/html": [
       "<div>\n",
       "<style scoped>\n",
       "    .dataframe tbody tr th:only-of-type {\n",
       "        vertical-align: middle;\n",
       "    }\n",
       "\n",
       "    .dataframe tbody tr th {\n",
       "        vertical-align: top;\n",
       "    }\n",
       "\n",
       "    .dataframe thead th {\n",
       "        text-align: right;\n",
       "    }\n",
       "</style>\n",
       "<table border=\"1\" class=\"dataframe\">\n",
       "  <thead>\n",
       "    <tr style=\"text-align: right;\">\n",
       "      <th></th>\n",
       "      <th>Unnamed: 0</th>\n",
       "      <th>fl_date</th>\n",
       "      <th>mkt_unique_carrier</th>\n",
       "      <th>branded_code_share</th>\n",
       "      <th>mkt_carrier</th>\n",
       "      <th>mkt_carrier_fl_num</th>\n",
       "      <th>op_unique_carrier</th>\n",
       "      <th>tail_num</th>\n",
       "      <th>op_carrier_fl_num</th>\n",
       "      <th>origin_airport_id</th>\n",
       "      <th>...</th>\n",
       "      <th>distance</th>\n",
       "      <th>carrier_delay</th>\n",
       "      <th>weather_delay</th>\n",
       "      <th>nas_delay</th>\n",
       "      <th>security_delay</th>\n",
       "      <th>late_aircraft_delay</th>\n",
       "      <th>first_dep_time</th>\n",
       "      <th>total_add_gtime</th>\n",
       "      <th>longest_add_gtime</th>\n",
       "      <th>no_name</th>\n",
       "    </tr>\n",
       "  </thead>\n",
       "  <tbody>\n",
       "    <tr>\n",
       "      <th>0</th>\n",
       "      <td>0</td>\n",
       "      <td>2018-03-31</td>\n",
       "      <td>UA</td>\n",
       "      <td>UA</td>\n",
       "      <td>UA</td>\n",
       "      <td>2384</td>\n",
       "      <td>UA</td>\n",
       "      <td>N76288</td>\n",
       "      <td>2384</td>\n",
       "      <td>11618</td>\n",
       "      <td>...</td>\n",
       "      <td>1065</td>\n",
       "      <td>0.0</td>\n",
       "      <td>0.0</td>\n",
       "      <td>0.0</td>\n",
       "      <td>0.0</td>\n",
       "      <td>38.0</td>\n",
       "      <td>NaN</td>\n",
       "      <td>NaN</td>\n",
       "      <td>NaN</td>\n",
       "      <td>NaN</td>\n",
       "    </tr>\n",
       "    <tr>\n",
       "      <th>1</th>\n",
       "      <td>1</td>\n",
       "      <td>2018-11-27</td>\n",
       "      <td>DL</td>\n",
       "      <td>DL</td>\n",
       "      <td>DL</td>\n",
       "      <td>1260</td>\n",
       "      <td>DL</td>\n",
       "      <td>N902DN</td>\n",
       "      <td>1260</td>\n",
       "      <td>11884</td>\n",
       "      <td>...</td>\n",
       "      <td>546</td>\n",
       "      <td>NaN</td>\n",
       "      <td>NaN</td>\n",
       "      <td>NaN</td>\n",
       "      <td>NaN</td>\n",
       "      <td>NaN</td>\n",
       "      <td>NaN</td>\n",
       "      <td>NaN</td>\n",
       "      <td>NaN</td>\n",
       "      <td>NaN</td>\n",
       "    </tr>\n",
       "    <tr>\n",
       "      <th>2</th>\n",
       "      <td>2</td>\n",
       "      <td>2018-09-17</td>\n",
       "      <td>AA</td>\n",
       "      <td>AA_CODESHARE</td>\n",
       "      <td>AA</td>\n",
       "      <td>5906</td>\n",
       "      <td>YV</td>\n",
       "      <td>N912FJ</td>\n",
       "      <td>5906</td>\n",
       "      <td>11298</td>\n",
       "      <td>...</td>\n",
       "      <td>641</td>\n",
       "      <td>0.0</td>\n",
       "      <td>0.0</td>\n",
       "      <td>0.0</td>\n",
       "      <td>0.0</td>\n",
       "      <td>47.0</td>\n",
       "      <td>NaN</td>\n",
       "      <td>NaN</td>\n",
       "      <td>NaN</td>\n",
       "      <td>NaN</td>\n",
       "    </tr>\n",
       "    <tr>\n",
       "      <th>3</th>\n",
       "      <td>3</td>\n",
       "      <td>2018-10-19</td>\n",
       "      <td>G4</td>\n",
       "      <td>G4</td>\n",
       "      <td>G4</td>\n",
       "      <td>2272</td>\n",
       "      <td>G4</td>\n",
       "      <td>252NV</td>\n",
       "      <td>2272</td>\n",
       "      <td>10135</td>\n",
       "      <td>...</td>\n",
       "      <td>518</td>\n",
       "      <td>654.0</td>\n",
       "      <td>0.0</td>\n",
       "      <td>0.0</td>\n",
       "      <td>0.0</td>\n",
       "      <td>0.0</td>\n",
       "      <td>NaN</td>\n",
       "      <td>NaN</td>\n",
       "      <td>NaN</td>\n",
       "      <td>NaN</td>\n",
       "    </tr>\n",
       "    <tr>\n",
       "      <th>4</th>\n",
       "      <td>4</td>\n",
       "      <td>2018-04-24</td>\n",
       "      <td>DL</td>\n",
       "      <td>DL_CODESHARE</td>\n",
       "      <td>DL</td>\n",
       "      <td>5583</td>\n",
       "      <td>EV</td>\n",
       "      <td>N738EV</td>\n",
       "      <td>5583</td>\n",
       "      <td>11042</td>\n",
       "      <td>...</td>\n",
       "      <td>419</td>\n",
       "      <td>NaN</td>\n",
       "      <td>NaN</td>\n",
       "      <td>NaN</td>\n",
       "      <td>NaN</td>\n",
       "      <td>NaN</td>\n",
       "      <td>NaN</td>\n",
       "      <td>NaN</td>\n",
       "      <td>NaN</td>\n",
       "      <td>NaN</td>\n",
       "    </tr>\n",
       "    <tr>\n",
       "      <th>...</th>\n",
       "      <td>...</td>\n",
       "      <td>...</td>\n",
       "      <td>...</td>\n",
       "      <td>...</td>\n",
       "      <td>...</td>\n",
       "      <td>...</td>\n",
       "      <td>...</td>\n",
       "      <td>...</td>\n",
       "      <td>...</td>\n",
       "      <td>...</td>\n",
       "      <td>...</td>\n",
       "      <td>...</td>\n",
       "      <td>...</td>\n",
       "      <td>...</td>\n",
       "      <td>...</td>\n",
       "      <td>...</td>\n",
       "      <td>...</td>\n",
       "      <td>...</td>\n",
       "      <td>...</td>\n",
       "      <td>...</td>\n",
       "      <td>...</td>\n",
       "    </tr>\n",
       "    <tr>\n",
       "      <th>999995</th>\n",
       "      <td>499995</td>\n",
       "      <td>2019-02-17</td>\n",
       "      <td>DL</td>\n",
       "      <td>DL</td>\n",
       "      <td>DL</td>\n",
       "      <td>468</td>\n",
       "      <td>DL</td>\n",
       "      <td>N835MH</td>\n",
       "      <td>468</td>\n",
       "      <td>12892</td>\n",
       "      <td>...</td>\n",
       "      <td>2475</td>\n",
       "      <td>NaN</td>\n",
       "      <td>NaN</td>\n",
       "      <td>NaN</td>\n",
       "      <td>NaN</td>\n",
       "      <td>NaN</td>\n",
       "      <td>NaN</td>\n",
       "      <td>NaN</td>\n",
       "      <td>NaN</td>\n",
       "      <td>NaN</td>\n",
       "    </tr>\n",
       "    <tr>\n",
       "      <th>999996</th>\n",
       "      <td>499996</td>\n",
       "      <td>2019-07-09</td>\n",
       "      <td>WN</td>\n",
       "      <td>WN</td>\n",
       "      <td>WN</td>\n",
       "      <td>368</td>\n",
       "      <td>WN</td>\n",
       "      <td>N7854B</td>\n",
       "      <td>368</td>\n",
       "      <td>14831</td>\n",
       "      <td>...</td>\n",
       "      <td>417</td>\n",
       "      <td>NaN</td>\n",
       "      <td>NaN</td>\n",
       "      <td>NaN</td>\n",
       "      <td>NaN</td>\n",
       "      <td>NaN</td>\n",
       "      <td>NaN</td>\n",
       "      <td>NaN</td>\n",
       "      <td>NaN</td>\n",
       "      <td>NaN</td>\n",
       "    </tr>\n",
       "    <tr>\n",
       "      <th>999997</th>\n",
       "      <td>499997</td>\n",
       "      <td>2019-08-12</td>\n",
       "      <td>F9</td>\n",
       "      <td>F9</td>\n",
       "      <td>F9</td>\n",
       "      <td>1759</td>\n",
       "      <td>F9</td>\n",
       "      <td>N356FR</td>\n",
       "      <td>1759</td>\n",
       "      <td>11193</td>\n",
       "      <td>...</td>\n",
       "      <td>773</td>\n",
       "      <td>NaN</td>\n",
       "      <td>NaN</td>\n",
       "      <td>NaN</td>\n",
       "      <td>NaN</td>\n",
       "      <td>NaN</td>\n",
       "      <td>NaN</td>\n",
       "      <td>NaN</td>\n",
       "      <td>NaN</td>\n",
       "      <td>NaN</td>\n",
       "    </tr>\n",
       "    <tr>\n",
       "      <th>999998</th>\n",
       "      <td>499998</td>\n",
       "      <td>2019-10-09</td>\n",
       "      <td>DL</td>\n",
       "      <td>DL_CODESHARE</td>\n",
       "      <td>DL</td>\n",
       "      <td>3968</td>\n",
       "      <td>OO</td>\n",
       "      <td>N8923A</td>\n",
       "      <td>3968</td>\n",
       "      <td>13487</td>\n",
       "      <td>...</td>\n",
       "      <td>144</td>\n",
       "      <td>NaN</td>\n",
       "      <td>NaN</td>\n",
       "      <td>NaN</td>\n",
       "      <td>NaN</td>\n",
       "      <td>NaN</td>\n",
       "      <td>NaN</td>\n",
       "      <td>NaN</td>\n",
       "      <td>NaN</td>\n",
       "      <td>NaN</td>\n",
       "    </tr>\n",
       "    <tr>\n",
       "      <th>999999</th>\n",
       "      <td>499999</td>\n",
       "      <td>2019-10-23</td>\n",
       "      <td>AS</td>\n",
       "      <td>AS</td>\n",
       "      <td>AS</td>\n",
       "      <td>475</td>\n",
       "      <td>AS</td>\n",
       "      <td>N273AK</td>\n",
       "      <td>475</td>\n",
       "      <td>14747</td>\n",
       "      <td>...</td>\n",
       "      <td>564</td>\n",
       "      <td>NaN</td>\n",
       "      <td>NaN</td>\n",
       "      <td>NaN</td>\n",
       "      <td>NaN</td>\n",
       "      <td>NaN</td>\n",
       "      <td>NaN</td>\n",
       "      <td>NaN</td>\n",
       "      <td>NaN</td>\n",
       "      <td>NaN</td>\n",
       "    </tr>\n",
       "  </tbody>\n",
       "</table>\n",
       "<p>1000000 rows × 43 columns</p>\n",
       "</div>"
      ],
      "text/plain": [
       "        Unnamed: 0     fl_date mkt_unique_carrier branded_code_share  \\\n",
       "0                0  2018-03-31                 UA                 UA   \n",
       "1                1  2018-11-27                 DL                 DL   \n",
       "2                2  2018-09-17                 AA       AA_CODESHARE   \n",
       "3                3  2018-10-19                 G4                 G4   \n",
       "4                4  2018-04-24                 DL       DL_CODESHARE   \n",
       "...            ...         ...                ...                ...   \n",
       "999995      499995  2019-02-17                 DL                 DL   \n",
       "999996      499996  2019-07-09                 WN                 WN   \n",
       "999997      499997  2019-08-12                 F9                 F9   \n",
       "999998      499998  2019-10-09                 DL       DL_CODESHARE   \n",
       "999999      499999  2019-10-23                 AS                 AS   \n",
       "\n",
       "       mkt_carrier  mkt_carrier_fl_num op_unique_carrier tail_num  \\\n",
       "0               UA                2384                UA   N76288   \n",
       "1               DL                1260                DL   N902DN   \n",
       "2               AA                5906                YV   N912FJ   \n",
       "3               G4                2272                G4    252NV   \n",
       "4               DL                5583                EV   N738EV   \n",
       "...            ...                 ...               ...      ...   \n",
       "999995          DL                 468                DL   N835MH   \n",
       "999996          WN                 368                WN   N7854B   \n",
       "999997          F9                1759                F9   N356FR   \n",
       "999998          DL                3968                OO   N8923A   \n",
       "999999          AS                 475                AS   N273AK   \n",
       "\n",
       "        op_carrier_fl_num  origin_airport_id  ... distance carrier_delay  \\\n",
       "0                    2384              11618  ...     1065           0.0   \n",
       "1                    1260              11884  ...      546           NaN   \n",
       "2                    5906              11298  ...      641           0.0   \n",
       "3                    2272              10135  ...      518         654.0   \n",
       "4                    5583              11042  ...      419           NaN   \n",
       "...                   ...                ...  ...      ...           ...   \n",
       "999995                468              12892  ...     2475           NaN   \n",
       "999996                368              14831  ...      417           NaN   \n",
       "999997               1759              11193  ...      773           NaN   \n",
       "999998               3968              13487  ...      144           NaN   \n",
       "999999                475              14747  ...      564           NaN   \n",
       "\n",
       "        weather_delay nas_delay security_delay  late_aircraft_delay  \\\n",
       "0                 0.0       0.0            0.0                 38.0   \n",
       "1                 NaN       NaN            NaN                  NaN   \n",
       "2                 0.0       0.0            0.0                 47.0   \n",
       "3                 0.0       0.0            0.0                  0.0   \n",
       "4                 NaN       NaN            NaN                  NaN   \n",
       "...               ...       ...            ...                  ...   \n",
       "999995            NaN       NaN            NaN                  NaN   \n",
       "999996            NaN       NaN            NaN                  NaN   \n",
       "999997            NaN       NaN            NaN                  NaN   \n",
       "999998            NaN       NaN            NaN                  NaN   \n",
       "999999            NaN       NaN            NaN                  NaN   \n",
       "\n",
       "        first_dep_time  total_add_gtime  longest_add_gtime  no_name  \n",
       "0                  NaN              NaN                NaN      NaN  \n",
       "1                  NaN              NaN                NaN      NaN  \n",
       "2                  NaN              NaN                NaN      NaN  \n",
       "3                  NaN              NaN                NaN      NaN  \n",
       "4                  NaN              NaN                NaN      NaN  \n",
       "...                ...              ...                ...      ...  \n",
       "999995             NaN              NaN                NaN      NaN  \n",
       "999996             NaN              NaN                NaN      NaN  \n",
       "999997             NaN              NaN                NaN      NaN  \n",
       "999998             NaN              NaN                NaN      NaN  \n",
       "999999             NaN              NaN                NaN      NaN  \n",
       "\n",
       "[1000000 rows x 43 columns]"
      ]
     },
     "execution_count": 6,
     "metadata": {},
     "output_type": "execute_result"
    }
   ],
   "source": [
    "original_flights"
   ]
  },
  {
   "cell_type": "code",
   "execution_count": 7,
   "metadata": {},
   "outputs": [],
   "source": [
    "def extract_features_df(df):\n",
    "    \n",
    "    '''\n",
    "    Extract relevant features from flight dataframe.\n",
    "        Input: Raw dataframe\n",
    "        Output: Dataframe with relevant features for analysis\n",
    "    '''\n",
    "    \n",
    "    new_df = df.drop(['branded_code_share', 'mkt_carrier', 'mkt_carrier_fl_num',\n",
    "                      'op_carrier_fl_num', 'cancellation_code', 'carrier_delay', 'weather_delay', \n",
    "                      'nas_delay', 'security_delay', 'late_aircraft_delay', 'first_dep_time',\n",
    "                      'total_add_gtime', 'longest_add_gtime', 'no_name', 'cancelled', 'diverted', 'taxi_out', \n",
    "                      'wheels_off', 'wheels_on', 'taxi_in', 'dup', 'dep_time', 'arr_time', 'actual_elapsed_time', 'air_time'], axis=1).dropna()\n",
    "    \n",
    "    new_df['fl_date'] = pd.to_datetime(new_df['fl_date'], format='%Y-%m-%d')\n",
    "\n",
    "    return new_df"
   ]
  },
  {
   "cell_type": "code",
   "execution_count": 8,
   "metadata": {},
   "outputs": [],
   "source": [
    "flights = extract_features_df(flights)\n",
    "flights.drop('Unnamed: 0', axis=1, inplace=True)"
   ]
  },
  {
   "cell_type": "code",
   "execution_count": 9,
   "metadata": {},
   "outputs": [],
   "source": [
    "flights.drop('flights', axis=1, inplace=True)"
   ]
  },
  {
   "cell_type": "code",
   "execution_count": 10,
   "metadata": {},
   "outputs": [
    {
     "data": {
      "text/html": [
       "<div>\n",
       "<style scoped>\n",
       "    .dataframe tbody tr th:only-of-type {\n",
       "        vertical-align: middle;\n",
       "    }\n",
       "\n",
       "    .dataframe tbody tr th {\n",
       "        vertical-align: top;\n",
       "    }\n",
       "\n",
       "    .dataframe thead th {\n",
       "        text-align: right;\n",
       "    }\n",
       "</style>\n",
       "<table border=\"1\" class=\"dataframe\">\n",
       "  <thead>\n",
       "    <tr style=\"text-align: right;\">\n",
       "      <th></th>\n",
       "      <th>fl_date</th>\n",
       "      <th>mkt_unique_carrier</th>\n",
       "      <th>op_unique_carrier</th>\n",
       "      <th>tail_num</th>\n",
       "      <th>origin_airport_id</th>\n",
       "      <th>origin</th>\n",
       "      <th>origin_city_name</th>\n",
       "      <th>dest_airport_id</th>\n",
       "      <th>dest</th>\n",
       "      <th>dest_city_name</th>\n",
       "      <th>crs_dep_time</th>\n",
       "      <th>dep_delay</th>\n",
       "      <th>crs_arr_time</th>\n",
       "      <th>arr_delay</th>\n",
       "      <th>crs_elapsed_time</th>\n",
       "      <th>distance</th>\n",
       "    </tr>\n",
       "  </thead>\n",
       "  <tbody>\n",
       "    <tr>\n",
       "      <th>0</th>\n",
       "      <td>2018-03-31</td>\n",
       "      <td>UA</td>\n",
       "      <td>UA</td>\n",
       "      <td>N76288</td>\n",
       "      <td>11618</td>\n",
       "      <td>EWR</td>\n",
       "      <td>Newark, NJ</td>\n",
       "      <td>11697</td>\n",
       "      <td>FLL</td>\n",
       "      <td>Fort Lauderdale, FL</td>\n",
       "      <td>1705</td>\n",
       "      <td>46.0</td>\n",
       "      <td>2017</td>\n",
       "      <td>38.0</td>\n",
       "      <td>192.0</td>\n",
       "      <td>1065</td>\n",
       "    </tr>\n",
       "    <tr>\n",
       "      <th>1</th>\n",
       "      <td>2018-11-27</td>\n",
       "      <td>DL</td>\n",
       "      <td>DL</td>\n",
       "      <td>N902DN</td>\n",
       "      <td>11884</td>\n",
       "      <td>GEG</td>\n",
       "      <td>Spokane, WA</td>\n",
       "      <td>14869</td>\n",
       "      <td>SLC</td>\n",
       "      <td>Salt Lake City, UT</td>\n",
       "      <td>544</td>\n",
       "      <td>1.0</td>\n",
       "      <td>847</td>\n",
       "      <td>-10.0</td>\n",
       "      <td>123.0</td>\n",
       "      <td>546</td>\n",
       "    </tr>\n",
       "    <tr>\n",
       "      <th>2</th>\n",
       "      <td>2018-09-17</td>\n",
       "      <td>AA</td>\n",
       "      <td>YV</td>\n",
       "      <td>N912FJ</td>\n",
       "      <td>11298</td>\n",
       "      <td>DFW</td>\n",
       "      <td>Dallas/Fort Worth, TX</td>\n",
       "      <td>15624</td>\n",
       "      <td>VPS</td>\n",
       "      <td>Valparaiso, FL</td>\n",
       "      <td>1650</td>\n",
       "      <td>54.0</td>\n",
       "      <td>1846</td>\n",
       "      <td>47.0</td>\n",
       "      <td>116.0</td>\n",
       "      <td>641</td>\n",
       "    </tr>\n",
       "    <tr>\n",
       "      <th>3</th>\n",
       "      <td>2018-10-19</td>\n",
       "      <td>G4</td>\n",
       "      <td>G4</td>\n",
       "      <td>252NV</td>\n",
       "      <td>10135</td>\n",
       "      <td>ABE</td>\n",
       "      <td>Allentown/Bethlehem/Easton, PA</td>\n",
       "      <td>13577</td>\n",
       "      <td>MYR</td>\n",
       "      <td>Myrtle Beach, SC</td>\n",
       "      <td>1108</td>\n",
       "      <td>656.0</td>\n",
       "      <td>1239</td>\n",
       "      <td>654.0</td>\n",
       "      <td>91.0</td>\n",
       "      <td>518</td>\n",
       "    </tr>\n",
       "    <tr>\n",
       "      <th>4</th>\n",
       "      <td>2018-04-24</td>\n",
       "      <td>DL</td>\n",
       "      <td>EV</td>\n",
       "      <td>N738EV</td>\n",
       "      <td>11042</td>\n",
       "      <td>CLE</td>\n",
       "      <td>Cleveland, OH</td>\n",
       "      <td>12953</td>\n",
       "      <td>LGA</td>\n",
       "      <td>New York, NY</td>\n",
       "      <td>912</td>\n",
       "      <td>-10.0</td>\n",
       "      <td>1048</td>\n",
       "      <td>-8.0</td>\n",
       "      <td>96.0</td>\n",
       "      <td>419</td>\n",
       "    </tr>\n",
       "  </tbody>\n",
       "</table>\n",
       "</div>"
      ],
      "text/plain": [
       "     fl_date mkt_unique_carrier op_unique_carrier tail_num  origin_airport_id  \\\n",
       "0 2018-03-31                 UA                UA   N76288              11618   \n",
       "1 2018-11-27                 DL                DL   N902DN              11884   \n",
       "2 2018-09-17                 AA                YV   N912FJ              11298   \n",
       "3 2018-10-19                 G4                G4    252NV              10135   \n",
       "4 2018-04-24                 DL                EV   N738EV              11042   \n",
       "\n",
       "  origin                origin_city_name  dest_airport_id dest  \\\n",
       "0    EWR                      Newark, NJ            11697  FLL   \n",
       "1    GEG                     Spokane, WA            14869  SLC   \n",
       "2    DFW           Dallas/Fort Worth, TX            15624  VPS   \n",
       "3    ABE  Allentown/Bethlehem/Easton, PA            13577  MYR   \n",
       "4    CLE                   Cleveland, OH            12953  LGA   \n",
       "\n",
       "        dest_city_name  crs_dep_time  dep_delay  crs_arr_time  arr_delay  \\\n",
       "0  Fort Lauderdale, FL          1705       46.0          2017       38.0   \n",
       "1   Salt Lake City, UT           544        1.0           847      -10.0   \n",
       "2       Valparaiso, FL          1650       54.0          1846       47.0   \n",
       "3     Myrtle Beach, SC          1108      656.0          1239      654.0   \n",
       "4         New York, NY           912      -10.0          1048       -8.0   \n",
       "\n",
       "   crs_elapsed_time  distance  \n",
       "0             192.0      1065  \n",
       "1             123.0       546  \n",
       "2             116.0       641  \n",
       "3              91.0       518  \n",
       "4              96.0       419  "
      ]
     },
     "execution_count": 10,
     "metadata": {},
     "output_type": "execute_result"
    }
   ],
   "source": [
    "flights.head()"
   ]
  },
  {
   "cell_type": "code",
   "execution_count": 11,
   "metadata": {},
   "outputs": [
    {
     "data": {
      "text/plain": [
       "(980258, 16)"
      ]
     },
     "execution_count": 11,
     "metadata": {},
     "output_type": "execute_result"
    }
   ],
   "source": [
    "flights.shape"
   ]
  },
  {
   "cell_type": "markdown",
   "metadata": {},
   "source": [
    "### Feature 1: Analysis of Dates"
   ]
  },
  {
   "cell_type": "markdown",
   "metadata": {},
   "source": [
    "<b> 1. Separate the date into months and days </b>"
   ]
  },
  {
   "cell_type": "code",
   "execution_count": 12,
   "metadata": {},
   "outputs": [
    {
     "data": {
      "text/html": [
       "<div>\n",
       "<style scoped>\n",
       "    .dataframe tbody tr th:only-of-type {\n",
       "        vertical-align: middle;\n",
       "    }\n",
       "\n",
       "    .dataframe tbody tr th {\n",
       "        vertical-align: top;\n",
       "    }\n",
       "\n",
       "    .dataframe thead th {\n",
       "        text-align: right;\n",
       "    }\n",
       "</style>\n",
       "<table border=\"1\" class=\"dataframe\">\n",
       "  <thead>\n",
       "    <tr style=\"text-align: right;\">\n",
       "      <th></th>\n",
       "      <th>fl_date</th>\n",
       "      <th>mkt_unique_carrier</th>\n",
       "      <th>op_unique_carrier</th>\n",
       "      <th>tail_num</th>\n",
       "      <th>origin_airport_id</th>\n",
       "      <th>origin</th>\n",
       "      <th>origin_city_name</th>\n",
       "      <th>dest_airport_id</th>\n",
       "      <th>dest</th>\n",
       "      <th>dest_city_name</th>\n",
       "      <th>crs_dep_time</th>\n",
       "      <th>dep_delay</th>\n",
       "      <th>crs_arr_time</th>\n",
       "      <th>arr_delay</th>\n",
       "      <th>crs_elapsed_time</th>\n",
       "      <th>distance</th>\n",
       "      <th>month</th>\n",
       "      <th>day</th>\n",
       "    </tr>\n",
       "  </thead>\n",
       "  <tbody>\n",
       "    <tr>\n",
       "      <th>0</th>\n",
       "      <td>2018-03-31</td>\n",
       "      <td>UA</td>\n",
       "      <td>UA</td>\n",
       "      <td>N76288</td>\n",
       "      <td>11618</td>\n",
       "      <td>EWR</td>\n",
       "      <td>Newark, NJ</td>\n",
       "      <td>11697</td>\n",
       "      <td>FLL</td>\n",
       "      <td>Fort Lauderdale, FL</td>\n",
       "      <td>1705</td>\n",
       "      <td>46.0</td>\n",
       "      <td>2017</td>\n",
       "      <td>38.0</td>\n",
       "      <td>192.0</td>\n",
       "      <td>1065</td>\n",
       "      <td>3</td>\n",
       "      <td>31</td>\n",
       "    </tr>\n",
       "    <tr>\n",
       "      <th>1</th>\n",
       "      <td>2018-11-27</td>\n",
       "      <td>DL</td>\n",
       "      <td>DL</td>\n",
       "      <td>N902DN</td>\n",
       "      <td>11884</td>\n",
       "      <td>GEG</td>\n",
       "      <td>Spokane, WA</td>\n",
       "      <td>14869</td>\n",
       "      <td>SLC</td>\n",
       "      <td>Salt Lake City, UT</td>\n",
       "      <td>544</td>\n",
       "      <td>1.0</td>\n",
       "      <td>847</td>\n",
       "      <td>-10.0</td>\n",
       "      <td>123.0</td>\n",
       "      <td>546</td>\n",
       "      <td>11</td>\n",
       "      <td>27</td>\n",
       "    </tr>\n",
       "    <tr>\n",
       "      <th>2</th>\n",
       "      <td>2018-09-17</td>\n",
       "      <td>AA</td>\n",
       "      <td>YV</td>\n",
       "      <td>N912FJ</td>\n",
       "      <td>11298</td>\n",
       "      <td>DFW</td>\n",
       "      <td>Dallas/Fort Worth, TX</td>\n",
       "      <td>15624</td>\n",
       "      <td>VPS</td>\n",
       "      <td>Valparaiso, FL</td>\n",
       "      <td>1650</td>\n",
       "      <td>54.0</td>\n",
       "      <td>1846</td>\n",
       "      <td>47.0</td>\n",
       "      <td>116.0</td>\n",
       "      <td>641</td>\n",
       "      <td>9</td>\n",
       "      <td>17</td>\n",
       "    </tr>\n",
       "    <tr>\n",
       "      <th>3</th>\n",
       "      <td>2018-10-19</td>\n",
       "      <td>G4</td>\n",
       "      <td>G4</td>\n",
       "      <td>252NV</td>\n",
       "      <td>10135</td>\n",
       "      <td>ABE</td>\n",
       "      <td>Allentown/Bethlehem/Easton, PA</td>\n",
       "      <td>13577</td>\n",
       "      <td>MYR</td>\n",
       "      <td>Myrtle Beach, SC</td>\n",
       "      <td>1108</td>\n",
       "      <td>656.0</td>\n",
       "      <td>1239</td>\n",
       "      <td>654.0</td>\n",
       "      <td>91.0</td>\n",
       "      <td>518</td>\n",
       "      <td>10</td>\n",
       "      <td>19</td>\n",
       "    </tr>\n",
       "    <tr>\n",
       "      <th>4</th>\n",
       "      <td>2018-04-24</td>\n",
       "      <td>DL</td>\n",
       "      <td>EV</td>\n",
       "      <td>N738EV</td>\n",
       "      <td>11042</td>\n",
       "      <td>CLE</td>\n",
       "      <td>Cleveland, OH</td>\n",
       "      <td>12953</td>\n",
       "      <td>LGA</td>\n",
       "      <td>New York, NY</td>\n",
       "      <td>912</td>\n",
       "      <td>-10.0</td>\n",
       "      <td>1048</td>\n",
       "      <td>-8.0</td>\n",
       "      <td>96.0</td>\n",
       "      <td>419</td>\n",
       "      <td>4</td>\n",
       "      <td>24</td>\n",
       "    </tr>\n",
       "  </tbody>\n",
       "</table>\n",
       "</div>"
      ],
      "text/plain": [
       "     fl_date mkt_unique_carrier op_unique_carrier tail_num  origin_airport_id  \\\n",
       "0 2018-03-31                 UA                UA   N76288              11618   \n",
       "1 2018-11-27                 DL                DL   N902DN              11884   \n",
       "2 2018-09-17                 AA                YV   N912FJ              11298   \n",
       "3 2018-10-19                 G4                G4    252NV              10135   \n",
       "4 2018-04-24                 DL                EV   N738EV              11042   \n",
       "\n",
       "  origin                origin_city_name  dest_airport_id dest  \\\n",
       "0    EWR                      Newark, NJ            11697  FLL   \n",
       "1    GEG                     Spokane, WA            14869  SLC   \n",
       "2    DFW           Dallas/Fort Worth, TX            15624  VPS   \n",
       "3    ABE  Allentown/Bethlehem/Easton, PA            13577  MYR   \n",
       "4    CLE                   Cleveland, OH            12953  LGA   \n",
       "\n",
       "        dest_city_name  crs_dep_time  dep_delay  crs_arr_time  arr_delay  \\\n",
       "0  Fort Lauderdale, FL          1705       46.0          2017       38.0   \n",
       "1   Salt Lake City, UT           544        1.0           847      -10.0   \n",
       "2       Valparaiso, FL          1650       54.0          1846       47.0   \n",
       "3     Myrtle Beach, SC          1108      656.0          1239      654.0   \n",
       "4         New York, NY           912      -10.0          1048       -8.0   \n",
       "\n",
       "   crs_elapsed_time  distance  month  day  \n",
       "0             192.0      1065      3   31  \n",
       "1             123.0       546     11   27  \n",
       "2             116.0       641      9   17  \n",
       "3              91.0       518     10   19  \n",
       "4              96.0       419      4   24  "
      ]
     },
     "execution_count": 12,
     "metadata": {},
     "output_type": "execute_result"
    }
   ],
   "source": [
    "flights['month'] = flights['fl_date'].dt.month\n",
    "flights['day'] = flights['fl_date'].dt.day\n",
    "flights.head()"
   ]
  },
  {
   "cell_type": "markdown",
   "metadata": {},
   "source": [
    "<b> 2. Obtain median arrival and departure delays for each month; categorize dates into weekend and weekday </b>"
   ]
  },
  {
   "cell_type": "code",
   "execution_count": 13,
   "metadata": {},
   "outputs": [],
   "source": [
    "monthly_delays = flights.groupby('month')[['arr_delay', 'dep_delay']].median().reset_index().rename(columns={'arr_delay': 'month_arr_delay_avg', 'dep_delay':'month_dep_delay_avg'})"
   ]
  },
  {
   "cell_type": "code",
   "execution_count": 14,
   "metadata": {},
   "outputs": [],
   "source": [
    "flights = pd.merge(flights, monthly_delays, on='month', how='inner')"
   ]
  },
  {
   "cell_type": "code",
   "execution_count": 15,
   "metadata": {},
   "outputs": [
    {
     "data": {
      "text/plain": [
       "Index(['fl_date', 'mkt_unique_carrier', 'op_unique_carrier', 'tail_num',\n",
       "       'origin_airport_id', 'origin', 'origin_city_name', 'dest_airport_id',\n",
       "       'dest', 'dest_city_name', 'crs_dep_time', 'dep_delay', 'crs_arr_time',\n",
       "       'arr_delay', 'crs_elapsed_time', 'distance', 'month', 'day',\n",
       "       'month_arr_delay_avg', 'month_dep_delay_avg'],\n",
       "      dtype='object')"
      ]
     },
     "execution_count": 15,
     "metadata": {},
     "output_type": "execute_result"
    }
   ],
   "source": [
    "flights.columns"
   ]
  },
  {
   "cell_type": "code",
   "execution_count": 16,
   "metadata": {},
   "outputs": [],
   "source": [
    "def is_weekend(date):\n",
    "    weekno = date.weekday()\n",
    "    \n",
    "    if weekno < 5:\n",
    "        return 0\n",
    "    else:\n",
    "        return 1"
   ]
  },
  {
   "cell_type": "code",
   "execution_count": 17,
   "metadata": {},
   "outputs": [],
   "source": [
    "flights['is_weekend'] = flights['fl_date'].map(is_weekend)"
   ]
  },
  {
   "cell_type": "markdown",
   "metadata": {},
   "source": [
    "<b> 3. Convert time to datetime objects, separate into hours. </b>"
   ]
  },
  {
   "cell_type": "code",
   "execution_count": 18,
   "metadata": {},
   "outputs": [],
   "source": [
    "def convert_time(time):\n",
    "    \n",
    "    if time == 2400:\n",
    "        return '23:59'\n",
    "    \n",
    "    time_string = str(int(time))\n",
    "    \n",
    "    if len(time_string) < 4:\n",
    "        for i in range(4-len(time_string)):\n",
    "            time_string = '0' + time_string\n",
    "    \n",
    "    return time_string[:2] + ':' + time_string[2:]"
   ]
  },
  {
   "cell_type": "code",
   "execution_count": 19,
   "metadata": {},
   "outputs": [],
   "source": [
    "flights['crs_dep_time'] = flights['crs_dep_time'].map(convert_time)\n",
    "flights['crs_arr_time'] = flights['crs_arr_time'].map(convert_time)"
   ]
  },
  {
   "cell_type": "code",
   "execution_count": 20,
   "metadata": {},
   "outputs": [],
   "source": [
    "flights['crs_dep_time'] = pd.to_datetime(flights['crs_dep_time'], format='%H:%M')\n",
    "flights['crs_arr_time'] = pd.to_datetime(flights['crs_arr_time'], format='%H:%M')"
   ]
  },
  {
   "cell_type": "code",
   "execution_count": 21,
   "metadata": {},
   "outputs": [],
   "source": [
    "flights['dep_hour'] = flights['crs_dep_time'].dt.hour\n",
    "flights['dep_min'] = flights['crs_dep_time'].dt.minute"
   ]
  },
  {
   "cell_type": "code",
   "execution_count": 22,
   "metadata": {},
   "outputs": [],
   "source": [
    "flights['arr_hour'] = flights['crs_arr_time'].dt.hour\n",
    "flights['arr_min'] = flights['crs_arr_time'].dt.minute"
   ]
  },
  {
   "cell_type": "code",
   "execution_count": 23,
   "metadata": {},
   "outputs": [],
   "source": [
    "flights.drop(['crs_dep_time', 'crs_arr_time'], axis=1, inplace=True)"
   ]
  },
  {
   "cell_type": "markdown",
   "metadata": {},
   "source": [
    "<b> 4. Categorize arrival and departure times </b>"
   ]
  },
  {
   "cell_type": "code",
   "execution_count": 24,
   "metadata": {},
   "outputs": [],
   "source": [
    "def get_time_desc(hour):\n",
    "    if hour == 0:\n",
    "        return 'midnight'\n",
    "    elif hour > 0 and hour <= 4:\n",
    "        return 'early morning'\n",
    "    elif hour > 4 and hour <= 10:\n",
    "        return 'morning'\n",
    "    elif hour > 10 and hour <= 15:\n",
    "        return 'noon'\n",
    "    elif hour > 15 and hour <= 21:\n",
    "        return 'evening'\n",
    "    else:\n",
    "        return 'late night'"
   ]
  },
  {
   "cell_type": "code",
   "execution_count": 25,
   "metadata": {},
   "outputs": [],
   "source": [
    "flights['dep_time_desc'] = flights['dep_hour'].map(get_time_desc)\n",
    "flights['arr_time_desc'] = flights['arr_hour'].map(get_time_desc)"
   ]
  },
  {
   "cell_type": "markdown",
   "metadata": {},
   "source": [
    "### Feature 2: Tail Number Analysis"
   ]
  },
  {
   "cell_type": "markdown",
   "metadata": {},
   "source": [
    "<b> 1. The average arrival delays amongst the different tail numbers are different, therefore they can be taken into account in a feature called plane quality. </b>"
   ]
  },
  {
   "cell_type": "code",
   "execution_count": 26,
   "metadata": {},
   "outputs": [],
   "source": [
    "def get_plane_score(df):\n",
    "    plane_quality = df.groupby('tail_num')[['arr_delay']].median().reset_index().rename(columns={'arr_delay': 'plane_score'})\n",
    "    return pd.merge(df, plane_quality, on='tail_num', how='inner')"
   ]
  },
  {
   "cell_type": "code",
   "execution_count": 27,
   "metadata": {},
   "outputs": [],
   "source": [
    "flights = get_plane_score(flights)"
   ]
  },
  {
   "cell_type": "code",
   "execution_count": 28,
   "metadata": {},
   "outputs": [
    {
     "data": {
      "text/plain": [
       "(980258, 26)"
      ]
     },
     "execution_count": 28,
     "metadata": {},
     "output_type": "execute_result"
    }
   ],
   "source": [
    "flights.shape"
   ]
  },
  {
   "cell_type": "markdown",
   "metadata": {},
   "source": [
    "<b> 2. Get the number of flights each aircraft flies in that particular day. Aircrafts that fly a lot of times in one day can encounter more delays. </b>"
   ]
  },
  {
   "cell_type": "code",
   "execution_count": 29,
   "metadata": {},
   "outputs": [],
   "source": [
    "num_flights_plane = flights.groupby(['fl_date', 'tail_num']).size().reset_index().rename(columns={0: 'num_flights_plane'})"
   ]
  },
  {
   "cell_type": "code",
   "execution_count": 30,
   "metadata": {},
   "outputs": [
    {
     "data": {
      "text/html": [
       "<div>\n",
       "<style scoped>\n",
       "    .dataframe tbody tr th:only-of-type {\n",
       "        vertical-align: middle;\n",
       "    }\n",
       "\n",
       "    .dataframe tbody tr th {\n",
       "        vertical-align: top;\n",
       "    }\n",
       "\n",
       "    .dataframe thead th {\n",
       "        text-align: right;\n",
       "    }\n",
       "</style>\n",
       "<table border=\"1\" class=\"dataframe\">\n",
       "  <thead>\n",
       "    <tr style=\"text-align: right;\">\n",
       "      <th></th>\n",
       "      <th>fl_date</th>\n",
       "      <th>tail_num</th>\n",
       "      <th>num_flights_plane</th>\n",
       "    </tr>\n",
       "  </thead>\n",
       "  <tbody>\n",
       "    <tr>\n",
       "      <th>0</th>\n",
       "      <td>2018-01-01</td>\n",
       "      <td>220NV</td>\n",
       "      <td>1</td>\n",
       "    </tr>\n",
       "    <tr>\n",
       "      <th>1</th>\n",
       "      <td>2018-01-01</td>\n",
       "      <td>228NV</td>\n",
       "      <td>1</td>\n",
       "    </tr>\n",
       "    <tr>\n",
       "      <th>2</th>\n",
       "      <td>2018-01-01</td>\n",
       "      <td>230NV</td>\n",
       "      <td>1</td>\n",
       "    </tr>\n",
       "    <tr>\n",
       "      <th>3</th>\n",
       "      <td>2018-01-01</td>\n",
       "      <td>231NV</td>\n",
       "      <td>1</td>\n",
       "    </tr>\n",
       "    <tr>\n",
       "      <th>4</th>\n",
       "      <td>2018-01-01</td>\n",
       "      <td>232NV</td>\n",
       "      <td>2</td>\n",
       "    </tr>\n",
       "    <tr>\n",
       "      <th>...</th>\n",
       "      <td>...</td>\n",
       "      <td>...</td>\n",
       "      <td>...</td>\n",
       "    </tr>\n",
       "    <tr>\n",
       "      <th>862191</th>\n",
       "      <td>2019-12-31</td>\n",
       "      <td>N994AT</td>\n",
       "      <td>1</td>\n",
       "    </tr>\n",
       "    <tr>\n",
       "      <th>862192</th>\n",
       "      <td>2019-12-31</td>\n",
       "      <td>N994NN</td>\n",
       "      <td>1</td>\n",
       "    </tr>\n",
       "    <tr>\n",
       "      <th>862193</th>\n",
       "      <td>2019-12-31</td>\n",
       "      <td>N995JL</td>\n",
       "      <td>1</td>\n",
       "    </tr>\n",
       "    <tr>\n",
       "      <th>862194</th>\n",
       "      <td>2019-12-31</td>\n",
       "      <td>N998AT</td>\n",
       "      <td>1</td>\n",
       "    </tr>\n",
       "    <tr>\n",
       "      <th>862195</th>\n",
       "      <td>2019-12-31</td>\n",
       "      <td>N998NN</td>\n",
       "      <td>1</td>\n",
       "    </tr>\n",
       "  </tbody>\n",
       "</table>\n",
       "<p>862196 rows × 3 columns</p>\n",
       "</div>"
      ],
      "text/plain": [
       "          fl_date tail_num  num_flights_plane\n",
       "0      2018-01-01    220NV                  1\n",
       "1      2018-01-01    228NV                  1\n",
       "2      2018-01-01    230NV                  1\n",
       "3      2018-01-01    231NV                  1\n",
       "4      2018-01-01    232NV                  2\n",
       "...           ...      ...                ...\n",
       "862191 2019-12-31   N994AT                  1\n",
       "862192 2019-12-31   N994NN                  1\n",
       "862193 2019-12-31   N995JL                  1\n",
       "862194 2019-12-31   N998AT                  1\n",
       "862195 2019-12-31   N998NN                  1\n",
       "\n",
       "[862196 rows x 3 columns]"
      ]
     },
     "execution_count": 30,
     "metadata": {},
     "output_type": "execute_result"
    }
   ],
   "source": [
    "num_flights_plane.sort_values(['fl_date', 'tail_num'])"
   ]
  },
  {
   "cell_type": "code",
   "execution_count": 31,
   "metadata": {},
   "outputs": [],
   "source": [
    "flights = pd.merge(flights, num_flights_plane, on=['fl_date', 'tail_num'], how='inner')"
   ]
  },
  {
   "cell_type": "markdown",
   "metadata": {},
   "source": [
    "### Feature 3: Destination and Arrival Airport Analysis"
   ]
  },
  {
   "cell_type": "markdown",
   "metadata": {},
   "source": [
    "<b> 1. Get airport busyness. It can be hypothesized that busy airports with a lot of flights can face more delays. </b>"
   ]
  },
  {
   "cell_type": "code",
   "execution_count": 32,
   "metadata": {},
   "outputs": [],
   "source": [
    "high_busy_dep = flights.groupby('origin').size().reset_index().rename(columns={0: 'num_flights'}).sort_values(by='num_flights', ascending=False)[0:6]['origin'].tolist()\n",
    "medhigh_busy_dep = flights.groupby('origin').size().reset_index().rename(columns={0: 'num_flights'}).sort_values(by='num_flights', ascending=False)[6:25]['origin'].tolist()\n",
    "medium_busy_dep = flights.groupby('origin').size().reset_index().rename(columns={0: 'num_flights'}).sort_values(by='num_flights', ascending=False)[25:117]['origin'].tolist()\n",
    "low_busy_dep = flights.groupby('origin').size().reset_index().rename(columns={0: 'num_flights'}).sort_values(by='num_flights', ascending=False)[117:]['origin'].tolist()\n",
    "\n",
    "def get_origin_busy(code):\n",
    "    if code in high_busy_dep:\n",
    "        return 'high'\n",
    "    elif code in medhigh_busy_dep:\n",
    "        return 'medium-high'\n",
    "    elif code in medium_busy_dep:\n",
    "        return 'medium'\n",
    "    else:\n",
    "        return 'low'\n",
    "    \n",
    "high_busy_dest = flights.groupby('dest').size().reset_index().rename(columns={0: 'num_flights'}).sort_values(by='num_flights', ascending=False)[0:6]['dest'].tolist()\n",
    "medhigh_busy_dest = flights.groupby('dest').size().reset_index().rename(columns={0: 'num_flights'}).sort_values(by='num_flights', ascending=False)[6:25]['dest'].tolist()\n",
    "medium_busy_dest = flights.groupby('dest').size().reset_index().rename(columns={0: 'num_flights'}).sort_values(by='num_flights', ascending=False)[25:118]['dest'].tolist()\n",
    "low_busy_dest = flights.groupby('dest').size().reset_index().rename(columns={0: 'num_flights'}).sort_values(by='num_flights', ascending=False)[118:]['dest'].tolist()\n",
    "\n",
    "def get_dest_busy(code):\n",
    "    if code in high_busy_dest:\n",
    "        return 'high'\n",
    "    elif code in medhigh_busy_dest:\n",
    "        return 'medium-high'\n",
    "    elif code in medium_busy_dest:\n",
    "        return 'medium'\n",
    "    else:\n",
    "        return 'low'\n"
   ]
  },
  {
   "cell_type": "code",
   "execution_count": 33,
   "metadata": {},
   "outputs": [],
   "source": [
    "flights['orr_busy'] = flights['origin'].map(get_origin_busy)\n",
    "flights['arr_busy'] = flights['dest'].map(get_dest_busy)"
   ]
  },
  {
   "cell_type": "markdown",
   "metadata": {},
   "source": [
    "<b> 2. Analyze Routes! Let's take a look at a combination of airline code, origin, destination, and month and obtain the following features: median, mean, 25%, and 75% of arrival delays. </b>"
   ]
  },
  {
   "cell_type": "code",
   "execution_count": 34,
   "metadata": {},
   "outputs": [
    {
     "data": {
      "text/plain": [
       "Index(['fl_date', 'mkt_unique_carrier', 'op_unique_carrier', 'tail_num',\n",
       "       'origin_airport_id', 'origin', 'origin_city_name', 'dest_airport_id',\n",
       "       'dest', 'dest_city_name', 'dep_delay', 'arr_delay', 'crs_elapsed_time',\n",
       "       'distance', 'month', 'day', 'month_arr_delay_avg',\n",
       "       'month_dep_delay_avg', 'is_weekend', 'dep_hour', 'dep_min', 'arr_hour',\n",
       "       'arr_min', 'dep_time_desc', 'arr_time_desc', 'plane_score',\n",
       "       'num_flights_plane', 'orr_busy', 'arr_busy'],\n",
       "      dtype='object')"
      ]
     },
     "execution_count": 34,
     "metadata": {},
     "output_type": "execute_result"
    }
   ],
   "source": [
    "flights.columns"
   ]
  },
  {
   "cell_type": "code",
   "execution_count": 35,
   "metadata": {},
   "outputs": [],
   "source": [
    "flights['route'] = flights['op_unique_carrier'] + flights['origin'] + flights['dest'] + flights['month'].apply(lambda x: str(x))"
   ]
  },
  {
   "cell_type": "code",
   "execution_count": 36,
   "metadata": {},
   "outputs": [],
   "source": [
    "route_mean = flights.groupby('route')[['arr_delay']].mean().reset_index().rename(columns={'arr_delay': 'route_mean_delay'})\n",
    "route_median = flights.groupby('route')[['arr_delay']].median().reset_index().rename(columns={'arr_delay': 'route_median_delay'})\n",
    "route_lq = flights.groupby('route')[['arr_delay']].quantile(0.25).reset_index().rename(columns={'arr_delay': 'route_lq_delay'})\n",
    "route_uq = flights.groupby('route')[['arr_delay']].quantile(0.75).reset_index().rename(columns={'arr_delay': 'route_uq_delay'})"
   ]
  },
  {
   "cell_type": "code",
   "execution_count": 37,
   "metadata": {},
   "outputs": [],
   "source": [
    "route_info = pd.merge(route_mean, route_median)\n",
    "route_info = pd.merge(route_info, route_lq)\n",
    "route_info = pd.merge(route_info, route_uq)"
   ]
  },
  {
   "cell_type": "code",
   "execution_count": 38,
   "metadata": {},
   "outputs": [
    {
     "data": {
      "text/plain": [
       "(980258, 30)"
      ]
     },
     "execution_count": 38,
     "metadata": {},
     "output_type": "execute_result"
    }
   ],
   "source": [
    "flights.shape"
   ]
  },
  {
   "cell_type": "code",
   "execution_count": 39,
   "metadata": {},
   "outputs": [],
   "source": [
    "flights = pd.merge(flights, route_info, on='route', how='inner')"
   ]
  },
  {
   "cell_type": "code",
   "execution_count": 40,
   "metadata": {},
   "outputs": [
    {
     "data": {
      "text/plain": [
       "(980258, 34)"
      ]
     },
     "execution_count": 40,
     "metadata": {},
     "output_type": "execute_result"
    }
   ],
   "source": [
    "flights.shape"
   ]
  },
  {
   "cell_type": "code",
   "execution_count": 41,
   "metadata": {},
   "outputs": [
    {
     "data": {
      "text/html": [
       "<div>\n",
       "<style scoped>\n",
       "    .dataframe tbody tr th:only-of-type {\n",
       "        vertical-align: middle;\n",
       "    }\n",
       "\n",
       "    .dataframe tbody tr th {\n",
       "        vertical-align: top;\n",
       "    }\n",
       "\n",
       "    .dataframe thead th {\n",
       "        text-align: right;\n",
       "    }\n",
       "</style>\n",
       "<table border=\"1\" class=\"dataframe\">\n",
       "  <thead>\n",
       "    <tr style=\"text-align: right;\">\n",
       "      <th></th>\n",
       "      <th>fl_date</th>\n",
       "      <th>mkt_unique_carrier</th>\n",
       "      <th>op_unique_carrier</th>\n",
       "      <th>tail_num</th>\n",
       "      <th>origin_airport_id</th>\n",
       "      <th>origin</th>\n",
       "      <th>origin_city_name</th>\n",
       "      <th>dest_airport_id</th>\n",
       "      <th>dest</th>\n",
       "      <th>dest_city_name</th>\n",
       "      <th>...</th>\n",
       "      <th>arr_time_desc</th>\n",
       "      <th>plane_score</th>\n",
       "      <th>num_flights_plane</th>\n",
       "      <th>orr_busy</th>\n",
       "      <th>arr_busy</th>\n",
       "      <th>route</th>\n",
       "      <th>route_mean_delay</th>\n",
       "      <th>route_median_delay</th>\n",
       "      <th>route_lq_delay</th>\n",
       "      <th>route_uq_delay</th>\n",
       "    </tr>\n",
       "  </thead>\n",
       "  <tbody>\n",
       "    <tr>\n",
       "      <th>0</th>\n",
       "      <td>2018-03-31</td>\n",
       "      <td>UA</td>\n",
       "      <td>UA</td>\n",
       "      <td>N76288</td>\n",
       "      <td>11618</td>\n",
       "      <td>EWR</td>\n",
       "      <td>Newark, NJ</td>\n",
       "      <td>11697</td>\n",
       "      <td>FLL</td>\n",
       "      <td>Fort Lauderdale, FL</td>\n",
       "      <td>...</td>\n",
       "      <td>evening</td>\n",
       "      <td>-7.0</td>\n",
       "      <td>2</td>\n",
       "      <td>medium-high</td>\n",
       "      <td>medium-high</td>\n",
       "      <td>UAEWRFLL3</td>\n",
       "      <td>0.24</td>\n",
       "      <td>-11.0</td>\n",
       "      <td>-18.0</td>\n",
       "      <td>4.0</td>\n",
       "    </tr>\n",
       "    <tr>\n",
       "      <th>1</th>\n",
       "      <td>2019-03-07</td>\n",
       "      <td>UA</td>\n",
       "      <td>UA</td>\n",
       "      <td>N37468</td>\n",
       "      <td>11618</td>\n",
       "      <td>EWR</td>\n",
       "      <td>Newark, NJ</td>\n",
       "      <td>11697</td>\n",
       "      <td>FLL</td>\n",
       "      <td>Fort Lauderdale, FL</td>\n",
       "      <td>...</td>\n",
       "      <td>late night</td>\n",
       "      <td>-8.0</td>\n",
       "      <td>1</td>\n",
       "      <td>medium-high</td>\n",
       "      <td>medium-high</td>\n",
       "      <td>UAEWRFLL3</td>\n",
       "      <td>0.24</td>\n",
       "      <td>-11.0</td>\n",
       "      <td>-18.0</td>\n",
       "      <td>4.0</td>\n",
       "    </tr>\n",
       "    <tr>\n",
       "      <th>2</th>\n",
       "      <td>2018-03-02</td>\n",
       "      <td>UA</td>\n",
       "      <td>UA</td>\n",
       "      <td>N68823</td>\n",
       "      <td>11618</td>\n",
       "      <td>EWR</td>\n",
       "      <td>Newark, NJ</td>\n",
       "      <td>11697</td>\n",
       "      <td>FLL</td>\n",
       "      <td>Fort Lauderdale, FL</td>\n",
       "      <td>...</td>\n",
       "      <td>evening</td>\n",
       "      <td>-8.0</td>\n",
       "      <td>1</td>\n",
       "      <td>medium-high</td>\n",
       "      <td>medium-high</td>\n",
       "      <td>UAEWRFLL3</td>\n",
       "      <td>0.24</td>\n",
       "      <td>-11.0</td>\n",
       "      <td>-18.0</td>\n",
       "      <td>4.0</td>\n",
       "    </tr>\n",
       "    <tr>\n",
       "      <th>3</th>\n",
       "      <td>2019-03-20</td>\n",
       "      <td>UA</td>\n",
       "      <td>UA</td>\n",
       "      <td>N68823</td>\n",
       "      <td>11618</td>\n",
       "      <td>EWR</td>\n",
       "      <td>Newark, NJ</td>\n",
       "      <td>11697</td>\n",
       "      <td>FLL</td>\n",
       "      <td>Fort Lauderdale, FL</td>\n",
       "      <td>...</td>\n",
       "      <td>noon</td>\n",
       "      <td>-8.0</td>\n",
       "      <td>2</td>\n",
       "      <td>medium-high</td>\n",
       "      <td>medium-high</td>\n",
       "      <td>UAEWRFLL3</td>\n",
       "      <td>0.24</td>\n",
       "      <td>-11.0</td>\n",
       "      <td>-18.0</td>\n",
       "      <td>4.0</td>\n",
       "    </tr>\n",
       "    <tr>\n",
       "      <th>4</th>\n",
       "      <td>2019-03-11</td>\n",
       "      <td>UA</td>\n",
       "      <td>UA</td>\n",
       "      <td>N39450</td>\n",
       "      <td>11618</td>\n",
       "      <td>EWR</td>\n",
       "      <td>Newark, NJ</td>\n",
       "      <td>11697</td>\n",
       "      <td>FLL</td>\n",
       "      <td>Fort Lauderdale, FL</td>\n",
       "      <td>...</td>\n",
       "      <td>late night</td>\n",
       "      <td>-5.0</td>\n",
       "      <td>1</td>\n",
       "      <td>medium-high</td>\n",
       "      <td>medium-high</td>\n",
       "      <td>UAEWRFLL3</td>\n",
       "      <td>0.24</td>\n",
       "      <td>-11.0</td>\n",
       "      <td>-18.0</td>\n",
       "      <td>4.0</td>\n",
       "    </tr>\n",
       "  </tbody>\n",
       "</table>\n",
       "<p>5 rows × 34 columns</p>\n",
       "</div>"
      ],
      "text/plain": [
       "     fl_date mkt_unique_carrier op_unique_carrier tail_num  origin_airport_id  \\\n",
       "0 2018-03-31                 UA                UA   N76288              11618   \n",
       "1 2019-03-07                 UA                UA   N37468              11618   \n",
       "2 2018-03-02                 UA                UA   N68823              11618   \n",
       "3 2019-03-20                 UA                UA   N68823              11618   \n",
       "4 2019-03-11                 UA                UA   N39450              11618   \n",
       "\n",
       "  origin origin_city_name  dest_airport_id dest       dest_city_name  ...  \\\n",
       "0    EWR       Newark, NJ            11697  FLL  Fort Lauderdale, FL  ...   \n",
       "1    EWR       Newark, NJ            11697  FLL  Fort Lauderdale, FL  ...   \n",
       "2    EWR       Newark, NJ            11697  FLL  Fort Lauderdale, FL  ...   \n",
       "3    EWR       Newark, NJ            11697  FLL  Fort Lauderdale, FL  ...   \n",
       "4    EWR       Newark, NJ            11697  FLL  Fort Lauderdale, FL  ...   \n",
       "\n",
       "   arr_time_desc  plane_score  num_flights_plane     orr_busy     arr_busy  \\\n",
       "0        evening         -7.0                  2  medium-high  medium-high   \n",
       "1     late night         -8.0                  1  medium-high  medium-high   \n",
       "2        evening         -8.0                  1  medium-high  medium-high   \n",
       "3           noon         -8.0                  2  medium-high  medium-high   \n",
       "4     late night         -5.0                  1  medium-high  medium-high   \n",
       "\n",
       "       route  route_mean_delay  route_median_delay  route_lq_delay  \\\n",
       "0  UAEWRFLL3              0.24               -11.0           -18.0   \n",
       "1  UAEWRFLL3              0.24               -11.0           -18.0   \n",
       "2  UAEWRFLL3              0.24               -11.0           -18.0   \n",
       "3  UAEWRFLL3              0.24               -11.0           -18.0   \n",
       "4  UAEWRFLL3              0.24               -11.0           -18.0   \n",
       "\n",
       "   route_uq_delay  \n",
       "0             4.0  \n",
       "1             4.0  \n",
       "2             4.0  \n",
       "3             4.0  \n",
       "4             4.0  \n",
       "\n",
       "[5 rows x 34 columns]"
      ]
     },
     "execution_count": 41,
     "metadata": {},
     "output_type": "execute_result"
    }
   ],
   "source": [
    "flights.head()"
   ]
  },
  {
   "cell_type": "markdown",
   "metadata": {},
   "source": [
    "<b> 3. Let's obtain the probability of getting a delay greater than 10 minutes out of all the total flights. </b>"
   ]
  },
  {
   "cell_type": "code",
   "execution_count": 42,
   "metadata": {},
   "outputs": [],
   "source": [
    "delayed_flights = flights[flights['arr_delay'] >= 10].groupby('route').size().reset_index().rename(columns={0: 'num_delayed_routes'})"
   ]
  },
  {
   "cell_type": "code",
   "execution_count": 43,
   "metadata": {},
   "outputs": [],
   "source": [
    "total_flights = flights.groupby('route').size().reset_index().rename(columns={0: 'total_routes'})"
   ]
  },
  {
   "cell_type": "code",
   "execution_count": 44,
   "metadata": {},
   "outputs": [],
   "source": [
    "all_flights = pd.merge(total_flights, delayed_flights, on='route', how='left')"
   ]
  },
  {
   "cell_type": "code",
   "execution_count": 45,
   "metadata": {},
   "outputs": [],
   "source": [
    "all_flights['route_prob_delay'] = all_flights['num_delayed_routes']/all_flights['total_routes']"
   ]
  },
  {
   "cell_type": "code",
   "execution_count": 46,
   "metadata": {},
   "outputs": [],
   "source": [
    "all_flights.fillna(0, inplace=True)"
   ]
  },
  {
   "cell_type": "code",
   "execution_count": 47,
   "metadata": {},
   "outputs": [
    {
     "data": {
      "text/html": [
       "<div>\n",
       "<style scoped>\n",
       "    .dataframe tbody tr th:only-of-type {\n",
       "        vertical-align: middle;\n",
       "    }\n",
       "\n",
       "    .dataframe tbody tr th {\n",
       "        vertical-align: top;\n",
       "    }\n",
       "\n",
       "    .dataframe thead th {\n",
       "        text-align: right;\n",
       "    }\n",
       "</style>\n",
       "<table border=\"1\" class=\"dataframe\">\n",
       "  <thead>\n",
       "    <tr style=\"text-align: right;\">\n",
       "      <th></th>\n",
       "      <th>route</th>\n",
       "      <th>total_routes</th>\n",
       "      <th>num_delayed_routes</th>\n",
       "      <th>route_prob_delay</th>\n",
       "    </tr>\n",
       "  </thead>\n",
       "  <tbody>\n",
       "    <tr>\n",
       "      <th>0</th>\n",
       "      <td>9EABEATL1</td>\n",
       "      <td>3</td>\n",
       "      <td>0.0</td>\n",
       "      <td>0.000000</td>\n",
       "    </tr>\n",
       "    <tr>\n",
       "      <th>1</th>\n",
       "      <td>9EABEATL10</td>\n",
       "      <td>6</td>\n",
       "      <td>1.0</td>\n",
       "      <td>0.166667</td>\n",
       "    </tr>\n",
       "    <tr>\n",
       "      <th>2</th>\n",
       "      <td>9EABEATL11</td>\n",
       "      <td>8</td>\n",
       "      <td>3.0</td>\n",
       "      <td>0.375000</td>\n",
       "    </tr>\n",
       "    <tr>\n",
       "      <th>3</th>\n",
       "      <td>9EABEATL12</td>\n",
       "      <td>6</td>\n",
       "      <td>2.0</td>\n",
       "      <td>0.333333</td>\n",
       "    </tr>\n",
       "    <tr>\n",
       "      <th>4</th>\n",
       "      <td>9EABEATL2</td>\n",
       "      <td>3</td>\n",
       "      <td>1.0</td>\n",
       "      <td>0.333333</td>\n",
       "    </tr>\n",
       "  </tbody>\n",
       "</table>\n",
       "</div>"
      ],
      "text/plain": [
       "        route  total_routes  num_delayed_routes  route_prob_delay\n",
       "0   9EABEATL1             3                 0.0          0.000000\n",
       "1  9EABEATL10             6                 1.0          0.166667\n",
       "2  9EABEATL11             8                 3.0          0.375000\n",
       "3  9EABEATL12             6                 2.0          0.333333\n",
       "4   9EABEATL2             3                 1.0          0.333333"
      ]
     },
     "execution_count": 47,
     "metadata": {},
     "output_type": "execute_result"
    }
   ],
   "source": [
    "all_flights.head()"
   ]
  },
  {
   "cell_type": "code",
   "execution_count": 48,
   "metadata": {},
   "outputs": [],
   "source": [
    "flights = pd.merge(flights, all_flights, on='route', how='inner')"
   ]
  },
  {
   "cell_type": "markdown",
   "metadata": {},
   "source": [
    "<b> 4. Get the mean, median, 25% and 75% of historical departure delays for each route! </b>"
   ]
  },
  {
   "cell_type": "code",
   "execution_count": 49,
   "metadata": {},
   "outputs": [],
   "source": [
    "route_mean_dep = flights.groupby('route')[['dep_delay']].mean().reset_index().rename(columns={'dep_delay': 'route_mean_dep_delay'})\n",
    "route_median_dep = flights.groupby('route')[['dep_delay']].median().reset_index().rename(columns={'dep_delay': 'route_median_dep_delay'})\n",
    "route_lq_dep = flights.groupby('route')[['dep_delay']].quantile(0.25).reset_index().rename(columns={'dep_delay': 'route_lq_dep_delay'})\n",
    "route_uq_dep = flights.groupby('route')[['dep_delay']].quantile(0.75).reset_index().rename(columns={'dep_delay': 'route_uq_dep_delay'})"
   ]
  },
  {
   "cell_type": "code",
   "execution_count": 50,
   "metadata": {},
   "outputs": [],
   "source": [
    "route_info_dep = pd.merge(route_mean_dep, route_median_dep)\n",
    "route_info_dep = pd.merge(route_info_dep, route_lq_dep)\n",
    "route_info_dep = pd.merge(route_info_dep, route_uq_dep)"
   ]
  },
  {
   "cell_type": "code",
   "execution_count": 51,
   "metadata": {},
   "outputs": [],
   "source": [
    "flights = pd.merge(flights, route_info_dep, on='route', how='inner')"
   ]
  },
  {
   "cell_type": "code",
   "execution_count": 52,
   "metadata": {},
   "outputs": [
    {
     "data": {
      "text/plain": [
       "(980258, 41)"
      ]
     },
     "execution_count": 52,
     "metadata": {},
     "output_type": "execute_result"
    }
   ],
   "source": [
    "flights.shape"
   ]
  },
  {
   "cell_type": "markdown",
   "metadata": {},
   "source": [
    "# That's all the features so far! Let's export the file to a csv!"
   ]
  },
  {
   "cell_type": "code",
   "execution_count": 53,
   "metadata": {},
   "outputs": [],
   "source": [
    "#flights.to_csv('../data/data-feature/flights-feature-edit.csv')"
   ]
  }
 ],
 "metadata": {
  "kernelspec": {
   "display_name": "lhl-bootcamp",
   "language": "python",
   "name": "lhl-bootcamp"
  },
  "language_info": {
   "codemirror_mode": {
    "name": "ipython",
    "version": 3
   },
   "file_extension": ".py",
   "mimetype": "text/x-python",
   "name": "python",
   "nbconvert_exporter": "python",
   "pygments_lexer": "ipython3",
   "version": "3.7.7"
  }
 },
 "nbformat": 4,
 "nbformat_minor": 4
}
