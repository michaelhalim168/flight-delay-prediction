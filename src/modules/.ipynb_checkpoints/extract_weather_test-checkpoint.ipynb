{
 "cells": [
  {
   "cell_type": "code",
   "execution_count": 1,
   "metadata": {},
   "outputs": [],
   "source": [
    "import pandas as pd\n",
    "import requests \n",
    "from keys import API_KEYS\n",
    "from IPython.display import JSON\n",
    "import json\n",
    "api_keys = API_KEYS()\n",
    "api_key = api_keys.api_key\n"
   ]
  },
  {
   "cell_type": "code",
   "execution_count": 3,
   "metadata": {},
   "outputs": [],
   "source": [
    "top_airport_codes = pd.read_csv('../../data/top-airports.csv')\n",
    "top_airport_codes = list(top_airport_codes['airport'][:20].to_numpy())\n",
    "airport_latlong = pd.read_csv('../../data/airport-codes_csv.csv')\n",
    "\n",
    "start_date = ['2018-01-01', '2018-02-01', '2018-03-01', '2018-04-01', '2018-05-01', '2018-06-01',\n",
    "              '2018-07-01', '2018-08-01', '2018-09-01', '2018-10-01', '2018-11-01', '2018-12-01',\n",
    "              '2019-01-01', '2019-02-01', '2019-03-01', '2019-04-01', '2019-05-01', '2019-06-01',\n",
    "              '2019-07-01', '2019-08-01', '2019-09-01', '2019-10-01', '2019-11-01', '2019-12-01']\n",
    "end_date = ['2018-01-31', '2018-02-28', '2018-03-31', '2018-04-30', '2018-05-31', '2018-06-30',\n",
    "            '2018-07-31', '2018-08-31', '2018-09-30', '2018-10-31', '2018-11-30', '2018-12-31',\n",
    "            '2019-01-31', '2019-02-28', '2019-03-31', '2019-04-30', '2019-05-31', '2019-06-30',\n",
    "            '2019-07-31', '2019-08-31', '2019-09-30', '2019-10-31', '2019-11-30', '2019-12-31',]"
   ]
  },
  {
   "cell_type": "code",
   "execution_count": 5,
   "metadata": {},
   "outputs": [],
   "source": [
    "def get_latlong(airport_latlong, code):\n",
    "    latitude = airport_latlong[airport_latlong['iata_code'] == code]['coordinates'].values[0].split()[0]\n",
    "    longitude = airport_latlong[airport_latlong['iata_code'] == code]['coordinates'].values[0].split()[1]\n",
    "    return latitude,longitude\n",
    "\n",
    "def get_weather_data(code, start_date, end_date):\n",
    "    base_url = 'http://api.worldweatheronline.com/premium/v1/past-weather.ashx'\n",
    "    params = {'q': code, 'date': start_date, \n",
    "              'enddate': end_date, 'tp': 24, 'format': 'json', 'key': api_key}\n",
    "\n",
    "    response = requests.get(base_url, params=params)\n",
    "    status_code = response.status_code\n",
    "\n",
    "    if status_code != 200:\n",
    "        print(f'Error: {status_code}')\n",
    "        return\n",
    "    else:\n",
    "        return response.json()\n",
    "\n",
    "def store_weather_data(data, code, num):\n",
    "    with open(f'../../data/weather-data/{code}_{num}.json', 'w') as f:\n",
    "        json.dump(data, f)"
   ]
  },
  {
   "cell_type": "code",
   "execution_count": 19,
   "metadata": {},
   "outputs": [],
   "source": [
    "airport_codes =  ['BOS', 'CLT', 'DEN', 'DTW', 'EWR', 'IAH', 'LAS', 'MCO', 'PHL', 'PHX', 'SFO']"
   ]
  },
  {
   "cell_type": "code",
   "execution_count": 17,
   "metadata": {},
   "outputs": [
    {
     "data": {
      "text/plain": [
       "['ATL', 'DCA', 'DFW', 'JFK', 'LAX', 'LGA', 'MSP', 'ORD', 'SEA']"
      ]
     },
     "execution_count": 17,
     "metadata": {},
     "output_type": "execute_result"
    }
   ],
   "source": [
    "codes_have = ['ATL', 'DCA', 'DFW', 'JFK', 'LAX', 'LGA', 'MSP', 'ORD', 'SEA']\n",
    "codes_have.sort()\n",
    "codes_have"
   ]
  },
  {
   "cell_type": "code",
   "execution_count": null,
   "metadata": {},
   "outputs": [],
   "source": []
  },
  {
   "cell_type": "code",
   "execution_count": 44,
   "metadata": {},
   "outputs": [],
   "source": [
    "codes_found = ['ATL', 'DCA', 'DFW', 'JFK', 'LAX', 'LGA', 'MSP', 'ORD', 'SEA']"
   ]
  },
  {
   "cell_type": "code",
   "execution_count": 20,
   "metadata": {},
   "outputs": [
    {
     "name": "stdout",
     "output_type": "stream",
     "text": [
      "Error: 429\n",
      "Error: 429\n",
      "Error: 429\n",
      "Error: 429\n",
      "Error: 429\n",
      "Error: 429\n",
      "Error: 429\n"
     ]
    },
    {
     "ename": "KeyboardInterrupt",
     "evalue": "",
     "output_type": "error",
     "traceback": [
      "\u001b[0;31m---------------------------------------------------------------------------\u001b[0m",
      "\u001b[0;31mKeyboardInterrupt\u001b[0m                         Traceback (most recent call last)",
      "\u001b[0;32m<ipython-input-20-800d142c92d1>\u001b[0m in \u001b[0;36m<module>\u001b[0;34m\u001b[0m\n\u001b[1;32m      1\u001b[0m \u001b[0;32mfor\u001b[0m \u001b[0mcode\u001b[0m \u001b[0;32min\u001b[0m \u001b[0mairport_codes\u001b[0m\u001b[0;34m:\u001b[0m\u001b[0;34m\u001b[0m\u001b[0;34m\u001b[0m\u001b[0m\n\u001b[1;32m      2\u001b[0m     \u001b[0;32mfor\u001b[0m \u001b[0mi\u001b[0m \u001b[0;32min\u001b[0m \u001b[0mrange\u001b[0m\u001b[0;34m(\u001b[0m\u001b[0;36m24\u001b[0m\u001b[0;34m)\u001b[0m\u001b[0;34m:\u001b[0m\u001b[0;34m\u001b[0m\u001b[0;34m\u001b[0m\u001b[0m\n\u001b[0;32m----> 3\u001b[0;31m         \u001b[0mweather_data\u001b[0m \u001b[0;34m=\u001b[0m \u001b[0mget_weather_data\u001b[0m\u001b[0;34m(\u001b[0m\u001b[0mcode\u001b[0m\u001b[0;34m,\u001b[0m \u001b[0mstart_date\u001b[0m\u001b[0;34m[\u001b[0m\u001b[0mi\u001b[0m\u001b[0;34m]\u001b[0m\u001b[0;34m,\u001b[0m \u001b[0mend_date\u001b[0m\u001b[0;34m[\u001b[0m\u001b[0mi\u001b[0m\u001b[0;34m]\u001b[0m\u001b[0;34m)\u001b[0m\u001b[0;34m\u001b[0m\u001b[0;34m\u001b[0m\u001b[0m\n\u001b[0m\u001b[1;32m      4\u001b[0m         \u001b[0mstore_weather_data\u001b[0m\u001b[0;34m(\u001b[0m\u001b[0mweather_data\u001b[0m\u001b[0;34m,\u001b[0m \u001b[0mcode\u001b[0m\u001b[0;34m,\u001b[0m \u001b[0mi\u001b[0m\u001b[0;34m)\u001b[0m\u001b[0;34m\u001b[0m\u001b[0;34m\u001b[0m\u001b[0m\n",
      "\u001b[0;32m<ipython-input-5-f2d4e4aca476>\u001b[0m in \u001b[0;36mget_weather_data\u001b[0;34m(code, start_date, end_date)\u001b[0m\n\u001b[1;32m      9\u001b[0m               'enddate': end_date, 'tp': 24, 'format': 'json', 'key': api_key}\n\u001b[1;32m     10\u001b[0m \u001b[0;34m\u001b[0m\u001b[0m\n\u001b[0;32m---> 11\u001b[0;31m     \u001b[0mresponse\u001b[0m \u001b[0;34m=\u001b[0m \u001b[0mrequests\u001b[0m\u001b[0;34m.\u001b[0m\u001b[0mget\u001b[0m\u001b[0;34m(\u001b[0m\u001b[0mbase_url\u001b[0m\u001b[0;34m,\u001b[0m \u001b[0mparams\u001b[0m\u001b[0;34m=\u001b[0m\u001b[0mparams\u001b[0m\u001b[0;34m)\u001b[0m\u001b[0;34m\u001b[0m\u001b[0;34m\u001b[0m\u001b[0m\n\u001b[0m\u001b[1;32m     12\u001b[0m     \u001b[0mstatus_code\u001b[0m \u001b[0;34m=\u001b[0m \u001b[0mresponse\u001b[0m\u001b[0;34m.\u001b[0m\u001b[0mstatus_code\u001b[0m\u001b[0;34m\u001b[0m\u001b[0;34m\u001b[0m\u001b[0m\n\u001b[1;32m     13\u001b[0m \u001b[0;34m\u001b[0m\u001b[0m\n",
      "\u001b[0;32m/opt/anaconda3/envs/lhl-bootcamp/lib/python3.7/site-packages/requests/api.py\u001b[0m in \u001b[0;36mget\u001b[0;34m(url, params, **kwargs)\u001b[0m\n\u001b[1;32m     73\u001b[0m \u001b[0;34m\u001b[0m\u001b[0m\n\u001b[1;32m     74\u001b[0m     \u001b[0mkwargs\u001b[0m\u001b[0;34m.\u001b[0m\u001b[0msetdefault\u001b[0m\u001b[0;34m(\u001b[0m\u001b[0;34m'allow_redirects'\u001b[0m\u001b[0;34m,\u001b[0m \u001b[0;32mTrue\u001b[0m\u001b[0;34m)\u001b[0m\u001b[0;34m\u001b[0m\u001b[0;34m\u001b[0m\u001b[0m\n\u001b[0;32m---> 75\u001b[0;31m     \u001b[0;32mreturn\u001b[0m \u001b[0mrequest\u001b[0m\u001b[0;34m(\u001b[0m\u001b[0;34m'get'\u001b[0m\u001b[0;34m,\u001b[0m \u001b[0murl\u001b[0m\u001b[0;34m,\u001b[0m \u001b[0mparams\u001b[0m\u001b[0;34m=\u001b[0m\u001b[0mparams\u001b[0m\u001b[0;34m,\u001b[0m \u001b[0;34m**\u001b[0m\u001b[0mkwargs\u001b[0m\u001b[0;34m)\u001b[0m\u001b[0;34m\u001b[0m\u001b[0;34m\u001b[0m\u001b[0m\n\u001b[0m\u001b[1;32m     76\u001b[0m \u001b[0;34m\u001b[0m\u001b[0m\n\u001b[1;32m     77\u001b[0m \u001b[0;34m\u001b[0m\u001b[0m\n",
      "\u001b[0;32m/opt/anaconda3/envs/lhl-bootcamp/lib/python3.7/site-packages/requests/api.py\u001b[0m in \u001b[0;36mrequest\u001b[0;34m(method, url, **kwargs)\u001b[0m\n\u001b[1;32m     58\u001b[0m     \u001b[0;31m# cases, and look like a memory leak in others.\u001b[0m\u001b[0;34m\u001b[0m\u001b[0;34m\u001b[0m\u001b[0;34m\u001b[0m\u001b[0m\n\u001b[1;32m     59\u001b[0m     \u001b[0;32mwith\u001b[0m \u001b[0msessions\u001b[0m\u001b[0;34m.\u001b[0m\u001b[0mSession\u001b[0m\u001b[0;34m(\u001b[0m\u001b[0;34m)\u001b[0m \u001b[0;32mas\u001b[0m \u001b[0msession\u001b[0m\u001b[0;34m:\u001b[0m\u001b[0;34m\u001b[0m\u001b[0;34m\u001b[0m\u001b[0m\n\u001b[0;32m---> 60\u001b[0;31m         \u001b[0;32mreturn\u001b[0m \u001b[0msession\u001b[0m\u001b[0;34m.\u001b[0m\u001b[0mrequest\u001b[0m\u001b[0;34m(\u001b[0m\u001b[0mmethod\u001b[0m\u001b[0;34m=\u001b[0m\u001b[0mmethod\u001b[0m\u001b[0;34m,\u001b[0m \u001b[0murl\u001b[0m\u001b[0;34m=\u001b[0m\u001b[0murl\u001b[0m\u001b[0;34m,\u001b[0m \u001b[0;34m**\u001b[0m\u001b[0mkwargs\u001b[0m\u001b[0;34m)\u001b[0m\u001b[0;34m\u001b[0m\u001b[0;34m\u001b[0m\u001b[0m\n\u001b[0m\u001b[1;32m     61\u001b[0m \u001b[0;34m\u001b[0m\u001b[0m\n\u001b[1;32m     62\u001b[0m \u001b[0;34m\u001b[0m\u001b[0m\n",
      "\u001b[0;32m/opt/anaconda3/envs/lhl-bootcamp/lib/python3.7/site-packages/requests/sessions.py\u001b[0m in \u001b[0;36mrequest\u001b[0;34m(self, method, url, params, data, headers, cookies, files, auth, timeout, allow_redirects, proxies, hooks, stream, verify, cert, json)\u001b[0m\n\u001b[1;32m    531\u001b[0m         }\n\u001b[1;32m    532\u001b[0m         \u001b[0msend_kwargs\u001b[0m\u001b[0;34m.\u001b[0m\u001b[0mupdate\u001b[0m\u001b[0;34m(\u001b[0m\u001b[0msettings\u001b[0m\u001b[0;34m)\u001b[0m\u001b[0;34m\u001b[0m\u001b[0;34m\u001b[0m\u001b[0m\n\u001b[0;32m--> 533\u001b[0;31m         \u001b[0mresp\u001b[0m \u001b[0;34m=\u001b[0m \u001b[0mself\u001b[0m\u001b[0;34m.\u001b[0m\u001b[0msend\u001b[0m\u001b[0;34m(\u001b[0m\u001b[0mprep\u001b[0m\u001b[0;34m,\u001b[0m \u001b[0;34m**\u001b[0m\u001b[0msend_kwargs\u001b[0m\u001b[0;34m)\u001b[0m\u001b[0;34m\u001b[0m\u001b[0;34m\u001b[0m\u001b[0m\n\u001b[0m\u001b[1;32m    534\u001b[0m \u001b[0;34m\u001b[0m\u001b[0m\n\u001b[1;32m    535\u001b[0m         \u001b[0;32mreturn\u001b[0m \u001b[0mresp\u001b[0m\u001b[0;34m\u001b[0m\u001b[0;34m\u001b[0m\u001b[0m\n",
      "\u001b[0;32m/opt/anaconda3/envs/lhl-bootcamp/lib/python3.7/site-packages/requests/sessions.py\u001b[0m in \u001b[0;36msend\u001b[0;34m(self, request, **kwargs)\u001b[0m\n\u001b[1;32m    644\u001b[0m \u001b[0;34m\u001b[0m\u001b[0m\n\u001b[1;32m    645\u001b[0m         \u001b[0;31m# Send the request\u001b[0m\u001b[0;34m\u001b[0m\u001b[0;34m\u001b[0m\u001b[0;34m\u001b[0m\u001b[0m\n\u001b[0;32m--> 646\u001b[0;31m         \u001b[0mr\u001b[0m \u001b[0;34m=\u001b[0m \u001b[0madapter\u001b[0m\u001b[0;34m.\u001b[0m\u001b[0msend\u001b[0m\u001b[0;34m(\u001b[0m\u001b[0mrequest\u001b[0m\u001b[0;34m,\u001b[0m \u001b[0;34m**\u001b[0m\u001b[0mkwargs\u001b[0m\u001b[0;34m)\u001b[0m\u001b[0;34m\u001b[0m\u001b[0;34m\u001b[0m\u001b[0m\n\u001b[0m\u001b[1;32m    647\u001b[0m \u001b[0;34m\u001b[0m\u001b[0m\n\u001b[1;32m    648\u001b[0m         \u001b[0;31m# Total elapsed time of the request (approximately)\u001b[0m\u001b[0;34m\u001b[0m\u001b[0;34m\u001b[0m\u001b[0;34m\u001b[0m\u001b[0m\n",
      "\u001b[0;32m/opt/anaconda3/envs/lhl-bootcamp/lib/python3.7/site-packages/requests/adapters.py\u001b[0m in \u001b[0;36msend\u001b[0;34m(self, request, stream, timeout, verify, cert, proxies)\u001b[0m\n\u001b[1;32m    447\u001b[0m                     \u001b[0mdecode_content\u001b[0m\u001b[0;34m=\u001b[0m\u001b[0;32mFalse\u001b[0m\u001b[0;34m,\u001b[0m\u001b[0;34m\u001b[0m\u001b[0;34m\u001b[0m\u001b[0m\n\u001b[1;32m    448\u001b[0m                     \u001b[0mretries\u001b[0m\u001b[0;34m=\u001b[0m\u001b[0mself\u001b[0m\u001b[0;34m.\u001b[0m\u001b[0mmax_retries\u001b[0m\u001b[0;34m,\u001b[0m\u001b[0;34m\u001b[0m\u001b[0;34m\u001b[0m\u001b[0m\n\u001b[0;32m--> 449\u001b[0;31m                     \u001b[0mtimeout\u001b[0m\u001b[0;34m=\u001b[0m\u001b[0mtimeout\u001b[0m\u001b[0;34m\u001b[0m\u001b[0;34m\u001b[0m\u001b[0m\n\u001b[0m\u001b[1;32m    450\u001b[0m                 )\n\u001b[1;32m    451\u001b[0m \u001b[0;34m\u001b[0m\u001b[0m\n",
      "\u001b[0;32m/opt/anaconda3/envs/lhl-bootcamp/lib/python3.7/site-packages/urllib3/connectionpool.py\u001b[0m in \u001b[0;36murlopen\u001b[0;34m(self, method, url, body, headers, retries, redirect, assert_same_host, timeout, pool_timeout, release_conn, chunked, body_pos, **response_kw)\u001b[0m\n\u001b[1;32m    675\u001b[0m                 \u001b[0mbody\u001b[0m\u001b[0;34m=\u001b[0m\u001b[0mbody\u001b[0m\u001b[0;34m,\u001b[0m\u001b[0;34m\u001b[0m\u001b[0;34m\u001b[0m\u001b[0m\n\u001b[1;32m    676\u001b[0m                 \u001b[0mheaders\u001b[0m\u001b[0;34m=\u001b[0m\u001b[0mheaders\u001b[0m\u001b[0;34m,\u001b[0m\u001b[0;34m\u001b[0m\u001b[0;34m\u001b[0m\u001b[0m\n\u001b[0;32m--> 677\u001b[0;31m                 \u001b[0mchunked\u001b[0m\u001b[0;34m=\u001b[0m\u001b[0mchunked\u001b[0m\u001b[0;34m,\u001b[0m\u001b[0;34m\u001b[0m\u001b[0;34m\u001b[0m\u001b[0m\n\u001b[0m\u001b[1;32m    678\u001b[0m             )\n\u001b[1;32m    679\u001b[0m \u001b[0;34m\u001b[0m\u001b[0m\n",
      "\u001b[0;32m/opt/anaconda3/envs/lhl-bootcamp/lib/python3.7/site-packages/urllib3/connectionpool.py\u001b[0m in \u001b[0;36m_make_request\u001b[0;34m(self, conn, method, url, timeout, chunked, **httplib_request_kw)\u001b[0m\n\u001b[1;32m    424\u001b[0m                     \u001b[0;31m# Python 3 (including for exceptions like SystemExit).\u001b[0m\u001b[0;34m\u001b[0m\u001b[0;34m\u001b[0m\u001b[0;34m\u001b[0m\u001b[0m\n\u001b[1;32m    425\u001b[0m                     \u001b[0;31m# Otherwise it looks like a bug in the code.\u001b[0m\u001b[0;34m\u001b[0m\u001b[0;34m\u001b[0m\u001b[0;34m\u001b[0m\u001b[0m\n\u001b[0;32m--> 426\u001b[0;31m                     \u001b[0msix\u001b[0m\u001b[0;34m.\u001b[0m\u001b[0mraise_from\u001b[0m\u001b[0;34m(\u001b[0m\u001b[0me\u001b[0m\u001b[0;34m,\u001b[0m \u001b[0;32mNone\u001b[0m\u001b[0;34m)\u001b[0m\u001b[0;34m\u001b[0m\u001b[0;34m\u001b[0m\u001b[0m\n\u001b[0m\u001b[1;32m    427\u001b[0m         \u001b[0;32mexcept\u001b[0m \u001b[0;34m(\u001b[0m\u001b[0mSocketTimeout\u001b[0m\u001b[0;34m,\u001b[0m \u001b[0mBaseSSLError\u001b[0m\u001b[0;34m,\u001b[0m \u001b[0mSocketError\u001b[0m\u001b[0;34m)\u001b[0m \u001b[0;32mas\u001b[0m \u001b[0me\u001b[0m\u001b[0;34m:\u001b[0m\u001b[0;34m\u001b[0m\u001b[0;34m\u001b[0m\u001b[0m\n\u001b[1;32m    428\u001b[0m             \u001b[0mself\u001b[0m\u001b[0;34m.\u001b[0m\u001b[0m_raise_timeout\u001b[0m\u001b[0;34m(\u001b[0m\u001b[0merr\u001b[0m\u001b[0;34m=\u001b[0m\u001b[0me\u001b[0m\u001b[0;34m,\u001b[0m \u001b[0murl\u001b[0m\u001b[0;34m=\u001b[0m\u001b[0murl\u001b[0m\u001b[0;34m,\u001b[0m \u001b[0mtimeout_value\u001b[0m\u001b[0;34m=\u001b[0m\u001b[0mread_timeout\u001b[0m\u001b[0;34m)\u001b[0m\u001b[0;34m\u001b[0m\u001b[0;34m\u001b[0m\u001b[0m\n",
      "\u001b[0;32m/opt/anaconda3/envs/lhl-bootcamp/lib/python3.7/site-packages/urllib3/packages/six.py\u001b[0m in \u001b[0;36mraise_from\u001b[0;34m(value, from_value)\u001b[0m\n",
      "\u001b[0;32m/opt/anaconda3/envs/lhl-bootcamp/lib/python3.7/site-packages/urllib3/connectionpool.py\u001b[0m in \u001b[0;36m_make_request\u001b[0;34m(self, conn, method, url, timeout, chunked, **httplib_request_kw)\u001b[0m\n\u001b[1;32m    419\u001b[0m                 \u001b[0;31m# Python 3\u001b[0m\u001b[0;34m\u001b[0m\u001b[0;34m\u001b[0m\u001b[0;34m\u001b[0m\u001b[0m\n\u001b[1;32m    420\u001b[0m                 \u001b[0;32mtry\u001b[0m\u001b[0;34m:\u001b[0m\u001b[0;34m\u001b[0m\u001b[0;34m\u001b[0m\u001b[0m\n\u001b[0;32m--> 421\u001b[0;31m                     \u001b[0mhttplib_response\u001b[0m \u001b[0;34m=\u001b[0m \u001b[0mconn\u001b[0m\u001b[0;34m.\u001b[0m\u001b[0mgetresponse\u001b[0m\u001b[0;34m(\u001b[0m\u001b[0;34m)\u001b[0m\u001b[0;34m\u001b[0m\u001b[0;34m\u001b[0m\u001b[0m\n\u001b[0m\u001b[1;32m    422\u001b[0m                 \u001b[0;32mexcept\u001b[0m \u001b[0mBaseException\u001b[0m \u001b[0;32mas\u001b[0m \u001b[0me\u001b[0m\u001b[0;34m:\u001b[0m\u001b[0;34m\u001b[0m\u001b[0;34m\u001b[0m\u001b[0m\n\u001b[1;32m    423\u001b[0m                     \u001b[0;31m# Remove the TypeError from the exception chain in\u001b[0m\u001b[0;34m\u001b[0m\u001b[0;34m\u001b[0m\u001b[0;34m\u001b[0m\u001b[0m\n",
      "\u001b[0;32m/opt/anaconda3/envs/lhl-bootcamp/lib/python3.7/http/client.py\u001b[0m in \u001b[0;36mgetresponse\u001b[0;34m(self)\u001b[0m\n\u001b[1;32m   1342\u001b[0m         \u001b[0;32mtry\u001b[0m\u001b[0;34m:\u001b[0m\u001b[0;34m\u001b[0m\u001b[0;34m\u001b[0m\u001b[0m\n\u001b[1;32m   1343\u001b[0m             \u001b[0;32mtry\u001b[0m\u001b[0;34m:\u001b[0m\u001b[0;34m\u001b[0m\u001b[0;34m\u001b[0m\u001b[0m\n\u001b[0;32m-> 1344\u001b[0;31m                 \u001b[0mresponse\u001b[0m\u001b[0;34m.\u001b[0m\u001b[0mbegin\u001b[0m\u001b[0;34m(\u001b[0m\u001b[0;34m)\u001b[0m\u001b[0;34m\u001b[0m\u001b[0;34m\u001b[0m\u001b[0m\n\u001b[0m\u001b[1;32m   1345\u001b[0m             \u001b[0;32mexcept\u001b[0m \u001b[0mConnectionError\u001b[0m\u001b[0;34m:\u001b[0m\u001b[0;34m\u001b[0m\u001b[0;34m\u001b[0m\u001b[0m\n\u001b[1;32m   1346\u001b[0m                 \u001b[0mself\u001b[0m\u001b[0;34m.\u001b[0m\u001b[0mclose\u001b[0m\u001b[0;34m(\u001b[0m\u001b[0;34m)\u001b[0m\u001b[0;34m\u001b[0m\u001b[0;34m\u001b[0m\u001b[0m\n",
      "\u001b[0;32m/opt/anaconda3/envs/lhl-bootcamp/lib/python3.7/http/client.py\u001b[0m in \u001b[0;36mbegin\u001b[0;34m(self)\u001b[0m\n\u001b[1;32m    304\u001b[0m         \u001b[0;31m# read until we get a non-100 response\u001b[0m\u001b[0;34m\u001b[0m\u001b[0;34m\u001b[0m\u001b[0;34m\u001b[0m\u001b[0m\n\u001b[1;32m    305\u001b[0m         \u001b[0;32mwhile\u001b[0m \u001b[0;32mTrue\u001b[0m\u001b[0;34m:\u001b[0m\u001b[0;34m\u001b[0m\u001b[0;34m\u001b[0m\u001b[0m\n\u001b[0;32m--> 306\u001b[0;31m             \u001b[0mversion\u001b[0m\u001b[0;34m,\u001b[0m \u001b[0mstatus\u001b[0m\u001b[0;34m,\u001b[0m \u001b[0mreason\u001b[0m \u001b[0;34m=\u001b[0m \u001b[0mself\u001b[0m\u001b[0;34m.\u001b[0m\u001b[0m_read_status\u001b[0m\u001b[0;34m(\u001b[0m\u001b[0;34m)\u001b[0m\u001b[0;34m\u001b[0m\u001b[0;34m\u001b[0m\u001b[0m\n\u001b[0m\u001b[1;32m    307\u001b[0m             \u001b[0;32mif\u001b[0m \u001b[0mstatus\u001b[0m \u001b[0;34m!=\u001b[0m \u001b[0mCONTINUE\u001b[0m\u001b[0;34m:\u001b[0m\u001b[0;34m\u001b[0m\u001b[0;34m\u001b[0m\u001b[0m\n\u001b[1;32m    308\u001b[0m                 \u001b[0;32mbreak\u001b[0m\u001b[0;34m\u001b[0m\u001b[0;34m\u001b[0m\u001b[0m\n",
      "\u001b[0;32m/opt/anaconda3/envs/lhl-bootcamp/lib/python3.7/http/client.py\u001b[0m in \u001b[0;36m_read_status\u001b[0;34m(self)\u001b[0m\n\u001b[1;32m    265\u001b[0m \u001b[0;34m\u001b[0m\u001b[0m\n\u001b[1;32m    266\u001b[0m     \u001b[0;32mdef\u001b[0m \u001b[0m_read_status\u001b[0m\u001b[0;34m(\u001b[0m\u001b[0mself\u001b[0m\u001b[0;34m)\u001b[0m\u001b[0;34m:\u001b[0m\u001b[0;34m\u001b[0m\u001b[0;34m\u001b[0m\u001b[0m\n\u001b[0;32m--> 267\u001b[0;31m         \u001b[0mline\u001b[0m \u001b[0;34m=\u001b[0m \u001b[0mstr\u001b[0m\u001b[0;34m(\u001b[0m\u001b[0mself\u001b[0m\u001b[0;34m.\u001b[0m\u001b[0mfp\u001b[0m\u001b[0;34m.\u001b[0m\u001b[0mreadline\u001b[0m\u001b[0;34m(\u001b[0m\u001b[0m_MAXLINE\u001b[0m \u001b[0;34m+\u001b[0m \u001b[0;36m1\u001b[0m\u001b[0;34m)\u001b[0m\u001b[0;34m,\u001b[0m \u001b[0;34m\"iso-8859-1\"\u001b[0m\u001b[0;34m)\u001b[0m\u001b[0;34m\u001b[0m\u001b[0;34m\u001b[0m\u001b[0m\n\u001b[0m\u001b[1;32m    268\u001b[0m         \u001b[0;32mif\u001b[0m \u001b[0mlen\u001b[0m\u001b[0;34m(\u001b[0m\u001b[0mline\u001b[0m\u001b[0;34m)\u001b[0m \u001b[0;34m>\u001b[0m \u001b[0m_MAXLINE\u001b[0m\u001b[0;34m:\u001b[0m\u001b[0;34m\u001b[0m\u001b[0;34m\u001b[0m\u001b[0m\n\u001b[1;32m    269\u001b[0m             \u001b[0;32mraise\u001b[0m \u001b[0mLineTooLong\u001b[0m\u001b[0;34m(\u001b[0m\u001b[0;34m\"status line\"\u001b[0m\u001b[0;34m)\u001b[0m\u001b[0;34m\u001b[0m\u001b[0;34m\u001b[0m\u001b[0m\n",
      "\u001b[0;32m/opt/anaconda3/envs/lhl-bootcamp/lib/python3.7/socket.py\u001b[0m in \u001b[0;36mreadinto\u001b[0;34m(self, b)\u001b[0m\n\u001b[1;32m    587\u001b[0m         \u001b[0;32mwhile\u001b[0m \u001b[0;32mTrue\u001b[0m\u001b[0;34m:\u001b[0m\u001b[0;34m\u001b[0m\u001b[0;34m\u001b[0m\u001b[0m\n\u001b[1;32m    588\u001b[0m             \u001b[0;32mtry\u001b[0m\u001b[0;34m:\u001b[0m\u001b[0;34m\u001b[0m\u001b[0;34m\u001b[0m\u001b[0m\n\u001b[0;32m--> 589\u001b[0;31m                 \u001b[0;32mreturn\u001b[0m \u001b[0mself\u001b[0m\u001b[0;34m.\u001b[0m\u001b[0m_sock\u001b[0m\u001b[0;34m.\u001b[0m\u001b[0mrecv_into\u001b[0m\u001b[0;34m(\u001b[0m\u001b[0mb\u001b[0m\u001b[0;34m)\u001b[0m\u001b[0;34m\u001b[0m\u001b[0;34m\u001b[0m\u001b[0m\n\u001b[0m\u001b[1;32m    590\u001b[0m             \u001b[0;32mexcept\u001b[0m \u001b[0mtimeout\u001b[0m\u001b[0;34m:\u001b[0m\u001b[0;34m\u001b[0m\u001b[0;34m\u001b[0m\u001b[0m\n\u001b[1;32m    591\u001b[0m                 \u001b[0mself\u001b[0m\u001b[0;34m.\u001b[0m\u001b[0m_timeout_occurred\u001b[0m \u001b[0;34m=\u001b[0m \u001b[0;32mTrue\u001b[0m\u001b[0;34m\u001b[0m\u001b[0;34m\u001b[0m\u001b[0m\n",
      "\u001b[0;31mKeyboardInterrupt\u001b[0m: "
     ]
    }
   ],
   "source": [
    "for code in airport_codes:\n",
    "    for i in range(24):\n",
    "        weather_data = get_weather_data(code, start_date[i], end_date[i])\n",
    "        store_weather_data(weather_data, code, i)"
   ]
  },
  {
   "cell_type": "code",
   "execution_count": 2,
   "metadata": {},
   "outputs": [],
   "source": [
    "import pandas as pd"
   ]
  },
  {
   "cell_type": "code",
   "execution_count": 4,
   "metadata": {},
   "outputs": [],
   "source": [
    "codes_found = ['ATL', 'DCA', 'DFW', 'JFK', 'LAX', 'LGA', 'MSP', 'ORD', 'SEA']"
   ]
  },
  {
   "cell_type": "code",
   "execution_count": 6,
   "metadata": {},
   "outputs": [
    {
     "ename": "FileNotFoundError",
     "evalue": "[Errno 2] No such file or directory: '../../data/weather-data/ATL_0.json'",
     "output_type": "error",
     "traceback": [
      "\u001b[0;31m---------------------------------------------------------------------------\u001b[0m",
      "\u001b[0;31mFileNotFoundError\u001b[0m                         Traceback (most recent call last)",
      "\u001b[0;32m<ipython-input-6-64544a169abb>\u001b[0m in \u001b[0;36m<module>\u001b[0;34m\u001b[0m\n\u001b[1;32m      7\u001b[0m \u001b[0;32mfor\u001b[0m \u001b[0mcode\u001b[0m \u001b[0;32min\u001b[0m \u001b[0mcodes_found\u001b[0m\u001b[0;34m:\u001b[0m\u001b[0;34m\u001b[0m\u001b[0;34m\u001b[0m\u001b[0m\n\u001b[1;32m      8\u001b[0m     \u001b[0;32mfor\u001b[0m \u001b[0mk\u001b[0m \u001b[0;32min\u001b[0m \u001b[0mrange\u001b[0m\u001b[0;34m(\u001b[0m\u001b[0;36m24\u001b[0m\u001b[0;34m)\u001b[0m\u001b[0;34m:\u001b[0m\u001b[0;34m\u001b[0m\u001b[0;34m\u001b[0m\u001b[0m\n\u001b[0;32m----> 9\u001b[0;31m         \u001b[0mf\u001b[0m \u001b[0;34m=\u001b[0m \u001b[0mopen\u001b[0m\u001b[0;34m(\u001b[0m\u001b[0;34mf'../../data/weather-data/{code}_{k}.json'\u001b[0m\u001b[0;34m)\u001b[0m\u001b[0;34m\u001b[0m\u001b[0;34m\u001b[0m\u001b[0m\n\u001b[0m\u001b[1;32m     10\u001b[0m         \u001b[0mdata\u001b[0m \u001b[0;34m=\u001b[0m \u001b[0mjson\u001b[0m\u001b[0;34m.\u001b[0m\u001b[0mload\u001b[0m\u001b[0;34m(\u001b[0m\u001b[0mf\u001b[0m\u001b[0;34m)\u001b[0m\u001b[0;34m\u001b[0m\u001b[0;34m\u001b[0m\u001b[0m\n\u001b[1;32m     11\u001b[0m \u001b[0;34m\u001b[0m\u001b[0m\n",
      "\u001b[0;31mFileNotFoundError\u001b[0m: [Errno 2] No such file or directory: '../../data/weather-data/ATL_0.json'"
     ]
    }
   ],
   "source": [
    "column_names = ['iata_code', 'date', 'min_temp', 'max_temp', 'avg_temp', 'total_snowcm',\n",
    "                'windspeed_kmhr', 'precip_mm', 'humidity', 'visibility', 'cloud_cover',\n",
    "                'heat_indexC', 'wind_chillC', 'wind_gust', 'feels_like', 'pressure', 'weather_description']\n",
    "\n",
    "weather_df = pd.DataFrame(columns=column_names, dtype=object)\n",
    "\n",
    "for code in codes_found:\n",
    "    for k in range(24):\n",
    "        f = open(f'../../data/weather-data/{code}_{k}.json')\n",
    "        data = json.load(f)\n",
    "        \n",
    "        for i in range(len(data['data']['weather'])):\n",
    "            iata_code = code\n",
    "            date = data['data']['weather'][i]['date']\n",
    "            min_temp = data['data']['weather'][i]['mintempC']\n",
    "            max_temp = data['data']['weather'][i]['maxtempC']\n",
    "            avg_temp = data['data']['weather'][i]['avgtempC']\n",
    "            total_snowcm = data['data']['weather'][i]['totalSnow_cm']\n",
    "            windspeed_kmhr = data['data']['weather'][i]['hourly'][0]['windspeedKmph']\n",
    "            precip_mm = data['data']['weather'][i]['hourly'][0]['precipMM']\n",
    "            humidity = data['data']['weather'][i]['hourly'][0]['humidity']\n",
    "            visibility = data['data']['weather'][i]['hourly'][0]['visibility']\n",
    "            cloud_cover = data['data']['weather'][i]['hourly'][0]['cloudcover']\n",
    "            heat_indexC = data['data']['weather'][i]['hourly'][0]['HeatIndexC']\n",
    "            wind_chillC = data['data']['weather'][i]['hourly'][0]['WindChillC']\n",
    "            wind_gust = data['data']['weather'][i]['hourly'][0]['WindGustKmph']\n",
    "            feels_like = data['data']['weather'][i]['hourly'][0]['FeelsLikeC']\n",
    "            pressure = data['data']['weather'][i]['hourly'][0]['pressure']\n",
    "            weather_desc = data['data']['weather'][i]['hourly'][0]['weatherDesc'][0]['value']\n",
    "        \n",
    "            weather_list = [iata_code, date, min_temp, max_temp, avg_temp, total_snowcm,\n",
    "                           windspeed_kmhr, precip_mm, humidity, visibility, cloud_cover,\n",
    "                           heat_indexC, wind_chillC, wind_gust, feels_like, pressure, weather_desc]\n",
    "            weather_series = pd.Series(weather_list, index=weather_df.columns)\n",
    "\n",
    "            weather_df = weather_df.append(weather_series, ignore_index=True)"
   ]
  },
  {
   "cell_type": "code",
   "execution_count": 80,
   "metadata": {},
   "outputs": [],
   "source": [
    "weather_df.to_csv('../../data/weather_df.csv')"
   ]
  },
  {
   "cell_type": "code",
   "execution_count": 76,
   "metadata": {},
   "outputs": [
    {
     "data": {
      "application/json": {
       "data": {
        "request": [
         {
          "query": "33.6367",
          "type": "IP"
         }
        ],
        "weather": [
         {
          "astronomy": [
           {
            "moon_illumination": "97",
            "moon_phase": "Waxing Gibbous",
            "moonrise": "06:21 PM",
            "moonset": "08:04 AM",
            "sunrise": "08:47 AM",
            "sunset": "06:23 PM"
           }
          ],
          "avgtempC": "-14",
          "avgtempF": "7",
          "date": "2018-01-01",
          "hourly": [
           {
            "DewPointC": "-24",
            "DewPointF": "-11",
            "FeelsLikeC": "-21",
            "FeelsLikeF": "-5",
            "HeatIndexC": "-14",
            "HeatIndexF": "7",
            "WindChillC": "-21",
            "WindChillF": "-5",
            "WindGustKmph": "16",
            "WindGustMiles": "10",
            "cloudcover": "21",
            "humidity": "45",
            "precipInches": "0.0",
            "precipMM": "0.0",
            "pressure": "1047",
            "pressureInches": "31",
            "tempC": "-10",
            "tempF": "14",
            "time": "24",
            "uvIndex": "2",
            "visibility": "10",
            "visibilityMiles": "6",
            "weatherCode": "116",
            "weatherDesc": [
             {
              "value": "Partly cloudy"
             }
            ],
            "weatherIconUrl": [
             {
              "value": "http://cdn.worldweatheronline.com/images/wsymbols01_png_64/wsymbol_0002_sunny_intervals.png"
             }
            ],
            "winddir16Point": "NE",
            "winddirDegree": "53",
            "windspeedKmph": "12",
            "windspeedMiles": "7"
           }
          ],
          "maxtempC": "-10",
          "maxtempF": "14",
          "mintempC": "-17",
          "mintempF": "1",
          "sunHour": "9.8",
          "totalSnow_cm": "0.0",
          "uvIndex": "2"
         },
         {
          "astronomy": [
           {
            "moon_illumination": "100",
            "moon_phase": "Full Moon",
            "moonrise": "07:28 PM",
            "moonset": "09:08 AM",
            "sunrise": "08:47 AM",
            "sunset": "06:24 PM"
           }
          ],
          "avgtempC": "-9",
          "avgtempF": "16",
          "date": "2018-01-02",
          "hourly": [
           {
            "DewPointC": "-22",
            "DewPointF": "-8",
            "FeelsLikeC": "-14",
            "FeelsLikeF": "7",
            "HeatIndexC": "-10",
            "HeatIndexF": "14",
            "WindChillC": "-14",
            "WindChillF": "7",
            "WindGustKmph": "13",
            "WindGustMiles": "8",
            "cloudcover": "49",
            "humidity": "36",
            "precipInches": "0.0",
            "precipMM": "0.0",
            "pressure": "1039",
            "pressureInches": "31",
            "tempC": "-5",
            "tempF": "23",
            "time": "24",
            "uvIndex": "1",
            "visibility": "10",
            "visibilityMiles": "6",
            "weatherCode": "122",
            "weatherDesc": [
             {
              "value": "Overcast"
             }
            ],
            "weatherIconUrl": [
             {
              "value": "http://cdn.worldweatheronline.com/images/wsymbols01_png_64/wsymbol_0004_black_low_cloud.png"
             }
            ],
            "winddir16Point": "S",
            "winddirDegree": "184",
            "windspeedKmph": "9",
            "windspeedMiles": "5"
           }
          ],
          "maxtempC": "-5",
          "maxtempF": "23",
          "mintempC": "-13",
          "mintempF": "9",
          "sunHour": "9.8",
          "totalSnow_cm": "0.0",
          "uvIndex": "1"
         },
         {
          "astronomy": [
           {
            "moon_illumination": "89",
            "moon_phase": "Waxing Gibbous",
            "moonrise": "08:37 PM",
            "moonset": "10:04 AM",
            "sunrise": "08:47 AM",
            "sunset": "06:25 PM"
           }
          ],
          "avgtempC": "-2",
          "avgtempF": "28",
          "date": "2018-01-03",
          "hourly": [
           {
            "DewPointC": "-12",
            "DewPointF": "11",
            "FeelsLikeC": "-8",
            "FeelsLikeF": "17",
            "HeatIndexC": "-4",
            "HeatIndexF": "26",
            "WindChillC": "-8",
            "WindChillF": "17",
            "WindGustKmph": "23",
            "WindGustMiles": "14",
            "cloudcover": "6",
            "humidity": "54",
            "precipInches": "0.0",
            "precipMM": "0.0",
            "pressure": "1030",
            "pressureInches": "31",
            "tempC": "2",
            "tempF": "35",
            "time": "24",
            "uvIndex": "2",
            "visibility": "10",
            "visibilityMiles": "6",
            "weatherCode": "113",
            "weatherDesc": [
             {
              "value": "Sunny"
             }
            ],
            "weatherIconUrl": [
             {
              "value": "http://cdn.worldweatheronline.com/images/wsymbols01_png_64/wsymbol_0001_sunny.png"
             }
            ],
            "winddir16Point": "WNW",
            "winddirDegree": "286",
            "windspeedKmph": "13",
            "windspeedMiles": "8"
           }
          ],
          "maxtempC": "2",
          "maxtempF": "35",
          "mintempC": "-8",
          "mintempF": "18",
          "sunHour": "9.8",
          "totalSnow_cm": "0.0",
          "uvIndex": "2"
         },
         {
          "astronomy": [
           {
            "moon_illumination": "81",
            "moon_phase": "Waxing Gibbous",
            "moonrise": "09:48 PM",
            "moonset": "10:53 AM",
            "sunrise": "08:47 AM",
            "sunset": "06:26 PM"
           }
          ],
          "avgtempC": "-2",
          "avgtempF": "29",
          "date": "2018-01-04",
          "hourly": [
           {
            "DewPointC": "-10",
            "DewPointF": "13",
            "FeelsLikeC": "-6",
            "FeelsLikeF": "20",
            "HeatIndexC": "-3",
            "HeatIndexF": "27",
            "WindChillC": "-6",
            "WindChillF": "20",
            "WindGustKmph": "18",
            "WindGustMiles": "11",
            "cloudcover": "17",
            "humidity": "56",
            "precipInches": "0.0",
            "precipMM": "0.0",
            "pressure": "1028",
            "pressureInches": "31",
            "tempC": "4",
            "tempF": "38",
            "time": "24",
            "uvIndex": "2",
            "visibility": "10",
            "visibilityMiles": "6",
            "weatherCode": "116",
            "weatherDesc": [
             {
              "value": "Partly cloudy"
             }
            ],
            "weatherIconUrl": [
             {
              "value": "http://cdn.worldweatheronline.com/images/wsymbols01_png_64/wsymbol_0002_sunny_intervals.png"
             }
            ],
            "winddir16Point": "SSE",
            "winddirDegree": "150",
            "windspeedKmph": "11",
            "windspeedMiles": "7"
           }
          ],
          "maxtempC": "4",
          "maxtempF": "38",
          "mintempC": "-7",
          "mintempF": "20",
          "sunHour": "9.8",
          "totalSnow_cm": "0.0",
          "uvIndex": "2"
         },
         {
          "astronomy": [
           {
            "moon_illumination": "74",
            "moon_phase": "Waning Gibbous",
            "moonrise": "10:56 PM",
            "moonset": "11:36 AM",
            "sunrise": "08:47 AM",
            "sunset": "06:27 PM"
           }
          ],
          "avgtempC": "0",
          "avgtempF": "33",
          "date": "2018-01-05",
          "hourly": [
           {
            "DewPointC": "-7",
            "DewPointF": "19",
            "FeelsLikeC": "-5",
            "FeelsLikeF": "24",
            "HeatIndexC": "-1",
            "HeatIndexF": "31",
            "WindChillC": "-5",
            "WindChillF": "24",
            "WindGustKmph": "23",
            "WindGustMiles": "14",
            "cloudcover": "12",
            "humidity": "63",
            "precipInches": "0.0",
            "precipMM": "0.0",
            "pressure": "1027",
            "pressureInches": "31",
            "tempC": "5",
            "tempF": "41",
            "time": "24",
            "uvIndex": "2",
            "visibility": "10",
            "visibilityMiles": "6",
            "weatherCode": "113",
            "weatherDesc": [
             {
              "value": "Sunny"
             }
            ],
            "weatherIconUrl": [
             {
              "value": "http://cdn.worldweatheronline.com/images/wsymbols01_png_64/wsymbol_0001_sunny.png"
             }
            ],
            "winddir16Point": "E",
            "winddirDegree": "91",
            "windspeedKmph": "13",
            "windspeedMiles": "8"
           }
          ],
          "maxtempC": "5",
          "maxtempF": "41",
          "mintempC": "-3",
          "mintempF": "27",
          "sunHour": "9.8",
          "totalSnow_cm": "0.0",
          "uvIndex": "2"
         },
         {
          "astronomy": [
           {
            "moon_illumination": "67",
            "moon_phase": "Waning Gibbous",
            "moonrise": "No moonrise",
            "moonset": "12:12 PM",
            "sunrise": "08:47 AM",
            "sunset": "06:28 PM"
           }
          ],
          "avgtempC": "-1",
          "avgtempF": "30",
          "date": "2018-01-06",
          "hourly": [
           {
            "DewPointC": "-10",
            "DewPointF": "14",
            "FeelsLikeC": "-6",
            "FeelsLikeF": "21",
            "HeatIndexC": "-2",
            "HeatIndexF": "29",
            "WindChillC": "-6",
            "WindChillF": "21",
            "WindGustKmph": "22",
            "WindGustMiles": "14",
            "cloudcover": "19",
            "humidity": "55",
            "precipInches": "0.0",
            "precipMM": "0.0",
            "pressure": "1028",
            "pressureInches": "31",
            "tempC": "5",
            "tempF": "41",
            "time": "24",
            "uvIndex": "2",
            "visibility": "10",
            "visibilityMiles": "6",
            "weatherCode": "113",
            "weatherDesc": [
             {
              "value": "Sunny"
             }
            ],
            "weatherIconUrl": [
             {
              "value": "http://cdn.worldweatheronline.com/images/wsymbols01_png_64/wsymbol_0001_sunny.png"
             }
            ],
            "winddir16Point": "ESE",
            "winddirDegree": "101",
            "windspeedKmph": "14",
            "windspeedMiles": "8"
           }
          ],
          "maxtempC": "5",
          "maxtempF": "41",
          "mintempC": "-6",
          "mintempF": "21",
          "sunHour": "9.8",
          "totalSnow_cm": "0.0",
          "uvIndex": "2"
         },
         {
          "astronomy": [
           {
            "moon_illumination": "59",
            "moon_phase": "Waning Gibbous",
            "moonrise": "12:01 AM",
            "moonset": "12:46 PM",
            "sunrise": "08:47 AM",
            "sunset": "06:29 PM"
           }
          ],
          "avgtempC": "6",
          "avgtempF": "43",
          "date": "2018-01-07",
          "hourly": [
           {
            "DewPointC": "4",
            "DewPointF": "39",
            "FeelsLikeC": "2",
            "FeelsLikeF": "36",
            "HeatIndexC": "6",
            "HeatIndexF": "42",
            "WindChillC": "2",
            "WindChillF": "36",
            "WindGustKmph": "31",
            "WindGustMiles": "19",
            "cloudcover": "67",
            "humidity": "89",
            "precipInches": "0.2",
            "precipMM": "5.7",
            "pressure": "1014",
            "pressureInches": "30",
            "tempC": "8",
            "tempF": "46",
            "time": "24",
            "uvIndex": "2",
            "visibility": "9",
            "visibilityMiles": "5",
            "weatherCode": "302",
            "weatherDesc": [
             {
              "value": "Moderate rain"
             }
            ],
            "weatherIconUrl": [
             {
              "value": "http://cdn.worldweatheronline.com/images/wsymbols01_png_64/wsymbol_0018_cloudy_with_heavy_rain.png"
             }
            ],
            "winddir16Point": "SW",
            "winddirDegree": "227",
            "windspeedKmph": "18",
            "windspeedMiles": "11"
           }
          ],
          "maxtempC": "8",
          "maxtempF": "46",
          "mintempC": "3",
          "mintempF": "37",
          "sunHour": "8.3",
          "totalSnow_cm": "0.0",
          "uvIndex": "2"
         },
         {
          "astronomy": [
           {
            "moon_illumination": "52",
            "moon_phase": "Last Quarter",
            "moonrise": "01:04 AM",
            "moonset": "01:19 PM",
            "sunrise": "08:47 AM",
            "sunset": "06:29 PM"
           }
          ],
          "avgtempC": "5",
          "avgtempF": "41",
          "date": "2018-01-08",
          "hourly": [
           {
            "DewPointC": "-1",
            "DewPointF": "31",
            "FeelsLikeC": "1",
            "FeelsLikeF": "35",
            "HeatIndexC": "4",
            "HeatIndexF": "40",
            "WindChillC": "1",
            "WindChillF": "35",
            "WindGustKmph": "22",
            "WindGustMiles": "14",
            "cloudcover": "19",
            "humidity": "73",
            "precipInches": "0.0",
            "precipMM": "0.0",
            "pressure": "1021",
            "pressureInches": "31",
            "tempC": "11",
            "tempF": "52",
            "time": "24",
            "uvIndex": "3",
            "visibility": "10",
            "visibilityMiles": "6",
            "weatherCode": "116",
            "weatherDesc": [
             {
              "value": "Partly cloudy"
             }
            ],
            "weatherIconUrl": [
             {
              "value": "http://cdn.worldweatheronline.com/images/wsymbols01_png_64/wsymbol_0002_sunny_intervals.png"
             }
            ],
            "winddir16Point": "WSW",
            "winddirDegree": "250",
            "windspeedKmph": "12",
            "windspeedMiles": "7"
           }
          ],
          "maxtempC": "11",
          "maxtempF": "52",
          "mintempC": "-0",
          "mintempF": "31",
          "sunHour": "9.8",
          "totalSnow_cm": "0.0",
          "uvIndex": "3"
         },
         {
          "astronomy": [
           {
            "moon_illumination": "45",
            "moon_phase": "Last Quarter",
            "moonrise": "02:04 AM",
            "moonset": "01:50 PM",
            "sunrise": "08:47 AM",
            "sunset": "06:30 PM"
           }
          ],
          "avgtempC": "8",
          "avgtempF": "47",
          "date": "2018-01-09",
          "hourly": [
           {
            "DewPointC": "1",
            "DewPointF": "34",
            "FeelsLikeC": "3",
            "FeelsLikeF": "38",
            "HeatIndexC": "7",
            "HeatIndexF": "44",
            "WindChillC": "3",
            "WindChillF": "38",
            "WindGustKmph": "38",
            "WindGustMiles": "24",
            "cloudcover": "32",
            "humidity": "68",
            "precipInches": "0.0",
            "precipMM": "0.0",
            "pressure": "1015",
            "pressureInches": "30",
            "tempC": "14",
            "tempF": "56",
            "time": "24",
            "uvIndex": "3",
            "visibility": "10",
            "visibilityMiles": "6",
            "weatherCode": "116",
            "weatherDesc": [
             {
              "value": "Partly cloudy"
             }
            ],
            "weatherIconUrl": [
             {
              "value": "http://cdn.worldweatheronline.com/images/wsymbols01_png_64/wsymbol_0002_sunny_intervals.png"
             }
            ],
            "winddir16Point": "S",
            "winddirDegree": "171",
            "windspeedKmph": "24",
            "windspeedMiles": "15"
           }
          ],
          "maxtempC": "14",
          "maxtempF": "56",
          "mintempC": "3",
          "mintempF": "38",
          "sunHour": "9.8",
          "totalSnow_cm": "0.0",
          "uvIndex": "3"
         },
         {
          "astronomy": [
           {
            "moon_illumination": "38",
            "moon_phase": "Last Quarter",
            "moonrise": "03:02 AM",
            "moonset": "02:21 PM",
            "sunrise": "08:47 AM",
            "sunset": "06:31 PM"
           }
          ],
          "avgtempC": "11",
          "avgtempF": "51",
          "date": "2018-01-10",
          "hourly": [
           {
            "DewPointC": "4",
            "DewPointF": "40",
            "FeelsLikeC": "5",
            "FeelsLikeF": "42",
            "HeatIndexC": "9",
            "HeatIndexF": "49",
            "WindChillC": "5",
            "WindChillF": "42",
            "WindGustKmph": "48",
            "WindGustMiles": "30",
            "cloudcover": "14",
            "humidity": "72",
            "precipInches": "0.0",
            "precipMM": "0.0",
            "pressure": "1003",
            "pressureInches": "30",
            "tempC": "15",
            "tempF": "58",
            "time": "24",
            "uvIndex": "4",
            "visibility": "10",
            "visibilityMiles": "6",
            "weatherCode": "116",
            "weatherDesc": [
             {
              "value": "Partly cloudy"
             }
            ],
            "weatherIconUrl": [
             {
              "value": "http://cdn.worldweatheronline.com/images/wsymbols01_png_64/wsymbol_0002_sunny_intervals.png"
             }
            ],
            "winddir16Point": "S",
            "winddirDegree": "176",
            "windspeedKmph": "32",
            "windspeedMiles": "20"
           }
          ],
          "maxtempC": "15",
          "maxtempF": "58",
          "mintempC": "6",
          "mintempF": "42",
          "sunHour": "9.8",
          "totalSnow_cm": "0.0",
          "uvIndex": "4"
         },
         {
          "astronomy": [
           {
            "moon_illumination": "30",
            "moon_phase": "Last Quarter",
            "moonrise": "04:00 AM",
            "moonset": "02:55 PM",
            "sunrise": "08:46 AM",
            "sunset": "06:32 PM"
           }
          ],
          "avgtempC": "-5",
          "avgtempF": "22",
          "date": "2018-01-11",
          "hourly": [
           {
            "DewPointC": "-6",
            "DewPointF": "21",
            "FeelsLikeC": "-10",
            "FeelsLikeF": "14",
            "HeatIndexC": "-2",
            "HeatIndexF": "28",
            "WindChillC": "-10",
            "WindChillF": "14",
            "WindGustKmph": "45",
            "WindGustMiles": "28",
            "cloudcover": "56",
            "humidity": "76",
            "precipInches": "0.1",
            "precipMM": "3.6",
            "pressure": "1017",
            "pressureInches": "31",
            "tempC": "-1",
            "tempF": "30",
            "time": "24",
            "uvIndex": "1",
            "visibility": "8",
            "visibilityMiles": "5",
            "weatherCode": "350",
            "weatherDesc": [
             {
              "value": "Ice pellets"
             }
            ],
            "weatherIconUrl": [
             {
              "value": "http://cdn.worldweatheronline.com/images/wsymbols01_png_64/wsymbol_0021_cloudy_with_sleet.png"
             }
            ],
            "winddir16Point": "NW",
            "winddirDegree": "325",
            "windspeedKmph": "34",
            "windspeedMiles": "21"
           }
          ],
          "maxtempC": "-1",
          "maxtempF": "30",
          "mintempC": "-9",
          "mintempF": "16",
          "sunHour": "9.9",
          "totalSnow_cm": "0.7",
          "uvIndex": "1"
         },
         {
          "astronomy": [
           {
            "moon_illumination": "23",
            "moon_phase": "Waning Crescent",
            "moonrise": "04:56 AM",
            "moonset": "03:31 PM",
            "sunrise": "08:46 AM",
            "sunset": "06:33 PM"
           }
          ],
          "avgtempC": "-9",
          "avgtempF": "15",
          "date": "2018-01-12",
          "hourly": [
           {
            "DewPointC": "-15",
            "DewPointF": "5",
            "FeelsLikeC": "-17",
            "FeelsLikeF": "1",
            "HeatIndexC": "-10",
            "HeatIndexF": "15",
            "WindChillC": "-17",
            "WindChillF": "1",
            "WindGustKmph": "25",
            "WindGustMiles": "15",
            "cloudcover": "46",
            "humidity": "66",
            "precipInches": "0.0",
            "precipMM": "0.0",
            "pressure": "1033",
            "pressureInches": "31",
            "tempC": "-6",
            "tempF": "22",
            "time": "24",
            "uvIndex": "1",
            "visibility": "10",
            "visibilityMiles": "6",
            "weatherCode": "122",
            "weatherDesc": [
             {
              "value": "Overcast"
             }
            ],
            "weatherIconUrl": [
             {
              "value": "http://cdn.worldweatheronline.com/images/wsymbols01_png_64/wsymbol_0004_black_low_cloud.png"
             }
            ],
            "winddir16Point": "SE",
            "winddirDegree": "142",
            "windspeedKmph": "19",
            "windspeedMiles": "12"
           }
          ],
          "maxtempC": "-6",
          "maxtempF": "22",
          "mintempC": "-13",
          "mintempF": "9",
          "sunHour": "6.6",
          "totalSnow_cm": "0.0",
          "uvIndex": "1"
         },
         {
          "astronomy": [
           {
            "moon_illumination": "16",
            "moon_phase": "Waning Crescent",
            "moonrise": "05:51 AM",
            "moonset": "04:10 PM",
            "sunrise": "08:46 AM",
            "sunset": "06:34 PM"
           }
          ],
          "avgtempC": "-8",
          "avgtempF": "17",
          "date": "2018-01-13",
          "hourly": [
           {
            "DewPointC": "-15",
            "DewPointF": "5",
            "FeelsLikeC": "-13",
            "FeelsLikeF": "8",
            "HeatIndexC": "-8",
            "HeatIndexF": "17",
            "WindChillC": "-13",
            "WindChillF": "8",
            "WindGustKmph": "15",
            "WindGustMiles": "9",
            "cloudcover": "44",
            "humidity": "62",
            "precipInches": "0.0",
            "precipMM": "0.0",
            "pressure": "1039",
            "pressureInches": "31",
            "tempC": "-4",
            "tempF": "25",
            "time": "24",
            "uvIndex": "2",
            "visibility": "10",
            "visibilityMiles": "6",
            "weatherCode": "116",
            "weatherDesc": [
             {
              "value": "Partly cloudy"
             }
            ],
            "weatherIconUrl": [
             {
              "value": "http://cdn.worldweatheronline.com/images/wsymbols01_png_64/wsymbol_0002_sunny_intervals.png"
             }
            ],
            "winddir16Point": "ESE",
            "winddirDegree": "112",
            "windspeedKmph": "10",
            "windspeedMiles": "7"
           }
          ],
          "maxtempC": "-4",
          "maxtempF": "25",
          "mintempC": "-12",
          "mintempF": "10",
          "sunHour": "9.9",
          "totalSnow_cm": "0.0",
          "uvIndex": "2"
         },
         {
          "astronomy": [
           {
            "moon_illumination": "9",
            "moon_phase": "Waning Crescent",
            "moonrise": "06:43 AM",
            "moonset": "04:53 PM",
            "sunrise": "08:46 AM",
            "sunset": "06:35 PM"
           }
          ],
          "avgtempC": "1",
          "avgtempF": "33",
          "date": "2018-01-14",
          "hourly": [
           {
            "DewPointC": "-9",
            "DewPointF": "17",
            "FeelsLikeC": "-5",
            "FeelsLikeF": "24",
            "HeatIndexC": "-0",
            "HeatIndexF": "31",
            "WindChillC": "-5",
            "WindChillF": "24",
            "WindGustKmph": "21",
            "WindGustMiles": "13",
            "cloudcover": "47",
            "humidity": "55",
            "precipInches": "0.0",
            "precipMM": "0.0",
            "pressure": "1030",
            "pressureInches": "31",
            "tempC": "6",
            "tempF": "42",
            "time": "24",
            "uvIndex": "1",
            "visibility": "10",
            "visibilityMiles": "6",
            "weatherCode": "119",
            "weatherDesc": [
             {
              "value": "Cloudy"
             }
            ],
            "weatherIconUrl": [
             {
              "value": "http://cdn.worldweatheronline.com/images/wsymbols01_png_64/wsymbol_0003_white_cloud.png"
             }
            ],
            "winddir16Point": "SSW",
            "winddirDegree": "214",
            "windspeedKmph": "13",
            "windspeedMiles": "8"
           }
          ],
          "maxtempC": "6",
          "maxtempF": "42",
          "mintempC": "-5",
          "mintempF": "23",
          "sunHour": "9.9",
          "totalSnow_cm": "0.0",
          "uvIndex": "1"
         },
         {
          "astronomy": [
           {
            "moon_illumination": "1",
            "moon_phase": "Waning Crescent",
            "moonrise": "07:34 AM",
            "moonset": "05:41 PM",
            "sunrise": "08:45 AM",
            "sunset": "06:36 PM"
           }
          ],
          "avgtempC": "-7",
          "avgtempF": "19",
          "date": "2018-01-15",
          "hourly": [
           {
            "DewPointC": "-9",
            "DewPointF": "15",
            "FeelsLikeC": "-13",
            "FeelsLikeF": "9",
            "HeatIndexC": "-5",
            "HeatIndexF": "22",
            "WindChillC": "-13",
            "WindChillF": "9",
            "WindGustKmph": "35",
            "WindGustMiles": "22",
            "cloudcover": "67",
            "humidity": "74",
            "precipInches": "0.2",
            "precipMM": "4.7",
            "pressure": "1036",
            "pressureInches": "31",
            "tempC": "-3",
            "tempF": "28",
            "time": "24",
            "uvIndex": "1",
            "visibility": "6",
            "visibilityMiles": "3",
            "weatherCode": "230",
            "weatherDesc": [
             {
              "value": "Blizzard"
             }
            ],
            "weatherIconUrl": [
             {
              "value": "http://cdn.worldweatheronline.com/images/wsymbols01_png_64/wsymbol_0020_cloudy_with_heavy_snow.png"
             }
            ],
            "winddir16Point": "S",
            "winddirDegree": "174",
            "windspeedKmph": "25",
            "windspeedMiles": "16"
           }
          ],
          "maxtempC": "-3",
          "maxtempF": "28",
          "mintempC": "-12",
          "mintempF": "11",
          "sunHour": "8.3",
          "totalSnow_cm": "0.0",
          "uvIndex": "1"
         },
         {
          "astronomy": [
           {
            "moon_illumination": "0",
            "moon_phase": "New Moon",
            "moonrise": "08:20 AM",
            "moonset": "06:31 PM",
            "sunrise": "08:45 AM",
            "sunset": "06:37 PM"
           }
          ],
          "avgtempC": "-13",
          "avgtempF": "9",
          "date": "2018-01-16",
          "hourly": [
           {
            "DewPointC": "-18",
            "DewPointF": "-1",
            "FeelsLikeC": "-20",
            "FeelsLikeF": "-4",
            "HeatIndexC": "-13",
            "HeatIndexF": "9",
            "WindChillC": "-20",
            "WindChillF": "-4",
            "WindGustKmph": "21",
            "WindGustMiles": "13",
            "cloudcover": "26",
            "humidity": "64",
            "precipInches": "0.0",
            "precipMM": "0.0",
            "pressure": "1046",
            "pressureInches": "31",
            "tempC": "-9",
            "tempF": "15",
            "time": "24",
            "uvIndex": "2",
            "visibility": "10",
            "visibilityMiles": "6",
            "weatherCode": "116",
            "weatherDesc": [
             {
              "value": "Partly cloudy"
             }
            ],
            "weatherIconUrl": [
             {
              "value": "http://cdn.worldweatheronline.com/images/wsymbols01_png_64/wsymbol_0002_sunny_intervals.png"
             }
            ],
            "winddir16Point": "W",
            "winddirDegree": "262",
            "windspeedKmph": "16",
            "windspeedMiles": "10"
           }
          ],
          "maxtempC": "-9",
          "maxtempF": "15",
          "mintempC": "-16",
          "mintempF": "4",
          "sunHour": "9.9",
          "totalSnow_cm": "0.0",
          "uvIndex": "2"
         },
         {
          "astronomy": [
           {
            "moon_illumination": "0",
            "moon_phase": "New Moon",
            "moonrise": "09:03 AM",
            "moonset": "07:25 PM",
            "sunrise": "08:45 AM",
            "sunset": "06:39 PM"
           }
          ],
          "avgtempC": "-7",
          "avgtempF": "20",
          "date": "2018-01-17",
          "hourly": [
           {
            "DewPointC": "-16",
            "DewPointF": "3",
            "FeelsLikeC": "-14",
            "FeelsLikeF": "7",
            "HeatIndexC": "-8",
            "HeatIndexF": "17",
            "WindChillC": "-14",
            "WindChillF": "7",
            "WindGustKmph": "23",
            "WindGustMiles": "15",
            "cloudcover": "0",
            "humidity": "55",
            "precipInches": "0.0",
            "precipMM": "0.0",
            "pressure": "1039",
            "pressureInches": "31",
            "tempC": "-0",
            "tempF": "31",
            "time": "24",
            "uvIndex": "2",
            "visibility": "10",
            "visibilityMiles": "6",
            "weatherCode": "113",
            "weatherDesc": [
             {
              "value": "Sunny"
             }
            ],
            "weatherIconUrl": [
             {
              "value": "http://cdn.worldweatheronline.com/images/wsymbols01_png_64/wsymbol_0001_sunny.png"
             }
            ],
            "winddir16Point": "S",
            "winddirDegree": "184",
            "windspeedKmph": "14",
            "windspeedMiles": "9"
           }
          ],
          "maxtempC": "-0",
          "maxtempF": "31",
          "mintempC": "-13",
          "mintempF": "8",
          "sunHour": "9.9",
          "totalSnow_cm": "0.0",
          "uvIndex": "2"
         },
         {
          "astronomy": [
           {
            "moon_illumination": "6",
            "moon_phase": "Waxing Crescent",
            "moonrise": "09:43 AM",
            "moonset": "08:20 PM",
            "sunrise": "08:44 AM",
            "sunset": "06:40 PM"
           }
          ],
          "avgtempC": "2",
          "avgtempF": "35",
          "date": "2018-01-18",
          "hourly": [
           {
            "DewPointC": "-10",
            "DewPointF": "14",
            "FeelsLikeC": "-5",
            "FeelsLikeF": "22",
            "HeatIndexC": "-0",
            "HeatIndexF": "32",
            "WindChillC": "-5",
            "WindChillF": "22",
            "WindGustKmph": "39",
            "WindGustMiles": "24",
            "cloudcover": "1",
            "humidity": "47",
            "precipInches": "0.0",
            "precipMM": "0.0",
            "pressure": "1025",
            "pressureInches": "31",
            "tempC": "9",
            "tempF": "48",
            "time": "24",
            "uvIndex": "2",
            "visibility": "10",
            "visibilityMiles": "6",
            "weatherCode": "113",
            "weatherDesc": [
             {
              "value": "Sunny"
             }
            ],
            "weatherIconUrl": [
             {
              "value": "http://cdn.worldweatheronline.com/images/wsymbols01_png_64/wsymbol_0001_sunny.png"
             }
            ],
            "winddir16Point": "SSW",
            "winddirDegree": "199",
            "windspeedKmph": "22",
            "windspeedMiles": "14"
           }
          ],
          "maxtempC": "9",
          "maxtempF": "48",
          "mintempC": "-6",
          "mintempF": "22",
          "sunHour": "10.0",
          "totalSnow_cm": "0.0",
          "uvIndex": "2"
         },
         {
          "astronomy": [
           {
            "moon_illumination": "13",
            "moon_phase": "Waxing Crescent",
            "moonrise": "10:19 AM",
            "moonset": "09:17 PM",
            "sunrise": "08:44 AM",
            "sunset": "06:41 PM"
           }
          ],
          "avgtempC": "6",
          "avgtempF": "43",
          "date": "2018-01-19",
          "hourly": [
           {
            "DewPointC": "-3",
            "DewPointF": "26",
            "FeelsLikeC": "0",
            "FeelsLikeF": "32",
            "HeatIndexC": "5",
            "HeatIndexF": "40",
            "WindChillC": "0",
            "WindChillF": "32",
            "WindGustKmph": "44",
            "WindGustMiles": "28",
            "cloudcover": "6",
            "humidity": "58",
            "precipInches": "0.0",
            "precipMM": "0.0",
            "pressure": "1013",
            "pressureInches": "30",
            "tempC": "13",
            "tempF": "55",
            "time": "24",
            "uvIndex": "3",
            "visibility": "10",
            "visibilityMiles": "6",
            "weatherCode": "113",
            "weatherDesc": [
             {
              "value": "Sunny"
             }
            ],
            "weatherIconUrl": [
             {
              "value": "http://cdn.worldweatheronline.com/images/wsymbols01_png_64/wsymbol_0001_sunny.png"
             }
            ],
            "winddir16Point": "S",
            "winddirDegree": "189",
            "windspeedKmph": "24",
            "windspeedMiles": "15"
           }
          ],
          "maxtempC": "13",
          "maxtempF": "55",
          "mintempC": "-1",
          "mintempF": "31",
          "sunHour": "10.0",
          "totalSnow_cm": "0.0",
          "uvIndex": "3"
         },
         {
          "astronomy": [
           {
            "moon_illumination": "20",
            "moon_phase": "Waxing Crescent",
            "moonrise": "10:52 AM",
            "moonset": "10:15 PM",
            "sunrise": "08:43 AM",
            "sunset": "06:42 PM"
           }
          ],
          "avgtempC": "10",
          "avgtempF": "51",
          "date": "2018-01-20",
          "hourly": [
           {
            "DewPointC": "6",
            "DewPointF": "43",
            "FeelsLikeC": "6",
            "FeelsLikeF": "43",
            "HeatIndexC": "9",
            "HeatIndexF": "48",
            "WindChillC": "6",
            "WindChillF": "43",
            "WindGustKmph": "40",
            "WindGustMiles": "25",
            "cloudcover": "19",
            "humidity": "82",
            "precipInches": "0.0",
            "precipMM": "0.0",
            "pressure": "1009",
            "pressureInches": "30",
            "tempC": "15",
            "tempF": "59",
            "time": "24",
            "uvIndex": "3",
            "visibility": "10",
            "visibilityMiles": "6",
            "weatherCode": "119",
            "weatherDesc": [
             {
              "value": "Cloudy"
             }
            ],
            "weatherIconUrl": [
             {
              "value": "http://cdn.worldweatheronline.com/images/wsymbols01_png_64/wsymbol_0003_white_cloud.png"
             }
            ],
            "winddir16Point": "S",
            "winddirDegree": "173",
            "windspeedKmph": "23",
            "windspeedMiles": "14"
           }
          ],
          "maxtempC": "15",
          "maxtempF": "59",
          "mintempC": "5",
          "mintempF": "41",
          "sunHour": "9.9",
          "totalSnow_cm": "0.0",
          "uvIndex": "3"
         },
         {
          "astronomy": [
           {
            "moon_illumination": "28",
            "moon_phase": "Waxing Crescent",
            "moonrise": "11:25 AM",
            "moonset": "11:14 PM",
            "sunrise": "08:43 AM",
            "sunset": "06:43 PM"
           }
          ],
          "avgtempC": "11",
          "avgtempF": "53",
          "date": "2018-01-21",
          "hourly": [
           {
            "DewPointC": "5",
            "DewPointF": "40",
            "FeelsLikeC": "8",
            "FeelsLikeF": "47",
            "HeatIndexC": "10",
            "HeatIndexF": "50",
            "WindChillC": "8",
            "WindChillF": "47",
            "WindGustKmph": "35",
            "WindGustMiles": "21",
            "cloudcover": "27",
            "humidity": "70",
            "precipInches": "0.0",
            "precipMM": "0.0",
            "pressure": "1004",
            "pressureInches": "30",
            "tempC": "16",
            "tempF": "61",
            "time": "24",
            "uvIndex": "3",
            "visibility": "10",
            "visibilityMiles": "6",
            "weatherCode": "122",
            "weatherDesc": [
             {
              "value": "Overcast"
             }
            ],
            "weatherIconUrl": [
             {
              "value": "http://cdn.worldweatheronline.com/images/wsymbols01_png_64/wsymbol_0004_black_low_cloud.png"
             }
            ],
            "winddir16Point": "SW",
            "winddirDegree": "222",
            "windspeedKmph": "20",
            "windspeedMiles": "12"
           }
          ],
          "maxtempC": "16",
          "maxtempF": "61",
          "mintempC": "7",
          "mintempF": "44",
          "sunHour": "10.0",
          "totalSnow_cm": "0.0",
          "uvIndex": "3"
         },
         {
          "astronomy": [
           {
            "moon_illumination": "35",
            "moon_phase": "Waxing Crescent",
            "moonrise": "11:56 AM",
            "moonset": "No moonset",
            "sunrise": "08:42 AM",
            "sunset": "06:44 PM"
           }
          ],
          "avgtempC": "4",
          "avgtempF": "39",
          "date": "2018-01-22",
          "hourly": [
           {
            "DewPointC": "-3",
            "DewPointF": "27",
            "FeelsLikeC": "-2",
            "FeelsLikeF": "28",
            "HeatIndexC": "3",
            "HeatIndexF": "38",
            "WindChillC": "-2",
            "WindChillF": "28",
            "WindGustKmph": "50",
            "WindGustMiles": "31",
            "cloudcover": "63",
            "humidity": "66",
            "precipInches": "0.0",
            "precipMM": "0.2",
            "pressure": "1008",
            "pressureInches": "30",
            "tempC": "4",
            "tempF": "40",
            "time": "24",
            "uvIndex": "1",
            "visibility": "9",
            "visibilityMiles": "5",
            "weatherCode": "227",
            "weatherDesc": [
             {
              "value": "Blowing snow"
             }
            ],
            "weatherIconUrl": [
             {
              "value": "http://cdn.worldweatheronline.com/images/wsymbols01_png_64/wsymbol_0019_cloudy_with_light_snow.png"
             }
            ],
            "winddir16Point": "WNW",
            "winddirDegree": "293",
            "windspeedKmph": "36",
            "windspeedMiles": "23"
           }
          ],
          "maxtempC": "4",
          "maxtempF": "40",
          "mintempC": "2",
          "mintempF": "35",
          "sunHour": "6.7",
          "totalSnow_cm": "0.0",
          "uvIndex": "1"
         },
         {
          "astronomy": [
           {
            "moon_illumination": "42",
            "moon_phase": "First Quarter",
            "moonrise": "12:27 PM",
            "moonset": "12:14 AM",
            "sunrise": "08:42 AM",
            "sunset": "06:45 PM"
           }
          ],
          "avgtempC": "3",
          "avgtempF": "37",
          "date": "2018-01-23",
          "hourly": [
           {
            "DewPointC": "-6",
            "DewPointF": "21",
            "FeelsLikeC": "-2",
            "FeelsLikeF": "28",
            "HeatIndexC": "2",
            "HeatIndexF": "35",
            "WindChillC": "-2",
            "WindChillF": "28",
            "WindGustKmph": "27",
            "WindGustMiles": "17",
            "cloudcover": "2",
            "humidity": "58",
            "precipInches": "0.0",
            "precipMM": "0.0",
            "pressure": "1024",
            "pressureInches": "31",
            "tempC": "8",
            "tempF": "47",
            "time": "24",
            "uvIndex": "2",
            "visibility": "10",
            "visibilityMiles": "6",
            "weatherCode": "113",
            "weatherDesc": [
             {
              "value": "Sunny"
             }
            ],
            "weatherIconUrl": [
             {
              "value": "http://cdn.worldweatheronline.com/images/wsymbols01_png_64/wsymbol_0001_sunny.png"
             }
            ],
            "winddir16Point": "NW",
            "winddirDegree": "313",
            "windspeedKmph": "16",
            "windspeedMiles": "10"
           }
          ],
          "maxtempC": "8",
          "maxtempF": "47",
          "mintempC": "-2",
          "mintempF": "28",
          "sunHour": "10.0",
          "totalSnow_cm": "0.0",
          "uvIndex": "2"
         },
         {
          "astronomy": [
           {
            "moon_illumination": "49",
            "moon_phase": "First Quarter",
            "moonrise": "01:01 PM",
            "moonset": "01:16 AM",
            "sunrise": "08:41 AM",
            "sunset": "06:46 PM"
           }
          ],
          "avgtempC": "6",
          "avgtempF": "42",
          "date": "2018-01-24",
          "hourly": [
           {
            "DewPointC": "-3",
            "DewPointF": "26",
            "FeelsLikeC": "1",
            "FeelsLikeF": "34",
            "HeatIndexC": "4",
            "HeatIndexF": "40",
            "WindChillC": "1",
            "WindChillF": "34",
            "WindGustKmph": "27",
            "WindGustMiles": "17",
            "cloudcover": "1",
            "humidity": "60",
            "precipInches": "0.0",
            "precipMM": "0.0",
            "pressure": "1028",
            "pressureInches": "31",
            "tempC": "12",
            "tempF": "53",
            "time": "24",
            "uvIndex": "3",
            "visibility": "10",
            "visibilityMiles": "6",
            "weatherCode": "113",
            "weatherDesc": [
             {
              "value": "Sunny"
             }
            ],
            "weatherIconUrl": [
             {
              "value": "http://cdn.worldweatheronline.com/images/wsymbols01_png_64/wsymbol_0001_sunny.png"
             }
            ],
            "winddir16Point": "WSW",
            "winddirDegree": "253",
            "windspeedKmph": "15",
            "windspeedMiles": "9"
           }
          ],
          "maxtempC": "12",
          "maxtempF": "53",
          "mintempC": "-1",
          "mintempF": "31",
          "sunHour": "10.1",
          "totalSnow_cm": "0.0",
          "uvIndex": "3"
         },
         {
          "astronomy": [
           {
            "moon_illumination": "57",
            "moon_phase": "First Quarter",
            "moonrise": "01:38 PM",
            "moonset": "02:20 AM",
            "sunrise": "08:40 AM",
            "sunset": "06:47 PM"
           }
          ],
          "avgtempC": "11",
          "avgtempF": "51",
          "date": "2018-01-25",
          "hourly": [
           {
            "DewPointC": "-6",
            "DewPointF": "21",
            "FeelsLikeC": "6",
            "FeelsLikeF": "43",
            "HeatIndexC": "9",
            "HeatIndexF": "49",
            "WindChillC": "6",
            "WindChillF": "43",
            "WindGustKmph": "50",
            "WindGustMiles": "31",
            "cloudcover": "0",
            "humidity": "34",
            "precipInches": "0.0",
            "precipMM": "0.0",
            "pressure": "1021",
            "pressureInches": "31",
            "tempC": "17",
            "tempF": "63",
            "time": "24",
            "uvIndex": "4",
            "visibility": "10",
            "visibilityMiles": "6",
            "weatherCode": "113",
            "weatherDesc": [
             {
              "value": "Sunny"
             }
            ],
            "weatherIconUrl": [
             {
              "value": "http://cdn.worldweatheronline.com/images/wsymbols01_png_64/wsymbol_0001_sunny.png"
             }
            ],
            "winddir16Point": "SSW",
            "winddirDegree": "199",
            "windspeedKmph": "29",
            "windspeedMiles": "18"
           }
          ],
          "maxtempC": "17",
          "maxtempF": "63",
          "mintempC": "5",
          "mintempF": "41",
          "sunHour": "10.1",
          "totalSnow_cm": "0.0",
          "uvIndex": "4"
         },
         {
          "astronomy": [
           {
            "moon_illumination": "64",
            "moon_phase": "First Quarter",
            "moonrise": "02:18 PM",
            "moonset": "03:26 AM",
            "sunrise": "08:40 AM",
            "sunset": "06:48 PM"
           }
          ],
          "avgtempC": "12",
          "avgtempF": "53",
          "date": "2018-01-26",
          "hourly": [
           {
            "DewPointC": "1",
            "DewPointF": "33",
            "FeelsLikeC": "7",
            "FeelsLikeF": "45",
            "HeatIndexC": "11",
            "HeatIndexF": "51",
            "WindChillC": "7",
            "WindChillF": "45",
            "WindGustKmph": "51",
            "WindGustMiles": "31",
            "cloudcover": "18",
            "humidity": "52",
            "precipInches": "0.0",
            "precipMM": "0.0",
            "pressure": "1015",
            "pressureInches": "30",
            "tempC": "16",
            "tempF": "61",
            "time": "24",
            "uvIndex": "3",
            "visibility": "10",
            "visibilityMiles": "6",
            "weatherCode": "122",
            "weatherDesc": [
             {
              "value": "Overcast"
             }
            ],
            "weatherIconUrl": [
             {
              "value": "http://cdn.worldweatheronline.com/images/wsymbols01_png_64/wsymbol_0004_black_low_cloud.png"
             }
            ],
            "winddir16Point": "SW",
            "winddirDegree": "233",
            "windspeedKmph": "33",
            "windspeedMiles": "20"
           }
          ],
          "maxtempC": "16",
          "maxtempF": "61",
          "mintempC": "8",
          "mintempF": "46",
          "sunHour": "10.0",
          "totalSnow_cm": "0.0",
          "uvIndex": "3"
         },
         {
          "astronomy": [
           {
            "moon_illumination": "71",
            "moon_phase": "Waxing Gibbous",
            "moonrise": "03:06 PM",
            "moonset": "04:33 AM",
            "sunrise": "08:39 AM",
            "sunset": "06:50 PM"
           }
          ],
          "avgtempC": "7",
          "avgtempF": "45",
          "date": "2018-01-27",
          "hourly": [
           {
            "DewPointC": "-6",
            "DewPointF": "21",
            "FeelsLikeC": "4",
            "FeelsLikeF": "40",
            "HeatIndexC": "7",
            "HeatIndexF": "44",
            "WindChillC": "4",
            "WindChillF": "40",
            "WindGustKmph": "21",
            "WindGustMiles": "13",
            "cloudcover": "3",
            "humidity": "42",
            "precipInches": "0.0",
            "precipMM": "0.0",
            "pressure": "1027",
            "pressureInches": "31",
            "tempC": "13",
            "tempF": "55",
            "time": "24",
            "uvIndex": "3",
            "visibility": "10",
            "visibilityMiles": "6",
            "weatherCode": "113",
            "weatherDesc": [
             {
              "value": "Sunny"
             }
            ],
            "weatherIconUrl": [
             {
              "value": "http://cdn.worldweatheronline.com/images/wsymbols01_png_64/wsymbol_0001_sunny.png"
             }
            ],
            "winddir16Point": "NW",
            "winddirDegree": "325",
            "windspeedKmph": "13",
            "windspeedMiles": "8"
           }
          ],
          "maxtempC": "13",
          "maxtempF": "55",
          "mintempC": "2",
          "mintempF": "36",
          "sunHour": "10.1",
          "totalSnow_cm": "0.0",
          "uvIndex": "3"
         },
         {
          "astronomy": [
           {
            "moon_illumination": "78",
            "moon_phase": "Waxing Gibbous",
            "moonrise": "04:01 PM",
            "moonset": "05:41 AM",
            "sunrise": "08:38 AM",
            "sunset": "06:51 PM"
           }
          ],
          "avgtempC": "8",
          "avgtempF": "47",
          "date": "2018-01-28",
          "hourly": [
           {
            "DewPointC": "-7",
            "DewPointF": "19",
            "FeelsLikeC": "3",
            "FeelsLikeF": "38",
            "HeatIndexC": "6",
            "HeatIndexF": "43",
            "WindChillC": "3",
            "WindChillF": "38",
            "WindGustKmph": "24",
            "WindGustMiles": "15",
            "cloudcover": "13",
            "humidity": "40",
            "precipInches": "0.0",
            "precipMM": "0.0",
            "pressure": "1029",
            "pressureInches": "31",
            "tempC": "14",
            "tempF": "58",
            "time": "24",
            "uvIndex": "3",
            "visibility": "10",
            "visibilityMiles": "6",
            "weatherCode": "116",
            "weatherDesc": [
             {
              "value": "Partly cloudy"
             }
            ],
            "weatherIconUrl": [
             {
              "value": "http://cdn.worldweatheronline.com/images/wsymbols01_png_64/wsymbol_0002_sunny_intervals.png"
             }
            ],
            "winddir16Point": "S",
            "winddirDegree": "171",
            "windspeedKmph": "16",
            "windspeedMiles": "10"
           }
          ],
          "maxtempC": "14",
          "maxtempF": "58",
          "mintempC": "-2",
          "mintempF": "28",
          "sunHour": "10.1",
          "totalSnow_cm": "0.0",
          "uvIndex": "3"
         },
         {
          "astronomy": [
           {
            "moon_illumination": "86",
            "moon_phase": "Waxing Gibbous",
            "moonrise": "05:03 PM",
            "moonset": "06:46 AM",
            "sunrise": "08:37 AM",
            "sunset": "06:52 PM"
           }
          ],
          "avgtempC": "-1",
          "avgtempF": "30",
          "date": "2018-01-29",
          "hourly": [
           {
            "DewPointC": "-12",
            "DewPointF": "10",
            "FeelsLikeC": "-6",
            "FeelsLikeF": "21",
            "HeatIndexC": "-2",
            "HeatIndexF": "29",
            "WindChillC": "-6",
            "WindChillF": "21",
            "WindGustKmph": "20",
            "WindGustMiles": "13",
            "cloudcover": "10",
            "humidity": "45",
            "precipInches": "0.0",
            "precipMM": "0.0",
            "pressure": "1037",
            "pressureInches": "31",
            "tempC": "4",
            "tempF": "38",
            "time": "24",
            "uvIndex": "2",
            "visibility": "10",
            "visibilityMiles": "6",
            "weatherCode": "116",
            "weatherDesc": [
             {
              "value": "Partly cloudy"
             }
            ],
            "weatherIconUrl": [
             {
              "value": "http://cdn.worldweatheronline.com/images/wsymbols01_png_64/wsymbol_0002_sunny_intervals.png"
             }
            ],
            "winddir16Point": "S",
            "winddirDegree": "175",
            "windspeedKmph": "14",
            "windspeedMiles": "9"
           }
          ],
          "maxtempC": "4",
          "maxtempF": "38",
          "mintempC": "-5",
          "mintempF": "23",
          "sunHour": "10.2",
          "totalSnow_cm": "0.0",
          "uvIndex": "2"
         },
         {
          "astronomy": [
           {
            "moon_illumination": "93",
            "moon_phase": "Waxing Gibbous",
            "moonrise": "06:10 PM",
            "moonset": "07:46 AM",
            "sunrise": "08:37 AM",
            "sunset": "06:53 PM"
           }
          ],
          "avgtempC": "6",
          "avgtempF": "42",
          "date": "2018-01-30",
          "hourly": [
           {
            "DewPointC": "-6",
            "DewPointF": "21",
            "FeelsLikeC": "-1",
            "FeelsLikeF": "31",
            "HeatIndexC": "4",
            "HeatIndexF": "39",
            "WindChillC": "-1",
            "WindChillF": "31",
            "WindGustKmph": "44",
            "WindGustMiles": "27",
            "cloudcover": "8",
            "humidity": "47",
            "precipInches": "0.0",
            "precipMM": "0.0",
            "pressure": "1023",
            "pressureInches": "31",
            "tempC": "12",
            "tempF": "54",
            "time": "24",
            "uvIndex": "3",
            "visibility": "10",
            "visibilityMiles": "6",
            "weatherCode": "113",
            "weatherDesc": [
             {
              "value": "Sunny"
             }
            ],
            "weatherIconUrl": [
             {
              "value": "http://cdn.worldweatheronline.com/images/wsymbols01_png_64/wsymbol_0001_sunny.png"
             }
            ],
            "winddir16Point": "S",
            "winddirDegree": "179",
            "windspeedKmph": "28",
            "windspeedMiles": "17"
           }
          ],
          "maxtempC": "12",
          "maxtempF": "54",
          "mintempC": "-2",
          "mintempF": "29",
          "sunHour": "10.2",
          "totalSnow_cm": "0.0",
          "uvIndex": "3"
         },
         {
          "astronomy": [
           {
            "moon_illumination": "97",
            "moon_phase": "Waxing Gibbous",
            "moonrise": "07:21 PM",
            "moonset": "08:39 AM",
            "sunrise": "08:36 AM",
            "sunset": "06:54 PM"
           }
          ],
          "avgtempC": "9",
          "avgtempF": "49",
          "date": "2018-01-31",
          "hourly": [
           {
            "DewPointC": "-1",
            "DewPointF": "31",
            "FeelsLikeC": "6",
            "FeelsLikeF": "42",
            "HeatIndexC": "9",
            "HeatIndexF": "47",
            "WindChillC": "6",
            "WindChillF": "42",
            "WindGustKmph": "34",
            "WindGustMiles": "21",
            "cloudcover": "11",
            "humidity": "53",
            "precipInches": "0.0",
            "precipMM": "0.0",
            "pressure": "1010",
            "pressureInches": "30",
            "tempC": "13",
            "tempF": "56",
            "time": "24",
            "uvIndex": "3",
            "visibility": "10",
            "visibilityMiles": "6",
            "weatherCode": "116",
            "weatherDesc": [
             {
              "value": "Partly cloudy"
             }
            ],
            "weatherIconUrl": [
             {
              "value": "http://cdn.worldweatheronline.com/images/wsymbols01_png_64/wsymbol_0002_sunny_intervals.png"
             }
            ],
            "winddir16Point": "E",
            "winddirDegree": "99",
            "windspeedKmph": "20",
            "windspeedMiles": "12"
           }
          ],
          "maxtempC": "13",
          "maxtempF": "56",
          "mintempC": "6",
          "mintempF": "43",
          "sunHour": "10.2",
          "totalSnow_cm": "0.0",
          "uvIndex": "3"
         }
        ]
       }
      },
      "text/plain": [
       "<IPython.core.display.JSON object>"
      ]
     },
     "execution_count": 76,
     "metadata": {
      "application/json": {
       "expanded": false,
       "root": "root"
      }
     },
     "output_type": "execute_result"
    }
   ],
   "source": [
    "JSON(test)"
   ]
  },
  {
   "cell_type": "code",
   "execution_count": null,
   "metadata": {},
   "outputs": [],
   "source": []
  },
  {
   "cell_type": "code",
   "execution_count": null,
   "metadata": {},
   "outputs": [],
   "source": []
  },
  {
   "cell_type": "code",
   "execution_count": null,
   "metadata": {},
   "outputs": [],
   "source": []
  },
  {
   "cell_type": "code",
   "execution_count": null,
   "metadata": {},
   "outputs": [],
   "source": []
  }
 ],
 "metadata": {
  "kernelspec": {
   "display_name": "lhl-bootcamp",
   "language": "python",
   "name": "lhl-bootcamp"
  },
  "language_info": {
   "codemirror_mode": {
    "name": "ipython",
    "version": 3
   },
   "file_extension": ".py",
   "mimetype": "text/x-python",
   "name": "python",
   "nbconvert_exporter": "python",
   "pygments_lexer": "ipython3",
   "version": "3.7.7"
  }
 },
 "nbformat": 4,
 "nbformat_minor": 4
}
