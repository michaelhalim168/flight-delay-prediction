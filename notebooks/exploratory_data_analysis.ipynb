{
 "cells": [
  {
   "cell_type": "markdown",
   "metadata": {},
   "source": [
    "# Lighthouse Labs Midterm Project: Predicting Flight Delays"
   ]
  },
  {
   "cell_type": "markdown",
   "metadata": {},
   "source": [
    "## 1. Introduction and Hypothesis Generation"
   ]
  },
  {
   "cell_type": "markdown",
   "metadata": {},
   "source": [
    "*What are the most common causes of flight delays?*\n",
    "\n",
    "\n",
    " - <b>Weather</b>: Three different areas where weather can result in flight delays: origin airport, during the flight, destination airport. Origin and destination weather can delay takeoff, this in turn can result in further backlog of flights. \n",
    " - <b>Air Traffic</b>: Air and ground congestion can lead to flights getting delayed. If scheduled flight pushes from the gate late, that can also impact the departure of other flights. Go arounds may also occur, where a pilot may deem that it is not safe to land.\n",
    " - <b>Mechanical Delays</b>: There may be unexpected issues that arise with the aircraft. Can cause delays in takeoff.\n",
    " - <b>Waiting for Connecting Passengers and Crew</b>: Delay from previous flights can cause delayed flights due to connecting passengers and crew. This may happen more frequently during busy times/operating hours.\n",
    " - <b>Aircraft Operations</b>: Airports with inefficient operation processes can lead to issues like prolonged security processes, slow baggage turnover, etc. This can result in more frequent delays.\n",
    "\n",
    "\n",
    "*Which features in our dataset can account for some of the main reasons in flight delays?*\n",
    "\n",
    " - <b>fl_date: </b> Corresponds to flight date. Which months do flight delays occur most often? I hypothesize that vacation months (summer, christmas) will have more flights and can lead to greater delays.\n",
    " - <b> mkt_carrier: </b> Carrier code. Corresponds to the type of airline. Which airlines are most likely to cause delays? I hypothesize that budget airlines are most likely to encounter delays, due to poor operations. \n",
    " - <b> destination_id, destination_city, origin_id, origin_city: </b> At which cities do we encounter the most frequent delays? This is also needed to extract weather data. \n",
    " - <b> crs_departure_time: </b> What departure times are most likely to cause delays? \n",
    " - <b> flights: </b> Number of flights - can provide information regarding air traffic"
   ]
  },
  {
   "cell_type": "code",
   "execution_count": null,
   "metadata": {},
   "outputs": [],
   "source": [
    "Weather (conditions, temperature), how busy --> how many flights, , mechanical delay (tail number?), airport, city cause, cycles/cascading (cycles by airplane) "
   ]
  }
 ],
 "metadata": {
  "kernelspec": {
   "display_name": "Python 3",
   "language": "python",
   "name": "python3"
  },
  "language_info": {
   "codemirror_mode": {
    "name": "ipython",
    "version": 3
   },
   "file_extension": ".py",
   "mimetype": "text/x-python",
   "name": "python",
   "nbconvert_exporter": "python",
   "pygments_lexer": "ipython3",
   "version": "3.8.8"
  }
 },
 "nbformat": 4,
 "nbformat_minor": 4
}
