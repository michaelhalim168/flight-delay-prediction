{
 "cells": [
  {
   "cell_type": "markdown",
   "metadata": {},
   "source": [
    "# Lighthouse Labs Midterm Project: Predicting Flight Delays"
   ]
  },
  {
   "cell_type": "markdown",
   "metadata": {},
   "source": [
    "## 1. Introduction and Problem Statement"
   ]
  },
  {
   "cell_type": "markdown",
   "metadata": {},
   "source": [
    "<b> Objective: </b> The aim of this project is to predict delays in flights in January of 2020 in the United States"
   ]
  },
  {
   "cell_type": "markdown",
   "metadata": {},
   "source": [
    "*What are the most common causes of flight delays?*\n",
    "\n",
    "\n",
    " - <b>Weather</b>: Three different areas where weather can result in flight delays: origin airport, during the flight, destination airport. Origin and destination weather can delay takeoff, this in turn can result in further backlog of flights. \n",
    " \n",
    " - <b>Air Traffic</b>: Air and ground congestion can lead to flights getting delayed. If scheduled flight pushes from the gate late, that can also impact the departure of other flights. Go arounds may also occur, where a pilot may deem that it is not safe to land.\n",
    " \n",
    " - <b>Mechanical Delays</b>: There may be unexpected issues that arise with the aircraft. Can cause delays in takeoff.\n",
    " \n",
    " - <b>Waiting for Connecting Passengers and Crew</b>: Delay from previous flights can cause delayed flights due to connecting passengers and crew. This may happen more frequently during busy times/operating hours.\n",
    " \n",
    " - <b>Aircraft Operations</b>: Airports with inefficient operation processes can lead to issues like prolonged security processes, slow baggage turnover, etc. This can result in more frequent delays.\n"
   ]
  },
  {
   "cell_type": "code",
   "execution_count": 1,
   "metadata": {},
   "outputs": [],
   "source": [
    "import pandas as pd\n",
    "import numpy as np\n",
    "import matplotlib.pyplot as plt\n",
    "import seaborn as sns\n",
    "import datetime as dt\n",
    "import warnings\n",
    "%matplotlib inline\n",
    "warnings.filterwarnings('ignore')"
   ]
  },
  {
   "cell_type": "code",
   "execution_count": 2,
   "metadata": {},
   "outputs": [],
   "source": [
    "from scipy.stats import shapiro, ttest_ind\n",
    "from sklearn.preprocessing import StandardScaler"
   ]
  },
  {
   "cell_type": "code",
   "execution_count": 3,
   "metadata": {},
   "outputs": [],
   "source": [
    "sns.set_style('ticks')"
   ]
  },
  {
   "cell_type": "markdown",
   "metadata": {},
   "source": [
    "## 2. Import Data"
   ]
  },
  {
   "cell_type": "markdown",
   "metadata": {},
   "source": [
    "In order to predict flight delays, we need to obtain historical flight data. For this project, historical flight data for the year 2018-2019 can be found in a Postgres server. The server contains information for approximately 16 million flights in the United States. We randomly extracted approximately 500,000 flights from each year, resulting in 1,000,000 flights for us to perform exploratory data analysis. "
   ]
  },
  {
   "cell_type": "code",
   "execution_count": 4,
   "metadata": {},
   "outputs": [],
   "source": [
    "df_2018 = pd.read_csv('../data/flights_data_2018.csv')"
   ]
  },
  {
   "cell_type": "code",
   "execution_count": 5,
   "metadata": {},
   "outputs": [
    {
     "data": {
      "text/html": [
       "<div>\n",
       "<style scoped>\n",
       "    .dataframe tbody tr th:only-of-type {\n",
       "        vertical-align: middle;\n",
       "    }\n",
       "\n",
       "    .dataframe tbody tr th {\n",
       "        vertical-align: top;\n",
       "    }\n",
       "\n",
       "    .dataframe thead th {\n",
       "        text-align: right;\n",
       "    }\n",
       "</style>\n",
       "<table border=\"1\" class=\"dataframe\">\n",
       "  <thead>\n",
       "    <tr style=\"text-align: right;\">\n",
       "      <th></th>\n",
       "      <th>fl_date</th>\n",
       "      <th>mkt_unique_carrier</th>\n",
       "      <th>branded_code_share</th>\n",
       "      <th>mkt_carrier</th>\n",
       "      <th>mkt_carrier_fl_num</th>\n",
       "      <th>op_unique_carrier</th>\n",
       "      <th>tail_num</th>\n",
       "      <th>op_carrier_fl_num</th>\n",
       "      <th>origin_airport_id</th>\n",
       "      <th>origin</th>\n",
       "      <th>...</th>\n",
       "      <th>distance</th>\n",
       "      <th>carrier_delay</th>\n",
       "      <th>weather_delay</th>\n",
       "      <th>nas_delay</th>\n",
       "      <th>security_delay</th>\n",
       "      <th>late_aircraft_delay</th>\n",
       "      <th>first_dep_time</th>\n",
       "      <th>total_add_gtime</th>\n",
       "      <th>longest_add_gtime</th>\n",
       "      <th>no_name</th>\n",
       "    </tr>\n",
       "  </thead>\n",
       "  <tbody>\n",
       "    <tr>\n",
       "      <th>0</th>\n",
       "      <td>2018-03-31</td>\n",
       "      <td>UA</td>\n",
       "      <td>UA</td>\n",
       "      <td>UA</td>\n",
       "      <td>2384</td>\n",
       "      <td>UA</td>\n",
       "      <td>N76288</td>\n",
       "      <td>2384</td>\n",
       "      <td>11618</td>\n",
       "      <td>EWR</td>\n",
       "      <td>...</td>\n",
       "      <td>1065</td>\n",
       "      <td>0.0</td>\n",
       "      <td>0.0</td>\n",
       "      <td>0.0</td>\n",
       "      <td>0.0</td>\n",
       "      <td>38.0</td>\n",
       "      <td>NaN</td>\n",
       "      <td>NaN</td>\n",
       "      <td>NaN</td>\n",
       "      <td>NaN</td>\n",
       "    </tr>\n",
       "    <tr>\n",
       "      <th>1</th>\n",
       "      <td>2018-11-27</td>\n",
       "      <td>DL</td>\n",
       "      <td>DL</td>\n",
       "      <td>DL</td>\n",
       "      <td>1260</td>\n",
       "      <td>DL</td>\n",
       "      <td>N902DN</td>\n",
       "      <td>1260</td>\n",
       "      <td>11884</td>\n",
       "      <td>GEG</td>\n",
       "      <td>...</td>\n",
       "      <td>546</td>\n",
       "      <td>NaN</td>\n",
       "      <td>NaN</td>\n",
       "      <td>NaN</td>\n",
       "      <td>NaN</td>\n",
       "      <td>NaN</td>\n",
       "      <td>NaN</td>\n",
       "      <td>NaN</td>\n",
       "      <td>NaN</td>\n",
       "      <td>NaN</td>\n",
       "    </tr>\n",
       "    <tr>\n",
       "      <th>2</th>\n",
       "      <td>2018-09-17</td>\n",
       "      <td>AA</td>\n",
       "      <td>AA_CODESHARE</td>\n",
       "      <td>AA</td>\n",
       "      <td>5906</td>\n",
       "      <td>YV</td>\n",
       "      <td>N912FJ</td>\n",
       "      <td>5906</td>\n",
       "      <td>11298</td>\n",
       "      <td>DFW</td>\n",
       "      <td>...</td>\n",
       "      <td>641</td>\n",
       "      <td>0.0</td>\n",
       "      <td>0.0</td>\n",
       "      <td>0.0</td>\n",
       "      <td>0.0</td>\n",
       "      <td>47.0</td>\n",
       "      <td>NaN</td>\n",
       "      <td>NaN</td>\n",
       "      <td>NaN</td>\n",
       "      <td>NaN</td>\n",
       "    </tr>\n",
       "    <tr>\n",
       "      <th>3</th>\n",
       "      <td>2018-10-19</td>\n",
       "      <td>G4</td>\n",
       "      <td>G4</td>\n",
       "      <td>G4</td>\n",
       "      <td>2272</td>\n",
       "      <td>G4</td>\n",
       "      <td>252NV</td>\n",
       "      <td>2272</td>\n",
       "      <td>10135</td>\n",
       "      <td>ABE</td>\n",
       "      <td>...</td>\n",
       "      <td>518</td>\n",
       "      <td>654.0</td>\n",
       "      <td>0.0</td>\n",
       "      <td>0.0</td>\n",
       "      <td>0.0</td>\n",
       "      <td>0.0</td>\n",
       "      <td>NaN</td>\n",
       "      <td>NaN</td>\n",
       "      <td>NaN</td>\n",
       "      <td>NaN</td>\n",
       "    </tr>\n",
       "    <tr>\n",
       "      <th>4</th>\n",
       "      <td>2018-04-24</td>\n",
       "      <td>DL</td>\n",
       "      <td>DL_CODESHARE</td>\n",
       "      <td>DL</td>\n",
       "      <td>5583</td>\n",
       "      <td>EV</td>\n",
       "      <td>N738EV</td>\n",
       "      <td>5583</td>\n",
       "      <td>11042</td>\n",
       "      <td>CLE</td>\n",
       "      <td>...</td>\n",
       "      <td>419</td>\n",
       "      <td>NaN</td>\n",
       "      <td>NaN</td>\n",
       "      <td>NaN</td>\n",
       "      <td>NaN</td>\n",
       "      <td>NaN</td>\n",
       "      <td>NaN</td>\n",
       "      <td>NaN</td>\n",
       "      <td>NaN</td>\n",
       "      <td>NaN</td>\n",
       "    </tr>\n",
       "  </tbody>\n",
       "</table>\n",
       "<p>5 rows × 42 columns</p>\n",
       "</div>"
      ],
      "text/plain": [
       "      fl_date mkt_unique_carrier branded_code_share mkt_carrier  \\\n",
       "0  2018-03-31                 UA                 UA          UA   \n",
       "1  2018-11-27                 DL                 DL          DL   \n",
       "2  2018-09-17                 AA       AA_CODESHARE          AA   \n",
       "3  2018-10-19                 G4                 G4          G4   \n",
       "4  2018-04-24                 DL       DL_CODESHARE          DL   \n",
       "\n",
       "   mkt_carrier_fl_num op_unique_carrier tail_num  op_carrier_fl_num  \\\n",
       "0                2384                UA   N76288               2384   \n",
       "1                1260                DL   N902DN               1260   \n",
       "2                5906                YV   N912FJ               5906   \n",
       "3                2272                G4    252NV               2272   \n",
       "4                5583                EV   N738EV               5583   \n",
       "\n",
       "   origin_airport_id origin  ... distance  carrier_delay weather_delay  \\\n",
       "0              11618    EWR  ...     1065            0.0           0.0   \n",
       "1              11884    GEG  ...      546            NaN           NaN   \n",
       "2              11298    DFW  ...      641            0.0           0.0   \n",
       "3              10135    ABE  ...      518          654.0           0.0   \n",
       "4              11042    CLE  ...      419            NaN           NaN   \n",
       "\n",
       "  nas_delay  security_delay  late_aircraft_delay  first_dep_time  \\\n",
       "0       0.0             0.0                 38.0             NaN   \n",
       "1       NaN             NaN                  NaN             NaN   \n",
       "2       0.0             0.0                 47.0             NaN   \n",
       "3       0.0             0.0                  0.0             NaN   \n",
       "4       NaN             NaN                  NaN             NaN   \n",
       "\n",
       "   total_add_gtime  longest_add_gtime  no_name  \n",
       "0              NaN                NaN      NaN  \n",
       "1              NaN                NaN      NaN  \n",
       "2              NaN                NaN      NaN  \n",
       "3              NaN                NaN      NaN  \n",
       "4              NaN                NaN      NaN  \n",
       "\n",
       "[5 rows x 42 columns]"
      ]
     },
     "execution_count": 5,
     "metadata": {},
     "output_type": "execute_result"
    }
   ],
   "source": [
    "df_2018.head()"
   ]
  },
  {
   "cell_type": "code",
   "execution_count": 6,
   "metadata": {},
   "outputs": [
    {
     "data": {
      "text/plain": [
       "(500000, 42)"
      ]
     },
     "execution_count": 6,
     "metadata": {},
     "output_type": "execute_result"
    }
   ],
   "source": [
    "df_2018.shape"
   ]
  },
  {
   "cell_type": "code",
   "execution_count": 7,
   "metadata": {},
   "outputs": [
    {
     "data": {
      "image/png": "[encoded data removed]",
      "text/plain": [
       "<Figure size 432x288 with 1 Axes>"
      ]
     },
     "metadata": {},
     "output_type": "display_data"
    }
   ],
   "source": [
    "sns.heatmap(df_2018.isna(), yticklabels=False, cbar=False)\n",
    "sns.despine()\n",
    "plt.show()"
   ]
  },
  {
   "cell_type": "code",
   "execution_count": 8,
   "metadata": {},
   "outputs": [],
   "source": [
    "df_2019 = pd.read_csv('../data/flights_data_2019.csv')"
   ]
  },
  {
   "cell_type": "code",
   "execution_count": 9,
   "metadata": {},
   "outputs": [
    {
     "data": {
      "text/html": [
       "<div>\n",
       "<style scoped>\n",
       "    .dataframe tbody tr th:only-of-type {\n",
       "        vertical-align: middle;\n",
       "    }\n",
       "\n",
       "    .dataframe tbody tr th {\n",
       "        vertical-align: top;\n",
       "    }\n",
       "\n",
       "    .dataframe thead th {\n",
       "        text-align: right;\n",
       "    }\n",
       "</style>\n",
       "<table border=\"1\" class=\"dataframe\">\n",
       "  <thead>\n",
       "    <tr style=\"text-align: right;\">\n",
       "      <th></th>\n",
       "      <th>fl_date</th>\n",
       "      <th>mkt_unique_carrier</th>\n",
       "      <th>branded_code_share</th>\n",
       "      <th>mkt_carrier</th>\n",
       "      <th>mkt_carrier_fl_num</th>\n",
       "      <th>op_unique_carrier</th>\n",
       "      <th>tail_num</th>\n",
       "      <th>op_carrier_fl_num</th>\n",
       "      <th>origin_airport_id</th>\n",
       "      <th>origin</th>\n",
       "      <th>...</th>\n",
       "      <th>distance</th>\n",
       "      <th>carrier_delay</th>\n",
       "      <th>weather_delay</th>\n",
       "      <th>nas_delay</th>\n",
       "      <th>security_delay</th>\n",
       "      <th>late_aircraft_delay</th>\n",
       "      <th>first_dep_time</th>\n",
       "      <th>total_add_gtime</th>\n",
       "      <th>longest_add_gtime</th>\n",
       "      <th>no_name</th>\n",
       "    </tr>\n",
       "  </thead>\n",
       "  <tbody>\n",
       "    <tr>\n",
       "      <th>0</th>\n",
       "      <td>2019-05-19</td>\n",
       "      <td>AA</td>\n",
       "      <td>AA_CODESHARE</td>\n",
       "      <td>AA</td>\n",
       "      <td>4888</td>\n",
       "      <td>PT</td>\n",
       "      <td>N649AE</td>\n",
       "      <td>4888</td>\n",
       "      <td>14704</td>\n",
       "      <td>SBY</td>\n",
       "      <td>...</td>\n",
       "      <td>371</td>\n",
       "      <td>NaN</td>\n",
       "      <td>NaN</td>\n",
       "      <td>NaN</td>\n",
       "      <td>NaN</td>\n",
       "      <td>NaN</td>\n",
       "      <td>NaN</td>\n",
       "      <td>NaN</td>\n",
       "      <td>NaN</td>\n",
       "      <td>NaN</td>\n",
       "    </tr>\n",
       "    <tr>\n",
       "      <th>1</th>\n",
       "      <td>2019-09-18</td>\n",
       "      <td>DL</td>\n",
       "      <td>DL_CODESHARE</td>\n",
       "      <td>DL</td>\n",
       "      <td>5334</td>\n",
       "      <td>9E</td>\n",
       "      <td>N604LR</td>\n",
       "      <td>5334</td>\n",
       "      <td>10397</td>\n",
       "      <td>ATL</td>\n",
       "      <td>...</td>\n",
       "      <td>774</td>\n",
       "      <td>NaN</td>\n",
       "      <td>NaN</td>\n",
       "      <td>NaN</td>\n",
       "      <td>NaN</td>\n",
       "      <td>NaN</td>\n",
       "      <td>NaN</td>\n",
       "      <td>NaN</td>\n",
       "      <td>NaN</td>\n",
       "      <td>NaN</td>\n",
       "    </tr>\n",
       "    <tr>\n",
       "      <th>2</th>\n",
       "      <td>2019-08-11</td>\n",
       "      <td>DL</td>\n",
       "      <td>DL</td>\n",
       "      <td>DL</td>\n",
       "      <td>2471</td>\n",
       "      <td>DL</td>\n",
       "      <td>N112DU</td>\n",
       "      <td>2471</td>\n",
       "      <td>12266</td>\n",
       "      <td>IAH</td>\n",
       "      <td>...</td>\n",
       "      <td>1195</td>\n",
       "      <td>NaN</td>\n",
       "      <td>NaN</td>\n",
       "      <td>NaN</td>\n",
       "      <td>NaN</td>\n",
       "      <td>NaN</td>\n",
       "      <td>NaN</td>\n",
       "      <td>NaN</td>\n",
       "      <td>NaN</td>\n",
       "      <td>NaN</td>\n",
       "    </tr>\n",
       "    <tr>\n",
       "      <th>3</th>\n",
       "      <td>2019-02-02</td>\n",
       "      <td>UA</td>\n",
       "      <td>UA_CODESHARE</td>\n",
       "      <td>UA</td>\n",
       "      <td>4686</td>\n",
       "      <td>AX</td>\n",
       "      <td>N11137</td>\n",
       "      <td>4686</td>\n",
       "      <td>12156</td>\n",
       "      <td>HLN</td>\n",
       "      <td>...</td>\n",
       "      <td>594</td>\n",
       "      <td>NaN</td>\n",
       "      <td>NaN</td>\n",
       "      <td>NaN</td>\n",
       "      <td>NaN</td>\n",
       "      <td>NaN</td>\n",
       "      <td>NaN</td>\n",
       "      <td>NaN</td>\n",
       "      <td>NaN</td>\n",
       "      <td>NaN</td>\n",
       "    </tr>\n",
       "    <tr>\n",
       "      <th>4</th>\n",
       "      <td>2019-07-15</td>\n",
       "      <td>DL</td>\n",
       "      <td>DL</td>\n",
       "      <td>DL</td>\n",
       "      <td>2118</td>\n",
       "      <td>DL</td>\n",
       "      <td>N106DU</td>\n",
       "      <td>2118</td>\n",
       "      <td>12266</td>\n",
       "      <td>IAH</td>\n",
       "      <td>...</td>\n",
       "      <td>1416</td>\n",
       "      <td>NaN</td>\n",
       "      <td>NaN</td>\n",
       "      <td>NaN</td>\n",
       "      <td>NaN</td>\n",
       "      <td>NaN</td>\n",
       "      <td>NaN</td>\n",
       "      <td>NaN</td>\n",
       "      <td>NaN</td>\n",
       "      <td>NaN</td>\n",
       "    </tr>\n",
       "  </tbody>\n",
       "</table>\n",
       "<p>5 rows × 42 columns</p>\n",
       "</div>"
      ],
      "text/plain": [
       "      fl_date mkt_unique_carrier branded_code_share mkt_carrier  \\\n",
       "0  2019-05-19                 AA       AA_CODESHARE          AA   \n",
       "1  2019-09-18                 DL       DL_CODESHARE          DL   \n",
       "2  2019-08-11                 DL                 DL          DL   \n",
       "3  2019-02-02                 UA       UA_CODESHARE          UA   \n",
       "4  2019-07-15                 DL                 DL          DL   \n",
       "\n",
       "   mkt_carrier_fl_num op_unique_carrier tail_num  op_carrier_fl_num  \\\n",
       "0                4888                PT   N649AE               4888   \n",
       "1                5334                9E   N604LR               5334   \n",
       "2                2471                DL   N112DU               2471   \n",
       "3                4686                AX   N11137               4686   \n",
       "4                2118                DL   N106DU               2118   \n",
       "\n",
       "   origin_airport_id origin  ... distance  carrier_delay weather_delay  \\\n",
       "0              14704    SBY  ...      371            NaN           NaN   \n",
       "1              10397    ATL  ...      774            NaN           NaN   \n",
       "2              12266    IAH  ...     1195            NaN           NaN   \n",
       "3              12156    HLN  ...      594            NaN           NaN   \n",
       "4              12266    IAH  ...     1416            NaN           NaN   \n",
       "\n",
       "  nas_delay  security_delay  late_aircraft_delay  first_dep_time  \\\n",
       "0       NaN             NaN                  NaN             NaN   \n",
       "1       NaN             NaN                  NaN             NaN   \n",
       "2       NaN             NaN                  NaN             NaN   \n",
       "3       NaN             NaN                  NaN             NaN   \n",
       "4       NaN             NaN                  NaN             NaN   \n",
       "\n",
       "   total_add_gtime  longest_add_gtime  no_name  \n",
       "0              NaN                NaN      NaN  \n",
       "1              NaN                NaN      NaN  \n",
       "2              NaN                NaN      NaN  \n",
       "3              NaN                NaN      NaN  \n",
       "4              NaN                NaN      NaN  \n",
       "\n",
       "[5 rows x 42 columns]"
      ]
     },
     "execution_count": 9,
     "metadata": {},
     "output_type": "execute_result"
    }
   ],
   "source": [
    "df_2019.head()"
   ]
  },
  {
   "cell_type": "code",
   "execution_count": 10,
   "metadata": {},
   "outputs": [
    {
     "data": {
      "text/plain": [
       "(500000, 42)"
      ]
     },
     "execution_count": 10,
     "metadata": {},
     "output_type": "execute_result"
    }
   ],
   "source": [
    "df_2019.shape"
   ]
  },
  {
   "cell_type": "code",
   "execution_count": 11,
   "metadata": {},
   "outputs": [
    {
     "data": {
      "image/png": "[encoded data removed]",
      "text/plain": [
       "<Figure size 432x288 with 1 Axes>"
      ]
     },
     "metadata": {},
     "output_type": "display_data"
    }
   ],
   "source": [
    "sns.heatmap(df_2018.isna(), yticklabels=False, cbar=False)\n",
    "sns.despine()\n",
    "plt.show()"
   ]
  },
  {
   "cell_type": "code",
   "execution_count": 12,
   "metadata": {},
   "outputs": [
    {
     "data": {
      "text/plain": [
       "(1000000, 42)"
      ]
     },
     "execution_count": 12,
     "metadata": {},
     "output_type": "execute_result"
    }
   ],
   "source": [
    "flights_df = pd.concat([df_2018, df_2019])\n",
    "flights_df.shape"
   ]
  },
  {
   "cell_type": "code",
   "execution_count": 13,
   "metadata": {},
   "outputs": [
    {
     "data": {
      "text/html": [
       "<div>\n",
       "<style scoped>\n",
       "    .dataframe tbody tr th:only-of-type {\n",
       "        vertical-align: middle;\n",
       "    }\n",
       "\n",
       "    .dataframe tbody tr th {\n",
       "        vertical-align: top;\n",
       "    }\n",
       "\n",
       "    .dataframe thead th {\n",
       "        text-align: right;\n",
       "    }\n",
       "</style>\n",
       "<table border=\"1\" class=\"dataframe\">\n",
       "  <thead>\n",
       "    <tr style=\"text-align: right;\">\n",
       "      <th></th>\n",
       "      <th>fl_date</th>\n",
       "      <th>mkt_unique_carrier</th>\n",
       "      <th>branded_code_share</th>\n",
       "      <th>mkt_carrier</th>\n",
       "      <th>mkt_carrier_fl_num</th>\n",
       "      <th>op_unique_carrier</th>\n",
       "      <th>tail_num</th>\n",
       "      <th>op_carrier_fl_num</th>\n",
       "      <th>origin_airport_id</th>\n",
       "      <th>origin</th>\n",
       "      <th>...</th>\n",
       "      <th>distance</th>\n",
       "      <th>carrier_delay</th>\n",
       "      <th>weather_delay</th>\n",
       "      <th>nas_delay</th>\n",
       "      <th>security_delay</th>\n",
       "      <th>late_aircraft_delay</th>\n",
       "      <th>first_dep_time</th>\n",
       "      <th>total_add_gtime</th>\n",
       "      <th>longest_add_gtime</th>\n",
       "      <th>no_name</th>\n",
       "    </tr>\n",
       "  </thead>\n",
       "  <tbody>\n",
       "    <tr>\n",
       "      <th>0</th>\n",
       "      <td>2018-03-31</td>\n",
       "      <td>UA</td>\n",
       "      <td>UA</td>\n",
       "      <td>UA</td>\n",
       "      <td>2384</td>\n",
       "      <td>UA</td>\n",
       "      <td>N76288</td>\n",
       "      <td>2384</td>\n",
       "      <td>11618</td>\n",
       "      <td>EWR</td>\n",
       "      <td>...</td>\n",
       "      <td>1065</td>\n",
       "      <td>0.0</td>\n",
       "      <td>0.0</td>\n",
       "      <td>0.0</td>\n",
       "      <td>0.0</td>\n",
       "      <td>38.0</td>\n",
       "      <td>NaN</td>\n",
       "      <td>NaN</td>\n",
       "      <td>NaN</td>\n",
       "      <td>NaN</td>\n",
       "    </tr>\n",
       "    <tr>\n",
       "      <th>1</th>\n",
       "      <td>2018-11-27</td>\n",
       "      <td>DL</td>\n",
       "      <td>DL</td>\n",
       "      <td>DL</td>\n",
       "      <td>1260</td>\n",
       "      <td>DL</td>\n",
       "      <td>N902DN</td>\n",
       "      <td>1260</td>\n",
       "      <td>11884</td>\n",
       "      <td>GEG</td>\n",
       "      <td>...</td>\n",
       "      <td>546</td>\n",
       "      <td>NaN</td>\n",
       "      <td>NaN</td>\n",
       "      <td>NaN</td>\n",
       "      <td>NaN</td>\n",
       "      <td>NaN</td>\n",
       "      <td>NaN</td>\n",
       "      <td>NaN</td>\n",
       "      <td>NaN</td>\n",
       "      <td>NaN</td>\n",
       "    </tr>\n",
       "    <tr>\n",
       "      <th>2</th>\n",
       "      <td>2018-09-17</td>\n",
       "      <td>AA</td>\n",
       "      <td>AA_CODESHARE</td>\n",
       "      <td>AA</td>\n",
       "      <td>5906</td>\n",
       "      <td>YV</td>\n",
       "      <td>N912FJ</td>\n",
       "      <td>5906</td>\n",
       "      <td>11298</td>\n",
       "      <td>DFW</td>\n",
       "      <td>...</td>\n",
       "      <td>641</td>\n",
       "      <td>0.0</td>\n",
       "      <td>0.0</td>\n",
       "      <td>0.0</td>\n",
       "      <td>0.0</td>\n",
       "      <td>47.0</td>\n",
       "      <td>NaN</td>\n",
       "      <td>NaN</td>\n",
       "      <td>NaN</td>\n",
       "      <td>NaN</td>\n",
       "    </tr>\n",
       "    <tr>\n",
       "      <th>3</th>\n",
       "      <td>2018-10-19</td>\n",
       "      <td>G4</td>\n",
       "      <td>G4</td>\n",
       "      <td>G4</td>\n",
       "      <td>2272</td>\n",
       "      <td>G4</td>\n",
       "      <td>252NV</td>\n",
       "      <td>2272</td>\n",
       "      <td>10135</td>\n",
       "      <td>ABE</td>\n",
       "      <td>...</td>\n",
       "      <td>518</td>\n",
       "      <td>654.0</td>\n",
       "      <td>0.0</td>\n",
       "      <td>0.0</td>\n",
       "      <td>0.0</td>\n",
       "      <td>0.0</td>\n",
       "      <td>NaN</td>\n",
       "      <td>NaN</td>\n",
       "      <td>NaN</td>\n",
       "      <td>NaN</td>\n",
       "    </tr>\n",
       "    <tr>\n",
       "      <th>4</th>\n",
       "      <td>2018-04-24</td>\n",
       "      <td>DL</td>\n",
       "      <td>DL_CODESHARE</td>\n",
       "      <td>DL</td>\n",
       "      <td>5583</td>\n",
       "      <td>EV</td>\n",
       "      <td>N738EV</td>\n",
       "      <td>5583</td>\n",
       "      <td>11042</td>\n",
       "      <td>CLE</td>\n",
       "      <td>...</td>\n",
       "      <td>419</td>\n",
       "      <td>NaN</td>\n",
       "      <td>NaN</td>\n",
       "      <td>NaN</td>\n",
       "      <td>NaN</td>\n",
       "      <td>NaN</td>\n",
       "      <td>NaN</td>\n",
       "      <td>NaN</td>\n",
       "      <td>NaN</td>\n",
       "      <td>NaN</td>\n",
       "    </tr>\n",
       "  </tbody>\n",
       "</table>\n",
       "<p>5 rows × 42 columns</p>\n",
       "</div>"
      ],
      "text/plain": [
       "      fl_date mkt_unique_carrier branded_code_share mkt_carrier  \\\n",
       "0  2018-03-31                 UA                 UA          UA   \n",
       "1  2018-11-27                 DL                 DL          DL   \n",
       "2  2018-09-17                 AA       AA_CODESHARE          AA   \n",
       "3  2018-10-19                 G4                 G4          G4   \n",
       "4  2018-04-24                 DL       DL_CODESHARE          DL   \n",
       "\n",
       "   mkt_carrier_fl_num op_unique_carrier tail_num  op_carrier_fl_num  \\\n",
       "0                2384                UA   N76288               2384   \n",
       "1                1260                DL   N902DN               1260   \n",
       "2                5906                YV   N912FJ               5906   \n",
       "3                2272                G4    252NV               2272   \n",
       "4                5583                EV   N738EV               5583   \n",
       "\n",
       "   origin_airport_id origin  ... distance  carrier_delay weather_delay  \\\n",
       "0              11618    EWR  ...     1065            0.0           0.0   \n",
       "1              11884    GEG  ...      546            NaN           NaN   \n",
       "2              11298    DFW  ...      641            0.0           0.0   \n",
       "3              10135    ABE  ...      518          654.0           0.0   \n",
       "4              11042    CLE  ...      419            NaN           NaN   \n",
       "\n",
       "  nas_delay  security_delay  late_aircraft_delay  first_dep_time  \\\n",
       "0       0.0             0.0                 38.0             NaN   \n",
       "1       NaN             NaN                  NaN             NaN   \n",
       "2       0.0             0.0                 47.0             NaN   \n",
       "3       0.0             0.0                  0.0             NaN   \n",
       "4       NaN             NaN                  NaN             NaN   \n",
       "\n",
       "   total_add_gtime  longest_add_gtime  no_name  \n",
       "0              NaN                NaN      NaN  \n",
       "1              NaN                NaN      NaN  \n",
       "2              NaN                NaN      NaN  \n",
       "3              NaN                NaN      NaN  \n",
       "4              NaN                NaN      NaN  \n",
       "\n",
       "[5 rows x 42 columns]"
      ]
     },
     "execution_count": 13,
     "metadata": {},
     "output_type": "execute_result"
    }
   ],
   "source": [
    "flights_df.head()"
   ]
  },
  {
   "cell_type": "code",
   "execution_count": 14,
   "metadata": {},
   "outputs": [],
   "source": [
    "flights_df.to_csv('../data/flights_data_merge.csv')"
   ]
  },
  {
   "cell_type": "markdown",
   "metadata": {},
   "source": [
    "*Which features in our dataset can account for some of the main reasons in flight delays?*\n",
    "\n",
    " - <b>fl_date: </b> Corresponds to flight date. Which months do flight delays occur most often? I hypothesize that vacation months (summer, christmas) will have more flights and can lead to greater delays.\n",
    " \n",
    " - <b> mkt_carrier: </b> Carrier code. Corresponds to the type of airline. Which airlines are most likely to cause delays? I hypothesize that budget airlines are most likely to encounter delays, due to poor operations. \n",
    " \n",
    " - <b> destination_id, destination_city, origin_id, origin_city: </b> At which cities do we encounter the most frequent delays? This is also needed to extract weather data. \n",
    " \n",
    " - <b> crs_departure_time: </b> What departure times are most likely to cause delays? \n",
    " \n",
    " - <b> flights: </b> Number of flights - can provide information regarding air traffic"
   ]
  },
  {
   "cell_type": "markdown",
   "metadata": {},
   "source": [
    "## 3. Exploratory Data Analysis"
   ]
  },
  {
   "cell_type": "markdown",
   "metadata": {},
   "source": [
    "### 3.1 Flights Analysis"
   ]
  },
  {
   "cell_type": "code",
   "execution_count": 15,
   "metadata": {},
   "outputs": [],
   "source": [
    "def extract_features_df(df):\n",
    "    \n",
    "    '''\n",
    "    Extract relevant features from flight dataframe.\n",
    "        Input: Raw dataframe\n",
    "        Output: Dataframe with relevant features for analysis\n",
    "    '''\n",
    "    \n",
    "    new_df = df.drop(['branded_code_share', 'mkt_carrier', 'mkt_carrier_fl_num',\n",
    "                      'op_carrier_fl_num', 'cancellation_code', 'carrier_delay', 'weather_delay', \n",
    "                      'nas_delay', 'security_delay', 'late_aircraft_delay', 'first_dep_time',\n",
    "                      'total_add_gtime', 'longest_add_gtime', 'no_name'], axis=1).dropna()\n",
    "    \n",
    "    new_df['fl_date'] = pd.to_datetime(new_df['fl_date'], format='%Y-%m-%d')\n",
    "    new_df['is_arr_delay'] = new_df.apply(lambda row: 0 if row.arr_delay <= 0 else 1, axis=1)\n",
    "    \n",
    "    return new_df"
   ]
  },
  {
   "cell_type": "code",
   "execution_count": 16,
   "metadata": {},
   "outputs": [],
   "source": [
    "def compute_flight_stats(df):\n",
    "    \n",
    "    '''\n",
    "    Computes total flights in a year, categorized by month and year.\n",
    "        Input: Dataframe of flights in that year\n",
    "        Output: Dataframe of total flights separated by months and weekday. Plots figures.\n",
    "    '''\n",
    "    if len([df['fl_date'].dt.year[0]]) == 1:\n",
    "        year = df['fl_date'].dt.year[0]\n",
    "   \n",
    "    try:\n",
    "        if len(df['fl_date'].dt.year[0]) == 2:\n",
    "            year = '2018-2019'\n",
    "    except:\n",
    "        pass\n",
    "    \n",
    "    month_flights = df.groupby('fl_date').size().reset_index()\n",
    "    month_flights = month_flights.groupby(month_flights['fl_date'].dt.month).sum().reset_index()\n",
    "    month_flights.columns = ['month', 'tot_flights']\n",
    "    month_delays = df[['fl_date', 'is_arr_delay']].groupby([df['fl_date'].dt.month]).sum().reset_index().rename(columns={'fl_date':'month'})\n",
    "    month_flights = pd.merge(month_flights, month_delays)\n",
    "    \n",
    "    weekday_mapper = {0: 'Monday', 1: 'Tuesday', 2: 'Wednesday', 3: 'Thursday',\n",
    "                      4: 'Friday', 5: 'Saturday', 6: 'Sunday'}\n",
    "    weekday_flights = pd.DataFrame(df.groupby(df['fl_date'].dt.weekday).size()).reset_index().rename(columns={'fl_date': 'weekday', 0:'tot_flights'})\n",
    "    weekday_delays = df[['fl_date', 'is_arr_delay']].groupby([df['fl_date'].dt.weekday]).sum().reset_index().rename(columns={'fl_date':'weekday'})\n",
    "    weekday_flights = pd.merge(weekday_flights, weekday_delays)\n",
    "    weekday_flights['weekday'] = weekday_flights['weekday'].map(weekday_mapper)\n",
    "    \n",
    "    fig, ax = plt.subplots(nrows=1, ncols=2, figsize=(14, 5))\n",
    "    \n",
    "    sns.set_color_codes('pastel')\n",
    "    sns.barplot(x='month', y='tot_flights', data=month_flights, color='b', edgecolor='.2', ax=ax[0], label='Total Flights')\n",
    "    sns.set_color_codes('muted')\n",
    "    sns.barplot(x='month', y='is_arr_delay', data=month_flights, color='b', edgecolor='.2', ax=ax[0], label='Delayed Flights')\n",
    "    ax[0].set(xlabel='Month', ylabel='Number of Flights')\n",
    "    ax[0].set_title(f'{year} Monthly Flight Patterns',fontdict= { 'fontsize': 16, 'fontweight':'bold'}, x =0.3, y=1.05)\n",
    "    \n",
    "    sns.set_color_codes('pastel')\n",
    "    sns.barplot(x='weekday', y='tot_flights', data=weekday_flights, color='b', edgecolor='.2', ax=ax[1], label='Total Flights')\n",
    "    sns.set_color_codes('muted')\n",
    "    sns.barplot(x='weekday', y='is_arr_delay', data=weekday_flights, color='b', edgecolor='.2', ax=ax[1], label='Delayed Flights')\n",
    "    ax[1].set(xlabel='Day of Week', ylabel='Number of Flights')\n",
    "    ax[1].set_title(f'{year} Weekday Flight Patterns',fontdict= {'fontsize': 16, 'fontweight':'bold'}, x =0.3, y=1.05)\n",
    "    sns.despine()\n",
    "    plt.legend(bbox_to_anchor=(1.05, 1), loc=2, borderaxespad=0.)\n",
    "    plt.show()\n",
    "    \n",
    "    return month_flights, weekday_flights"
   ]
  },
  {
   "cell_type": "code",
   "execution_count": 17,
   "metadata": {},
   "outputs": [],
   "source": [
    "df_2018 = extract_features_df(df_2018)"
   ]
  },
  {
   "cell_type": "code",
   "execution_count": 18,
   "metadata": {},
   "outputs": [
    {
     "data": {
      "image/png": "[encoded data removed]",
      "text/plain": [
       "<Figure size 1008x360 with 2 Axes>"
      ]
     },
     "metadata": {},
     "output_type": "display_data"
    }
   ],
   "source": [
    "month_flights_2018, weekday_flights_2018 = compute_flight_stats(df_2018)"
   ]
  },
  {
   "cell_type": "code",
   "execution_count": 19,
   "metadata": {},
   "outputs": [],
   "source": [
    "df_2019 = extract_features_df(df_2019)"
   ]
  },
  {
   "cell_type": "code",
   "execution_count": 20,
   "metadata": {},
   "outputs": [
    {
     "data": {
      "image/png": "[encoded data removed]",
      "text/plain": [
       "<Figure size 1008x360 with 2 Axes>"
      ]
     },
     "metadata": {},
     "output_type": "display_data"
    }
   ],
   "source": [
    "month_flights_2019, weekday_flights_2019 = compute_flight_stats(df_2019)"
   ]
  },
  {
   "cell_type": "code",
   "execution_count": 21,
   "metadata": {},
   "outputs": [],
   "source": [
    "flights_df = extract_features_df(flights_df)"
   ]
  },
  {
   "cell_type": "code",
   "execution_count": 22,
   "metadata": {},
   "outputs": [
    {
     "data": {
      "image/png": "[encoded data removed]",
      "text/plain": [
       "<Figure size 1008x360 with 2 Axes>"
      ]
     },
     "metadata": {},
     "output_type": "display_data"
    }
   ],
   "source": [
    "month_flights_all, weekday_flights_all = compute_flight_stats(flights_df)"
   ]
  },
  {
   "cell_type": "markdown",
   "metadata": {},
   "source": [
    "### 3.2 Airline Analysis"
   ]
  },
  {
   "cell_type": "markdown",
   "metadata": {},
   "source": [
    "<b> Q1: Which airline has the most flights and delayed flights? </b> "
   ]
  },
  {
   "cell_type": "code",
   "execution_count": 23,
   "metadata": {},
   "outputs": [],
   "source": [
    "def compute_airlines_stats(df):\n",
    "    \n",
    "    if len([df['fl_date'].dt.year[0]]) == 1:\n",
    "        year = df['fl_date'].dt.year[0]\n",
    "   \n",
    "    try:\n",
    "        if len(df['fl_date'].dt.year[0]) == 2:\n",
    "            year = '2018-2019'\n",
    "    except:\n",
    "        pass\n",
    "    \n",
    "    #Compute total number of flights by each airline\n",
    "    airlines = df.groupby('mkt_unique_carrier').size().reset_index().rename(columns={0:'num_flights'})\n",
    "    airlines_delay = df.groupby('mkt_unique_carrier')[['is_arr_delay']].sum().reset_index()\n",
    "    airlines = pd.merge(airlines, airlines_delay, on='mkt_unique_carrier')\n",
    "    \n",
    "    #Plot total flights and delay by airline\n",
    "    fig, ax = plt.subplots(figsize=(6,4))\n",
    "    \n",
    "    sns.set_color_codes('pastel')\n",
    "    sns.barplot(x='mkt_unique_carrier', y='num_flights', data=airlines, color='b', edgecolor='.2', ax=ax, label='Total Flights')\n",
    "    sns.set_color_codes('muted')\n",
    "    sns.barplot(x='mkt_unique_carrier', y='is_arr_delay', data=airlines, color='b', edgecolor='.2', ax=ax, label='Delayed Flights')\n",
    "    ax.set(xlabel='Airlines', ylabel='Number of Flights')\n",
    "    ax.set_title(f'{year} Airline Flight Patterns',fontdict= { 'fontsize': 16, 'fontweight':'bold'}, x =0.3, y=1.05)\n",
    "    sns.despine()\n",
    "    plt.show()\n",
    "    \n",
    "    return airlines\n",
    "    "
   ]
  },
  {
   "cell_type": "code",
   "execution_count": 24,
   "metadata": {},
   "outputs": [
    {
     "data": {
      "image/png": "[encoded data removed]",
      "text/plain": [
       "<Figure size 432x288 with 1 Axes>"
      ]
     },
     "metadata": {},
     "output_type": "display_data"
    },
    {
     "data": {
      "text/html": [
       "<div>\n",
       "<style scoped>\n",
       "    .dataframe tbody tr th:only-of-type {\n",
       "        vertical-align: middle;\n",
       "    }\n",
       "\n",
       "    .dataframe tbody tr th {\n",
       "        vertical-align: top;\n",
       "    }\n",
       "\n",
       "    .dataframe thead th {\n",
       "        text-align: right;\n",
       "    }\n",
       "</style>\n",
       "<table border=\"1\" class=\"dataframe\">\n",
       "  <thead>\n",
       "    <tr style=\"text-align: right;\">\n",
       "      <th></th>\n",
       "      <th>mkt_unique_carrier</th>\n",
       "      <th>num_flights</th>\n",
       "      <th>is_arr_delay</th>\n",
       "    </tr>\n",
       "  </thead>\n",
       "  <tbody>\n",
       "    <tr>\n",
       "      <th>0</th>\n",
       "      <td>AA</td>\n",
       "      <td>125789</td>\n",
       "      <td>47034</td>\n",
       "    </tr>\n",
       "    <tr>\n",
       "      <th>1</th>\n",
       "      <td>AS</td>\n",
       "      <td>25691</td>\n",
       "      <td>8800</td>\n",
       "    </tr>\n",
       "    <tr>\n",
       "      <th>2</th>\n",
       "      <td>B6</td>\n",
       "      <td>19253</td>\n",
       "      <td>8302</td>\n",
       "    </tr>\n",
       "    <tr>\n",
       "      <th>3</th>\n",
       "      <td>DL</td>\n",
       "      <td>108602</td>\n",
       "      <td>32388</td>\n",
       "    </tr>\n",
       "    <tr>\n",
       "      <th>4</th>\n",
       "      <td>F9</td>\n",
       "      <td>7347</td>\n",
       "      <td>3222</td>\n",
       "    </tr>\n",
       "    <tr>\n",
       "      <th>5</th>\n",
       "      <td>G4</td>\n",
       "      <td>6055</td>\n",
       "      <td>2400</td>\n",
       "    </tr>\n",
       "    <tr>\n",
       "      <th>6</th>\n",
       "      <td>HA</td>\n",
       "      <td>5356</td>\n",
       "      <td>1821</td>\n",
       "    </tr>\n",
       "    <tr>\n",
       "      <th>7</th>\n",
       "      <td>NK</td>\n",
       "      <td>11067</td>\n",
       "      <td>3511</td>\n",
       "    </tr>\n",
       "    <tr>\n",
       "      <th>8</th>\n",
       "      <td>UA</td>\n",
       "      <td>95437</td>\n",
       "      <td>33639</td>\n",
       "    </tr>\n",
       "    <tr>\n",
       "      <th>9</th>\n",
       "      <td>VX</td>\n",
       "      <td>1135</td>\n",
       "      <td>415</td>\n",
       "    </tr>\n",
       "    <tr>\n",
       "      <th>10</th>\n",
       "      <td>WN</td>\n",
       "      <td>84859</td>\n",
       "      <td>32790</td>\n",
       "    </tr>\n",
       "  </tbody>\n",
       "</table>\n",
       "</div>"
      ],
      "text/plain": [
       "   mkt_unique_carrier  num_flights  is_arr_delay\n",
       "0                  AA       125789         47034\n",
       "1                  AS        25691          8800\n",
       "2                  B6        19253          8302\n",
       "3                  DL       108602         32388\n",
       "4                  F9         7347          3222\n",
       "5                  G4         6055          2400\n",
       "6                  HA         5356          1821\n",
       "7                  NK        11067          3511\n",
       "8                  UA        95437         33639\n",
       "9                  VX         1135           415\n",
       "10                 WN        84859         32790"
      ]
     },
     "execution_count": 24,
     "metadata": {},
     "output_type": "execute_result"
    }
   ],
   "source": [
    "compute_airlines_stats(df_2018)"
   ]
  },
  {
   "cell_type": "code",
   "execution_count": 25,
   "metadata": {},
   "outputs": [
    {
     "data": {
      "image/png": "[encoded data removed]",
      "text/plain": [
       "<Figure size 432x288 with 1 Axes>"
      ]
     },
     "metadata": {},
     "output_type": "display_data"
    },
    {
     "data": {
      "text/html": [
       "<div>\n",
       "<style scoped>\n",
       "    .dataframe tbody tr th:only-of-type {\n",
       "        vertical-align: middle;\n",
       "    }\n",
       "\n",
       "    .dataframe tbody tr th {\n",
       "        vertical-align: top;\n",
       "    }\n",
       "\n",
       "    .dataframe thead th {\n",
       "        text-align: right;\n",
       "    }\n",
       "</style>\n",
       "<table border=\"1\" class=\"dataframe\">\n",
       "  <thead>\n",
       "    <tr style=\"text-align: right;\">\n",
       "      <th></th>\n",
       "      <th>mkt_unique_carrier</th>\n",
       "      <th>num_flights</th>\n",
       "      <th>is_arr_delay</th>\n",
       "    </tr>\n",
       "  </thead>\n",
       "  <tbody>\n",
       "    <tr>\n",
       "      <th>0</th>\n",
       "      <td>AA</td>\n",
       "      <td>126447</td>\n",
       "      <td>46295</td>\n",
       "    </tr>\n",
       "    <tr>\n",
       "      <th>1</th>\n",
       "      <td>AS</td>\n",
       "      <td>26878</td>\n",
       "      <td>9518</td>\n",
       "    </tr>\n",
       "    <tr>\n",
       "      <th>2</th>\n",
       "      <td>B6</td>\n",
       "      <td>17986</td>\n",
       "      <td>6837</td>\n",
       "    </tr>\n",
       "    <tr>\n",
       "      <th>3</th>\n",
       "      <td>DL</td>\n",
       "      <td>108753</td>\n",
       "      <td>31507</td>\n",
       "    </tr>\n",
       "    <tr>\n",
       "      <th>4</th>\n",
       "      <td>F9</td>\n",
       "      <td>8302</td>\n",
       "      <td>3313</td>\n",
       "    </tr>\n",
       "    <tr>\n",
       "      <th>5</th>\n",
       "      <td>G4</td>\n",
       "      <td>6495</td>\n",
       "      <td>2453</td>\n",
       "    </tr>\n",
       "    <tr>\n",
       "      <th>6</th>\n",
       "      <td>HA</td>\n",
       "      <td>5715</td>\n",
       "      <td>1933</td>\n",
       "    </tr>\n",
       "    <tr>\n",
       "      <th>7</th>\n",
       "      <td>NK</td>\n",
       "      <td>12478</td>\n",
       "      <td>4035</td>\n",
       "    </tr>\n",
       "    <tr>\n",
       "      <th>8</th>\n",
       "      <td>UA</td>\n",
       "      <td>94681</td>\n",
       "      <td>35112</td>\n",
       "    </tr>\n",
       "    <tr>\n",
       "      <th>9</th>\n",
       "      <td>WN</td>\n",
       "      <td>81561</td>\n",
       "      <td>27922</td>\n",
       "    </tr>\n",
       "  </tbody>\n",
       "</table>\n",
       "</div>"
      ],
      "text/plain": [
       "  mkt_unique_carrier  num_flights  is_arr_delay\n",
       "0                 AA       126447         46295\n",
       "1                 AS        26878          9518\n",
       "2                 B6        17986          6837\n",
       "3                 DL       108753         31507\n",
       "4                 F9         8302          3313\n",
       "5                 G4         6495          2453\n",
       "6                 HA         5715          1933\n",
       "7                 NK        12478          4035\n",
       "8                 UA        94681         35112\n",
       "9                 WN        81561         27922"
      ]
     },
     "execution_count": 25,
     "metadata": {},
     "output_type": "execute_result"
    }
   ],
   "source": [
    "compute_airlines_stats(df_2019)"
   ]
  },
  {
   "cell_type": "code",
   "execution_count": 26,
   "metadata": {},
   "outputs": [
    {
     "data": {
      "image/png": "[encoded data removed]",
      "text/plain": [
       "<Figure size 432x288 with 1 Axes>"
      ]
     },
     "metadata": {},
     "output_type": "display_data"
    },
    {
     "data": {
      "text/html": [
       "<div>\n",
       "<style scoped>\n",
       "    .dataframe tbody tr th:only-of-type {\n",
       "        vertical-align: middle;\n",
       "    }\n",
       "\n",
       "    .dataframe tbody tr th {\n",
       "        vertical-align: top;\n",
       "    }\n",
       "\n",
       "    .dataframe thead th {\n",
       "        text-align: right;\n",
       "    }\n",
       "</style>\n",
       "<table border=\"1\" class=\"dataframe\">\n",
       "  <thead>\n",
       "    <tr style=\"text-align: right;\">\n",
       "      <th></th>\n",
       "      <th>mkt_unique_carrier</th>\n",
       "      <th>num_flights</th>\n",
       "      <th>is_arr_delay</th>\n",
       "    </tr>\n",
       "  </thead>\n",
       "  <tbody>\n",
       "    <tr>\n",
       "      <th>0</th>\n",
       "      <td>AA</td>\n",
       "      <td>252236</td>\n",
       "      <td>93329</td>\n",
       "    </tr>\n",
       "    <tr>\n",
       "      <th>1</th>\n",
       "      <td>AS</td>\n",
       "      <td>52569</td>\n",
       "      <td>18318</td>\n",
       "    </tr>\n",
       "    <tr>\n",
       "      <th>2</th>\n",
       "      <td>B6</td>\n",
       "      <td>37239</td>\n",
       "      <td>15139</td>\n",
       "    </tr>\n",
       "    <tr>\n",
       "      <th>3</th>\n",
       "      <td>DL</td>\n",
       "      <td>217355</td>\n",
       "      <td>63895</td>\n",
       "    </tr>\n",
       "    <tr>\n",
       "      <th>4</th>\n",
       "      <td>F9</td>\n",
       "      <td>15649</td>\n",
       "      <td>6535</td>\n",
       "    </tr>\n",
       "    <tr>\n",
       "      <th>5</th>\n",
       "      <td>G4</td>\n",
       "      <td>12550</td>\n",
       "      <td>4853</td>\n",
       "    </tr>\n",
       "    <tr>\n",
       "      <th>6</th>\n",
       "      <td>HA</td>\n",
       "      <td>11071</td>\n",
       "      <td>3754</td>\n",
       "    </tr>\n",
       "    <tr>\n",
       "      <th>7</th>\n",
       "      <td>NK</td>\n",
       "      <td>23545</td>\n",
       "      <td>7546</td>\n",
       "    </tr>\n",
       "    <tr>\n",
       "      <th>8</th>\n",
       "      <td>UA</td>\n",
       "      <td>190118</td>\n",
       "      <td>68751</td>\n",
       "    </tr>\n",
       "    <tr>\n",
       "      <th>9</th>\n",
       "      <td>VX</td>\n",
       "      <td>1135</td>\n",
       "      <td>415</td>\n",
       "    </tr>\n",
       "    <tr>\n",
       "      <th>10</th>\n",
       "      <td>WN</td>\n",
       "      <td>166420</td>\n",
       "      <td>60712</td>\n",
       "    </tr>\n",
       "  </tbody>\n",
       "</table>\n",
       "</div>"
      ],
      "text/plain": [
       "   mkt_unique_carrier  num_flights  is_arr_delay\n",
       "0                  AA       252236         93329\n",
       "1                  AS        52569         18318\n",
       "2                  B6        37239         15139\n",
       "3                  DL       217355         63895\n",
       "4                  F9        15649          6535\n",
       "5                  G4        12550          4853\n",
       "6                  HA        11071          3754\n",
       "7                  NK        23545          7546\n",
       "8                  UA       190118         68751\n",
       "9                  VX         1135           415\n",
       "10                 WN       166420         60712"
      ]
     },
     "execution_count": 26,
     "metadata": {},
     "output_type": "execute_result"
    }
   ],
   "source": [
    "compute_airlines_stats(flights_df)"
   ]
  },
  {
   "cell_type": "markdown",
   "metadata": {},
   "source": [
    "<b> Q2: Most common cities to fly from? Most common destinations? </b>"
   ]
  },
  {
   "cell_type": "code",
   "execution_count": 27,
   "metadata": {},
   "outputs": [],
   "source": [
    "def get_popular_cities(df):\n",
    "    \n",
    "    if len([df['fl_date'].dt.year[0]]) == 1:\n",
    "        year = df['fl_date'].dt.year[0]\n",
    "   \n",
    "    try:\n",
    "        if len(df['fl_date'].dt.year[0]) == 2:\n",
    "            year = '2018-2019'\n",
    "    except:\n",
    "        pass\n",
    "    \n",
    "    cities_origin = df.groupby('origin_city_name').size().sort_values(ascending=False).reset_index().rename(columns={0:'num_flights'})\n",
    "    cities_dest = df.groupby('dest_city_name').size().sort_values(ascending=False).reset_index().rename(columns={0:'num_flights'})\n",
    "    \n",
    "    fig, ax = plt.subplots(nrows=1, ncols=2, figsize=(10,6))\n",
    "    \n",
    "    sns.set_color_codes('muted')\n",
    "    sns.barplot(x='num_flights', y='origin_city_name', data=cities_origin[:10], ax=ax[0], color='b', edgecolor='.2')\n",
    "    ax[0].set(xlabel='Number of Flights', ylabel='')\n",
    "    ax[0].set_title(f'{year} Most Popular Departure Cities',fontdict= { 'fontsize': 16, 'fontweight':'bold'}, x =0.5, y=1.05)\n",
    "    \n",
    "    sns.set_color_codes('muted')\n",
    "    sns.barplot(x='num_flights', y='dest_city_name', data=cities_dest[:10], ax=ax[1], color='b', edgecolor='.2')\n",
    "    ax[1].set(xlabel='Number of Flights', ylabel='')\n",
    "    ax[1].set_title(f'{year} Most Popular Destination Cities',fontdict= { 'fontsize': 16, 'fontweight':'bold'}, x =0.5, y=1.05)\n",
    "    \n",
    "    sns.despine()\n",
    "    plt.show()\n",
    "   \n",
    "    return cities_origin, cities_dest\n",
    "\n",
    "    "
   ]
  },
  {
   "cell_type": "code",
   "execution_count": 28,
   "metadata": {},
   "outputs": [
    {
     "data": {
      "image/png": "[encoded data removed]",
      "text/plain": [
       "<Figure size 720x432 with 2 Axes>"
      ]
     },
     "metadata": {},
     "output_type": "display_data"
    }
   ],
   "source": [
    "cities_origin_2018, cities_dest_2018 = get_popular_cities(df_2018)"
   ]
  },
  {
   "cell_type": "code",
   "execution_count": 29,
   "metadata": {},
   "outputs": [
    {
     "data": {
      "text/plain": [
       "{'MDW', 'ORD'}"
      ]
     },
     "execution_count": 29,
     "metadata": {},
     "output_type": "execute_result"
    }
   ],
   "source": [
    "airport_keys = dict(zip(flights_df['origin_city_name'], flights_df['origin']))\n",
    "airport_keys['New York, NY']\n",
    "set(flights_df[flights_df['origin_city_name'] == 'Chicago, IL']['origin'])"
   ]
  },
  {
   "cell_type": "markdown",
   "metadata": {},
   "source": [
    "<b> Question 3: Delays by carrier </b>"
   ]
  },
  {
   "cell_type": "code",
   "execution_count": 39,
   "metadata": {},
   "outputs": [
    {
     "data": {
      "image/png": "[encoded data removed]",
      "text/plain": [
       "<Figure size 432x288 with 1 Axes>"
      ]
     },
     "metadata": {},
     "output_type": "display_data"
    }
   ],
   "source": [
    "sns.set_style('ticks')\n",
    "sns.stripplot(x='dep_delay', y='mkt_unique_carrier', data=flights_df, palette=\"ch:start=.2,rot=-.3\")\n",
    "plt.xlabel('Departure Delay (minutes)')\n",
    "plt.ylabel('Airline Code')\n",
    "sns.despine()\n",
    "plt.show()"
   ]
  },
  {
   "cell_type": "code",
   "execution_count": 33,
   "metadata": {},
   "outputs": [
    {
     "data": {
      "text/plain": [
       "array(['UA', 'DL', 'AA', 'G4', 'B6', 'WN', 'F9', 'AS', 'HA', 'NK', 'VX'],\n",
       "      dtype=object)"
      ]
     },
     "execution_count": 33,
     "metadata": {},
     "output_type": "execute_result"
    }
   ],
   "source": [
    "flights_df['mkt_unique_carrier'].unique()"
   ]
  },
  {
   "cell_type": "markdown",
   "metadata": {},
   "source": [
    "## 4. EDA Notebook Questions"
   ]
  },
  {
   "cell_type": "markdown",
   "metadata": {},
   "source": [
    "<b> Task 1: Test the hypothesis that the delay is from a Normal distribution and the mean of the delay is 0. Be careful about outliers. </b>"
   ]
  },
  {
   "cell_type": "code",
   "execution_count": 22,
   "metadata": {},
   "outputs": [
    {
     "data": {
      "text/plain": [
       "0.0"
      ]
     },
     "execution_count": 22,
     "metadata": {},
     "output_type": "execute_result"
    }
   ],
   "source": [
    "#No Outliers Removed\n",
    "arr_delays = flights_df['arr_delay'].to_numpy()\n",
    "scaler = StandardScaler()\n",
    "arr_delays = scaler.fit_transform(arr_delays.reshape(-1,1))\n",
    "shapiro_test = shapiro(arr_delays)\n",
    "shapiro_test.pvalue\n",
    "#df.apply(lambda x: (x - np.mean(x)) / (np.std(x))"
   ]
  },
  {
   "cell_type": "code",
   "execution_count": 23,
   "metadata": {},
   "outputs": [
    {
     "data": {
      "image/png": "[encoded data removed]",
      "text/plain": [
       "<Figure size 432x288 with 1 Axes>"
      ]
     },
     "metadata": {},
     "output_type": "display_data"
    }
   ],
   "source": [
    "sns.histplot(arr_delays, bins=200)\n",
    "sns.despine()\n",
    "plt.show()"
   ]
  },
  {
   "cell_type": "code",
   "execution_count": 24,
   "metadata": {},
   "outputs": [],
   "source": [
    "#Removing Outliers using IQR\n",
    "summary_table = flights_df.describe()\n",
    "IQR = summary_table.loc['75%']['arr_delay'] - summary_table.loc['25%']['arr_delay']\n",
    "lower_limit = summary_table.loc['25%']['arr_delay'] - (1.5*IQR)\n",
    "upper_limit = summary_table.loc['75%']['arr_delay'] + (1.5*IQR)"
   ]
  },
  {
   "cell_type": "code",
   "execution_count": 25,
   "metadata": {},
   "outputs": [],
   "source": [
    "arr_delays = arr_delays[(arr_delays >= lower_limit) & (arr_delays <= upper_limit)]"
   ]
  },
  {
   "cell_type": "code",
   "execution_count": 26,
   "metadata": {},
   "outputs": [
    {
     "data": {
      "text/plain": [
       "0.0"
      ]
     },
     "execution_count": 26,
     "metadata": {},
     "output_type": "execute_result"
    }
   ],
   "source": [
    "shapiro_test = shapiro(arr_delays[:1000])\n",
    "shapiro_test.pvalue"
   ]
  },
  {
   "cell_type": "code",
   "execution_count": 27,
   "metadata": {},
   "outputs": [
    {
     "data": {
      "image/png": "[encoded data removed]",
      "text/plain": [
       "<Figure size 432x288 with 1 Axes>"
      ]
     },
     "metadata": {},
     "output_type": "display_data"
    }
   ],
   "source": [
    "#Histogram of 5000 delay samples, outliers removed\n",
    "sns.histplot(arr_delays, color='blue')\n",
    "sns.despine()\n",
    "plt.show()"
   ]
  },
  {
   "cell_type": "code",
   "execution_count": 28,
   "metadata": {},
   "outputs": [
    {
     "data": {
      "image/png": "[encoded data removed]",
      "text/plain": [
       "<Figure size 432x288 with 1 Axes>"
      ]
     },
     "metadata": {},
     "output_type": "display_data"
    }
   ],
   "source": [
    "#Histogram of delay samples, outliers removed\n",
    "sns.histplot(arr_delays)\n",
    "sns.despine()\n",
    "plt.show()"
   ]
  },
  {
   "cell_type": "code",
   "execution_count": 29,
   "metadata": {},
   "outputs": [],
   "source": [
    "test = np.random.normal(loc=-5, scale=4, size=(1000))"
   ]
  },
  {
   "cell_type": "code",
   "execution_count": 30,
   "metadata": {},
   "outputs": [
    {
     "data": {
      "text/plain": [
       "<AxesSubplot:ylabel='Count'>"
      ]
     },
     "execution_count": 30,
     "metadata": {},
     "output_type": "execute_result"
    },
    {
     "data": {
      "image/png": "[encoded data removed]",
      "text/plain": [
       "<Figure size 432x288 with 1 Axes>"
      ]
     },
     "metadata": {},
     "output_type": "display_data"
    }
   ],
   "source": [
    "sns.histplot(test)"
   ]
  },
  {
   "cell_type": "code",
   "execution_count": 31,
   "metadata": {},
   "outputs": [
    {
     "data": {
      "text/plain": [
       "0.23738513886928558"
      ]
     },
     "execution_count": 31,
     "metadata": {},
     "output_type": "execute_result"
    }
   ],
   "source": [
    "test2 = shapiro(test)\n",
    "test2.pvalue"
   ]
  },
  {
   "cell_type": "markdown",
   "metadata": {},
   "source": [
    "<b> Task 3: Does the weather affect delay? </b>"
   ]
  },
  {
   "cell_type": "code",
   "execution_count": 168,
   "metadata": {},
   "outputs": [],
   "source": [
    "origin_grouped = flights_df.groupby(['fl_date', 'origin_city_name', 'origin']).size().reset_index().rename(columns={'origin_city_name':'city', 'origin':'air_code'})\n",
    "destination_grouped = flights_df.groupby(['fl_date', 'dest_city_name', 'dest']).size().reset_index().rename(columns={'dest_city_name':'city', 'dest': 'air_code'})\n",
    "merged_origin_dest = pd.merge(origin_grouped, destination_grouped, on=['fl_date', 'city','air_code'], how='left').rename(columns={'0_x': 'dep_flights', '0_y': 'arr_flights'}).fillna(0)"
   ]
  },
  {
   "cell_type": "code",
   "execution_count": 169,
   "metadata": {},
   "outputs": [],
   "source": [
    "merged_origin_dest['total_flights'] = merged_origin_dest['dep_flights'] + merged_origin_dest['arr_flights']\n",
    "weather_check = merged_origin_dest.groupby('fl_date').apply(lambda row: row.sort_values('total_flights', ascending=False).head(10)).reset_index(drop=True)"
   ]
  },
  {
   "cell_type": "code",
   "execution_count": 41,
   "metadata": {},
   "outputs": [],
   "source": [
    "weather_df = pd.read_csv('../data/weather_df.csv')"
   ]
  },
  {
   "cell_type": "code",
   "execution_count": 43,
   "metadata": {},
   "outputs": [
    {
     "data": {
      "text/plain": [
       "Index(['Unnamed: 0', 'iata_code', 'date', 'min_temp', 'max_temp', 'avg_temp',\n",
       "       'total_snowcm', 'windspeed_kmhr', 'precip_mm', 'humidity', 'visibility',\n",
       "       'cloud_cover', 'heat_indexC', 'wind_chillC', 'wind_gust', 'feels_like',\n",
       "       'weather_description'],\n",
       "      dtype='object')"
      ]
     },
     "execution_count": 43,
     "metadata": {},
     "output_type": "execute_result"
    }
   ],
   "source": [
    "weather_df.head()\n",
    "weather_df.columns"
   ]
  },
  {
   "cell_type": "code",
   "execution_count": 341,
   "metadata": {},
   "outputs": [],
   "source": [
    "weather_df = weather_df[['iata_code', 'date', 'avg_temp', 'total_snowcm', 'windspeed_kmhr', 'precip_mm', 'visibility', 'cloud_cover', 'wind_gust', 'weather_description']]"
   ]
  },
  {
   "cell_type": "code",
   "execution_count": 342,
   "metadata": {},
   "outputs": [],
   "source": [
    "weather_df['date'] = pd.to_datetime(weather_df['date'], format='%Y-%m-%d')"
   ]
  },
  {
   "cell_type": "code",
   "execution_count": 347,
   "metadata": {},
   "outputs": [
    {
     "data": {
      "text/plain": [
       "array(['Partly cloudy', 'Overcast', 'Sunny', 'Moderate rain',\n",
       "       'Ice pellets', 'Cloudy', 'Blizzard', 'Blowing snow',\n",
       "       'Patchy heavy snow', 'Patchy rain possible',\n",
       "       'Moderate or heavy freezing rain', 'Light snow', 'Light drizzle',\n",
       "       'Light rain shower', 'Torrential rain shower',\n",
       "       'Thundery outbreaks possible', 'Patchy light drizzle',\n",
       "       'Patchy light snow', 'Heavy rain', 'Moderate rain at times',\n",
       "       'Patchy light rain with thunder', 'Mist', 'Heavy rain at times',\n",
       "       'Moderate or heavy rain shower', 'Light rain', 'Light sleet',\n",
       "       'Patchy light rain', 'Heavy snow',\n",
       "       'Patchy freezing drizzle possible',\n",
       "       'Moderate or heavy rain with thunder', 'Fog', 'Moderate snow',\n",
       "       'Patchy moderate snow', 'Patchy snow possible'], dtype=object)"
      ]
     },
     "execution_count": 347,
     "metadata": {},
     "output_type": "execute_result"
    }
   ],
   "source": [
    "weather_df['weather_description'].unique()"
   ]
  },
  {
   "cell_type": "code",
   "execution_count": 350,
   "metadata": {},
   "outputs": [],
   "source": [
    "def simplified_weather(weather_desc):\n",
    "    if ('cloud' in weather_desc.lower()) or ('overcast' in weather_desc.lower()) or ('fog' in weather_desc.lower()) or ('mist' in weather_desc.lower()):\n",
    "        return 'cloudy'\n",
    "    elif ('rain' in weather_desc.lower()) or ('drizzle' in weather_desc.lower()) or ('thunder' in weather_desc.lower()):\n",
    "        return 'rainy'\n",
    "    elif ('snow' in weather_desc.lower()) or ('ice' in weather_desc.lower()) or ('blizzard' in weather_desc.lower()) or ('sleet' in weather_desc.lower()):\n",
    "        return 'snow'\n",
    "    else:\n",
    "        return 'sunny'"
   ]
  },
  {
   "cell_type": "code",
   "execution_count": 351,
   "metadata": {},
   "outputs": [],
   "source": [
    "weather_df['weather_summary'] = weather_df['weather_description'].apply(simplified_weather)"
   ]
  },
  {
   "cell_type": "code",
   "execution_count": 355,
   "metadata": {},
   "outputs": [],
   "source": [
    "weather_df = weather_df[['iata_code', 'date', 'weather_summary']]"
   ]
  },
  {
   "cell_type": "code",
   "execution_count": 338,
   "metadata": {},
   "outputs": [],
   "source": [
    "airport_codes = ['ATL', 'DCA', 'DFW', 'JFK', 'LAX', 'LGA', 'MSP', 'ORD', 'SEA']"
   ]
  },
  {
   "cell_type": "code",
   "execution_count": 361,
   "metadata": {},
   "outputs": [],
   "source": [
    "flights_weather_origin = pd.DataFrame(columns=flights_df.columns, dtype=object)"
   ]
  },
  {
   "cell_type": "code",
   "execution_count": 362,
   "metadata": {},
   "outputs": [],
   "source": [
    "for code in airport_codes:\n",
    "    df = flights_df[flights_df['origin'] == code]\n",
    "    flights_weather_origin = pd.concat([flights_weather_origin, df])"
   ]
  },
  {
   "cell_type": "code",
   "execution_count": 363,
   "metadata": {},
   "outputs": [],
   "source": [
    "flights_weather_origin['is_dep_delay'] = flights_weather_origin.apply(lambda row: 0 if row.dep_delay <= 0 else 1, axis=1)"
   ]
  },
  {
   "cell_type": "code",
   "execution_count": 364,
   "metadata": {},
   "outputs": [],
   "source": [
    "flights_weather_origin = flights_weather_origin[['fl_date', 'origin', 'dep_delay', 'dest', 'is_dep_delay', 'arr_delay', 'is_arr_delay']]"
   ]
  },
  {
   "cell_type": "code",
   "execution_count": 366,
   "metadata": {},
   "outputs": [],
   "source": [
    "flights_weather_origin.rename(columns={'fl_date': 'date', 'origin':'iata_code'}, inplace=True)"
   ]
  },
  {
   "cell_type": "code",
   "execution_count": 367,
   "metadata": {},
   "outputs": [],
   "source": [
    "flights_weather_origin_merge = pd.merge(flights_weather_origin, weather_df, on=['date', 'iata_code'], how='inner')"
   ]
  },
  {
   "cell_type": "code",
   "execution_count": 371,
   "metadata": {},
   "outputs": [],
   "source": [
    "flights_weather_arrival = pd.DataFrame(columns=flights_df.columns, dtype=object)"
   ]
  },
  {
   "cell_type": "code",
   "execution_count": 373,
   "metadata": {},
   "outputs": [],
   "source": [
    "for code in airport_codes:\n",
    "    df = flights_df[flights_df['dest'] == code]\n",
    "    flights_weather_arrival = pd.concat([flights_weather_arrival, df])"
   ]
  },
  {
   "cell_type": "code",
   "execution_count": 376,
   "metadata": {},
   "outputs": [],
   "source": [
    "flights_weather_arrival['is_dep_delay'] = flights_weather_arrival.apply(lambda row: 0 if row.dep_delay <= 0 else 1, axis=1)\n",
    "flights_weather_arrival = flights_weather_arrival[['fl_date', 'origin', 'dep_delay', 'dest', 'is_dep_delay', 'arr_delay', 'is_arr_delay']]"
   ]
  },
  {
   "cell_type": "code",
   "execution_count": 379,
   "metadata": {},
   "outputs": [],
   "source": [
    "flights_weather_arrival.rename(columns={'fl_date': 'date', 'dest':'iata_code'}, inplace=True)"
   ]
  },
  {
   "cell_type": "code",
   "execution_count": 381,
   "metadata": {},
   "outputs": [],
   "source": [
    "flights_weather_arrival_merge = pd.merge(flights_weather_arrival, weather_df, on=['date', 'iata_code'], how='inner')"
   ]
  },
  {
   "cell_type": "code",
   "execution_count": 387,
   "metadata": {},
   "outputs": [
    {
     "data": {
      "text/html": [
       "<div>\n",
       "<style scoped>\n",
       "    .dataframe tbody tr th:only-of-type {\n",
       "        vertical-align: middle;\n",
       "    }\n",
       "\n",
       "    .dataframe tbody tr th {\n",
       "        vertical-align: top;\n",
       "    }\n",
       "\n",
       "    .dataframe thead th {\n",
       "        text-align: right;\n",
       "    }\n",
       "</style>\n",
       "<table border=\"1\" class=\"dataframe\">\n",
       "  <thead>\n",
       "    <tr style=\"text-align: right;\">\n",
       "      <th></th>\n",
       "      <th>date</th>\n",
       "      <th>origin</th>\n",
       "      <th>dep_delay</th>\n",
       "      <th>iata_code</th>\n",
       "      <th>is_dep_delay</th>\n",
       "      <th>arr_delay</th>\n",
       "      <th>is_arr_delay</th>\n",
       "      <th>weather_summary</th>\n",
       "    </tr>\n",
       "  </thead>\n",
       "  <tbody>\n",
       "    <tr>\n",
       "      <th>0</th>\n",
       "      <td>2018-04-04</td>\n",
       "      <td>MCI</td>\n",
       "      <td>-4.0</td>\n",
       "      <td>ATL</td>\n",
       "      <td>0</td>\n",
       "      <td>-8.0</td>\n",
       "      <td>0</td>\n",
       "      <td>cloudy</td>\n",
       "    </tr>\n",
       "    <tr>\n",
       "      <th>1</th>\n",
       "      <td>2018-04-04</td>\n",
       "      <td>MLI</td>\n",
       "      <td>48.0</td>\n",
       "      <td>ATL</td>\n",
       "      <td>1</td>\n",
       "      <td>39.0</td>\n",
       "      <td>1</td>\n",
       "      <td>cloudy</td>\n",
       "    </tr>\n",
       "    <tr>\n",
       "      <th>2</th>\n",
       "      <td>2018-04-04</td>\n",
       "      <td>AGS</td>\n",
       "      <td>1.0</td>\n",
       "      <td>ATL</td>\n",
       "      <td>1</td>\n",
       "      <td>-10.0</td>\n",
       "      <td>0</td>\n",
       "      <td>cloudy</td>\n",
       "    </tr>\n",
       "    <tr>\n",
       "      <th>3</th>\n",
       "      <td>2018-04-04</td>\n",
       "      <td>AGS</td>\n",
       "      <td>4.0</td>\n",
       "      <td>ATL</td>\n",
       "      <td>1</td>\n",
       "      <td>10.0</td>\n",
       "      <td>1</td>\n",
       "      <td>cloudy</td>\n",
       "    </tr>\n",
       "    <tr>\n",
       "      <th>4</th>\n",
       "      <td>2018-04-04</td>\n",
       "      <td>CLT</td>\n",
       "      <td>-4.0</td>\n",
       "      <td>ATL</td>\n",
       "      <td>0</td>\n",
       "      <td>9.0</td>\n",
       "      <td>1</td>\n",
       "      <td>cloudy</td>\n",
       "    </tr>\n",
       "  </tbody>\n",
       "</table>\n",
       "</div>"
      ],
      "text/plain": [
       "        date origin  dep_delay iata_code  is_dep_delay  arr_delay  \\\n",
       "0 2018-04-04    MCI       -4.0       ATL             0       -8.0   \n",
       "1 2018-04-04    MLI       48.0       ATL             1       39.0   \n",
       "2 2018-04-04    AGS        1.0       ATL             1      -10.0   \n",
       "3 2018-04-04    AGS        4.0       ATL             1       10.0   \n",
       "4 2018-04-04    CLT       -4.0       ATL             0        9.0   \n",
       "\n",
       "  is_arr_delay weather_summary  \n",
       "0            0          cloudy  \n",
       "1            1          cloudy  \n",
       "2            0          cloudy  \n",
       "3            1          cloudy  \n",
       "4            1          cloudy  "
      ]
     },
     "execution_count": 387,
     "metadata": {},
     "output_type": "execute_result"
    }
   ],
   "source": [
    "flights_weather_arrival_merge.head()"
   ]
  },
  {
   "cell_type": "code",
   "execution_count": 391,
   "metadata": {},
   "outputs": [
    {
     "data": {
      "text/html": [
       "<div>\n",
       "<style scoped>\n",
       "    .dataframe tbody tr th:only-of-type {\n",
       "        vertical-align: middle;\n",
       "    }\n",
       "\n",
       "    .dataframe tbody tr th {\n",
       "        vertical-align: top;\n",
       "    }\n",
       "\n",
       "    .dataframe thead th {\n",
       "        text-align: right;\n",
       "    }\n",
       "</style>\n",
       "<table border=\"1\" class=\"dataframe\">\n",
       "  <thead>\n",
       "    <tr style=\"text-align: right;\">\n",
       "      <th></th>\n",
       "      <th>dep_delay</th>\n",
       "      <th>arr_delay</th>\n",
       "    </tr>\n",
       "    <tr>\n",
       "      <th>weather_summary</th>\n",
       "      <th></th>\n",
       "      <th></th>\n",
       "    </tr>\n",
       "  </thead>\n",
       "  <tbody>\n",
       "    <tr>\n",
       "      <th>cloudy</th>\n",
       "      <td>8.677785</td>\n",
       "      <td>2.731549</td>\n",
       "    </tr>\n",
       "    <tr>\n",
       "      <th>rainy</th>\n",
       "      <td>10.914193</td>\n",
       "      <td>5.353397</td>\n",
       "    </tr>\n",
       "    <tr>\n",
       "      <th>snow</th>\n",
       "      <td>12.644881</td>\n",
       "      <td>8.124051</td>\n",
       "    </tr>\n",
       "    <tr>\n",
       "      <th>sunny</th>\n",
       "      <td>11.538932</td>\n",
       "      <td>6.500837</td>\n",
       "    </tr>\n",
       "  </tbody>\n",
       "</table>\n",
       "</div>"
      ],
      "text/plain": [
       "                 dep_delay  arr_delay\n",
       "weather_summary                      \n",
       "cloudy            8.677785   2.731549\n",
       "rainy            10.914193   5.353397\n",
       "snow             12.644881   8.124051\n",
       "sunny            11.538932   6.500837"
      ]
     },
     "execution_count": 391,
     "metadata": {},
     "output_type": "execute_result"
    }
   ],
   "source": [
    "flights_weather_origin_merge.groupby('weather_summary')[['dep_delay', 'arr_delay']].mean()"
   ]
  },
  {
   "cell_type": "code",
   "execution_count": 392,
   "metadata": {},
   "outputs": [
    {
     "data": {
      "text/html": [
       "<div>\n",
       "<style scoped>\n",
       "    .dataframe tbody tr th:only-of-type {\n",
       "        vertical-align: middle;\n",
       "    }\n",
       "\n",
       "    .dataframe tbody tr th {\n",
       "        vertical-align: top;\n",
       "    }\n",
       "\n",
       "    .dataframe thead th {\n",
       "        text-align: right;\n",
       "    }\n",
       "</style>\n",
       "<table border=\"1\" class=\"dataframe\">\n",
       "  <thead>\n",
       "    <tr style=\"text-align: right;\">\n",
       "      <th></th>\n",
       "      <th>dep_delay</th>\n",
       "      <th>arr_delay</th>\n",
       "    </tr>\n",
       "    <tr>\n",
       "      <th>weather_summary</th>\n",
       "      <th></th>\n",
       "      <th></th>\n",
       "    </tr>\n",
       "  </thead>\n",
       "  <tbody>\n",
       "    <tr>\n",
       "      <th>cloudy</th>\n",
       "      <td>9.525319</td>\n",
       "      <td>3.998625</td>\n",
       "    </tr>\n",
       "    <tr>\n",
       "      <th>rainy</th>\n",
       "      <td>10.368822</td>\n",
       "      <td>5.244105</td>\n",
       "    </tr>\n",
       "    <tr>\n",
       "      <th>snow</th>\n",
       "      <td>12.531449</td>\n",
       "      <td>8.619805</td>\n",
       "    </tr>\n",
       "    <tr>\n",
       "      <th>sunny</th>\n",
       "      <td>11.567081</td>\n",
       "      <td>6.743305</td>\n",
       "    </tr>\n",
       "  </tbody>\n",
       "</table>\n",
       "</div>"
      ],
      "text/plain": [
       "                 dep_delay  arr_delay\n",
       "weather_summary                      \n",
       "cloudy            9.525319   3.998625\n",
       "rainy            10.368822   5.244105\n",
       "snow             12.531449   8.619805\n",
       "sunny            11.567081   6.743305"
      ]
     },
     "execution_count": 392,
     "metadata": {},
     "output_type": "execute_result"
    }
   ],
   "source": [
    "flights_weather_arrival_merge.groupby('weather_summary')[['dep_delay', 'arr_delay']].mean()"
   ]
  },
  {
   "cell_type": "code",
   "execution_count": 388,
   "metadata": {},
   "outputs": [
    {
     "data": {
      "image/png": "[encoded data removed]",
      "text/plain": [
       "<Figure size 1008x432 with 2 Axes>"
      ]
     },
     "metadata": {},
     "output_type": "display_data"
    }
   ],
   "source": [
    "fig, ax = plt.subplots(nrows=1, ncols=2, figsize=(14, 6))\n",
    "\n",
    "sns.boxplot(x='weather_summary', y='dep_delay', data=flights_weather_origin_merge, ax=ax[0])\n",
    "sns.boxplot(x='weather_summary', y='arr_delay', data=flights_weather_arrival_merge, ax=ax[1])\n",
    "sns.despine()\n",
    "plt.show()"
   ]
  },
  {
   "cell_type": "code",
   "execution_count": 411,
   "metadata": {},
   "outputs": [],
   "source": [
    "flights_both = flights_df[(flights_df['origin'].isin(airport_codes)) & (flights_df['dest'].isin(airport_codes))]\n",
    "flights_both['is_dep_delay'] = flights_both.apply(lambda row: 0 if row.dep_delay <= 0 else 1, axis=1)\n",
    "flights_both = flights_both[['fl_date', 'origin', 'dep_delay', 'dest', 'is_dep_delay', 'arr_delay', 'is_arr_delay']]"
   ]
  },
  {
   "cell_type": "code",
   "execution_count": 412,
   "metadata": {},
   "outputs": [],
   "source": [
    "origin_weather = weather_df.rename(columns={'iata_code': 'origin'})\n",
    "arrival_weather = weather_df.rename(columns={'iata_code': 'dest'})\n",
    "flights_both.rename(columns={'fl_date':'date'}, inplace=True)"
   ]
  },
  {
   "cell_type": "code",
   "execution_count": 413,
   "metadata": {},
   "outputs": [],
   "source": [
    "#CORRECT\n",
    "flights_both = pd.merge(flights_both, origin_weather, on=['date', 'origin'], how='inner')"
   ]
  },
  {
   "cell_type": "code",
   "execution_count": 414,
   "metadata": {},
   "outputs": [],
   "source": [
    "flights_both = pd.merge(flights_both, arrival_weather, on=['date', 'dest'], how='inner')"
   ]
  },
  {
   "cell_type": "code",
   "execution_count": 417,
   "metadata": {},
   "outputs": [],
   "source": [
    "flights_both.rename(columns={'weather_summary_x':'origin_weather', 'weather_summary_y':'arrival_weather'}, inplace=True)"
   ]
  },
  {
   "cell_type": "code",
   "execution_count": 422,
   "metadata": {},
   "outputs": [
    {
     "data": {
      "text/html": [
       "<div>\n",
       "<style scoped>\n",
       "    .dataframe tbody tr th:only-of-type {\n",
       "        vertical-align: middle;\n",
       "    }\n",
       "\n",
       "    .dataframe tbody tr th {\n",
       "        vertical-align: top;\n",
       "    }\n",
       "\n",
       "    .dataframe thead th {\n",
       "        text-align: right;\n",
       "    }\n",
       "</style>\n",
       "<table border=\"1\" class=\"dataframe\">\n",
       "  <thead>\n",
       "    <tr style=\"text-align: right;\">\n",
       "      <th></th>\n",
       "      <th>origin_weather</th>\n",
       "      <th>arrival_weather</th>\n",
       "      <th>dep_delay</th>\n",
       "      <th>arr_delay</th>\n",
       "    </tr>\n",
       "  </thead>\n",
       "  <tbody>\n",
       "    <tr>\n",
       "      <th>0</th>\n",
       "      <td>cloudy</td>\n",
       "      <td>cloudy</td>\n",
       "      <td>8.659502</td>\n",
       "      <td>1.356246</td>\n",
       "    </tr>\n",
       "    <tr>\n",
       "      <th>1</th>\n",
       "      <td>cloudy</td>\n",
       "      <td>rainy</td>\n",
       "      <td>8.134951</td>\n",
       "      <td>2.230478</td>\n",
       "    </tr>\n",
       "    <tr>\n",
       "      <th>2</th>\n",
       "      <td>cloudy</td>\n",
       "      <td>snow</td>\n",
       "      <td>14.566038</td>\n",
       "      <td>10.754717</td>\n",
       "    </tr>\n",
       "    <tr>\n",
       "      <th>3</th>\n",
       "      <td>cloudy</td>\n",
       "      <td>sunny</td>\n",
       "      <td>9.892677</td>\n",
       "      <td>3.983340</td>\n",
       "    </tr>\n",
       "    <tr>\n",
       "      <th>4</th>\n",
       "      <td>rainy</td>\n",
       "      <td>cloudy</td>\n",
       "      <td>8.858321</td>\n",
       "      <td>3.371064</td>\n",
       "    </tr>\n",
       "    <tr>\n",
       "      <th>5</th>\n",
       "      <td>rainy</td>\n",
       "      <td>rainy</td>\n",
       "      <td>11.915752</td>\n",
       "      <td>5.153325</td>\n",
       "    </tr>\n",
       "    <tr>\n",
       "      <th>6</th>\n",
       "      <td>rainy</td>\n",
       "      <td>snow</td>\n",
       "      <td>25.534247</td>\n",
       "      <td>20.931507</td>\n",
       "    </tr>\n",
       "    <tr>\n",
       "      <th>7</th>\n",
       "      <td>rainy</td>\n",
       "      <td>sunny</td>\n",
       "      <td>13.973994</td>\n",
       "      <td>9.722480</td>\n",
       "    </tr>\n",
       "    <tr>\n",
       "      <th>8</th>\n",
       "      <td>snow</td>\n",
       "      <td>cloudy</td>\n",
       "      <td>20.004630</td>\n",
       "      <td>17.097222</td>\n",
       "    </tr>\n",
       "    <tr>\n",
       "      <th>9</th>\n",
       "      <td>snow</td>\n",
       "      <td>rainy</td>\n",
       "      <td>30.165605</td>\n",
       "      <td>24.636943</td>\n",
       "    </tr>\n",
       "    <tr>\n",
       "      <th>10</th>\n",
       "      <td>snow</td>\n",
       "      <td>snow</td>\n",
       "      <td>10.722881</td>\n",
       "      <td>4.215254</td>\n",
       "    </tr>\n",
       "    <tr>\n",
       "      <th>11</th>\n",
       "      <td>snow</td>\n",
       "      <td>sunny</td>\n",
       "      <td>15.832117</td>\n",
       "      <td>10.656934</td>\n",
       "    </tr>\n",
       "    <tr>\n",
       "      <th>12</th>\n",
       "      <td>sunny</td>\n",
       "      <td>cloudy</td>\n",
       "      <td>12.217291</td>\n",
       "      <td>7.138942</td>\n",
       "    </tr>\n",
       "    <tr>\n",
       "      <th>13</th>\n",
       "      <td>sunny</td>\n",
       "      <td>rainy</td>\n",
       "      <td>13.357788</td>\n",
       "      <td>8.631302</td>\n",
       "    </tr>\n",
       "    <tr>\n",
       "      <th>14</th>\n",
       "      <td>sunny</td>\n",
       "      <td>snow</td>\n",
       "      <td>9.176271</td>\n",
       "      <td>5.098305</td>\n",
       "    </tr>\n",
       "    <tr>\n",
       "      <th>15</th>\n",
       "      <td>sunny</td>\n",
       "      <td>sunny</td>\n",
       "      <td>13.415875</td>\n",
       "      <td>7.020727</td>\n",
       "    </tr>\n",
       "  </tbody>\n",
       "</table>\n",
       "</div>"
      ],
      "text/plain": [
       "   origin_weather arrival_weather  dep_delay  arr_delay\n",
       "0          cloudy          cloudy   8.659502   1.356246\n",
       "1          cloudy           rainy   8.134951   2.230478\n",
       "2          cloudy            snow  14.566038  10.754717\n",
       "3          cloudy           sunny   9.892677   3.983340\n",
       "4           rainy          cloudy   8.858321   3.371064\n",
       "5           rainy           rainy  11.915752   5.153325\n",
       "6           rainy            snow  25.534247  20.931507\n",
       "7           rainy           sunny  13.973994   9.722480\n",
       "8            snow          cloudy  20.004630  17.097222\n",
       "9            snow           rainy  30.165605  24.636943\n",
       "10           snow            snow  10.722881   4.215254\n",
       "11           snow           sunny  15.832117  10.656934\n",
       "12          sunny          cloudy  12.217291   7.138942\n",
       "13          sunny           rainy  13.357788   8.631302\n",
       "14          sunny            snow   9.176271   5.098305\n",
       "15          sunny           sunny  13.415875   7.020727"
      ]
     },
     "execution_count": 422,
     "metadata": {},
     "output_type": "execute_result"
    }
   ],
   "source": [
    "flights_both_weather = flights_both.groupby(['origin_weather', 'arrival_weather'])[['dep_delay', 'arr_delay']].mean().reset_index()\n",
    "flights_both_weather"
   ]
  },
  {
   "cell_type": "code",
   "execution_count": 426,
   "metadata": {},
   "outputs": [],
   "source": [
    "summary = flights_both[['dep_delay', 'arr_delay']].describe()"
   ]
  },
  {
   "cell_type": "code",
   "execution_count": 427,
   "metadata": {},
   "outputs": [
    {
     "data": {
      "text/html": [
       "<div>\n",
       "<style scoped>\n",
       "    .dataframe tbody tr th:only-of-type {\n",
       "        vertical-align: middle;\n",
       "    }\n",
       "\n",
       "    .dataframe tbody tr th {\n",
       "        vertical-align: top;\n",
       "    }\n",
       "\n",
       "    .dataframe thead th {\n",
       "        text-align: right;\n",
       "    }\n",
       "</style>\n",
       "<table border=\"1\" class=\"dataframe\">\n",
       "  <thead>\n",
       "    <tr style=\"text-align: right;\">\n",
       "      <th></th>\n",
       "      <th>dep_delay</th>\n",
       "      <th>arr_delay</th>\n",
       "    </tr>\n",
       "  </thead>\n",
       "  <tbody>\n",
       "    <tr>\n",
       "      <th>count</th>\n",
       "      <td>45288.000000</td>\n",
       "      <td>45288.000000</td>\n",
       "    </tr>\n",
       "    <tr>\n",
       "      <th>mean</th>\n",
       "      <td>11.708841</td>\n",
       "      <td>5.497284</td>\n",
       "    </tr>\n",
       "    <tr>\n",
       "      <th>std</th>\n",
       "      <td>48.437967</td>\n",
       "      <td>51.949150</td>\n",
       "    </tr>\n",
       "    <tr>\n",
       "      <th>min</th>\n",
       "      <td>-23.000000</td>\n",
       "      <td>-68.000000</td>\n",
       "    </tr>\n",
       "    <tr>\n",
       "      <th>25%</th>\n",
       "      <td>-5.000000</td>\n",
       "      <td>-17.000000</td>\n",
       "    </tr>\n",
       "    <tr>\n",
       "      <th>50%</th>\n",
       "      <td>-2.000000</td>\n",
       "      <td>-6.000000</td>\n",
       "    </tr>\n",
       "    <tr>\n",
       "      <th>75%</th>\n",
       "      <td>8.000000</td>\n",
       "      <td>10.000000</td>\n",
       "    </tr>\n",
       "    <tr>\n",
       "      <th>max</th>\n",
       "      <td>1556.000000</td>\n",
       "      <td>1577.000000</td>\n",
       "    </tr>\n",
       "  </tbody>\n",
       "</table>\n",
       "</div>"
      ],
      "text/plain": [
       "          dep_delay     arr_delay\n",
       "count  45288.000000  45288.000000\n",
       "mean      11.708841      5.497284\n",
       "std       48.437967     51.949150\n",
       "min      -23.000000    -68.000000\n",
       "25%       -5.000000    -17.000000\n",
       "50%       -2.000000     -6.000000\n",
       "75%        8.000000     10.000000\n",
       "max     1556.000000   1577.000000"
      ]
     },
     "execution_count": 427,
     "metadata": {},
     "output_type": "execute_result"
    }
   ],
   "source": [
    "summary"
   ]
  },
  {
   "cell_type": "code",
   "execution_count": 431,
   "metadata": {},
   "outputs": [],
   "source": [
    "IQR_dep = summary.loc['75%']['dep_delay'] - summary.loc['25%']['dep_delay']\n",
    "lower_limit_dep = summary.loc['25%']['dep_delay'] - (1.5*IQR_dep)\n",
    "upper_limit_dep = summary.loc['75%']['dep_delay'] + (1.5*IQR_dep)"
   ]
  },
  {
   "cell_type": "code",
   "execution_count": 432,
   "metadata": {},
   "outputs": [],
   "source": [
    "IQR_arr = summary.loc['75%']['arr_delay'] - summary_table.loc['25%']['arr_delay']\n",
    "lower_limit_arr = summary.loc['25%']['arr_delay'] - (1.5*IQR_arr)\n",
    "upper_limit_arr = summary.loc['75%']['arr_delay'] + (1.5*IQR_arr)"
   ]
  },
  {
   "cell_type": "code",
   "execution_count": 436,
   "metadata": {},
   "outputs": [],
   "source": [
    "flights_both_no_outl=flights_both[(flights_both['dep_delay'] >= lower_limit_dep) & (flights_both['dep_delay'] <= upper_limit_dep) & (flights_both['arr_delay'] >= lower_limit_arr) & (flights_both['arr_delay'] <= upper_limit_arr)]"
   ]
  },
  {
   "cell_type": "code",
   "execution_count": 440,
   "metadata": {},
   "outputs": [
    {
     "data": {
      "text/html": [
       "<div>\n",
       "<style scoped>\n",
       "    .dataframe tbody tr th:only-of-type {\n",
       "        vertical-align: middle;\n",
       "    }\n",
       "\n",
       "    .dataframe tbody tr th {\n",
       "        vertical-align: top;\n",
       "    }\n",
       "\n",
       "    .dataframe thead th {\n",
       "        text-align: right;\n",
       "    }\n",
       "</style>\n",
       "<table border=\"1\" class=\"dataframe\">\n",
       "  <thead>\n",
       "    <tr style=\"text-align: right;\">\n",
       "      <th></th>\n",
       "      <th>date</th>\n",
       "      <th>origin</th>\n",
       "      <th>dep_delay</th>\n",
       "      <th>dest</th>\n",
       "      <th>is_dep_delay</th>\n",
       "      <th>arr_delay</th>\n",
       "      <th>is_arr_delay</th>\n",
       "      <th>origin_weather</th>\n",
       "      <th>arrival_weather</th>\n",
       "    </tr>\n",
       "  </thead>\n",
       "  <tbody>\n",
       "    <tr>\n",
       "      <th>0</th>\n",
       "      <td>2018-06-21</td>\n",
       "      <td>DFW</td>\n",
       "      <td>2.0</td>\n",
       "      <td>LGA</td>\n",
       "      <td>1</td>\n",
       "      <td>-8.0</td>\n",
       "      <td>0</td>\n",
       "      <td>sunny</td>\n",
       "      <td>sunny</td>\n",
       "    </tr>\n",
       "    <tr>\n",
       "      <th>3</th>\n",
       "      <td>2018-06-21</td>\n",
       "      <td>DCA</td>\n",
       "      <td>-5.0</td>\n",
       "      <td>LGA</td>\n",
       "      <td>0</td>\n",
       "      <td>-25.0</td>\n",
       "      <td>0</td>\n",
       "      <td>sunny</td>\n",
       "      <td>sunny</td>\n",
       "    </tr>\n",
       "    <tr>\n",
       "      <th>4</th>\n",
       "      <td>2018-06-21</td>\n",
       "      <td>DCA</td>\n",
       "      <td>18.0</td>\n",
       "      <td>LGA</td>\n",
       "      <td>1</td>\n",
       "      <td>23.0</td>\n",
       "      <td>1</td>\n",
       "      <td>sunny</td>\n",
       "      <td>sunny</td>\n",
       "    </tr>\n",
       "    <tr>\n",
       "      <th>5</th>\n",
       "      <td>2018-06-21</td>\n",
       "      <td>DCA</td>\n",
       "      <td>1.0</td>\n",
       "      <td>LGA</td>\n",
       "      <td>1</td>\n",
       "      <td>20.0</td>\n",
       "      <td>1</td>\n",
       "      <td>sunny</td>\n",
       "      <td>sunny</td>\n",
       "    </tr>\n",
       "    <tr>\n",
       "      <th>6</th>\n",
       "      <td>2018-06-21</td>\n",
       "      <td>ATL</td>\n",
       "      <td>-1.0</td>\n",
       "      <td>LGA</td>\n",
       "      <td>0</td>\n",
       "      <td>-14.0</td>\n",
       "      <td>0</td>\n",
       "      <td>sunny</td>\n",
       "      <td>sunny</td>\n",
       "    </tr>\n",
       "    <tr>\n",
       "      <th>...</th>\n",
       "      <td>...</td>\n",
       "      <td>...</td>\n",
       "      <td>...</td>\n",
       "      <td>...</td>\n",
       "      <td>...</td>\n",
       "      <td>...</td>\n",
       "      <td>...</td>\n",
       "      <td>...</td>\n",
       "      <td>...</td>\n",
       "    </tr>\n",
       "    <tr>\n",
       "      <th>45281</th>\n",
       "      <td>2019-08-01</td>\n",
       "      <td>JFK</td>\n",
       "      <td>14.0</td>\n",
       "      <td>SEA</td>\n",
       "      <td>1</td>\n",
       "      <td>21.0</td>\n",
       "      <td>1</td>\n",
       "      <td>rainy</td>\n",
       "      <td>sunny</td>\n",
       "    </tr>\n",
       "    <tr>\n",
       "      <th>45282</th>\n",
       "      <td>2019-08-01</td>\n",
       "      <td>JFK</td>\n",
       "      <td>-5.0</td>\n",
       "      <td>SEA</td>\n",
       "      <td>0</td>\n",
       "      <td>3.0</td>\n",
       "      <td>1</td>\n",
       "      <td>rainy</td>\n",
       "      <td>sunny</td>\n",
       "    </tr>\n",
       "    <tr>\n",
       "      <th>45283</th>\n",
       "      <td>2019-06-22</td>\n",
       "      <td>ATL</td>\n",
       "      <td>-6.0</td>\n",
       "      <td>LGA</td>\n",
       "      <td>0</td>\n",
       "      <td>-10.0</td>\n",
       "      <td>0</td>\n",
       "      <td>rainy</td>\n",
       "      <td>rainy</td>\n",
       "    </tr>\n",
       "    <tr>\n",
       "      <th>45284</th>\n",
       "      <td>2019-01-20</td>\n",
       "      <td>JFK</td>\n",
       "      <td>15.0</td>\n",
       "      <td>SEA</td>\n",
       "      <td>1</td>\n",
       "      <td>23.0</td>\n",
       "      <td>1</td>\n",
       "      <td>sunny</td>\n",
       "      <td>snow</td>\n",
       "    </tr>\n",
       "    <tr>\n",
       "      <th>45287</th>\n",
       "      <td>2019-08-31</td>\n",
       "      <td>JFK</td>\n",
       "      <td>-1.0</td>\n",
       "      <td>SEA</td>\n",
       "      <td>0</td>\n",
       "      <td>-31.0</td>\n",
       "      <td>0</td>\n",
       "      <td>rainy</td>\n",
       "      <td>cloudy</td>\n",
       "    </tr>\n",
       "  </tbody>\n",
       "</table>\n",
       "<p>38882 rows × 9 columns</p>\n",
       "</div>"
      ],
      "text/plain": [
       "            date origin  dep_delay dest  is_dep_delay  arr_delay  \\\n",
       "0     2018-06-21    DFW        2.0  LGA             1       -8.0   \n",
       "3     2018-06-21    DCA       -5.0  LGA             0      -25.0   \n",
       "4     2018-06-21    DCA       18.0  LGA             1       23.0   \n",
       "5     2018-06-21    DCA        1.0  LGA             1       20.0   \n",
       "6     2018-06-21    ATL       -1.0  LGA             0      -14.0   \n",
       "...          ...    ...        ...  ...           ...        ...   \n",
       "45281 2019-08-01    JFK       14.0  SEA             1       21.0   \n",
       "45282 2019-08-01    JFK       -5.0  SEA             0        3.0   \n",
       "45283 2019-06-22    ATL       -6.0  LGA             0      -10.0   \n",
       "45284 2019-01-20    JFK       15.0  SEA             1       23.0   \n",
       "45287 2019-08-31    JFK       -1.0  SEA             0      -31.0   \n",
       "\n",
       "       is_arr_delay origin_weather arrival_weather  \n",
       "0                 0          sunny           sunny  \n",
       "3                 0          sunny           sunny  \n",
       "4                 1          sunny           sunny  \n",
       "5                 1          sunny           sunny  \n",
       "6                 0          sunny           sunny  \n",
       "...             ...            ...             ...  \n",
       "45281             1          rainy           sunny  \n",
       "45282             1          rainy           sunny  \n",
       "45283             0          rainy           rainy  \n",
       "45284             1          sunny            snow  \n",
       "45287             0          rainy          cloudy  \n",
       "\n",
       "[38882 rows x 9 columns]"
      ]
     },
     "execution_count": 440,
     "metadata": {},
     "output_type": "execute_result"
    }
   ],
   "source": [
    "flights_both_no_outl"
   ]
  },
  {
   "cell_type": "code",
   "execution_count": 441,
   "metadata": {},
   "outputs": [
    {
     "data": {
      "image/png": "[encoded data removed]",
      "text/plain": [
       "<Figure size 1008x432 with 1 Axes>"
      ]
     },
     "metadata": {},
     "output_type": "display_data"
    }
   ],
   "source": [
    "fig, ax = plt.subplots(figsize=(14, 6))\n",
    "\n",
    "sns.boxplot(x='origin_weather', y='dep_delay', data=flights_both_no_outl, hue='arrival_weather')\n",
    "sns.despine()\n",
    "plt.show()"
   ]
  },
  {
   "cell_type": "code",
   "execution_count": 442,
   "metadata": {},
   "outputs": [
    {
     "data": {
      "image/png": "[encoded data removed]",
      "text/plain": [
       "<Figure size 1008x432 with 1 Axes>"
      ]
     },
     "metadata": {},
     "output_type": "display_data"
    }
   ],
   "source": [
    "fig, ax = plt.subplots(figsize=(14, 6))\n",
    "\n",
    "sns.boxplot(x='origin_weather', y='arr_delay', data=flights_both_no_outl, hue='arrival_weather')\n",
    "sns.despine()\n",
    "plt.show()"
   ]
  },
  {
   "cell_type": "markdown",
   "metadata": {},
   "source": [
    "<b> Task 5: What is the average percentage of delays that is already created before departure? (aka are arrival delays caused by departure delays?) Are airlines able to lower the delay during the flights? </b>"
   ]
  },
  {
   "cell_type": "code",
   "execution_count": 33,
   "metadata": {},
   "outputs": [],
   "source": [
    "dep_arr_delays = flights_df[['dep_delay', 'arr_delay', 'is_arr_delay']]"
   ]
  },
  {
   "cell_type": "code",
   "execution_count": 34,
   "metadata": {},
   "outputs": [],
   "source": [
    "dep_arr_delays['before_dep'] = dep_arr_delays.apply(lambda row: 1 if row.dep_delay > 0 and row.arr_delay > 0 else 0, axis=1)"
   ]
  },
  {
   "cell_type": "code",
   "execution_count": 35,
   "metadata": {},
   "outputs": [],
   "source": [
    "total_arr_delays = dep_arr_delays['is_arr_delay'].value_counts()[1]\n",
    "dep_arr_delays_count = dep_arr_delays['before_dep'].value_counts()[1]\n",
    "delay_bef_dep = (dep_arr_delays_count/total_arr_delays) * 100"
   ]
  },
  {
   "cell_type": "code",
   "execution_count": 36,
   "metadata": {},
   "outputs": [
    {
     "name": "stdout",
     "output_type": "stream",
     "text": [
      "Percentage of Delays Created Before Departure: 71.3%\n"
     ]
    }
   ],
   "source": [
    "print(f\"Percentage of Delays Created Before Departure: {round(delay_bef_dep, 1)}%\")"
   ]
  },
  {
   "cell_type": "code",
   "execution_count": 37,
   "metadata": {},
   "outputs": [
    {
     "name": "stdout",
     "output_type": "stream",
     "text": [
      "Airlines are able to lower the average of their delays by 5.0 minutes.\n"
     ]
    }
   ],
   "source": [
    "dep_arr_delays['delay_change'] = dep_arr_delays['dep_delay'] - dep_arr_delays['arr_delay']\n",
    "print(f\"Airlines are able to lower the average of their delays by {round(dep_arr_delays['delay_change'].mean(),1)} minutes.\")"
   ]
  },
  {
   "cell_type": "markdown",
   "metadata": {},
   "source": [
    "<b> Task 7: Test the hypothesis whether planes fly faster when there is the departure delay? </b>"
   ]
  },
  {
   "cell_type": "code",
   "execution_count": 38,
   "metadata": {},
   "outputs": [],
   "source": [
    "plane_speed_df = flights_df[['distance', 'actual_elapsed_time', 'dep_delay', 'arr_delay', 'is_arr_delay']]"
   ]
  },
  {
   "cell_type": "code",
   "execution_count": 39,
   "metadata": {},
   "outputs": [
    {
     "data": {
      "text/html": [
       "<div>\n",
       "<style scoped>\n",
       "    .dataframe tbody tr th:only-of-type {\n",
       "        vertical-align: middle;\n",
       "    }\n",
       "\n",
       "    .dataframe tbody tr th {\n",
       "        vertical-align: top;\n",
       "    }\n",
       "\n",
       "    .dataframe thead th {\n",
       "        text-align: right;\n",
       "    }\n",
       "</style>\n",
       "<table border=\"1\" class=\"dataframe\">\n",
       "  <thead>\n",
       "    <tr style=\"text-align: right;\">\n",
       "      <th></th>\n",
       "      <th>distance</th>\n",
       "      <th>actual_elapsed_time</th>\n",
       "      <th>dep_delay</th>\n",
       "      <th>arr_delay</th>\n",
       "      <th>is_arr_delay</th>\n",
       "      <th>plane_speed</th>\n",
       "      <th>is_dep_delay</th>\n",
       "    </tr>\n",
       "  </thead>\n",
       "  <tbody>\n",
       "    <tr>\n",
       "      <th>0</th>\n",
       "      <td>1065</td>\n",
       "      <td>184.0</td>\n",
       "      <td>46.0</td>\n",
       "      <td>38.0</td>\n",
       "      <td>1</td>\n",
       "      <td>347.282609</td>\n",
       "      <td>1</td>\n",
       "    </tr>\n",
       "    <tr>\n",
       "      <th>1</th>\n",
       "      <td>546</td>\n",
       "      <td>112.0</td>\n",
       "      <td>1.0</td>\n",
       "      <td>-10.0</td>\n",
       "      <td>0</td>\n",
       "      <td>292.500000</td>\n",
       "      <td>1</td>\n",
       "    </tr>\n",
       "    <tr>\n",
       "      <th>2</th>\n",
       "      <td>641</td>\n",
       "      <td>109.0</td>\n",
       "      <td>54.0</td>\n",
       "      <td>47.0</td>\n",
       "      <td>1</td>\n",
       "      <td>352.844037</td>\n",
       "      <td>1</td>\n",
       "    </tr>\n",
       "    <tr>\n",
       "      <th>3</th>\n",
       "      <td>518</td>\n",
       "      <td>89.0</td>\n",
       "      <td>656.0</td>\n",
       "      <td>654.0</td>\n",
       "      <td>1</td>\n",
       "      <td>349.213483</td>\n",
       "      <td>1</td>\n",
       "    </tr>\n",
       "    <tr>\n",
       "      <th>4</th>\n",
       "      <td>419</td>\n",
       "      <td>98.0</td>\n",
       "      <td>-10.0</td>\n",
       "      <td>-8.0</td>\n",
       "      <td>0</td>\n",
       "      <td>256.530612</td>\n",
       "      <td>0</td>\n",
       "    </tr>\n",
       "  </tbody>\n",
       "</table>\n",
       "</div>"
      ],
      "text/plain": [
       "   distance  actual_elapsed_time  dep_delay  arr_delay  is_arr_delay  \\\n",
       "0      1065                184.0       46.0       38.0             1   \n",
       "1       546                112.0        1.0      -10.0             0   \n",
       "2       641                109.0       54.0       47.0             1   \n",
       "3       518                 89.0      656.0      654.0             1   \n",
       "4       419                 98.0      -10.0       -8.0             0   \n",
       "\n",
       "   plane_speed  is_dep_delay  \n",
       "0   347.282609             1  \n",
       "1   292.500000             1  \n",
       "2   352.844037             1  \n",
       "3   349.213483             1  \n",
       "4   256.530612             0  "
      ]
     },
     "execution_count": 39,
     "metadata": {},
     "output_type": "execute_result"
    }
   ],
   "source": [
    "plane_speed_df['plane_speed'] = plane_speed_df['distance']/(plane_speed_df['actual_elapsed_time']/60)\n",
    "plane_speed_df['is_dep_delay'] = plane_speed_df.apply(lambda row: 0 if row.dep_delay <= 0 else 1, axis=1)\n",
    "plane_speed_df.head()"
   ]
  },
  {
   "cell_type": "code",
   "execution_count": 40,
   "metadata": {},
   "outputs": [
    {
     "data": {
      "image/png": "[encoded data removed]",
      "text/plain": [
       "<Figure size 432x288 with 1 Axes>"
      ]
     },
     "metadata": {},
     "output_type": "display_data"
    }
   ],
   "source": [
    "sns.boxplot(x='is_dep_delay', y='plane_speed', data=plane_speed_df, palette='Blues')\n",
    "plt.xlabel('Departure Delay')\n",
    "plt.ylabel('Plane Speed (miles/hr)')\n",
    "sns.despine()\n",
    "plt.show()"
   ]
  },
  {
   "cell_type": "code",
   "execution_count": 41,
   "metadata": {},
   "outputs": [],
   "source": [
    "no_delay_speed = plane_speed_df[plane_speed_df['is_dep_delay'] == 0]['plane_speed'][:1000]\n",
    "delay_speed = plane_speed_df[plane_speed_df['is_dep_delay'] == 1]['plane_speed'][:1000]"
   ]
  },
  {
   "cell_type": "code",
   "execution_count": 42,
   "metadata": {},
   "outputs": [],
   "source": [
    "speed_test = ttest_ind(no_delay_speed, delay_speed)"
   ]
  },
  {
   "cell_type": "code",
   "execution_count": 43,
   "metadata": {},
   "outputs": [
    {
     "data": {
      "text/plain": [
       "0.3783098609417336"
      ]
     },
     "execution_count": 43,
     "metadata": {},
     "output_type": "execute_result"
    }
   ],
   "source": [
    "speed_test.pvalue"
   ]
  },
  {
   "cell_type": "markdown",
   "metadata": {},
   "source": [
    "<b> Task 9: Find the top 10 the busiest airports. Does the biggest number of flights mean that the biggest number of passengers went through the particular airport? How much traffic do these 10 airports cover? </b>"
   ]
  },
  {
   "cell_type": "code",
   "execution_count": 44,
   "metadata": {},
   "outputs": [],
   "source": [
    "airport_flights_origin = flights_df.groupby('origin').size().reset_index().rename(columns={0:'origin_flights_count', 'origin':'airport'})\n",
    "airport_flights_arrival = flights_df.groupby('dest').size().reset_index().rename(columns={0:'arrival_flights_count', 'dest':'airport'})"
   ]
  },
  {
   "cell_type": "code",
   "execution_count": 45,
   "metadata": {},
   "outputs": [],
   "source": [
    "airport_flights = pd.merge(airport_flights_origin, airport_flights_arrival, on='airport', how='left')"
   ]
  },
  {
   "cell_type": "code",
   "execution_count": 269,
   "metadata": {},
   "outputs": [],
   "source": [
    "airport_flights['total_arr_dep'] = airport_flights['origin_flights_count'] + airport_flights['arrival_flights_count']\n",
    "origin_flights_top = airport_flights[['airport', 'origin_flights_count']].sort_values('origin_flights_count', ascending=False)[:10]\n",
    "arrival_flights_top = airport_flights[['airport', 'arrival_flights_count']].sort_values('arrival_flights_count', ascending=False)[:10]\n",
    "total_flights_top = airport_flights[['airport', 'total_arr_dep']].sort_values('total_arr_dep', ascending=False)"
   ]
  },
  {
   "cell_type": "code",
   "execution_count": 47,
   "metadata": {},
   "outputs": [
    {
     "data": {
      "image/png": "[encoded data removed]",
      "text/plain": [
       "<Figure size 1296x360 with 3 Axes>"
      ]
     },
     "metadata": {},
     "output_type": "display_data"
    }
   ],
   "source": [
    "fig, ax = plt.subplots(nrows=1, ncols=3, figsize=(18,5))\n",
    "\n",
    "sns.barplot(x='origin_flights_count', y='airport', data=origin_flights_top, ax=ax[0], color='lightblue', edgecolor='.2')\n",
    "ax[0].set(xlabel='Total Flights', ylabel='Airport')\n",
    "ax[0].set_title(f'Top 10 Departure Airports',fontdict= {'fontsize': 16, 'fontweight':'bold'}, x =0.35, y=1.0)\n",
    "sns.despine()\n",
    "\n",
    "sns.barplot(x='arrival_flights_count', y='airport', data=arrival_flights_top, ax=ax[1], color='lightblue', edgecolor='.2')\n",
    "ax[1].set(xlabel='Total Flights', ylabel='Airport')\n",
    "ax[1].set_title(f'Top 10 Arrival Airports',fontdict= {'fontsize': 16, 'fontweight':'bold'}, x =0.3, y=1.0)\n",
    "sns.despine()\n",
    "\n",
    "sns.barplot(x='total_arr_dep', y='airport', data=total_flights_top, ax=ax[2], color='lightblue', edgecolor='.2')\n",
    "ax[2].set_title(f'Top 10 Busiest Airports',fontdict= {'fontsize': 16, 'fontweight':'bold'}, x =0.3, y=1.0)\n",
    "ax[2].set(xlabel='Total Flights', ylabel='Airport')\n",
    "sns.despine()"
   ]
  },
  {
   "cell_type": "code",
   "execution_count": 48,
   "metadata": {},
   "outputs": [],
   "source": [
    "origin_flights_top['origin_pct'] = round(origin_flights_top['origin_flights_count']/sum(airport_flights['origin_flights_count']) * 100, 2)\n",
    "arrival_flights_top['arrival_pct'] = round(arrival_flights_top['arrival_flights_count'] /sum(airport_flights['arrival_flights_count']) * 100, 2)\n",
    "total_flights_top['total_pct'] = round(total_flights_top['total_arr_dep']/sum(airport_flights['total_arr_dep']) * 100, 2)"
   ]
  },
  {
   "cell_type": "code",
   "execution_count": 49,
   "metadata": {},
   "outputs": [
    {
     "name": "stdout",
     "output_type": "stream",
     "text": [
      "Total percentage of departures from top 10 airport: 32.47%\n",
      "Total percentage of arrivals from top 10 airport: 32.51%\n",
      "Total percentage of flights from top 10 airport: 32.48%\n"
     ]
    }
   ],
   "source": [
    "print('Total percentage of departures from top 10 airport: ' +  str(sum(origin_flights_top['origin_pct'])) + '%')\n",
    "print('Total percentage of arrivals from top 10 airport: ' + str(sum(arrival_flights_top['arrival_pct'])) + '%')\n",
    "print('Total percentage of flights from top 10 airport: ' + str(sum(total_flights_top['total_pct'])) + '%')"
   ]
  },
  {
   "cell_type": "code",
   "execution_count": 50,
   "metadata": {},
   "outputs": [],
   "source": [
    "passengers_df = pd.read_csv('../data/passengers_500k.csv')"
   ]
  },
  {
   "cell_type": "code",
   "execution_count": 51,
   "metadata": {},
   "outputs": [
    {
     "data": {
      "text/html": [
       "<div>\n",
       "<style scoped>\n",
       "    .dataframe tbody tr th:only-of-type {\n",
       "        vertical-align: middle;\n",
       "    }\n",
       "\n",
       "    .dataframe tbody tr th {\n",
       "        vertical-align: top;\n",
       "    }\n",
       "\n",
       "    .dataframe thead th {\n",
       "        text-align: right;\n",
       "    }\n",
       "</style>\n",
       "<table border=\"1\" class=\"dataframe\">\n",
       "  <thead>\n",
       "    <tr style=\"text-align: right;\">\n",
       "      <th></th>\n",
       "      <th>departures_scheduled</th>\n",
       "      <th>departures_performed</th>\n",
       "      <th>payload</th>\n",
       "      <th>seats</th>\n",
       "      <th>passengers</th>\n",
       "      <th>freight</th>\n",
       "      <th>mail</th>\n",
       "      <th>distance</th>\n",
       "      <th>ramp_to_ramp</th>\n",
       "      <th>air_time</th>\n",
       "      <th>...</th>\n",
       "      <th>dest_country</th>\n",
       "      <th>dest_country_name</th>\n",
       "      <th>aircraft_group</th>\n",
       "      <th>aircraft_type</th>\n",
       "      <th>aircraft_config</th>\n",
       "      <th>year</th>\n",
       "      <th>month</th>\n",
       "      <th>distance_group</th>\n",
       "      <th>class</th>\n",
       "      <th>data_source</th>\n",
       "    </tr>\n",
       "  </thead>\n",
       "  <tbody>\n",
       "    <tr>\n",
       "      <th>0</th>\n",
       "      <td>0</td>\n",
       "      <td>1</td>\n",
       "      <td>49760</td>\n",
       "      <td>72</td>\n",
       "      <td>0</td>\n",
       "      <td>0</td>\n",
       "      <td>0</td>\n",
       "      <td>660</td>\n",
       "      <td>137</td>\n",
       "      <td>86</td>\n",
       "      <td>...</td>\n",
       "      <td>US</td>\n",
       "      <td>United States</td>\n",
       "      <td>6</td>\n",
       "      <td>622</td>\n",
       "      <td>1</td>\n",
       "      <td>2018</td>\n",
       "      <td>4</td>\n",
       "      <td>2</td>\n",
       "      <td>L</td>\n",
       "      <td>DU</td>\n",
       "    </tr>\n",
       "    <tr>\n",
       "      <th>1</th>\n",
       "      <td>0</td>\n",
       "      <td>2</td>\n",
       "      <td>259383</td>\n",
       "      <td>940</td>\n",
       "      <td>0</td>\n",
       "      <td>24431</td>\n",
       "      <td>0</td>\n",
       "      <td>1379</td>\n",
       "      <td>383</td>\n",
       "      <td>327</td>\n",
       "      <td>...</td>\n",
       "      <td>US</td>\n",
       "      <td>United States</td>\n",
       "      <td>8</td>\n",
       "      <td>819</td>\n",
       "      <td>1</td>\n",
       "      <td>2018</td>\n",
       "      <td>8</td>\n",
       "      <td>3</td>\n",
       "      <td>L</td>\n",
       "      <td>DU</td>\n",
       "    </tr>\n",
       "    <tr>\n",
       "      <th>2</th>\n",
       "      <td>0</td>\n",
       "      <td>1</td>\n",
       "      <td>35409</td>\n",
       "      <td>148</td>\n",
       "      <td>120</td>\n",
       "      <td>0</td>\n",
       "      <td>0</td>\n",
       "      <td>646</td>\n",
       "      <td>119</td>\n",
       "      <td>99</td>\n",
       "      <td>...</td>\n",
       "      <td>US</td>\n",
       "      <td>United States</td>\n",
       "      <td>6</td>\n",
       "      <td>612</td>\n",
       "      <td>1</td>\n",
       "      <td>2019</td>\n",
       "      <td>7</td>\n",
       "      <td>2</td>\n",
       "      <td>L</td>\n",
       "      <td>DU</td>\n",
       "    </tr>\n",
       "    <tr>\n",
       "      <th>3</th>\n",
       "      <td>0</td>\n",
       "      <td>9</td>\n",
       "      <td>865194</td>\n",
       "      <td>2123</td>\n",
       "      <td>1461</td>\n",
       "      <td>138138</td>\n",
       "      <td>0</td>\n",
       "      <td>3671</td>\n",
       "      <td>0</td>\n",
       "      <td>0</td>\n",
       "      <td>...</td>\n",
       "      <td>US</td>\n",
       "      <td>United States</td>\n",
       "      <td>8</td>\n",
       "      <td>873</td>\n",
       "      <td>1</td>\n",
       "      <td>2019</td>\n",
       "      <td>5</td>\n",
       "      <td>8</td>\n",
       "      <td>F</td>\n",
       "      <td>IF</td>\n",
       "    </tr>\n",
       "    <tr>\n",
       "      <th>4</th>\n",
       "      <td>0</td>\n",
       "      <td>10</td>\n",
       "      <td>11480</td>\n",
       "      <td>60</td>\n",
       "      <td>12</td>\n",
       "      <td>821</td>\n",
       "      <td>5402</td>\n",
       "      <td>65</td>\n",
       "      <td>371</td>\n",
       "      <td>331</td>\n",
       "      <td>...</td>\n",
       "      <td>US</td>\n",
       "      <td>United States</td>\n",
       "      <td>0</td>\n",
       "      <td>35</td>\n",
       "      <td>1</td>\n",
       "      <td>2018</td>\n",
       "      <td>12</td>\n",
       "      <td>1</td>\n",
       "      <td>F</td>\n",
       "      <td>DU</td>\n",
       "    </tr>\n",
       "  </tbody>\n",
       "</table>\n",
       "<p>5 rows × 38 columns</p>\n",
       "</div>"
      ],
      "text/plain": [
       "   departures_scheduled  departures_performed  payload  seats  passengers  \\\n",
       "0                     0                     1    49760     72           0   \n",
       "1                     0                     2   259383    940           0   \n",
       "2                     0                     1    35409    148         120   \n",
       "3                     0                     9   865194   2123        1461   \n",
       "4                     0                    10    11480     60          12   \n",
       "\n",
       "   freight  mail  distance  ramp_to_ramp  air_time  ... dest_country  \\\n",
       "0        0     0       660           137        86  ...           US   \n",
       "1    24431     0      1379           383       327  ...           US   \n",
       "2        0     0       646           119        99  ...           US   \n",
       "3   138138     0      3671             0         0  ...           US   \n",
       "4      821  5402        65           371       331  ...           US   \n",
       "\n",
       "   dest_country_name aircraft_group aircraft_type aircraft_config  year  \\\n",
       "0      United States              6           622               1  2018   \n",
       "1      United States              8           819               1  2018   \n",
       "2      United States              6           612               1  2019   \n",
       "3      United States              8           873               1  2019   \n",
       "4      United States              0            35               1  2018   \n",
       "\n",
       "   month  distance_group  class  data_source  \n",
       "0      4               2      L           DU  \n",
       "1      8               3      L           DU  \n",
       "2      7               2      L           DU  \n",
       "3      5               8      F           IF  \n",
       "4     12               1      F           DU  \n",
       "\n",
       "[5 rows x 38 columns]"
      ]
     },
     "execution_count": 51,
     "metadata": {},
     "output_type": "execute_result"
    }
   ],
   "source": [
    "passengers_df.head()"
   ]
  },
  {
   "cell_type": "code",
   "execution_count": 52,
   "metadata": {},
   "outputs": [],
   "source": [
    "origin_passengers = passengers_df.groupby('origin')[['passengers']].sum().reset_index().rename(columns={'origin':'airport', 'passengers':'passengers_depart'})\n",
    "arrival_passengers = passengers_df.groupby('dest')[['passengers']].sum().reset_index().rename(columns={'dest':'airport', 'passengers': 'passengers_arrival'})"
   ]
  },
  {
   "cell_type": "code",
   "execution_count": 53,
   "metadata": {},
   "outputs": [
    {
     "data": {
      "text/plain": [
       "(1700, 3)"
      ]
     },
     "execution_count": 53,
     "metadata": {},
     "output_type": "execute_result"
    }
   ],
   "source": [
    "passengers_merged = pd.merge(origin_passengers, arrival_passengers, on='airport', how='left').dropna()\n",
    "passengers_merged.shape"
   ]
  },
  {
   "cell_type": "code",
   "execution_count": 54,
   "metadata": {},
   "outputs": [],
   "source": [
    "df_append = []\n",
    "for airport in list(total_flights_top['airport']):\n",
    "    df_append.append(passengers_merged[passengers_merged['airport'] == airport])\n",
    "\n",
    "passengers_top_airport = pd.concat(df_append)"
   ]
  },
  {
   "cell_type": "code",
   "execution_count": 55,
   "metadata": {},
   "outputs": [],
   "source": [
    "passengers_top_airport['total_passengers'] = passengers_top_airport['passengers_depart'] + passengers_top_airport['passengers_arrival']"
   ]
  },
  {
   "cell_type": "code",
   "execution_count": 56,
   "metadata": {},
   "outputs": [],
   "source": [
    "passengers_top_airport['pass_origin_pct'] = round(passengers_top_airport['passengers_depart']/sum(passengers_merged['passengers_depart']) * 100, 2)\n",
    "passengers_top_airport['pass_arrival_pct'] = round(passengers_top_airport['passengers_arrival']/sum(passengers_merged['passengers_arrival']) * 100, 2)\n",
    "passengers_top_airport['pass_total_pct'] = round(passengers_top_airport['total_passengers']/sum(passengers_merged['passengers_depart'] + passengers_merged['passengers_arrival']) * 100, 2)"
   ]
  },
  {
   "cell_type": "code",
   "execution_count": 57,
   "metadata": {},
   "outputs": [
    {
     "data": {
      "text/html": [
       "<div>\n",
       "<style scoped>\n",
       "    .dataframe tbody tr th:only-of-type {\n",
       "        vertical-align: middle;\n",
       "    }\n",
       "\n",
       "    .dataframe tbody tr th {\n",
       "        vertical-align: top;\n",
       "    }\n",
       "\n",
       "    .dataframe thead th {\n",
       "        text-align: right;\n",
       "    }\n",
       "</style>\n",
       "<table border=\"1\" class=\"dataframe\">\n",
       "  <thead>\n",
       "    <tr style=\"text-align: right;\">\n",
       "      <th></th>\n",
       "      <th>airport</th>\n",
       "      <th>passengers_depart</th>\n",
       "      <th>passengers_arrival</th>\n",
       "      <th>total_passengers</th>\n",
       "      <th>pass_origin_pct</th>\n",
       "      <th>pass_arrival_pct</th>\n",
       "      <th>pass_total_pct</th>\n",
       "    </tr>\n",
       "  </thead>\n",
       "  <tbody>\n",
       "    <tr>\n",
       "      <th>124</th>\n",
       "      <td>ATL</td>\n",
       "      <td>56367169</td>\n",
       "      <td>54705249.0</td>\n",
       "      <td>111072418.0</td>\n",
       "      <td>5.39</td>\n",
       "      <td>5.23</td>\n",
       "      <td>5.31</td>\n",
       "    </tr>\n",
       "    <tr>\n",
       "      <th>1231</th>\n",
       "      <td>ORD</td>\n",
       "      <td>41517030</td>\n",
       "      <td>41490938.0</td>\n",
       "      <td>83007968.0</td>\n",
       "      <td>3.97</td>\n",
       "      <td>3.97</td>\n",
       "      <td>3.97</td>\n",
       "    </tr>\n",
       "    <tr>\n",
       "      <th>417</th>\n",
       "      <td>DFW</td>\n",
       "      <td>34795072</td>\n",
       "      <td>35157018.0</td>\n",
       "      <td>69952090.0</td>\n",
       "      <td>3.33</td>\n",
       "      <td>3.36</td>\n",
       "      <td>3.35</td>\n",
       "    </tr>\n",
       "    <tr>\n",
       "      <th>415</th>\n",
       "      <td>DEN</td>\n",
       "      <td>31227867</td>\n",
       "      <td>32227936.0</td>\n",
       "      <td>63455803.0</td>\n",
       "      <td>2.99</td>\n",
       "      <td>3.08</td>\n",
       "      <td>3.03</td>\n",
       "    </tr>\n",
       "    <tr>\n",
       "      <th>897</th>\n",
       "      <td>LAX</td>\n",
       "      <td>43134741</td>\n",
       "      <td>43358183.0</td>\n",
       "      <td>86492924.0</td>\n",
       "      <td>4.13</td>\n",
       "      <td>4.15</td>\n",
       "      <td>4.14</td>\n",
       "    </tr>\n",
       "  </tbody>\n",
       "</table>\n",
       "</div>"
      ],
      "text/plain": [
       "     airport  passengers_depart  passengers_arrival  total_passengers  \\\n",
       "124      ATL           56367169          54705249.0       111072418.0   \n",
       "1231     ORD           41517030          41490938.0        83007968.0   \n",
       "417      DFW           34795072          35157018.0        69952090.0   \n",
       "415      DEN           31227867          32227936.0        63455803.0   \n",
       "897      LAX           43134741          43358183.0        86492924.0   \n",
       "\n",
       "      pass_origin_pct  pass_arrival_pct  pass_total_pct  \n",
       "124              5.39              5.23            5.31  \n",
       "1231             3.97              3.97            3.97  \n",
       "417              3.33              3.36            3.35  \n",
       "415              2.99              3.08            3.03  \n",
       "897              4.13              4.15            4.14  "
      ]
     },
     "execution_count": 57,
     "metadata": {},
     "output_type": "execute_result"
    }
   ],
   "source": [
    "passengers_top_airport.head()"
   ]
  },
  {
   "cell_type": "code",
   "execution_count": 58,
   "metadata": {},
   "outputs": [
    {
     "data": {
      "image/png": "[encoded data removed]",
      "text/plain": [
       "<Figure size 1440x360 with 6 Axes>"
      ]
     },
     "metadata": {},
     "output_type": "display_data"
    }
   ],
   "source": [
    "fig, ax = plt.subplots(nrows=1, ncols=3, figsize=(20, 5))\n",
    "    \n",
    "sns.set_color_codes('pastel')\n",
    "sns.barplot(x='airport', y='origin_pct', data=origin_flights_top, color='b', edgecolor='.2', ax=ax[0])\n",
    "sns.set_color_codes('muted')\n",
    "ax0 = ax[0].twinx()\n",
    "sns.lineplot(x='airport', y='pass_origin_pct', data=passengers_top_airport, color='b', marker='o', ax=ax0)\n",
    "ax[0].set(xlabel='Airport', ylabel='Percentage (%)')\n",
    "ax0.set_axis_off()\n",
    "ax[0].set_title(f'Origin Flights and Passengers',fontdict= { 'fontsize': 14, 'fontweight':'bold'}, x =0.5, y=1.05)\n",
    "\n",
    "sns.set_color_codes('pastel')\n",
    "sns.barplot(x='airport', y='arrival_pct', data=arrival_flights_top, color='b', edgecolor='.2', ax=ax[1])\n",
    "sns.set_color_codes('muted')\n",
    "ax1 = ax[1].twinx()\n",
    "sns.lineplot(x='airport', y='pass_arrival_pct', data=passengers_top_airport, color='b', marker='o', ax=ax1)\n",
    "ax[1].set(xlabel='Airport', ylabel='Percentage (%)')\n",
    "ax1.set_axis_off()\n",
    "ax[1].set_title(f'Arrival Flights and Passengers',fontdict= { 'fontsize': 14, 'fontweight':'bold'}, x =0.5, y=1.05)\n",
    "\n",
    "sns.set_color_codes('pastel')\n",
    "sns.barplot(x='airport', y='total_pct', data=total_flights_top, color='b', edgecolor='.2', ax=ax[2])\n",
    "sns.set_color_codes('muted')\n",
    "ax2 = ax[2].twinx()\n",
    "sns.lineplot(x='airport', y='pass_total_pct', data=passengers_top_airport, color='b', marker='o', ax=ax2)\n",
    "ax[2].set(xlabel='Airport', ylabel='Percentage (%)')\n",
    "ax2.set_axis_off()\n",
    "ax[2].set_title(f'Arrival and Depature Flights and Passengers',fontdict= { 'fontsize': 14, 'fontweight':'bold'}, x =0.5, y=1.05)\n",
    "sns.despine()"
   ]
  }
 ],
 "metadata": {
  "kernelspec": {
   "display_name": "lhl-bootcamp",
   "language": "python",
   "name": "lhl-bootcamp"
  },
  "language_info": {
   "codemirror_mode": {
    "name": "ipython",
    "version": 3
   },
   "file_extension": ".py",
   "mimetype": "text/x-python",
   "name": "python",
   "nbconvert_exporter": "python",
   "pygments_lexer": "ipython3",
   "version": "3.7.7"
  }
 },
 "nbformat": 4,
 "nbformat_minor": 4
}
