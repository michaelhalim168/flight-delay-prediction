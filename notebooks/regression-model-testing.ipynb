{
 "cells": [
  {
   "cell_type": "markdown",
   "metadata": {},
   "source": [
    "# Predicting Flight Delays: Regression Models"
   ]
  },
  {
   "cell_type": "code",
   "execution_count": 18,
   "metadata": {},
   "outputs": [],
   "source": [
    "import pandas as pd\n",
    "import numpy as np\n",
    "import datetime as dt\n",
    "import seaborn as sns\n",
    "import matplotlib.pyplot as plt\n",
    "import warnings\n",
    "%matplotlib inline\n",
    "warnings.filterwarnings('ignore')"
   ]
  },
  {
   "cell_type": "code",
   "execution_count": 19,
   "metadata": {},
   "outputs": [],
   "source": [
    "from sklearn.preprocessing import LabelEncoder\n",
    "from sklearn.model_selection import train_test_split"
   ]
  },
  {
   "cell_type": "code",
   "execution_count": 20,
   "metadata": {},
   "outputs": [],
   "source": [
    "from sklearn.ensemble import RandomForestRegressor, GradientBoostingRegressor"
   ]
  },
  {
   "cell_type": "code",
   "execution_count": 21,
   "metadata": {},
   "outputs": [],
   "source": [
    "flights = pd.read_csv('../data/data-feature/flights-feature-edit.csv')"
   ]
  },
  {
   "cell_type": "code",
   "execution_count": 22,
   "metadata": {},
   "outputs": [],
   "source": [
    "flights.rename(columns={'fl_date': 'date'}, inplace=True)"
   ]
  },
  {
   "cell_type": "code",
   "execution_count": 23,
   "metadata": {},
   "outputs": [],
   "source": [
    "weather = pd.read_csv('../data/data-feature/flights_weather_feature_engineering.csv')"
   ]
  },
  {
   "cell_type": "code",
   "execution_count": 24,
   "metadata": {},
   "outputs": [],
   "source": [
    "weather.drop('Unnamed: 0', axis=1, inplace=True)"
   ]
  },
  {
   "cell_type": "code",
   "execution_count": 25,
   "metadata": {},
   "outputs": [
    {
     "data": {
      "text/html": [
       "<div>\n",
       "<style scoped>\n",
       "    .dataframe tbody tr th:only-of-type {\n",
       "        vertical-align: middle;\n",
       "    }\n",
       "\n",
       "    .dataframe tbody tr th {\n",
       "        vertical-align: top;\n",
       "    }\n",
       "\n",
       "    .dataframe thead th {\n",
       "        text-align: right;\n",
       "    }\n",
       "</style>\n",
       "<table border=\"1\" class=\"dataframe\">\n",
       "  <thead>\n",
       "    <tr style=\"text-align: right;\">\n",
       "      <th></th>\n",
       "      <th>date</th>\n",
       "      <th>origin</th>\n",
       "      <th>dest</th>\n",
       "      <th>dep_delay</th>\n",
       "      <th>arr_delay</th>\n",
       "      <th>dep_avg_temp</th>\n",
       "      <th>dep_precip_mm</th>\n",
       "      <th>dep_humidity</th>\n",
       "      <th>dep_visibility</th>\n",
       "      <th>dep_total_snowcm</th>\n",
       "      <th>...</th>\n",
       "      <th>arr_snow</th>\n",
       "      <th>arr_rainy</th>\n",
       "      <th>arr_snow_bin</th>\n",
       "      <th>dep_snow_bin</th>\n",
       "      <th>arr_precip_bin</th>\n",
       "      <th>dep_precip_bin</th>\n",
       "      <th>dep_humidity_bin</th>\n",
       "      <th>arr_humidity_bin</th>\n",
       "      <th>dep_avgtemp_bin</th>\n",
       "      <th>arr_avgtemp_bin</th>\n",
       "    </tr>\n",
       "  </thead>\n",
       "  <tbody>\n",
       "    <tr>\n",
       "      <th>0</th>\n",
       "      <td>2018-06-21</td>\n",
       "      <td>DFW</td>\n",
       "      <td>LGA</td>\n",
       "      <td>2.0</td>\n",
       "      <td>-8.0</td>\n",
       "      <td>26</td>\n",
       "      <td>0.0</td>\n",
       "      <td>52</td>\n",
       "      <td>10</td>\n",
       "      <td>0.0</td>\n",
       "      <td>...</td>\n",
       "      <td>0</td>\n",
       "      <td>0</td>\n",
       "      <td>0</td>\n",
       "      <td>0</td>\n",
       "      <td>0</td>\n",
       "      <td>0</td>\n",
       "      <td>2</td>\n",
       "      <td>2</td>\n",
       "      <td>3</td>\n",
       "      <td>3</td>\n",
       "    </tr>\n",
       "    <tr>\n",
       "      <th>1</th>\n",
       "      <td>2018-06-21</td>\n",
       "      <td>DFW</td>\n",
       "      <td>LGA</td>\n",
       "      <td>159.0</td>\n",
       "      <td>162.0</td>\n",
       "      <td>26</td>\n",
       "      <td>0.0</td>\n",
       "      <td>52</td>\n",
       "      <td>10</td>\n",
       "      <td>0.0</td>\n",
       "      <td>...</td>\n",
       "      <td>0</td>\n",
       "      <td>0</td>\n",
       "      <td>0</td>\n",
       "      <td>0</td>\n",
       "      <td>0</td>\n",
       "      <td>0</td>\n",
       "      <td>2</td>\n",
       "      <td>2</td>\n",
       "      <td>3</td>\n",
       "      <td>3</td>\n",
       "    </tr>\n",
       "    <tr>\n",
       "      <th>2</th>\n",
       "      <td>2018-06-21</td>\n",
       "      <td>DFW</td>\n",
       "      <td>LGA</td>\n",
       "      <td>43.0</td>\n",
       "      <td>40.0</td>\n",
       "      <td>26</td>\n",
       "      <td>0.0</td>\n",
       "      <td>52</td>\n",
       "      <td>10</td>\n",
       "      <td>0.0</td>\n",
       "      <td>...</td>\n",
       "      <td>0</td>\n",
       "      <td>0</td>\n",
       "      <td>0</td>\n",
       "      <td>0</td>\n",
       "      <td>0</td>\n",
       "      <td>0</td>\n",
       "      <td>2</td>\n",
       "      <td>2</td>\n",
       "      <td>3</td>\n",
       "      <td>3</td>\n",
       "    </tr>\n",
       "    <tr>\n",
       "      <th>3</th>\n",
       "      <td>2018-06-21</td>\n",
       "      <td>DCA</td>\n",
       "      <td>LGA</td>\n",
       "      <td>-5.0</td>\n",
       "      <td>-25.0</td>\n",
       "      <td>26</td>\n",
       "      <td>0.0</td>\n",
       "      <td>52</td>\n",
       "      <td>10</td>\n",
       "      <td>0.0</td>\n",
       "      <td>...</td>\n",
       "      <td>0</td>\n",
       "      <td>0</td>\n",
       "      <td>0</td>\n",
       "      <td>0</td>\n",
       "      <td>0</td>\n",
       "      <td>0</td>\n",
       "      <td>2</td>\n",
       "      <td>2</td>\n",
       "      <td>3</td>\n",
       "      <td>3</td>\n",
       "    </tr>\n",
       "    <tr>\n",
       "      <th>4</th>\n",
       "      <td>2018-06-21</td>\n",
       "      <td>DCA</td>\n",
       "      <td>LGA</td>\n",
       "      <td>18.0</td>\n",
       "      <td>23.0</td>\n",
       "      <td>26</td>\n",
       "      <td>0.0</td>\n",
       "      <td>52</td>\n",
       "      <td>10</td>\n",
       "      <td>0.0</td>\n",
       "      <td>...</td>\n",
       "      <td>0</td>\n",
       "      <td>0</td>\n",
       "      <td>0</td>\n",
       "      <td>0</td>\n",
       "      <td>0</td>\n",
       "      <td>0</td>\n",
       "      <td>2</td>\n",
       "      <td>2</td>\n",
       "      <td>3</td>\n",
       "      <td>3</td>\n",
       "    </tr>\n",
       "  </tbody>\n",
       "</table>\n",
       "<p>5 rows × 35 columns</p>\n",
       "</div>"
      ],
      "text/plain": [
       "         date origin dest  dep_delay  arr_delay  dep_avg_temp  dep_precip_mm  \\\n",
       "0  2018-06-21    DFW  LGA        2.0       -8.0            26            0.0   \n",
       "1  2018-06-21    DFW  LGA      159.0      162.0            26            0.0   \n",
       "2  2018-06-21    DFW  LGA       43.0       40.0            26            0.0   \n",
       "3  2018-06-21    DCA  LGA       -5.0      -25.0            26            0.0   \n",
       "4  2018-06-21    DCA  LGA       18.0       23.0            26            0.0   \n",
       "\n",
       "   dep_humidity  dep_visibility  dep_total_snowcm  ...  arr_snow arr_rainy  \\\n",
       "0            52              10               0.0  ...         0         0   \n",
       "1            52              10               0.0  ...         0         0   \n",
       "2            52              10               0.0  ...         0         0   \n",
       "3            52              10               0.0  ...         0         0   \n",
       "4            52              10               0.0  ...         0         0   \n",
       "\n",
       "   arr_snow_bin  dep_snow_bin  arr_precip_bin  dep_precip_bin  \\\n",
       "0             0             0               0               0   \n",
       "1             0             0               0               0   \n",
       "2             0             0               0               0   \n",
       "3             0             0               0               0   \n",
       "4             0             0               0               0   \n",
       "\n",
       "   dep_humidity_bin  arr_humidity_bin dep_avgtemp_bin  arr_avgtemp_bin  \n",
       "0                 2                 2               3                3  \n",
       "1                 2                 2               3                3  \n",
       "2                 2                 2               3                3  \n",
       "3                 2                 2               3                3  \n",
       "4                 2                 2               3                3  \n",
       "\n",
       "[5 rows x 35 columns]"
      ]
     },
     "execution_count": 25,
     "metadata": {},
     "output_type": "execute_result"
    }
   ],
   "source": [
    "weather.head()"
   ]
  },
  {
   "cell_type": "markdown",
   "metadata": {},
   "source": [
    "## Test 1: Only Flights Data! "
   ]
  },
  {
   "cell_type": "markdown",
   "metadata": {},
   "source": [
    "<b> Extract the following features: </b> carrier ID, tail num, origin, destination, arr delay, crs elapsed time"
   ]
  },
  {
   "cell_type": "code",
   "execution_count": 26,
   "metadata": {},
   "outputs": [
    {
     "data": {
      "text/plain": [
       "Index(['Unnamed: 0', 'date', 'mkt_unique_carrier', 'op_unique_carrier',\n",
       "       'tail_num', 'origin_airport_id', 'origin', 'origin_city_name',\n",
       "       'dest_airport_id', 'dest', 'dest_city_name', 'dep_delay', 'arr_delay',\n",
       "       'crs_elapsed_time', 'distance', 'month', 'day', 'month_arr_delay_avg',\n",
       "       'month_dep_delay_avg', 'is_weekend', 'dep_hour', 'dep_min', 'arr_hour',\n",
       "       'arr_min', 'dep_time_desc', 'arr_time_desc', 'plane_score', 'orr_busy',\n",
       "       'arr_busy', 'route', 'route_mean_delay', 'route_median_delay',\n",
       "       'route_lq_delay', 'route_uq_delay', 'total_routes',\n",
       "       'num_delayed_routes', 'route_prob_delay', 'route_mean_dep_delay',\n",
       "       'route_median_dep_delay', 'route_lq_dep_delay', 'route_uq_dep_delay'],\n",
       "      dtype='object')"
      ]
     },
     "execution_count": 26,
     "metadata": {},
     "output_type": "execute_result"
    }
   ],
   "source": [
    "flights.columns"
   ]
  },
  {
   "cell_type": "code",
   "execution_count": 27,
   "metadata": {},
   "outputs": [],
   "source": [
    "flights_df1 = flights.drop(['Unnamed: 0', 'date', 'mkt_unique_carrier', 'origin_airport_id', 'origin_city_name',\n",
    "                           'dest_airport_id', 'dest_city_name', 'dep_delay', 'route', 'total_routes', 'num_delayed_routes'], axis=1)"
   ]
  },
  {
   "cell_type": "code",
   "execution_count": 28,
   "metadata": {},
   "outputs": [
    {
     "data": {
      "text/plain": [
       "(980258, 30)"
      ]
     },
     "execution_count": 28,
     "metadata": {},
     "output_type": "execute_result"
    }
   ],
   "source": [
    "flights_df1.shape"
   ]
  },
  {
   "cell_type": "code",
   "execution_count": 29,
   "metadata": {},
   "outputs": [
    {
     "data": {
      "text/plain": [
       "Index(['op_unique_carrier', 'tail_num', 'origin', 'dest', 'arr_delay',\n",
       "       'crs_elapsed_time', 'distance', 'month', 'day', 'month_arr_delay_avg',\n",
       "       'month_dep_delay_avg', 'is_weekend', 'dep_hour', 'dep_min', 'arr_hour',\n",
       "       'arr_min', 'dep_time_desc', 'arr_time_desc', 'plane_score', 'orr_busy',\n",
       "       'arr_busy', 'route_mean_delay', 'route_median_delay', 'route_lq_delay',\n",
       "       'route_uq_delay', 'route_prob_delay', 'route_mean_dep_delay',\n",
       "       'route_median_dep_delay', 'route_lq_dep_delay', 'route_uq_dep_delay'],\n",
       "      dtype='object')"
      ]
     },
     "execution_count": 29,
     "metadata": {},
     "output_type": "execute_result"
    }
   ],
   "source": [
    "flights_df1.columns"
   ]
  },
  {
   "cell_type": "code",
   "execution_count": 30,
   "metadata": {},
   "outputs": [],
   "source": [
    "flights_df1 = flights_df1.sample(frac=1)[:100000]"
   ]
  },
  {
   "cell_type": "code",
   "execution_count": 31,
   "metadata": {},
   "outputs": [],
   "source": [
    "X = flights_df1.drop('arr_delay', axis=1)\n",
    "y = flights_df1['arr_delay']"
   ]
  },
  {
   "cell_type": "code",
   "execution_count": 32,
   "metadata": {},
   "outputs": [],
   "source": [
    "tail_num_le = LabelEncoder()\n",
    "X['tail_num'] = tail_num_le.fit_transform(X['tail_num'])\n",
    "\n",
    "airports_le = LabelEncoder()\n",
    "X['origin'] = airports_le.fit_transform(X['origin'])\n",
    "X['dest'] = airports_le.fit_transform(X['dest'])\n",
    "\n",
    "op_carrier_le = LabelEncoder()\n",
    "X['op_unique_carrier'] = op_carrier_le.fit_transform(X['op_unique_carrier'])"
   ]
  },
  {
   "cell_type": "code",
   "execution_count": 33,
   "metadata": {},
   "outputs": [],
   "source": [
    "dummies = pd.get_dummies(X[['dep_time_desc', 'arr_time_desc', 'orr_busy', 'arr_busy']])\n",
    "X = pd.concat([X, dummies], axis=1)"
   ]
  },
  {
   "cell_type": "code",
   "execution_count": 34,
   "metadata": {},
   "outputs": [],
   "source": [
    "X.drop(['dep_time_desc', 'arr_time_desc', 'orr_busy', 'arr_busy'], axis=1, inplace=True)"
   ]
  },
  {
   "cell_type": "code",
   "execution_count": 35,
   "metadata": {},
   "outputs": [
    {
     "data": {
      "text/plain": [
       "45"
      ]
     },
     "execution_count": 35,
     "metadata": {},
     "output_type": "execute_result"
    }
   ],
   "source": [
    "len(X.columns)"
   ]
  },
  {
   "cell_type": "code",
   "execution_count": 36,
   "metadata": {},
   "outputs": [
    {
     "data": {
      "text/html": [
       "<div>\n",
       "<style scoped>\n",
       "    .dataframe tbody tr th:only-of-type {\n",
       "        vertical-align: middle;\n",
       "    }\n",
       "\n",
       "    .dataframe tbody tr th {\n",
       "        vertical-align: top;\n",
       "    }\n",
       "\n",
       "    .dataframe thead th {\n",
       "        text-align: right;\n",
       "    }\n",
       "</style>\n",
       "<table border=\"1\" class=\"dataframe\">\n",
       "  <thead>\n",
       "    <tr style=\"text-align: right;\">\n",
       "      <th></th>\n",
       "      <th>op_unique_carrier</th>\n",
       "      <th>tail_num</th>\n",
       "      <th>origin</th>\n",
       "      <th>dest</th>\n",
       "      <th>crs_elapsed_time</th>\n",
       "      <th>distance</th>\n",
       "      <th>month</th>\n",
       "      <th>day</th>\n",
       "      <th>month_arr_delay_avg</th>\n",
       "      <th>month_dep_delay_avg</th>\n",
       "      <th>...</th>\n",
       "      <th>arr_time_desc_morning</th>\n",
       "      <th>arr_time_desc_noon</th>\n",
       "      <th>orr_busy_high</th>\n",
       "      <th>orr_busy_low</th>\n",
       "      <th>orr_busy_medium</th>\n",
       "      <th>orr_busy_medium-high</th>\n",
       "      <th>arr_busy_high</th>\n",
       "      <th>arr_busy_low</th>\n",
       "      <th>arr_busy_medium</th>\n",
       "      <th>arr_busy_medium-high</th>\n",
       "    </tr>\n",
       "  </thead>\n",
       "  <tbody>\n",
       "    <tr>\n",
       "      <th>949942</th>\n",
       "      <td>22</td>\n",
       "      <td>2880</td>\n",
       "      <td>156</td>\n",
       "      <td>119</td>\n",
       "      <td>572.0</td>\n",
       "      <td>4962</td>\n",
       "      <td>7</td>\n",
       "      <td>20</td>\n",
       "      <td>-5.0</td>\n",
       "      <td>-2.0</td>\n",
       "      <td>...</td>\n",
       "      <td>1</td>\n",
       "      <td>0</td>\n",
       "      <td>0</td>\n",
       "      <td>0</td>\n",
       "      <td>1</td>\n",
       "      <td>0</td>\n",
       "      <td>0</td>\n",
       "      <td>0</td>\n",
       "      <td>0</td>\n",
       "      <td>1</td>\n",
       "    </tr>\n",
       "    <tr>\n",
       "      <th>301370</th>\n",
       "      <td>9</td>\n",
       "      <td>4239</td>\n",
       "      <td>156</td>\n",
       "      <td>231</td>\n",
       "      <td>30.0</td>\n",
       "      <td>54</td>\n",
       "      <td>1</td>\n",
       "      <td>26</td>\n",
       "      <td>-7.0</td>\n",
       "      <td>-3.0</td>\n",
       "      <td>...</td>\n",
       "      <td>0</td>\n",
       "      <td>0</td>\n",
       "      <td>0</td>\n",
       "      <td>0</td>\n",
       "      <td>1</td>\n",
       "      <td>0</td>\n",
       "      <td>0</td>\n",
       "      <td>1</td>\n",
       "      <td>0</td>\n",
       "      <td>0</td>\n",
       "    </tr>\n",
       "    <tr>\n",
       "      <th>434492</th>\n",
       "      <td>5</td>\n",
       "      <td>5764</td>\n",
       "      <td>183</td>\n",
       "      <td>94</td>\n",
       "      <td>291.0</td>\n",
       "      <td>1626</td>\n",
       "      <td>8</td>\n",
       "      <td>16</td>\n",
       "      <td>-5.0</td>\n",
       "      <td>-2.0</td>\n",
       "      <td>...</td>\n",
       "      <td>0</td>\n",
       "      <td>0</td>\n",
       "      <td>0</td>\n",
       "      <td>0</td>\n",
       "      <td>0</td>\n",
       "      <td>1</td>\n",
       "      <td>1</td>\n",
       "      <td>0</td>\n",
       "      <td>0</td>\n",
       "      <td>0</td>\n",
       "    </tr>\n",
       "    <tr>\n",
       "      <th>831492</th>\n",
       "      <td>4</td>\n",
       "      <td>400</td>\n",
       "      <td>93</td>\n",
       "      <td>233</td>\n",
       "      <td>136.0</td>\n",
       "      <td>752</td>\n",
       "      <td>10</td>\n",
       "      <td>16</td>\n",
       "      <td>-7.0</td>\n",
       "      <td>-3.0</td>\n",
       "      <td>...</td>\n",
       "      <td>0</td>\n",
       "      <td>0</td>\n",
       "      <td>1</td>\n",
       "      <td>0</td>\n",
       "      <td>0</td>\n",
       "      <td>0</td>\n",
       "      <td>0</td>\n",
       "      <td>1</td>\n",
       "      <td>0</td>\n",
       "      <td>0</td>\n",
       "    </tr>\n",
       "    <tr>\n",
       "      <th>74045</th>\n",
       "      <td>24</td>\n",
       "      <td>2436</td>\n",
       "      <td>340</td>\n",
       "      <td>94</td>\n",
       "      <td>150.0</td>\n",
       "      <td>770</td>\n",
       "      <td>11</td>\n",
       "      <td>8</td>\n",
       "      <td>-7.0</td>\n",
       "      <td>-3.0</td>\n",
       "      <td>...</td>\n",
       "      <td>1</td>\n",
       "      <td>0</td>\n",
       "      <td>0</td>\n",
       "      <td>0</td>\n",
       "      <td>1</td>\n",
       "      <td>0</td>\n",
       "      <td>1</td>\n",
       "      <td>0</td>\n",
       "      <td>0</td>\n",
       "      <td>0</td>\n",
       "    </tr>\n",
       "    <tr>\n",
       "      <th>...</th>\n",
       "      <td>...</td>\n",
       "      <td>...</td>\n",
       "      <td>...</td>\n",
       "      <td>...</td>\n",
       "      <td>...</td>\n",
       "      <td>...</td>\n",
       "      <td>...</td>\n",
       "      <td>...</td>\n",
       "      <td>...</td>\n",
       "      <td>...</td>\n",
       "      <td>...</td>\n",
       "      <td>...</td>\n",
       "      <td>...</td>\n",
       "      <td>...</td>\n",
       "      <td>...</td>\n",
       "      <td>...</td>\n",
       "      <td>...</td>\n",
       "      <td>...</td>\n",
       "      <td>...</td>\n",
       "      <td>...</td>\n",
       "      <td>...</td>\n",
       "    </tr>\n",
       "    <tr>\n",
       "      <th>60975</th>\n",
       "      <td>3</td>\n",
       "      <td>3209</td>\n",
       "      <td>321</td>\n",
       "      <td>195</td>\n",
       "      <td>95.0</td>\n",
       "      <td>337</td>\n",
       "      <td>6</td>\n",
       "      <td>9</td>\n",
       "      <td>-4.0</td>\n",
       "      <td>-1.0</td>\n",
       "      <td>...</td>\n",
       "      <td>0</td>\n",
       "      <td>0</td>\n",
       "      <td>0</td>\n",
       "      <td>0</td>\n",
       "      <td>0</td>\n",
       "      <td>1</td>\n",
       "      <td>1</td>\n",
       "      <td>0</td>\n",
       "      <td>0</td>\n",
       "      <td>0</td>\n",
       "    </tr>\n",
       "    <tr>\n",
       "      <th>871081</th>\n",
       "      <td>19</td>\n",
       "      <td>2333</td>\n",
       "      <td>300</td>\n",
       "      <td>319</td>\n",
       "      <td>123.0</td>\n",
       "      <td>564</td>\n",
       "      <td>4</td>\n",
       "      <td>28</td>\n",
       "      <td>-7.0</td>\n",
       "      <td>-3.0</td>\n",
       "      <td>...</td>\n",
       "      <td>1</td>\n",
       "      <td>0</td>\n",
       "      <td>0</td>\n",
       "      <td>0</td>\n",
       "      <td>1</td>\n",
       "      <td>0</td>\n",
       "      <td>0</td>\n",
       "      <td>0</td>\n",
       "      <td>0</td>\n",
       "      <td>1</td>\n",
       "    </tr>\n",
       "    <tr>\n",
       "      <th>922732</th>\n",
       "      <td>3</td>\n",
       "      <td>2300</td>\n",
       "      <td>319</td>\n",
       "      <td>309</td>\n",
       "      <td>247.0</td>\n",
       "      <td>1774</td>\n",
       "      <td>10</td>\n",
       "      <td>25</td>\n",
       "      <td>-7.0</td>\n",
       "      <td>-3.0</td>\n",
       "      <td>...</td>\n",
       "      <td>0</td>\n",
       "      <td>0</td>\n",
       "      <td>0</td>\n",
       "      <td>0</td>\n",
       "      <td>0</td>\n",
       "      <td>1</td>\n",
       "      <td>0</td>\n",
       "      <td>0</td>\n",
       "      <td>1</td>\n",
       "      <td>0</td>\n",
       "    </tr>\n",
       "    <tr>\n",
       "      <th>517441</th>\n",
       "      <td>24</td>\n",
       "      <td>2761</td>\n",
       "      <td>309</td>\n",
       "      <td>270</td>\n",
       "      <td>145.0</td>\n",
       "      <td>843</td>\n",
       "      <td>3</td>\n",
       "      <td>12</td>\n",
       "      <td>-6.0</td>\n",
       "      <td>-2.0</td>\n",
       "      <td>...</td>\n",
       "      <td>0</td>\n",
       "      <td>0</td>\n",
       "      <td>0</td>\n",
       "      <td>0</td>\n",
       "      <td>1</td>\n",
       "      <td>0</td>\n",
       "      <td>0</td>\n",
       "      <td>0</td>\n",
       "      <td>0</td>\n",
       "      <td>1</td>\n",
       "    </tr>\n",
       "    <tr>\n",
       "      <th>491918</th>\n",
       "      <td>24</td>\n",
       "      <td>4086</td>\n",
       "      <td>254</td>\n",
       "      <td>332</td>\n",
       "      <td>80.0</td>\n",
       "      <td>390</td>\n",
       "      <td>4</td>\n",
       "      <td>30</td>\n",
       "      <td>-7.0</td>\n",
       "      <td>-3.0</td>\n",
       "      <td>...</td>\n",
       "      <td>0</td>\n",
       "      <td>1</td>\n",
       "      <td>0</td>\n",
       "      <td>0</td>\n",
       "      <td>1</td>\n",
       "      <td>0</td>\n",
       "      <td>0</td>\n",
       "      <td>0</td>\n",
       "      <td>1</td>\n",
       "      <td>0</td>\n",
       "    </tr>\n",
       "  </tbody>\n",
       "</table>\n",
       "<p>100000 rows × 45 columns</p>\n",
       "</div>"
      ],
      "text/plain": [
       "        op_unique_carrier  tail_num  origin  dest  crs_elapsed_time  distance  \\\n",
       "949942                 22      2880     156   119             572.0      4962   \n",
       "301370                  9      4239     156   231              30.0        54   \n",
       "434492                  5      5764     183    94             291.0      1626   \n",
       "831492                  4       400      93   233             136.0       752   \n",
       "74045                  24      2436     340    94             150.0       770   \n",
       "...                   ...       ...     ...   ...               ...       ...   \n",
       "60975                   3      3209     321   195              95.0       337   \n",
       "871081                 19      2333     300   319             123.0       564   \n",
       "922732                  3      2300     319   309             247.0      1774   \n",
       "517441                 24      2761     309   270             145.0       843   \n",
       "491918                 24      4086     254   332              80.0       390   \n",
       "\n",
       "        month  day  month_arr_delay_avg  month_dep_delay_avg  ...  \\\n",
       "949942      7   20                 -5.0                 -2.0  ...   \n",
       "301370      1   26                 -7.0                 -3.0  ...   \n",
       "434492      8   16                 -5.0                 -2.0  ...   \n",
       "831492     10   16                 -7.0                 -3.0  ...   \n",
       "74045      11    8                 -7.0                 -3.0  ...   \n",
       "...       ...  ...                  ...                  ...  ...   \n",
       "60975       6    9                 -4.0                 -1.0  ...   \n",
       "871081      4   28                 -7.0                 -3.0  ...   \n",
       "922732     10   25                 -7.0                 -3.0  ...   \n",
       "517441      3   12                 -6.0                 -2.0  ...   \n",
       "491918      4   30                 -7.0                 -3.0  ...   \n",
       "\n",
       "        arr_time_desc_morning  arr_time_desc_noon  orr_busy_high  \\\n",
       "949942                      1                   0              0   \n",
       "301370                      0                   0              0   \n",
       "434492                      0                   0              0   \n",
       "831492                      0                   0              1   \n",
       "74045                       1                   0              0   \n",
       "...                       ...                 ...            ...   \n",
       "60975                       0                   0              0   \n",
       "871081                      1                   0              0   \n",
       "922732                      0                   0              0   \n",
       "517441                      0                   0              0   \n",
       "491918                      0                   1              0   \n",
       "\n",
       "        orr_busy_low  orr_busy_medium  orr_busy_medium-high  arr_busy_high  \\\n",
       "949942             0                1                     0              0   \n",
       "301370             0                1                     0              0   \n",
       "434492             0                0                     1              1   \n",
       "831492             0                0                     0              0   \n",
       "74045              0                1                     0              1   \n",
       "...              ...              ...                   ...            ...   \n",
       "60975              0                0                     1              1   \n",
       "871081             0                1                     0              0   \n",
       "922732             0                0                     1              0   \n",
       "517441             0                1                     0              0   \n",
       "491918             0                1                     0              0   \n",
       "\n",
       "        arr_busy_low  arr_busy_medium  arr_busy_medium-high  \n",
       "949942             0                0                     1  \n",
       "301370             1                0                     0  \n",
       "434492             0                0                     0  \n",
       "831492             1                0                     0  \n",
       "74045              0                0                     0  \n",
       "...              ...              ...                   ...  \n",
       "60975              0                0                     0  \n",
       "871081             0                0                     1  \n",
       "922732             0                1                     0  \n",
       "517441             0                0                     1  \n",
       "491918             0                1                     0  \n",
       "\n",
       "[100000 rows x 45 columns]"
      ]
     },
     "execution_count": 36,
     "metadata": {},
     "output_type": "execute_result"
    }
   ],
   "source": [
    "X"
   ]
  },
  {
   "cell_type": "code",
   "execution_count": 37,
   "metadata": {},
   "outputs": [],
   "source": [
    "X_transformed = X.to_numpy()\n",
    "y_transformed = y.to_numpy().reshape(-1,1)"
   ]
  },
  {
   "cell_type": "code",
   "execution_count": 38,
   "metadata": {},
   "outputs": [
    {
     "data": {
      "text/plain": [
       "'\\nnumber_of_rows = X_transformed.shape[0]\\nrandom_indices = np.random.choice(number_of_rows, size=100000, replace=False)\\nX_transformed_sample = X_transformed[random_indices, :]\\n\\nnumber_of_rows = y.shape[0]\\ny_sample = y[random_indices]\\n\\nX_transformed_sample.shape, y_sample.shape\\n'"
      ]
     },
     "execution_count": 38,
     "metadata": {},
     "output_type": "execute_result"
    }
   ],
   "source": [
    "'''\n",
    "number_of_rows = X_transformed.shape[0]\n",
    "random_indices = np.random.choice(number_of_rows, size=100000, replace=False)\n",
    "X_transformed_sample = X_transformed[random_indices, :]\n",
    "\n",
    "number_of_rows = y.shape[0]\n",
    "y_sample = y[random_indices]\n",
    "\n",
    "X_transformed_sample.shape, y_sample.shape\n",
    "'''"
   ]
  },
  {
   "cell_type": "code",
   "execution_count": 39,
   "metadata": {},
   "outputs": [
    {
     "data": {
      "text/plain": [
       "array([[2.200e+01, 2.880e+03, 1.560e+02, ..., 0.000e+00, 0.000e+00,\n",
       "        1.000e+00],\n",
       "       [9.000e+00, 4.239e+03, 1.560e+02, ..., 1.000e+00, 0.000e+00,\n",
       "        0.000e+00],\n",
       "       [5.000e+00, 5.764e+03, 1.830e+02, ..., 0.000e+00, 0.000e+00,\n",
       "        0.000e+00],\n",
       "       ...,\n",
       "       [3.000e+00, 2.300e+03, 3.190e+02, ..., 0.000e+00, 1.000e+00,\n",
       "        0.000e+00],\n",
       "       [2.400e+01, 2.761e+03, 3.090e+02, ..., 0.000e+00, 0.000e+00,\n",
       "        1.000e+00],\n",
       "       [2.400e+01, 4.086e+03, 2.540e+02, ..., 0.000e+00, 1.000e+00,\n",
       "        0.000e+00]])"
      ]
     },
     "execution_count": 39,
     "metadata": {},
     "output_type": "execute_result"
    }
   ],
   "source": [
    "X_transformed"
   ]
  },
  {
   "cell_type": "code",
   "execution_count": 40,
   "metadata": {},
   "outputs": [],
   "source": [
    "xtrain, xtest, ytrain, ytest = train_test_split(X_transformed, y_transformed, test_size=0.2)"
   ]
  },
  {
   "cell_type": "code",
   "execution_count": 41,
   "metadata": {},
   "outputs": [],
   "source": [
    "import xgboost as xgb"
   ]
  },
  {
   "cell_type": "code",
   "execution_count": 42,
   "metadata": {},
   "outputs": [
    {
     "data": {
      "text/plain": [
       "0.06733442531814615"
      ]
     },
     "execution_count": 42,
     "metadata": {},
     "output_type": "execute_result"
    }
   ],
   "source": [
    "xg_reg = xgb.XGBRegressor()\n",
    "\n",
    "xg_reg.fit(xtrain, ytrain)\n",
    "xg_reg.score(xtest, ytest)"
   ]
  },
  {
   "cell_type": "code",
   "execution_count": 43,
   "metadata": {},
   "outputs": [],
   "source": [
    "rfr = RandomForestRegressor()"
   ]
  },
  {
   "cell_type": "code",
   "execution_count": 44,
   "metadata": {},
   "outputs": [
    {
     "data": {
      "text/plain": [
       "RandomForestRegressor()"
      ]
     },
     "execution_count": 44,
     "metadata": {},
     "output_type": "execute_result"
    }
   ],
   "source": [
    "rfr.fit(xtrain, ytrain)"
   ]
  },
  {
   "cell_type": "code",
   "execution_count": 45,
   "metadata": {},
   "outputs": [
    {
     "data": {
      "text/plain": [
       "0.08131659693030946"
      ]
     },
     "execution_count": 45,
     "metadata": {},
     "output_type": "execute_result"
    }
   ],
   "source": [
    "rfr.score(xtest, ytest)"
   ]
  },
  {
   "cell_type": "code",
   "execution_count": 46,
   "metadata": {},
   "outputs": [],
   "source": [
    "def plot_feature_importance(importance,names,model_type):\n",
    "\n",
    "#Create arrays from feature importance and feature names\n",
    "    feature_importance = np.array(importance)\n",
    "    feature_names = np.array(names)\n",
    "\n",
    "#Create a DataFrame using a Dictionary\n",
    "    data={'feature_names':feature_names,'feature_importance':feature_importance}\n",
    "    fi_df = pd.DataFrame(data)\n",
    "\n",
    "#Sort the DataFrame in order decreasing feature importance\n",
    "    fi_df.sort_values(by=['feature_importance'], ascending=False,inplace=True)\n",
    "\n",
    "#Define size of bar plot\n",
    "    plt.figure(figsize=(10,8))\n",
    "#Plot Searborn bar chart\n",
    "    sns.barplot(x=fi_df['feature_importance'], y=fi_df['feature_names'])\n",
    "#Add chart labels\n",
    "    plt.title(model_type + 'FEATURE IMPORTANCE')\n",
    "    plt.xlabel('FEATURE IMPORTANCE')\n",
    "    plt.ylabel('FEATURE NAMES')"
   ]
  },
  {
   "cell_type": "code",
   "execution_count": 47,
   "metadata": {},
   "outputs": [
    {
     "data": {
      "image/png": "[encoded data removed]",
      "text/plain": [
       "<Figure size 720x576 with 1 Axes>"
      ]
     },
     "metadata": {
      "needs_background": "light"
     },
     "output_type": "display_data"
    }
   ],
   "source": [
    "plot_feature_importance(rfr.feature_importances_, X.columns, 'Random Forest')"
   ]
  },
  {
   "cell_type": "code",
   "execution_count": 48,
   "metadata": {},
   "outputs": [
    {
     "data": {
      "text/plain": [
       "45"
      ]
     },
     "execution_count": 48,
     "metadata": {},
     "output_type": "execute_result"
    }
   ],
   "source": [
    "len(rfr.feature_importances_)"
   ]
  },
  {
   "cell_type": "code",
   "execution_count": 49,
   "metadata": {},
   "outputs": [
    {
     "data": {
      "text/plain": [
       "Index(['op_unique_carrier', 'tail_num', 'origin', 'dest', 'crs_elapsed_time',\n",
       "       'distance', 'month', 'day', 'month_arr_delay_avg',\n",
       "       'month_dep_delay_avg', 'is_weekend', 'dep_hour', 'dep_min', 'arr_hour',\n",
       "       'arr_min', 'plane_score', 'route_mean_delay', 'route_median_delay',\n",
       "       'route_lq_delay', 'route_uq_delay', 'route_prob_delay',\n",
       "       'route_mean_dep_delay', 'route_median_dep_delay', 'route_lq_dep_delay',\n",
       "       'route_uq_dep_delay', 'dep_time_desc_early morning',\n",
       "       'dep_time_desc_evening', 'dep_time_desc_late night',\n",
       "       'dep_time_desc_midnight', 'dep_time_desc_morning', 'dep_time_desc_noon',\n",
       "       'arr_time_desc_early morning', 'arr_time_desc_evening',\n",
       "       'arr_time_desc_late night', 'arr_time_desc_midnight',\n",
       "       'arr_time_desc_morning', 'arr_time_desc_noon', 'orr_busy_high',\n",
       "       'orr_busy_low', 'orr_busy_medium', 'orr_busy_medium-high',\n",
       "       'arr_busy_high', 'arr_busy_low', 'arr_busy_medium',\n",
       "       'arr_busy_medium-high'],\n",
       "      dtype='object')"
      ]
     },
     "execution_count": 49,
     "metadata": {},
     "output_type": "execute_result"
    }
   ],
   "source": [
    "X.columns"
   ]
  },
  {
   "cell_type": "code",
   "execution_count": 50,
   "metadata": {},
   "outputs": [],
   "source": [
    "gbr = GradientBoostingRegressor()"
   ]
  },
  {
   "cell_type": "code",
   "execution_count": 51,
   "metadata": {},
   "outputs": [
    {
     "data": {
      "text/plain": [
       "GradientBoostingRegressor()"
      ]
     },
     "execution_count": 51,
     "metadata": {},
     "output_type": "execute_result"
    }
   ],
   "source": [
    "gbr.fit(xtrain, ytrain)"
   ]
  },
  {
   "cell_type": "code",
   "execution_count": 52,
   "metadata": {},
   "outputs": [
    {
     "data": {
      "text/plain": [
       "0.16297893551574827"
      ]
     },
     "execution_count": 52,
     "metadata": {},
     "output_type": "execute_result"
    }
   ],
   "source": [
    "gbr.score(xtest, ytest)"
   ]
  },
  {
   "cell_type": "code",
   "execution_count": 53,
   "metadata": {},
   "outputs": [],
   "source": [
    "y_pred = gbr.predict(xtest)"
   ]
  },
  {
   "cell_type": "code",
   "execution_count": 54,
   "metadata": {},
   "outputs": [
    {
     "data": {
      "image/png": "[encoded data removed]",
      "text/plain": [
       "<Figure size 432x288 with 1 Axes>"
      ]
     },
     "metadata": {
      "needs_background": "light"
     },
     "output_type": "display_data"
    }
   ],
   "source": [
    "sns.scatterplot(x=y_pred, y=ytest.reshape(1,-1)[0])\n",
    "sns.despine()\n",
    "plt.show()"
   ]
  },
  {
   "cell_type": "code",
   "execution_count": 55,
   "metadata": {},
   "outputs": [
    {
     "data": {
      "image/png": "[encoded data removed]",
      "text/plain": [
       "<Figure size 720x576 with 1 Axes>"
      ]
     },
     "metadata": {
      "needs_background": "light"
     },
     "output_type": "display_data"
    }
   ],
   "source": [
    "plot_feature_importance(gbr.feature_importances_, X.columns, 'Gradient Boost')"
   ]
  },
  {
   "cell_type": "markdown",
   "metadata": {},
   "source": [
    "## Test 2: Only Flights Data - Drop a few features!"
   ]
  },
  {
   "cell_type": "code",
   "execution_count": 56,
   "metadata": {},
   "outputs": [],
   "source": [
    "flights_df2 = flights[['route_mean_delay', 'route_mean_dep_delay', 'plane_score', 'route_median_delay', 'crs_elapsed_time',\n",
    "                      'route_lq_delay', 'arr_hour', 'route_uq_delay', 'tail_num', 'dep_min', 'dep_hour', 'origin', 'route_prob_delay',\n",
    "                      'dest', 'arr_min', 'arr_delay']]"
   ]
  },
  {
   "cell_type": "code",
   "execution_count": 57,
   "metadata": {},
   "outputs": [],
   "source": [
    "flights_df2 = flights_df2.sample(frac=1)[:100000]"
   ]
  },
  {
   "cell_type": "code",
   "execution_count": 58,
   "metadata": {},
   "outputs": [],
   "source": [
    "X = flights_df2.drop('arr_delay', axis=1)\n",
    "y = flights_df2['arr_delay']"
   ]
  },
  {
   "cell_type": "code",
   "execution_count": 59,
   "metadata": {},
   "outputs": [],
   "source": [
    "tail_num_le = LabelEncoder()\n",
    "X['tail_num'] = tail_num_le.fit_transform(X['tail_num'])\n",
    "\n",
    "airports_le = LabelEncoder()\n",
    "X['origin'] = airports_le.fit_transform(X['origin'])\n",
    "X['dest'] = airports_le.fit_transform(X['dest'])"
   ]
  },
  {
   "cell_type": "code",
   "execution_count": 60,
   "metadata": {},
   "outputs": [],
   "source": [
    "X_transformed = X.to_numpy()\n",
    "y_transformed = y.to_numpy().reshape(-1,1)"
   ]
  },
  {
   "cell_type": "code",
   "execution_count": 61,
   "metadata": {},
   "outputs": [],
   "source": [
    "xtrain, xtest, ytrain, ytest = train_test_split(X_transformed, y_transformed, test_size=0.2)"
   ]
  },
  {
   "cell_type": "code",
   "execution_count": 62,
   "metadata": {},
   "outputs": [],
   "source": [
    "gbr = GradientBoostingRegressor()"
   ]
  },
  {
   "cell_type": "code",
   "execution_count": 63,
   "metadata": {},
   "outputs": [
    {
     "data": {
      "text/plain": [
       "0.16026965810020377"
      ]
     },
     "execution_count": 63,
     "metadata": {},
     "output_type": "execute_result"
    }
   ],
   "source": [
    "gbr.fit(xtrain, ytrain)\n",
    "gbr.score(xtest, ytest)"
   ]
  },
  {
   "cell_type": "markdown",
   "metadata": {},
   "source": [
    "## Test 3: Incorporating Weather Data"
   ]
  },
  {
   "cell_type": "code",
   "execution_count": 64,
   "metadata": {},
   "outputs": [],
   "source": [
    "flights_df3 = pd.merge(flights, weather, on=['date','origin', 'dest'], how='inner')"
   ]
  },
  {
   "cell_type": "code",
   "execution_count": 65,
   "metadata": {},
   "outputs": [
    {
     "data": {
      "text/plain": [
       "(102479, 73)"
      ]
     },
     "execution_count": 65,
     "metadata": {},
     "output_type": "execute_result"
    }
   ],
   "source": [
    "flights_df3.shape"
   ]
  },
  {
   "cell_type": "code",
   "execution_count": 66,
   "metadata": {},
   "outputs": [],
   "source": [
    "flights_df3 = flights_df3.drop_duplicates()"
   ]
  },
  {
   "cell_type": "code",
   "execution_count": 67,
   "metadata": {},
   "outputs": [
    {
     "data": {
      "text/plain": [
       "(102263, 73)"
      ]
     },
     "execution_count": 67,
     "metadata": {},
     "output_type": "execute_result"
    }
   ],
   "source": [
    "flights_df3.shape"
   ]
  },
  {
   "cell_type": "code",
   "execution_count": 68,
   "metadata": {},
   "outputs": [],
   "source": [
    "flights_df3 = flights_df3[['op_unique_carrier', 'tail_num', 'origin', 'dest', 'arr_delay_x', 'crs_elapsed_time',\n",
    "                          'distance', 'month', 'day', 'month_arr_delay_avg', 'month_dep_delay_avg', 'is_weekend',\n",
    "                          'dep_hour', 'dep_min', 'arr_hour', 'arr_min', 'dep_time_desc', 'arr_time_desc',\n",
    "                          'plane_score', 'orr_busy', 'arr_busy', 'route_mean_delay', 'route_median_delay', 'route_lq_delay', 'route_uq_delay',\n",
    "                          'route_prob_delay','route_mean_dep_delay', 'route_median_dep_delay', 'route_lq_dep_delay',\n",
    "                           'route_uq_dep_delay','dep_avg_temp',\n",
    "                           'dep_precip_mm', 'dep_humidity', 'dep_visibility', 'dep_total_snowcm',\n",
    "                           'dep_windspeed', 'arr_avg_temp',\n",
    "                            'arr_precip_mm', 'arr_humidity', 'arr_visibility', 'arr_total_snowcm',\n",
    "                           'arr_windspeed']]"
   ]
  },
  {
   "cell_type": "code",
   "execution_count": 69,
   "metadata": {},
   "outputs": [],
   "source": [
    "flights_df3.rename(columns={'arr_delay_x': 'arr_delay'}, inplace=True)"
   ]
  },
  {
   "cell_type": "code",
   "execution_count": 70,
   "metadata": {},
   "outputs": [
    {
     "data": {
      "text/html": [
       "<div>\n",
       "<style scoped>\n",
       "    .dataframe tbody tr th:only-of-type {\n",
       "        vertical-align: middle;\n",
       "    }\n",
       "\n",
       "    .dataframe tbody tr th {\n",
       "        vertical-align: top;\n",
       "    }\n",
       "\n",
       "    .dataframe thead th {\n",
       "        text-align: right;\n",
       "    }\n",
       "</style>\n",
       "<table border=\"1\" class=\"dataframe\">\n",
       "  <thead>\n",
       "    <tr style=\"text-align: right;\">\n",
       "      <th></th>\n",
       "      <th>op_unique_carrier</th>\n",
       "      <th>tail_num</th>\n",
       "      <th>origin</th>\n",
       "      <th>dest</th>\n",
       "      <th>arr_delay</th>\n",
       "      <th>crs_elapsed_time</th>\n",
       "      <th>distance</th>\n",
       "      <th>month</th>\n",
       "      <th>day</th>\n",
       "      <th>month_arr_delay_avg</th>\n",
       "      <th>...</th>\n",
       "      <th>dep_humidity</th>\n",
       "      <th>dep_visibility</th>\n",
       "      <th>dep_total_snowcm</th>\n",
       "      <th>dep_windspeed</th>\n",
       "      <th>arr_avg_temp</th>\n",
       "      <th>arr_precip_mm</th>\n",
       "      <th>arr_humidity</th>\n",
       "      <th>arr_visibility</th>\n",
       "      <th>arr_total_snowcm</th>\n",
       "      <th>arr_windspeed</th>\n",
       "    </tr>\n",
       "  </thead>\n",
       "  <tbody>\n",
       "    <tr>\n",
       "      <th>0</th>\n",
       "      <td>UA</td>\n",
       "      <td>N76288</td>\n",
       "      <td>SEA</td>\n",
       "      <td>ORD</td>\n",
       "      <td>-19.0</td>\n",
       "      <td>239.0</td>\n",
       "      <td>1721</td>\n",
       "      <td>3</td>\n",
       "      <td>27</td>\n",
       "      <td>-6.0</td>\n",
       "      <td>...</td>\n",
       "      <td>57</td>\n",
       "      <td>10</td>\n",
       "      <td>0.0</td>\n",
       "      <td>13</td>\n",
       "      <td>24</td>\n",
       "      <td>0.0</td>\n",
       "      <td>48</td>\n",
       "      <td>10</td>\n",
       "      <td>0.0</td>\n",
       "      <td>5</td>\n",
       "    </tr>\n",
       "    <tr>\n",
       "      <th>1</th>\n",
       "      <td>UA</td>\n",
       "      <td>N845UA</td>\n",
       "      <td>SEA</td>\n",
       "      <td>ORD</td>\n",
       "      <td>-12.0</td>\n",
       "      <td>240.0</td>\n",
       "      <td>1721</td>\n",
       "      <td>3</td>\n",
       "      <td>12</td>\n",
       "      <td>-6.0</td>\n",
       "      <td>...</td>\n",
       "      <td>73</td>\n",
       "      <td>9</td>\n",
       "      <td>0.0</td>\n",
       "      <td>13</td>\n",
       "      <td>24</td>\n",
       "      <td>0.0</td>\n",
       "      <td>63</td>\n",
       "      <td>10</td>\n",
       "      <td>0.0</td>\n",
       "      <td>12</td>\n",
       "    </tr>\n",
       "    <tr>\n",
       "      <th>2</th>\n",
       "      <td>UA</td>\n",
       "      <td>N76269</td>\n",
       "      <td>SEA</td>\n",
       "      <td>ORD</td>\n",
       "      <td>-12.0</td>\n",
       "      <td>237.0</td>\n",
       "      <td>1721</td>\n",
       "      <td>3</td>\n",
       "      <td>26</td>\n",
       "      <td>-6.0</td>\n",
       "      <td>...</td>\n",
       "      <td>54</td>\n",
       "      <td>10</td>\n",
       "      <td>0.0</td>\n",
       "      <td>9</td>\n",
       "      <td>26</td>\n",
       "      <td>0.0</td>\n",
       "      <td>49</td>\n",
       "      <td>10</td>\n",
       "      <td>0.0</td>\n",
       "      <td>4</td>\n",
       "    </tr>\n",
       "    <tr>\n",
       "      <th>3</th>\n",
       "      <td>UA</td>\n",
       "      <td>N76269</td>\n",
       "      <td>SEA</td>\n",
       "      <td>ORD</td>\n",
       "      <td>-12.0</td>\n",
       "      <td>237.0</td>\n",
       "      <td>1721</td>\n",
       "      <td>3</td>\n",
       "      <td>26</td>\n",
       "      <td>-6.0</td>\n",
       "      <td>...</td>\n",
       "      <td>54</td>\n",
       "      <td>10</td>\n",
       "      <td>0.0</td>\n",
       "      <td>9</td>\n",
       "      <td>26</td>\n",
       "      <td>0.0</td>\n",
       "      <td>49</td>\n",
       "      <td>10</td>\n",
       "      <td>0.0</td>\n",
       "      <td>4</td>\n",
       "    </tr>\n",
       "    <tr>\n",
       "      <th>4</th>\n",
       "      <td>UA</td>\n",
       "      <td>N33262</td>\n",
       "      <td>SEA</td>\n",
       "      <td>ORD</td>\n",
       "      <td>-16.0</td>\n",
       "      <td>239.0</td>\n",
       "      <td>1721</td>\n",
       "      <td>3</td>\n",
       "      <td>26</td>\n",
       "      <td>-6.0</td>\n",
       "      <td>...</td>\n",
       "      <td>54</td>\n",
       "      <td>10</td>\n",
       "      <td>0.0</td>\n",
       "      <td>9</td>\n",
       "      <td>26</td>\n",
       "      <td>0.0</td>\n",
       "      <td>49</td>\n",
       "      <td>10</td>\n",
       "      <td>0.0</td>\n",
       "      <td>4</td>\n",
       "    </tr>\n",
       "  </tbody>\n",
       "</table>\n",
       "<p>5 rows × 42 columns</p>\n",
       "</div>"
      ],
      "text/plain": [
       "  op_unique_carrier tail_num origin dest  arr_delay  crs_elapsed_time  \\\n",
       "0                UA   N76288    SEA  ORD      -19.0             239.0   \n",
       "1                UA   N845UA    SEA  ORD      -12.0             240.0   \n",
       "2                UA   N76269    SEA  ORD      -12.0             237.0   \n",
       "3                UA   N76269    SEA  ORD      -12.0             237.0   \n",
       "4                UA   N33262    SEA  ORD      -16.0             239.0   \n",
       "\n",
       "   distance  month  day  month_arr_delay_avg  ...  dep_humidity  \\\n",
       "0      1721      3   27                 -6.0  ...            57   \n",
       "1      1721      3   12                 -6.0  ...            73   \n",
       "2      1721      3   26                 -6.0  ...            54   \n",
       "3      1721      3   26                 -6.0  ...            54   \n",
       "4      1721      3   26                 -6.0  ...            54   \n",
       "\n",
       "   dep_visibility  dep_total_snowcm  dep_windspeed  arr_avg_temp  \\\n",
       "0              10               0.0             13            24   \n",
       "1               9               0.0             13            24   \n",
       "2              10               0.0              9            26   \n",
       "3              10               0.0              9            26   \n",
       "4              10               0.0              9            26   \n",
       "\n",
       "   arr_precip_mm arr_humidity arr_visibility  arr_total_snowcm arr_windspeed  \n",
       "0            0.0           48             10               0.0             5  \n",
       "1            0.0           63             10               0.0            12  \n",
       "2            0.0           49             10               0.0             4  \n",
       "3            0.0           49             10               0.0             4  \n",
       "4            0.0           49             10               0.0             4  \n",
       "\n",
       "[5 rows x 42 columns]"
      ]
     },
     "execution_count": 70,
     "metadata": {},
     "output_type": "execute_result"
    }
   ],
   "source": [
    "flights_df3.head()"
   ]
  },
  {
   "cell_type": "code",
   "execution_count": 71,
   "metadata": {},
   "outputs": [],
   "source": [
    "flights_df3 = flights_df3.sample(frac=1)[:100000]"
   ]
  },
  {
   "cell_type": "code",
   "execution_count": 72,
   "metadata": {},
   "outputs": [],
   "source": [
    "X = flights_df3.drop('arr_delay', axis=1)\n",
    "y = flights_df3['arr_delay']"
   ]
  },
  {
   "cell_type": "code",
   "execution_count": 73,
   "metadata": {},
   "outputs": [],
   "source": [
    "tail_num_le = LabelEncoder()\n",
    "X['tail_num'] = tail_num_le.fit_transform(X['tail_num'])\n",
    "\n",
    "airports_le = LabelEncoder()\n",
    "X['origin'] = airports_le.fit_transform(X['origin'])\n",
    "X['dest'] = airports_le.fit_transform(X['dest'])\n",
    "\n",
    "op_carrier_le = LabelEncoder()\n",
    "X['op_unique_carrier'] = op_carrier_le.fit_transform(X['op_unique_carrier'])"
   ]
  },
  {
   "cell_type": "code",
   "execution_count": 74,
   "metadata": {},
   "outputs": [],
   "source": [
    "dummies = pd.get_dummies(X[['dep_time_desc', 'arr_time_desc', 'orr_busy', 'arr_busy']])\n",
    "X = pd.concat([X, dummies], axis=1)"
   ]
  },
  {
   "cell_type": "code",
   "execution_count": 75,
   "metadata": {},
   "outputs": [],
   "source": [
    "X.drop(['dep_time_desc', 'arr_time_desc', 'orr_busy', 'arr_busy'], axis=1, inplace=True)"
   ]
  },
  {
   "cell_type": "code",
   "execution_count": 76,
   "metadata": {},
   "outputs": [],
   "source": [
    "X_transformed = X.to_numpy()"
   ]
  },
  {
   "cell_type": "code",
   "execution_count": 77,
   "metadata": {},
   "outputs": [
    {
     "data": {
      "text/plain": [
       "array([[1.500e+01, 1.760e+02, 7.000e+00, ..., 0.000e+00, 0.000e+00,\n",
       "        1.000e+00],\n",
       "       [4.000e+00, 4.211e+03, 4.000e+00, ..., 0.000e+00, 0.000e+00,\n",
       "        1.000e+00],\n",
       "       [6.000e+00, 8.550e+02, 0.000e+00, ..., 0.000e+00, 0.000e+00,\n",
       "        1.000e+00],\n",
       "       ...,\n",
       "       [1.800e+01, 2.498e+03, 7.000e+00, ..., 0.000e+00, 0.000e+00,\n",
       "        1.000e+00],\n",
       "       [1.000e+00, 4.069e+03, 7.000e+00, ..., 0.000e+00, 0.000e+00,\n",
       "        1.000e+00],\n",
       "       [1.000e+00, 3.473e+03, 2.000e+00, ..., 0.000e+00, 0.000e+00,\n",
       "        1.000e+00]])"
      ]
     },
     "execution_count": 77,
     "metadata": {},
     "output_type": "execute_result"
    }
   ],
   "source": [
    "X_transformed"
   ]
  },
  {
   "cell_type": "code",
   "execution_count": 78,
   "metadata": {},
   "outputs": [],
   "source": [
    "y_transformed = y.to_numpy().reshape(-1,1)"
   ]
  },
  {
   "cell_type": "code",
   "execution_count": 79,
   "metadata": {},
   "outputs": [],
   "source": [
    "xtrain, xtest, ytrain, ytest = train_test_split(X_transformed, y_transformed, test_size=0.2)"
   ]
  },
  {
   "cell_type": "code",
   "execution_count": 80,
   "metadata": {},
   "outputs": [],
   "source": [
    "gbr = GradientBoostingRegressor()"
   ]
  },
  {
   "cell_type": "code",
   "execution_count": 81,
   "metadata": {},
   "outputs": [
    {
     "data": {
      "text/plain": [
       "0.15639658320666827"
      ]
     },
     "execution_count": 81,
     "metadata": {},
     "output_type": "execute_result"
    }
   ],
   "source": [
    "gbr.fit(xtrain, ytrain)\n",
    "gbr.score(xtest, ytest)"
   ]
  },
  {
   "cell_type": "code",
   "execution_count": 82,
   "metadata": {},
   "outputs": [],
   "source": [
    "y_pred_weather = gbr.predict(xtest)"
   ]
  },
  {
   "cell_type": "code",
   "execution_count": 83,
   "metadata": {},
   "outputs": [
    {
     "data": {
      "image/png": "[encoded data removed]",
      "text/plain": [
       "<Figure size 432x288 with 1 Axes>"
      ]
     },
     "metadata": {
      "needs_background": "light"
     },
     "output_type": "display_data"
    }
   ],
   "source": [
    "sns.scatterplot(x=y_pred_weather, y=ytest.reshape(1,-1)[0])\n",
    "sns.despine()\n",
    "plt.show()"
   ]
  },
  {
   "cell_type": "markdown",
   "metadata": {},
   "source": [
    "## Test 4: Split the Dataset into Extreme Delay and Non-Extreme Delay; No Weather Data"
   ]
  },
  {
   "cell_type": "code",
   "execution_count": 107,
   "metadata": {},
   "outputs": [],
   "source": [
    "flights_df4 = flights[['op_unique_carrier', 'tail_num', 'origin', 'dest', 'arr_delay',\n",
    "       'crs_elapsed_time', 'distance', 'month', 'day', 'month_arr_delay_avg',\n",
    "       'month_dep_delay_avg', 'is_weekend', 'dep_hour', 'dep_min', 'arr_hour',\n",
    "       'arr_min', 'dep_time_desc', 'arr_time_desc', 'plane_score', 'orr_busy',\n",
    "       'arr_busy', 'route_mean_delay', 'route_median_delay', 'route_lq_delay',\n",
    "       'route_uq_delay', 'route_prob_delay', 'route_mean_dep_delay',\n",
    "       'route_median_dep_delay', 'route_lq_dep_delay', 'route_uq_dep_delay']]"
   ]
  },
  {
   "cell_type": "code",
   "execution_count": 111,
   "metadata": {},
   "outputs": [
    {
     "data": {
      "text/plain": [
       "(5876, 30)"
      ]
     },
     "execution_count": 111,
     "metadata": {},
     "output_type": "execute_result"
    }
   ],
   "source": [
    "extreme_delays = flights_df4[flights_df4['arr_delay'] >= 240]\n",
    "extreme_delays.shape"
   ]
  },
  {
   "cell_type": "code",
   "execution_count": 140,
   "metadata": {},
   "outputs": [
    {
     "data": {
      "text/plain": [
       "(914909, 30)"
      ]
     },
     "execution_count": 140,
     "metadata": {},
     "output_type": "execute_result"
    }
   ],
   "source": [
    "nonext_delays = flights_df4[flights_df4['arr_delay'] < 60]\n",
    "nonext_delays.shape"
   ]
  },
  {
   "cell_type": "code",
   "execution_count": 185,
   "metadata": {},
   "outputs": [
    {
     "data": {
      "text/plain": [
       "(59528, 30)"
      ]
     },
     "execution_count": 185,
     "metadata": {},
     "output_type": "execute_result"
    }
   ],
   "source": [
    "medium_delays = flights_df4[(flights_df4['arr_delay'] >= 60) & (flights_df4['arr_delay'] <= 240)]\n",
    "medium_delays.shape"
   ]
  },
  {
   "cell_type": "code",
   "execution_count": 155,
   "metadata": {},
   "outputs": [
    {
     "data": {
      "text/plain": [
       "(100000, 30)"
      ]
     },
     "execution_count": 155,
     "metadata": {},
     "output_type": "execute_result"
    }
   ],
   "source": [
    "nonext_delays = nonext_delays.sample(frac=1)[:100000]\n",
    "nonext_delays.shape"
   ]
  },
  {
   "cell_type": "markdown",
   "metadata": {},
   "source": [
    "<b> Make model for extreme delays! </b>"
   ]
  },
  {
   "cell_type": "code",
   "execution_count": 113,
   "metadata": {},
   "outputs": [
    {
     "data": {
      "text/html": [
       "<div>\n",
       "<style scoped>\n",
       "    .dataframe tbody tr th:only-of-type {\n",
       "        vertical-align: middle;\n",
       "    }\n",
       "\n",
       "    .dataframe tbody tr th {\n",
       "        vertical-align: top;\n",
       "    }\n",
       "\n",
       "    .dataframe thead th {\n",
       "        text-align: right;\n",
       "    }\n",
       "</style>\n",
       "<table border=\"1\" class=\"dataframe\">\n",
       "  <thead>\n",
       "    <tr style=\"text-align: right;\">\n",
       "      <th></th>\n",
       "      <th>op_unique_carrier</th>\n",
       "      <th>tail_num</th>\n",
       "      <th>origin</th>\n",
       "      <th>dest</th>\n",
       "      <th>arr_delay</th>\n",
       "      <th>crs_elapsed_time</th>\n",
       "      <th>distance</th>\n",
       "      <th>month</th>\n",
       "      <th>day</th>\n",
       "      <th>month_arr_delay_avg</th>\n",
       "      <th>...</th>\n",
       "      <th>arr_busy</th>\n",
       "      <th>route_mean_delay</th>\n",
       "      <th>route_median_delay</th>\n",
       "      <th>route_lq_delay</th>\n",
       "      <th>route_uq_delay</th>\n",
       "      <th>route_prob_delay</th>\n",
       "      <th>route_mean_dep_delay</th>\n",
       "      <th>route_median_dep_delay</th>\n",
       "      <th>route_lq_dep_delay</th>\n",
       "      <th>route_uq_dep_delay</th>\n",
       "    </tr>\n",
       "  </thead>\n",
       "  <tbody>\n",
       "    <tr>\n",
       "      <th>88</th>\n",
       "      <td>UA</td>\n",
       "      <td>N845UA</td>\n",
       "      <td>MSY</td>\n",
       "      <td>DEN</td>\n",
       "      <td>299.0</td>\n",
       "      <td>177.0</td>\n",
       "      <td>1062</td>\n",
       "      <td>3</td>\n",
       "      <td>25</td>\n",
       "      <td>-6.0</td>\n",
       "      <td>...</td>\n",
       "      <td>high</td>\n",
       "      <td>9.733333</td>\n",
       "      <td>-13.0</td>\n",
       "      <td>-15.5</td>\n",
       "      <td>-4.0</td>\n",
       "      <td>0.066667</td>\n",
       "      <td>16.133333</td>\n",
       "      <td>-4.0</td>\n",
       "      <td>-7.0</td>\n",
       "      <td>-1.5</td>\n",
       "    </tr>\n",
       "    <tr>\n",
       "      <th>107</th>\n",
       "      <td>UA</td>\n",
       "      <td>N439UA</td>\n",
       "      <td>EWR</td>\n",
       "      <td>PHX</td>\n",
       "      <td>325.0</td>\n",
       "      <td>326.0</td>\n",
       "      <td>2133</td>\n",
       "      <td>3</td>\n",
       "      <td>9</td>\n",
       "      <td>-6.0</td>\n",
       "      <td>...</td>\n",
       "      <td>medium-high</td>\n",
       "      <td>37.176471</td>\n",
       "      <td>-6.0</td>\n",
       "      <td>-18.0</td>\n",
       "      <td>35.0</td>\n",
       "      <td>0.352941</td>\n",
       "      <td>41.235294</td>\n",
       "      <td>1.0</td>\n",
       "      <td>-4.0</td>\n",
       "      <td>27.0</td>\n",
       "    </tr>\n",
       "    <tr>\n",
       "      <th>108</th>\n",
       "      <td>UA</td>\n",
       "      <td>N36247</td>\n",
       "      <td>EWR</td>\n",
       "      <td>PHX</td>\n",
       "      <td>299.0</td>\n",
       "      <td>336.0</td>\n",
       "      <td>2133</td>\n",
       "      <td>3</td>\n",
       "      <td>3</td>\n",
       "      <td>-6.0</td>\n",
       "      <td>...</td>\n",
       "      <td>medium-high</td>\n",
       "      <td>37.176471</td>\n",
       "      <td>-6.0</td>\n",
       "      <td>-18.0</td>\n",
       "      <td>35.0</td>\n",
       "      <td>0.352941</td>\n",
       "      <td>41.235294</td>\n",
       "      <td>1.0</td>\n",
       "      <td>-4.0</td>\n",
       "      <td>27.0</td>\n",
       "    </tr>\n",
       "    <tr>\n",
       "      <th>147</th>\n",
       "      <td>UA</td>\n",
       "      <td>N35236</td>\n",
       "      <td>EWR</td>\n",
       "      <td>MCO</td>\n",
       "      <td>295.0</td>\n",
       "      <td>173.0</td>\n",
       "      <td>937</td>\n",
       "      <td>3</td>\n",
       "      <td>2</td>\n",
       "      <td>-6.0</td>\n",
       "      <td>...</td>\n",
       "      <td>medium-high</td>\n",
       "      <td>4.024390</td>\n",
       "      <td>-9.0</td>\n",
       "      <td>-23.0</td>\n",
       "      <td>11.0</td>\n",
       "      <td>0.268293</td>\n",
       "      <td>16.121951</td>\n",
       "      <td>-3.0</td>\n",
       "      <td>-5.0</td>\n",
       "      <td>18.0</td>\n",
       "    </tr>\n",
       "    <tr>\n",
       "      <th>186</th>\n",
       "      <td>UA</td>\n",
       "      <td>N17233</td>\n",
       "      <td>SLC</td>\n",
       "      <td>IAH</td>\n",
       "      <td>335.0</td>\n",
       "      <td>186.0</td>\n",
       "      <td>1195</td>\n",
       "      <td>3</td>\n",
       "      <td>29</td>\n",
       "      <td>-6.0</td>\n",
       "      <td>...</td>\n",
       "      <td>medium-high</td>\n",
       "      <td>30.111111</td>\n",
       "      <td>-10.0</td>\n",
       "      <td>-18.0</td>\n",
       "      <td>-7.0</td>\n",
       "      <td>0.222222</td>\n",
       "      <td>35.777778</td>\n",
       "      <td>-4.0</td>\n",
       "      <td>-8.0</td>\n",
       "      <td>-1.0</td>\n",
       "    </tr>\n",
       "  </tbody>\n",
       "</table>\n",
       "<p>5 rows × 30 columns</p>\n",
       "</div>"
      ],
      "text/plain": [
       "    op_unique_carrier tail_num origin dest  arr_delay  crs_elapsed_time  \\\n",
       "88                 UA   N845UA    MSY  DEN      299.0             177.0   \n",
       "107                UA   N439UA    EWR  PHX      325.0             326.0   \n",
       "108                UA   N36247    EWR  PHX      299.0             336.0   \n",
       "147                UA   N35236    EWR  MCO      295.0             173.0   \n",
       "186                UA   N17233    SLC  IAH      335.0             186.0   \n",
       "\n",
       "     distance  month  day  month_arr_delay_avg  ...     arr_busy  \\\n",
       "88       1062      3   25                 -6.0  ...         high   \n",
       "107      2133      3    9                 -6.0  ...  medium-high   \n",
       "108      2133      3    3                 -6.0  ...  medium-high   \n",
       "147       937      3    2                 -6.0  ...  medium-high   \n",
       "186      1195      3   29                 -6.0  ...  medium-high   \n",
       "\n",
       "     route_mean_delay  route_median_delay  route_lq_delay  route_uq_delay  \\\n",
       "88           9.733333               -13.0           -15.5            -4.0   \n",
       "107         37.176471                -6.0           -18.0            35.0   \n",
       "108         37.176471                -6.0           -18.0            35.0   \n",
       "147          4.024390                -9.0           -23.0            11.0   \n",
       "186         30.111111               -10.0           -18.0            -7.0   \n",
       "\n",
       "     route_prob_delay route_mean_dep_delay route_median_dep_delay  \\\n",
       "88           0.066667            16.133333                   -4.0   \n",
       "107          0.352941            41.235294                    1.0   \n",
       "108          0.352941            41.235294                    1.0   \n",
       "147          0.268293            16.121951                   -3.0   \n",
       "186          0.222222            35.777778                   -4.0   \n",
       "\n",
       "     route_lq_dep_delay route_uq_dep_delay  \n",
       "88                 -7.0               -1.5  \n",
       "107                -4.0               27.0  \n",
       "108                -4.0               27.0  \n",
       "147                -5.0               18.0  \n",
       "186                -8.0               -1.0  \n",
       "\n",
       "[5 rows x 30 columns]"
      ]
     },
     "execution_count": 113,
     "metadata": {},
     "output_type": "execute_result"
    }
   ],
   "source": [
    "extreme_delays.head()"
   ]
  },
  {
   "cell_type": "code",
   "execution_count": 114,
   "metadata": {},
   "outputs": [],
   "source": [
    "X_ext = extreme_delays.drop('arr_delay', axis=1)\n",
    "y_ext = extreme_delays['arr_delay']"
   ]
  },
  {
   "cell_type": "code",
   "execution_count": 115,
   "metadata": {},
   "outputs": [],
   "source": [
    "tail_num_le = LabelEncoder()\n",
    "X_ext['tail_num'] = tail_num_le.fit_transform(X_ext['tail_num'])\n",
    "\n",
    "airports_le = LabelEncoder()\n",
    "X_ext['origin'] = airports_le.fit_transform(X_ext['origin'])\n",
    "X_ext['dest'] = airports_le.fit_transform(X_ext['dest'])\n",
    "\n",
    "op_carrier_le = LabelEncoder()\n",
    "X_ext['op_unique_carrier'] = op_carrier_le.fit_transform(X_ext['op_unique_carrier'])"
   ]
  },
  {
   "cell_type": "code",
   "execution_count": 116,
   "metadata": {},
   "outputs": [],
   "source": [
    "dummies = pd.get_dummies(X_ext[['dep_time_desc', 'arr_time_desc', 'orr_busy', 'arr_busy']])\n",
    "X_ext = pd.concat([X_ext, dummies], axis=1)"
   ]
  },
  {
   "cell_type": "code",
   "execution_count": 117,
   "metadata": {},
   "outputs": [],
   "source": [
    "X_ext.drop(['dep_time_desc', 'arr_time_desc', 'orr_busy', 'arr_busy'], axis=1, inplace=True)"
   ]
  },
  {
   "cell_type": "code",
   "execution_count": 119,
   "metadata": {},
   "outputs": [],
   "source": [
    "X_ext_transformed = X_ext.to_numpy()"
   ]
  },
  {
   "cell_type": "code",
   "execution_count": 120,
   "metadata": {},
   "outputs": [],
   "source": [
    "y_ext_transformed = y_ext.to_numpy().reshape(-1,1)"
   ]
  },
  {
   "cell_type": "code",
   "execution_count": 121,
   "metadata": {},
   "outputs": [],
   "source": [
    "X_train, X_test, y_train, y_test = train_test_split(X_ext_transformed, y_ext_transformed, train_size=0.75)"
   ]
  },
  {
   "cell_type": "code",
   "execution_count": 122,
   "metadata": {},
   "outputs": [],
   "source": [
    "gbr = GradientBoostingRegressor()"
   ]
  },
  {
   "cell_type": "code",
   "execution_count": 123,
   "metadata": {},
   "outputs": [
    {
     "data": {
      "text/plain": [
       "0.6465185260634216"
      ]
     },
     "execution_count": 123,
     "metadata": {},
     "output_type": "execute_result"
    }
   ],
   "source": [
    "gbr.fit(X_train, y_train)\n",
    "gbr.score(X_test, y_test)"
   ]
  },
  {
   "cell_type": "code",
   "execution_count": 124,
   "metadata": {},
   "outputs": [],
   "source": [
    "y_pred_ext = gbr.predict(X_test)"
   ]
  },
  {
   "cell_type": "code",
   "execution_count": 126,
   "metadata": {},
   "outputs": [
    {
     "data": {
      "image/png": "[encoded data removed]",
      "text/plain": [
       "<Figure size 432x288 with 1 Axes>"
      ]
     },
     "metadata": {
      "needs_background": "light"
     },
     "output_type": "display_data"
    }
   ],
   "source": [
    "sns.scatterplot(x=y_pred_ext, y=y_test.reshape(1,-1)[0])\n",
    "sns.despine()\n",
    "plt.show()"
   ]
  },
  {
   "cell_type": "markdown",
   "metadata": {},
   "source": [
    "<b> Modelling non-extreme delays! </b>"
   ]
  },
  {
   "cell_type": "code",
   "execution_count": 156,
   "metadata": {},
   "outputs": [
    {
     "data": {
      "text/html": [
       "<div>\n",
       "<style scoped>\n",
       "    .dataframe tbody tr th:only-of-type {\n",
       "        vertical-align: middle;\n",
       "    }\n",
       "\n",
       "    .dataframe tbody tr th {\n",
       "        vertical-align: top;\n",
       "    }\n",
       "\n",
       "    .dataframe thead th {\n",
       "        text-align: right;\n",
       "    }\n",
       "</style>\n",
       "<table border=\"1\" class=\"dataframe\">\n",
       "  <thead>\n",
       "    <tr style=\"text-align: right;\">\n",
       "      <th></th>\n",
       "      <th>op_unique_carrier</th>\n",
       "      <th>tail_num</th>\n",
       "      <th>origin</th>\n",
       "      <th>dest</th>\n",
       "      <th>arr_delay</th>\n",
       "      <th>crs_elapsed_time</th>\n",
       "      <th>distance</th>\n",
       "      <th>month</th>\n",
       "      <th>day</th>\n",
       "      <th>month_arr_delay_avg</th>\n",
       "      <th>...</th>\n",
       "      <th>arr_busy</th>\n",
       "      <th>route_mean_delay</th>\n",
       "      <th>route_median_delay</th>\n",
       "      <th>route_lq_delay</th>\n",
       "      <th>route_uq_delay</th>\n",
       "      <th>route_prob_delay</th>\n",
       "      <th>route_mean_dep_delay</th>\n",
       "      <th>route_median_dep_delay</th>\n",
       "      <th>route_lq_dep_delay</th>\n",
       "      <th>route_uq_dep_delay</th>\n",
       "    </tr>\n",
       "  </thead>\n",
       "  <tbody>\n",
       "    <tr>\n",
       "      <th>722077</th>\n",
       "      <td>AA</td>\n",
       "      <td>N988NN</td>\n",
       "      <td>MSY</td>\n",
       "      <td>MIA</td>\n",
       "      <td>-17.0</td>\n",
       "      <td>116.0</td>\n",
       "      <td>675</td>\n",
       "      <td>3</td>\n",
       "      <td>3</td>\n",
       "      <td>-6.0</td>\n",
       "      <td>...</td>\n",
       "      <td>medium</td>\n",
       "      <td>-1.076923</td>\n",
       "      <td>-3.0</td>\n",
       "      <td>-12.00</td>\n",
       "      <td>9.0</td>\n",
       "      <td>0.230769</td>\n",
       "      <td>1.076923</td>\n",
       "      <td>-2.0</td>\n",
       "      <td>-5.00</td>\n",
       "      <td>7.00</td>\n",
       "    </tr>\n",
       "    <tr>\n",
       "      <th>188552</th>\n",
       "      <td>B6</td>\n",
       "      <td>N307JB</td>\n",
       "      <td>MCO</td>\n",
       "      <td>DCA</td>\n",
       "      <td>18.0</td>\n",
       "      <td>134.0</td>\n",
       "      <td>759</td>\n",
       "      <td>5</td>\n",
       "      <td>5</td>\n",
       "      <td>-6.0</td>\n",
       "      <td>...</td>\n",
       "      <td>medium-high</td>\n",
       "      <td>0.714286</td>\n",
       "      <td>-6.0</td>\n",
       "      <td>-12.00</td>\n",
       "      <td>5.0</td>\n",
       "      <td>0.190476</td>\n",
       "      <td>2.285714</td>\n",
       "      <td>-3.0</td>\n",
       "      <td>-6.00</td>\n",
       "      <td>1.00</td>\n",
       "    </tr>\n",
       "    <tr>\n",
       "      <th>847379</th>\n",
       "      <td>WN</td>\n",
       "      <td>N7817J</td>\n",
       "      <td>SAN</td>\n",
       "      <td>STL</td>\n",
       "      <td>-17.0</td>\n",
       "      <td>210.0</td>\n",
       "      <td>1557</td>\n",
       "      <td>3</td>\n",
       "      <td>24</td>\n",
       "      <td>-6.0</td>\n",
       "      <td>...</td>\n",
       "      <td>medium</td>\n",
       "      <td>-14.000000</td>\n",
       "      <td>-15.0</td>\n",
       "      <td>-17.00</td>\n",
       "      <td>-14.0</td>\n",
       "      <td>0.000000</td>\n",
       "      <td>7.400000</td>\n",
       "      <td>7.0</td>\n",
       "      <td>2.00</td>\n",
       "      <td>10.00</td>\n",
       "    </tr>\n",
       "    <tr>\n",
       "      <th>949493</th>\n",
       "      <td>YV</td>\n",
       "      <td>N88331</td>\n",
       "      <td>IAH</td>\n",
       "      <td>LFT</td>\n",
       "      <td>10.0</td>\n",
       "      <td>65.0</td>\n",
       "      <td>201</td>\n",
       "      <td>2</td>\n",
       "      <td>22</td>\n",
       "      <td>-6.0</td>\n",
       "      <td>...</td>\n",
       "      <td>low</td>\n",
       "      <td>7.750000</td>\n",
       "      <td>8.5</td>\n",
       "      <td>5.75</td>\n",
       "      <td>10.5</td>\n",
       "      <td>0.500000</td>\n",
       "      <td>-2.500000</td>\n",
       "      <td>-1.5</td>\n",
       "      <td>-3.75</td>\n",
       "      <td>-0.25</td>\n",
       "    </tr>\n",
       "    <tr>\n",
       "      <th>656552</th>\n",
       "      <td>WN</td>\n",
       "      <td>N8579Z</td>\n",
       "      <td>RDU</td>\n",
       "      <td>FLL</td>\n",
       "      <td>-23.0</td>\n",
       "      <td>130.0</td>\n",
       "      <td>680</td>\n",
       "      <td>9</td>\n",
       "      <td>18</td>\n",
       "      <td>-8.0</td>\n",
       "      <td>...</td>\n",
       "      <td>medium-high</td>\n",
       "      <td>-9.400000</td>\n",
       "      <td>-16.0</td>\n",
       "      <td>-18.00</td>\n",
       "      <td>-12.0</td>\n",
       "      <td>0.200000</td>\n",
       "      <td>-2.200000</td>\n",
       "      <td>-3.0</td>\n",
       "      <td>-5.00</td>\n",
       "      <td>0.00</td>\n",
       "    </tr>\n",
       "  </tbody>\n",
       "</table>\n",
       "<p>5 rows × 30 columns</p>\n",
       "</div>"
      ],
      "text/plain": [
       "       op_unique_carrier tail_num origin dest  arr_delay  crs_elapsed_time  \\\n",
       "722077                AA   N988NN    MSY  MIA      -17.0             116.0   \n",
       "188552                B6   N307JB    MCO  DCA       18.0             134.0   \n",
       "847379                WN   N7817J    SAN  STL      -17.0             210.0   \n",
       "949493                YV   N88331    IAH  LFT       10.0              65.0   \n",
       "656552                WN   N8579Z    RDU  FLL      -23.0             130.0   \n",
       "\n",
       "        distance  month  day  month_arr_delay_avg  ...     arr_busy  \\\n",
       "722077       675      3    3                 -6.0  ...       medium   \n",
       "188552       759      5    5                 -6.0  ...  medium-high   \n",
       "847379      1557      3   24                 -6.0  ...       medium   \n",
       "949493       201      2   22                 -6.0  ...          low   \n",
       "656552       680      9   18                 -8.0  ...  medium-high   \n",
       "\n",
       "        route_mean_delay  route_median_delay  route_lq_delay  route_uq_delay  \\\n",
       "722077         -1.076923                -3.0          -12.00             9.0   \n",
       "188552          0.714286                -6.0          -12.00             5.0   \n",
       "847379        -14.000000               -15.0          -17.00           -14.0   \n",
       "949493          7.750000                 8.5            5.75            10.5   \n",
       "656552         -9.400000               -16.0          -18.00           -12.0   \n",
       "\n",
       "        route_prob_delay route_mean_dep_delay route_median_dep_delay  \\\n",
       "722077          0.230769             1.076923                   -2.0   \n",
       "188552          0.190476             2.285714                   -3.0   \n",
       "847379          0.000000             7.400000                    7.0   \n",
       "949493          0.500000            -2.500000                   -1.5   \n",
       "656552          0.200000            -2.200000                   -3.0   \n",
       "\n",
       "        route_lq_dep_delay route_uq_dep_delay  \n",
       "722077               -5.00               7.00  \n",
       "188552               -6.00               1.00  \n",
       "847379                2.00              10.00  \n",
       "949493               -3.75              -0.25  \n",
       "656552               -5.00               0.00  \n",
       "\n",
       "[5 rows x 30 columns]"
      ]
     },
     "execution_count": 156,
     "metadata": {},
     "output_type": "execute_result"
    }
   ],
   "source": [
    "nonext_delays.head()"
   ]
  },
  {
   "cell_type": "code",
   "execution_count": 157,
   "metadata": {},
   "outputs": [],
   "source": [
    "X_nonext = nonext_delays.drop('arr_delay', axis=1)\n",
    "y_nonext = nonext_delays['arr_delay']"
   ]
  },
  {
   "cell_type": "code",
   "execution_count": 158,
   "metadata": {},
   "outputs": [],
   "source": [
    "tail_num_le = LabelEncoder()\n",
    "X_nonext['tail_num'] = tail_num_le.fit_transform(X_nonext['tail_num'])\n",
    "\n",
    "airports_le = LabelEncoder()\n",
    "X_nonext['origin'] = airports_le.fit_transform(X_nonext['origin'])\n",
    "X_nonext['dest'] = airports_le.fit_transform(X_nonext['dest'])\n",
    "\n",
    "op_carrier_le = LabelEncoder()\n",
    "X_nonext['op_unique_carrier'] = op_carrier_le.fit_transform(X_nonext['op_unique_carrier'])"
   ]
  },
  {
   "cell_type": "code",
   "execution_count": 159,
   "metadata": {},
   "outputs": [],
   "source": [
    "dummies = pd.get_dummies(X_nonext[['dep_time_desc', 'arr_time_desc', 'orr_busy', 'arr_busy']])\n",
    "X_nonext = pd.concat([X_nonext, dummies], axis=1)"
   ]
  },
  {
   "cell_type": "code",
   "execution_count": 160,
   "metadata": {},
   "outputs": [],
   "source": [
    "X_nonext.drop(['dep_time_desc', 'arr_time_desc', 'orr_busy', 'arr_busy'], axis=1, inplace=True)"
   ]
  },
  {
   "cell_type": "code",
   "execution_count": 161,
   "metadata": {},
   "outputs": [],
   "source": [
    "X_nonext_transformed = X_nonext.to_numpy()"
   ]
  },
  {
   "cell_type": "code",
   "execution_count": 162,
   "metadata": {},
   "outputs": [],
   "source": [
    "y_nonext_transformed = y_nonext.to_numpy().reshape(-1,1)"
   ]
  },
  {
   "cell_type": "code",
   "execution_count": 163,
   "metadata": {},
   "outputs": [],
   "source": [
    "X_train, X_test, y_train, y_test = train_test_split(X_nonext_transformed, y_nonext_transformed, train_size=0.75)"
   ]
  },
  {
   "cell_type": "code",
   "execution_count": 164,
   "metadata": {},
   "outputs": [],
   "source": [
    "gbr = GradientBoostingRegressor()"
   ]
  },
  {
   "cell_type": "code",
   "execution_count": 165,
   "metadata": {},
   "outputs": [
    {
     "data": {
      "text/plain": [
       "0.18811764746725346"
      ]
     },
     "execution_count": 165,
     "metadata": {},
     "output_type": "execute_result"
    }
   ],
   "source": [
    "gbr.fit(X_train, y_train)\n",
    "gbr.score(X_test, y_test)"
   ]
  },
  {
   "cell_type": "code",
   "execution_count": 166,
   "metadata": {},
   "outputs": [],
   "source": [
    "y_pred_nonext = gbr.predict(X_test)"
   ]
  },
  {
   "cell_type": "code",
   "execution_count": 167,
   "metadata": {},
   "outputs": [
    {
     "data": {
      "image/png": "[encoded data removed]",
      "text/plain": [
       "<Figure size 432x288 with 1 Axes>"
      ]
     },
     "metadata": {
      "needs_background": "light"
     },
     "output_type": "display_data"
    }
   ],
   "source": [
    "sns.scatterplot(x=y_pred_nonext, y=y_test.reshape(1,-1)[0])\n",
    "sns.despine()\n",
    "plt.show()"
   ]
  },
  {
   "cell_type": "markdown",
   "metadata": {},
   "source": [
    "<b> Make separate model for medium delays! </b>"
   ]
  },
  {
   "cell_type": "code",
   "execution_count": 186,
   "metadata": {},
   "outputs": [
    {
     "data": {
      "text/html": [
       "<div>\n",
       "<style scoped>\n",
       "    .dataframe tbody tr th:only-of-type {\n",
       "        vertical-align: middle;\n",
       "    }\n",
       "\n",
       "    .dataframe tbody tr th {\n",
       "        vertical-align: top;\n",
       "    }\n",
       "\n",
       "    .dataframe thead th {\n",
       "        text-align: right;\n",
       "    }\n",
       "</style>\n",
       "<table border=\"1\" class=\"dataframe\">\n",
       "  <thead>\n",
       "    <tr style=\"text-align: right;\">\n",
       "      <th></th>\n",
       "      <th>op_unique_carrier</th>\n",
       "      <th>tail_num</th>\n",
       "      <th>origin</th>\n",
       "      <th>dest</th>\n",
       "      <th>arr_delay</th>\n",
       "      <th>crs_elapsed_time</th>\n",
       "      <th>distance</th>\n",
       "      <th>month</th>\n",
       "      <th>day</th>\n",
       "      <th>month_arr_delay_avg</th>\n",
       "      <th>...</th>\n",
       "      <th>arr_busy</th>\n",
       "      <th>route_mean_delay</th>\n",
       "      <th>route_median_delay</th>\n",
       "      <th>route_lq_delay</th>\n",
       "      <th>route_uq_delay</th>\n",
       "      <th>route_prob_delay</th>\n",
       "      <th>route_mean_dep_delay</th>\n",
       "      <th>route_median_dep_delay</th>\n",
       "      <th>route_lq_dep_delay</th>\n",
       "      <th>route_uq_dep_delay</th>\n",
       "    </tr>\n",
       "  </thead>\n",
       "  <tbody>\n",
       "    <tr>\n",
       "      <th>6</th>\n",
       "      <td>UA</td>\n",
       "      <td>N431UA</td>\n",
       "      <td>EWR</td>\n",
       "      <td>FLL</td>\n",
       "      <td>118.0</td>\n",
       "      <td>183.0</td>\n",
       "      <td>1065</td>\n",
       "      <td>3</td>\n",
       "      <td>21</td>\n",
       "      <td>-6.0</td>\n",
       "      <td>...</td>\n",
       "      <td>medium-high</td>\n",
       "      <td>0.240000</td>\n",
       "      <td>-11.0</td>\n",
       "      <td>-18.0</td>\n",
       "      <td>4.00</td>\n",
       "      <td>0.200000</td>\n",
       "      <td>12.720000</td>\n",
       "      <td>-1.0</td>\n",
       "      <td>-6.00</td>\n",
       "      <td>15.00</td>\n",
       "    </tr>\n",
       "    <tr>\n",
       "      <th>16</th>\n",
       "      <td>UA</td>\n",
       "      <td>N14250</td>\n",
       "      <td>EWR</td>\n",
       "      <td>FLL</td>\n",
       "      <td>77.0</td>\n",
       "      <td>189.0</td>\n",
       "      <td>1065</td>\n",
       "      <td>3</td>\n",
       "      <td>2</td>\n",
       "      <td>-6.0</td>\n",
       "      <td>...</td>\n",
       "      <td>medium-high</td>\n",
       "      <td>0.240000</td>\n",
       "      <td>-11.0</td>\n",
       "      <td>-18.0</td>\n",
       "      <td>4.00</td>\n",
       "      <td>0.200000</td>\n",
       "      <td>12.720000</td>\n",
       "      <td>-1.0</td>\n",
       "      <td>-6.00</td>\n",
       "      <td>15.00</td>\n",
       "    </tr>\n",
       "    <tr>\n",
       "      <th>27</th>\n",
       "      <td>UA</td>\n",
       "      <td>N76526</td>\n",
       "      <td>DEN</td>\n",
       "      <td>EUG</td>\n",
       "      <td>84.0</td>\n",
       "      <td>163.0</td>\n",
       "      <td>996</td>\n",
       "      <td>3</td>\n",
       "      <td>22</td>\n",
       "      <td>-6.0</td>\n",
       "      <td>...</td>\n",
       "      <td>low</td>\n",
       "      <td>24.250000</td>\n",
       "      <td>23.0</td>\n",
       "      <td>-25.5</td>\n",
       "      <td>72.75</td>\n",
       "      <td>0.500000</td>\n",
       "      <td>40.000000</td>\n",
       "      <td>38.0</td>\n",
       "      <td>-4.75</td>\n",
       "      <td>82.75</td>\n",
       "    </tr>\n",
       "    <tr>\n",
       "      <th>28</th>\n",
       "      <td>UA</td>\n",
       "      <td>N24224</td>\n",
       "      <td>DEN</td>\n",
       "      <td>EUG</td>\n",
       "      <td>69.0</td>\n",
       "      <td>163.0</td>\n",
       "      <td>996</td>\n",
       "      <td>3</td>\n",
       "      <td>14</td>\n",
       "      <td>-6.0</td>\n",
       "      <td>...</td>\n",
       "      <td>low</td>\n",
       "      <td>24.250000</td>\n",
       "      <td>23.0</td>\n",
       "      <td>-25.5</td>\n",
       "      <td>72.75</td>\n",
       "      <td>0.500000</td>\n",
       "      <td>40.000000</td>\n",
       "      <td>38.0</td>\n",
       "      <td>-4.75</td>\n",
       "      <td>82.75</td>\n",
       "    </tr>\n",
       "    <tr>\n",
       "      <th>33</th>\n",
       "      <td>UA</td>\n",
       "      <td>N21108</td>\n",
       "      <td>PHX</td>\n",
       "      <td>EWR</td>\n",
       "      <td>81.0</td>\n",
       "      <td>275.0</td>\n",
       "      <td>2133</td>\n",
       "      <td>3</td>\n",
       "      <td>18</td>\n",
       "      <td>-6.0</td>\n",
       "      <td>...</td>\n",
       "      <td>medium-high</td>\n",
       "      <td>2.318182</td>\n",
       "      <td>-13.5</td>\n",
       "      <td>-23.0</td>\n",
       "      <td>23.00</td>\n",
       "      <td>0.363636</td>\n",
       "      <td>13.363636</td>\n",
       "      <td>0.0</td>\n",
       "      <td>-5.00</td>\n",
       "      <td>33.25</td>\n",
       "    </tr>\n",
       "  </tbody>\n",
       "</table>\n",
       "<p>5 rows × 30 columns</p>\n",
       "</div>"
      ],
      "text/plain": [
       "   op_unique_carrier tail_num origin dest  arr_delay  crs_elapsed_time  \\\n",
       "6                 UA   N431UA    EWR  FLL      118.0             183.0   \n",
       "16                UA   N14250    EWR  FLL       77.0             189.0   \n",
       "27                UA   N76526    DEN  EUG       84.0             163.0   \n",
       "28                UA   N24224    DEN  EUG       69.0             163.0   \n",
       "33                UA   N21108    PHX  EWR       81.0             275.0   \n",
       "\n",
       "    distance  month  day  month_arr_delay_avg  ...     arr_busy  \\\n",
       "6       1065      3   21                 -6.0  ...  medium-high   \n",
       "16      1065      3    2                 -6.0  ...  medium-high   \n",
       "27       996      3   22                 -6.0  ...          low   \n",
       "28       996      3   14                 -6.0  ...          low   \n",
       "33      2133      3   18                 -6.0  ...  medium-high   \n",
       "\n",
       "    route_mean_delay  route_median_delay  route_lq_delay  route_uq_delay  \\\n",
       "6           0.240000               -11.0           -18.0            4.00   \n",
       "16          0.240000               -11.0           -18.0            4.00   \n",
       "27         24.250000                23.0           -25.5           72.75   \n",
       "28         24.250000                23.0           -25.5           72.75   \n",
       "33          2.318182               -13.5           -23.0           23.00   \n",
       "\n",
       "    route_prob_delay route_mean_dep_delay route_median_dep_delay  \\\n",
       "6           0.200000            12.720000                   -1.0   \n",
       "16          0.200000            12.720000                   -1.0   \n",
       "27          0.500000            40.000000                   38.0   \n",
       "28          0.500000            40.000000                   38.0   \n",
       "33          0.363636            13.363636                    0.0   \n",
       "\n",
       "    route_lq_dep_delay route_uq_dep_delay  \n",
       "6                -6.00              15.00  \n",
       "16               -6.00              15.00  \n",
       "27               -4.75              82.75  \n",
       "28               -4.75              82.75  \n",
       "33               -5.00              33.25  \n",
       "\n",
       "[5 rows x 30 columns]"
      ]
     },
     "execution_count": 186,
     "metadata": {},
     "output_type": "execute_result"
    }
   ],
   "source": [
    "medium_delays.head()"
   ]
  },
  {
   "cell_type": "code",
   "execution_count": 187,
   "metadata": {},
   "outputs": [],
   "source": [
    "X_medium = medium_delays.drop('arr_delay', axis=1)\n",
    "y_medium = medium_delays['arr_delay']"
   ]
  },
  {
   "cell_type": "code",
   "execution_count": 188,
   "metadata": {},
   "outputs": [],
   "source": [
    "tail_num_le = LabelEncoder()\n",
    "X_medium['tail_num'] = tail_num_le.fit_transform(X_medium['tail_num'])\n",
    "\n",
    "airports_le = LabelEncoder()\n",
    "X_medium['origin'] = airports_le.fit_transform(X_medium['origin'])\n",
    "X_medium['dest'] = airports_le.fit_transform(X_medium['dest'])\n",
    "\n",
    "op_carrier_le = LabelEncoder()\n",
    "X_medium['op_unique_carrier'] = op_carrier_le.fit_transform(X_medium['op_unique_carrier'])"
   ]
  },
  {
   "cell_type": "code",
   "execution_count": 189,
   "metadata": {},
   "outputs": [],
   "source": [
    "dummies = pd.get_dummies(X_medium[['dep_time_desc', 'arr_time_desc', 'orr_busy', 'arr_busy']])\n",
    "X_medium = pd.concat([X_medium, dummies], axis=1)"
   ]
  },
  {
   "cell_type": "code",
   "execution_count": 190,
   "metadata": {},
   "outputs": [],
   "source": [
    "X_medium.drop(['dep_time_desc', 'arr_time_desc', 'orr_busy', 'arr_busy'], axis=1, inplace=True)"
   ]
  },
  {
   "cell_type": "code",
   "execution_count": 191,
   "metadata": {},
   "outputs": [],
   "source": [
    "X_medium_transformed = X_medium.to_numpy()"
   ]
  },
  {
   "cell_type": "code",
   "execution_count": 192,
   "metadata": {},
   "outputs": [],
   "source": [
    "y_medium_transformed = y_medium.to_numpy().reshape(-1,1)"
   ]
  },
  {
   "cell_type": "code",
   "execution_count": 193,
   "metadata": {},
   "outputs": [],
   "source": [
    "X_train, X_test, y_train, y_test = train_test_split(X_medium_transformed, y_medium_transformed, train_size=0.75)"
   ]
  },
  {
   "cell_type": "code",
   "execution_count": 194,
   "metadata": {},
   "outputs": [],
   "source": [
    "gbr = GradientBoostingRegressor()"
   ]
  },
  {
   "cell_type": "code",
   "execution_count": 195,
   "metadata": {},
   "outputs": [
    {
     "data": {
      "text/plain": [
       "0.3233859474184072"
      ]
     },
     "execution_count": 195,
     "metadata": {},
     "output_type": "execute_result"
    }
   ],
   "source": [
    "gbr.fit(X_train, y_train)\n",
    "gbr.score(X_test, y_test)"
   ]
  },
  {
   "cell_type": "code",
   "execution_count": 196,
   "metadata": {},
   "outputs": [],
   "source": [
    "y_pred_medium = gbr.predict(X_test)"
   ]
  },
  {
   "cell_type": "code",
   "execution_count": 197,
   "metadata": {},
   "outputs": [
    {
     "data": {
      "image/png": "[encoded data removed]",
      "text/plain": [
       "<Figure size 432x288 with 1 Axes>"
      ]
     },
     "metadata": {
      "needs_background": "light"
     },
     "output_type": "display_data"
    }
   ],
   "source": [
    "sns.scatterplot(x=y_pred_medium, y=y_test.reshape(1,-1)[0])\n",
    "sns.despine()\n",
    "plt.show()"
   ]
  },
  {
   "cell_type": "code",
   "execution_count": 183,
   "metadata": {},
   "outputs": [
    {
     "data": {
      "text/plain": [
       "count    100000.000000\n",
       "mean         38.204750\n",
       "std          71.390828\n",
       "min           0.000000\n",
       "25%           5.000000\n",
       "50%          16.000000\n",
       "75%          42.000000\n",
       "max        2635.000000\n",
       "Name: arr_delay, dtype: float64"
      ]
     },
     "execution_count": 183,
     "metadata": {},
     "output_type": "execute_result"
    }
   ],
   "source": [
    "medium_delays['arr_delay'].describe()"
   ]
  },
  {
   "cell_type": "markdown",
   "metadata": {},
   "source": [
    "## Test 5: Split the Dataset into Extreme Delay and Non-Extreme Delay; Weather Data"
   ]
  },
  {
   "cell_type": "code",
   "execution_count": 236,
   "metadata": {},
   "outputs": [],
   "source": [
    "flights_df5 = flights_df3.copy()"
   ]
  },
  {
   "cell_type": "code",
   "execution_count": 237,
   "metadata": {},
   "outputs": [
    {
     "data": {
      "text/html": [
       "<div>\n",
       "<style scoped>\n",
       "    .dataframe tbody tr th:only-of-type {\n",
       "        vertical-align: middle;\n",
       "    }\n",
       "\n",
       "    .dataframe tbody tr th {\n",
       "        vertical-align: top;\n",
       "    }\n",
       "\n",
       "    .dataframe thead th {\n",
       "        text-align: right;\n",
       "    }\n",
       "</style>\n",
       "<table border=\"1\" class=\"dataframe\">\n",
       "  <thead>\n",
       "    <tr style=\"text-align: right;\">\n",
       "      <th></th>\n",
       "      <th>op_unique_carrier</th>\n",
       "      <th>tail_num</th>\n",
       "      <th>origin</th>\n",
       "      <th>dest</th>\n",
       "      <th>arr_delay</th>\n",
       "      <th>crs_elapsed_time</th>\n",
       "      <th>distance</th>\n",
       "      <th>month</th>\n",
       "      <th>day</th>\n",
       "      <th>month_arr_delay_avg</th>\n",
       "      <th>...</th>\n",
       "      <th>dep_humidity</th>\n",
       "      <th>dep_visibility</th>\n",
       "      <th>dep_total_snowcm</th>\n",
       "      <th>dep_windspeed</th>\n",
       "      <th>arr_avg_temp</th>\n",
       "      <th>arr_precip_mm</th>\n",
       "      <th>arr_humidity</th>\n",
       "      <th>arr_visibility</th>\n",
       "      <th>arr_total_snowcm</th>\n",
       "      <th>arr_windspeed</th>\n",
       "    </tr>\n",
       "  </thead>\n",
       "  <tbody>\n",
       "    <tr>\n",
       "      <th>31006</th>\n",
       "      <td>UA</td>\n",
       "      <td>N14231</td>\n",
       "      <td>ORD</td>\n",
       "      <td>DCA</td>\n",
       "      <td>43.0</td>\n",
       "      <td>110.0</td>\n",
       "      <td>612</td>\n",
       "      <td>10</td>\n",
       "      <td>8</td>\n",
       "      <td>-7.0</td>\n",
       "      <td>...</td>\n",
       "      <td>22</td>\n",
       "      <td>10</td>\n",
       "      <td>0.0</td>\n",
       "      <td>7</td>\n",
       "      <td>20</td>\n",
       "      <td>61.5</td>\n",
       "      <td>93</td>\n",
       "      <td>6</td>\n",
       "      <td>0.0</td>\n",
       "      <td>15</td>\n",
       "    </tr>\n",
       "    <tr>\n",
       "      <th>88772</th>\n",
       "      <td>B6</td>\n",
       "      <td>N983JT</td>\n",
       "      <td>LAX</td>\n",
       "      <td>JFK</td>\n",
       "      <td>8.0</td>\n",
       "      <td>333.0</td>\n",
       "      <td>2475</td>\n",
       "      <td>3</td>\n",
       "      <td>24</td>\n",
       "      <td>-6.0</td>\n",
       "      <td>...</td>\n",
       "      <td>78</td>\n",
       "      <td>9</td>\n",
       "      <td>0.0</td>\n",
       "      <td>16</td>\n",
       "      <td>13</td>\n",
       "      <td>0.2</td>\n",
       "      <td>78</td>\n",
       "      <td>9</td>\n",
       "      <td>0.0</td>\n",
       "      <td>16</td>\n",
       "    </tr>\n",
       "    <tr>\n",
       "      <th>16266</th>\n",
       "      <td>DL</td>\n",
       "      <td>N305DN</td>\n",
       "      <td>ATL</td>\n",
       "      <td>LGA</td>\n",
       "      <td>-24.0</td>\n",
       "      <td>134.0</td>\n",
       "      <td>762</td>\n",
       "      <td>4</td>\n",
       "      <td>5</td>\n",
       "      <td>-7.0</td>\n",
       "      <td>...</td>\n",
       "      <td>80</td>\n",
       "      <td>8</td>\n",
       "      <td>0.0</td>\n",
       "      <td>16</td>\n",
       "      <td>17</td>\n",
       "      <td>0.0</td>\n",
       "      <td>80</td>\n",
       "      <td>8</td>\n",
       "      <td>0.0</td>\n",
       "      <td>16</td>\n",
       "    </tr>\n",
       "    <tr>\n",
       "      <th>51098</th>\n",
       "      <td>DL</td>\n",
       "      <td>N313DN</td>\n",
       "      <td>DCA</td>\n",
       "      <td>ATL</td>\n",
       "      <td>-3.0</td>\n",
       "      <td>114.0</td>\n",
       "      <td>547</td>\n",
       "      <td>11</td>\n",
       "      <td>11</td>\n",
       "      <td>-7.0</td>\n",
       "      <td>...</td>\n",
       "      <td>78</td>\n",
       "      <td>8</td>\n",
       "      <td>1.9</td>\n",
       "      <td>16</td>\n",
       "      <td>3</td>\n",
       "      <td>2.6</td>\n",
       "      <td>78</td>\n",
       "      <td>8</td>\n",
       "      <td>1.9</td>\n",
       "      <td>16</td>\n",
       "    </tr>\n",
       "    <tr>\n",
       "      <th>72077</th>\n",
       "      <td>NK</td>\n",
       "      <td>N901NK</td>\n",
       "      <td>DFW</td>\n",
       "      <td>MSP</td>\n",
       "      <td>-9.0</td>\n",
       "      <td>149.0</td>\n",
       "      <td>852</td>\n",
       "      <td>9</td>\n",
       "      <td>15</td>\n",
       "      <td>-8.0</td>\n",
       "      <td>...</td>\n",
       "      <td>67</td>\n",
       "      <td>10</td>\n",
       "      <td>0.0</td>\n",
       "      <td>10</td>\n",
       "      <td>28</td>\n",
       "      <td>0.7</td>\n",
       "      <td>67</td>\n",
       "      <td>10</td>\n",
       "      <td>0.0</td>\n",
       "      <td>10</td>\n",
       "    </tr>\n",
       "    <tr>\n",
       "      <th>...</th>\n",
       "      <td>...</td>\n",
       "      <td>...</td>\n",
       "      <td>...</td>\n",
       "      <td>...</td>\n",
       "      <td>...</td>\n",
       "      <td>...</td>\n",
       "      <td>...</td>\n",
       "      <td>...</td>\n",
       "      <td>...</td>\n",
       "      <td>...</td>\n",
       "      <td>...</td>\n",
       "      <td>...</td>\n",
       "      <td>...</td>\n",
       "      <td>...</td>\n",
       "      <td>...</td>\n",
       "      <td>...</td>\n",
       "      <td>...</td>\n",
       "      <td>...</td>\n",
       "      <td>...</td>\n",
       "      <td>...</td>\n",
       "      <td>...</td>\n",
       "    </tr>\n",
       "    <tr>\n",
       "      <th>6817</th>\n",
       "      <td>AA</td>\n",
       "      <td>N956NN</td>\n",
       "      <td>LAX</td>\n",
       "      <td>DFW</td>\n",
       "      <td>-12.0</td>\n",
       "      <td>182.0</td>\n",
       "      <td>1235</td>\n",
       "      <td>4</td>\n",
       "      <td>19</td>\n",
       "      <td>-7.0</td>\n",
       "      <td>...</td>\n",
       "      <td>57</td>\n",
       "      <td>10</td>\n",
       "      <td>0.0</td>\n",
       "      <td>18</td>\n",
       "      <td>13</td>\n",
       "      <td>0.0</td>\n",
       "      <td>57</td>\n",
       "      <td>10</td>\n",
       "      <td>0.0</td>\n",
       "      <td>18</td>\n",
       "    </tr>\n",
       "    <tr>\n",
       "      <th>91346</th>\n",
       "      <td>UA</td>\n",
       "      <td>N33266</td>\n",
       "      <td>ORD</td>\n",
       "      <td>SEA</td>\n",
       "      <td>91.0</td>\n",
       "      <td>278.0</td>\n",
       "      <td>1721</td>\n",
       "      <td>2</td>\n",
       "      <td>20</td>\n",
       "      <td>-6.0</td>\n",
       "      <td>...</td>\n",
       "      <td>36</td>\n",
       "      <td>10</td>\n",
       "      <td>0.0</td>\n",
       "      <td>11</td>\n",
       "      <td>-1</td>\n",
       "      <td>0.1</td>\n",
       "      <td>82</td>\n",
       "      <td>10</td>\n",
       "      <td>0.0</td>\n",
       "      <td>4</td>\n",
       "    </tr>\n",
       "    <tr>\n",
       "      <th>50519</th>\n",
       "      <td>YX</td>\n",
       "      <td>N725YX</td>\n",
       "      <td>ORD</td>\n",
       "      <td>MSP</td>\n",
       "      <td>-7.0</td>\n",
       "      <td>96.0</td>\n",
       "      <td>334</td>\n",
       "      <td>12</td>\n",
       "      <td>17</td>\n",
       "      <td>-6.0</td>\n",
       "      <td>...</td>\n",
       "      <td>55</td>\n",
       "      <td>10</td>\n",
       "      <td>0.0</td>\n",
       "      <td>18</td>\n",
       "      <td>-2</td>\n",
       "      <td>0.0</td>\n",
       "      <td>79</td>\n",
       "      <td>10</td>\n",
       "      <td>0.0</td>\n",
       "      <td>12</td>\n",
       "    </tr>\n",
       "    <tr>\n",
       "      <th>50491</th>\n",
       "      <td>AA</td>\n",
       "      <td>N962NN</td>\n",
       "      <td>ORD</td>\n",
       "      <td>MSP</td>\n",
       "      <td>-17.0</td>\n",
       "      <td>87.0</td>\n",
       "      <td>334</td>\n",
       "      <td>12</td>\n",
       "      <td>6</td>\n",
       "      <td>-6.0</td>\n",
       "      <td>...</td>\n",
       "      <td>36</td>\n",
       "      <td>10</td>\n",
       "      <td>0.0</td>\n",
       "      <td>19</td>\n",
       "      <td>2</td>\n",
       "      <td>0.1</td>\n",
       "      <td>68</td>\n",
       "      <td>10</td>\n",
       "      <td>0.1</td>\n",
       "      <td>20</td>\n",
       "    </tr>\n",
       "    <tr>\n",
       "      <th>50336</th>\n",
       "      <td>AA</td>\n",
       "      <td>N882NN</td>\n",
       "      <td>DFW</td>\n",
       "      <td>DCA</td>\n",
       "      <td>28.0</td>\n",
       "      <td>176.0</td>\n",
       "      <td>1192</td>\n",
       "      <td>6</td>\n",
       "      <td>25</td>\n",
       "      <td>-4.0</td>\n",
       "      <td>...</td>\n",
       "      <td>65</td>\n",
       "      <td>9</td>\n",
       "      <td>0.0</td>\n",
       "      <td>16</td>\n",
       "      <td>25</td>\n",
       "      <td>22.9</td>\n",
       "      <td>65</td>\n",
       "      <td>9</td>\n",
       "      <td>0.0</td>\n",
       "      <td>16</td>\n",
       "    </tr>\n",
       "  </tbody>\n",
       "</table>\n",
       "<p>100000 rows × 42 columns</p>\n",
       "</div>"
      ],
      "text/plain": [
       "      op_unique_carrier tail_num origin dest  arr_delay  crs_elapsed_time  \\\n",
       "31006                UA   N14231    ORD  DCA       43.0             110.0   \n",
       "88772                B6   N983JT    LAX  JFK        8.0             333.0   \n",
       "16266                DL   N305DN    ATL  LGA      -24.0             134.0   \n",
       "51098                DL   N313DN    DCA  ATL       -3.0             114.0   \n",
       "72077                NK   N901NK    DFW  MSP       -9.0             149.0   \n",
       "...                 ...      ...    ...  ...        ...               ...   \n",
       "6817                 AA   N956NN    LAX  DFW      -12.0             182.0   \n",
       "91346                UA   N33266    ORD  SEA       91.0             278.0   \n",
       "50519                YX   N725YX    ORD  MSP       -7.0              96.0   \n",
       "50491                AA   N962NN    ORD  MSP      -17.0              87.0   \n",
       "50336                AA   N882NN    DFW  DCA       28.0             176.0   \n",
       "\n",
       "       distance  month  day  month_arr_delay_avg  ...  dep_humidity  \\\n",
       "31006       612     10    8                 -7.0  ...            22   \n",
       "88772      2475      3   24                 -6.0  ...            78   \n",
       "16266       762      4    5                 -7.0  ...            80   \n",
       "51098       547     11   11                 -7.0  ...            78   \n",
       "72077       852      9   15                 -8.0  ...            67   \n",
       "...         ...    ...  ...                  ...  ...           ...   \n",
       "6817       1235      4   19                 -7.0  ...            57   \n",
       "91346      1721      2   20                 -6.0  ...            36   \n",
       "50519       334     12   17                 -6.0  ...            55   \n",
       "50491       334     12    6                 -6.0  ...            36   \n",
       "50336      1192      6   25                 -4.0  ...            65   \n",
       "\n",
       "       dep_visibility  dep_total_snowcm  dep_windspeed  arr_avg_temp  \\\n",
       "31006              10               0.0              7            20   \n",
       "88772               9               0.0             16            13   \n",
       "16266               8               0.0             16            17   \n",
       "51098               8               1.9             16             3   \n",
       "72077              10               0.0             10            28   \n",
       "...               ...               ...            ...           ...   \n",
       "6817               10               0.0             18            13   \n",
       "91346              10               0.0             11            -1   \n",
       "50519              10               0.0             18            -2   \n",
       "50491              10               0.0             19             2   \n",
       "50336               9               0.0             16            25   \n",
       "\n",
       "       arr_precip_mm arr_humidity arr_visibility  arr_total_snowcm  \\\n",
       "31006           61.5           93              6               0.0   \n",
       "88772            0.2           78              9               0.0   \n",
       "16266            0.0           80              8               0.0   \n",
       "51098            2.6           78              8               1.9   \n",
       "72077            0.7           67             10               0.0   \n",
       "...              ...          ...            ...               ...   \n",
       "6817             0.0           57             10               0.0   \n",
       "91346            0.1           82             10               0.0   \n",
       "50519            0.0           79             10               0.0   \n",
       "50491            0.1           68             10               0.1   \n",
       "50336           22.9           65              9               0.0   \n",
       "\n",
       "      arr_windspeed  \n",
       "31006            15  \n",
       "88772            16  \n",
       "16266            16  \n",
       "51098            16  \n",
       "72077            10  \n",
       "...             ...  \n",
       "6817             18  \n",
       "91346             4  \n",
       "50519            12  \n",
       "50491            20  \n",
       "50336            16  \n",
       "\n",
       "[100000 rows x 42 columns]"
      ]
     },
     "execution_count": 237,
     "metadata": {},
     "output_type": "execute_result"
    }
   ],
   "source": [
    "extreme_weather = flights_df5[]"
   ]
  },
  {
   "cell_type": "code",
   "execution_count": null,
   "metadata": {},
   "outputs": [],
   "source": []
  },
  {
   "cell_type": "code",
   "execution_count": null,
   "metadata": {},
   "outputs": [],
   "source": []
  },
  {
   "cell_type": "code",
   "execution_count": null,
   "metadata": {},
   "outputs": [],
   "source": []
  },
  {
   "cell_type": "code",
   "execution_count": null,
   "metadata": {},
   "outputs": [],
   "source": []
  }
 ],
 "metadata": {
  "kernelspec": {
   "display_name": "lhl-bootcamp",
   "language": "python",
   "name": "lhl-bootcamp"
  },
  "language_info": {
   "codemirror_mode": {
    "name": "ipython",
    "version": 3
   },
   "file_extension": ".py",
   "mimetype": "text/x-python",
   "name": "python",
   "nbconvert_exporter": "python",
   "pygments_lexer": "ipython3",
   "version": "3.7.7"
  }
 },
 "nbformat": 4,
 "nbformat_minor": 4
}
