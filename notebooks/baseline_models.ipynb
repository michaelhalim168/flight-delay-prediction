{
 "cells": [
  {
   "cell_type": "markdown",
   "metadata": {},
   "source": [
    "# Predicting Flight Delays: Baseline Models (Linear Regression, Polynomial Regression, Random Forest, Gradient Boost)"
   ]
  },
  {
   "cell_type": "code",
   "execution_count": 221,
   "metadata": {},
   "outputs": [],
   "source": [
    "import numpy as np\n",
    "import pandas as pd\n",
    "from sklearn.linear_model import LinearRegression, Ridge, Lasso\n",
    "from sklearn.ensemble import RandomForestClassifier, RandomForestRegressor, GradientBoostingClassifier, GradientBoostingRegressor\n",
    "from sklearn.metrics import accuracy_score, precision_score, recall_score, roc_auc_score, confusion_matrix\n",
    "from sklearn.metrics import mean_absolute_error, mean_squared_error, r2_score\n",
    "from sklearn.preprocessing import PolynomialFeatures, StandardScaler\n",
    "from sklearn.model_selection import train_test_split\n",
    "import matplotlib.pyplot as plt\n",
    "import seaborn as sns\n",
    "import warnings\n",
    "warnings.filterwarnings('ignore')"
   ]
  },
  {
   "cell_type": "markdown",
   "metadata": {},
   "source": [
    "## 1. Data Cleaning"
   ]
  },
  {
   "cell_type": "code",
   "execution_count": 222,
   "metadata": {},
   "outputs": [],
   "source": [
    "flights_df = pd.read_csv('../data/flights_data_merge.csv')"
   ]
  },
  {
   "cell_type": "code",
   "execution_count": 223,
   "metadata": {},
   "outputs": [],
   "source": [
    "def extract_features_df(df):\n",
    "    \n",
    "    '''\n",
    "    Extract relevant features from flight dataframe.\n",
    "        Input: Raw dataframe\n",
    "        Output: Dataframe with relevant features for analysis\n",
    "    '''\n",
    "    new_df = df[['fl_date', 'op_unique_carrier', 'origin', 'dest', 'crs_dep_time', \n",
    "                     'crs_arr_time', 'crs_elapsed_time', 'flights', 'distance', 'arr_delay']]\n",
    "    \n",
    "    new_df['fl_date'] = pd.to_datetime(new_df['fl_date'], format='%Y-%m-%d')\n",
    "    new_df['is_arr_delay'] = new_df.apply(lambda row: 0 if row.arr_delay <= 0 else 1, axis=1)\n",
    "\n",
    "    return new_df"
   ]
  },
  {
   "cell_type": "code",
   "execution_count": 224,
   "metadata": {},
   "outputs": [],
   "source": [
    "features = extract_features_df(flights_df).rename(columns={'fl_date':'date'})"
   ]
  },
  {
   "cell_type": "code",
   "execution_count": 225,
   "metadata": {},
   "outputs": [
    {
     "data": {
      "text/html": [
       "<div>\n",
       "<style scoped>\n",
       "    .dataframe tbody tr th:only-of-type {\n",
       "        vertical-align: middle;\n",
       "    }\n",
       "\n",
       "    .dataframe tbody tr th {\n",
       "        vertical-align: top;\n",
       "    }\n",
       "\n",
       "    .dataframe thead th {\n",
       "        text-align: right;\n",
       "    }\n",
       "</style>\n",
       "<table border=\"1\" class=\"dataframe\">\n",
       "  <thead>\n",
       "    <tr style=\"text-align: right;\">\n",
       "      <th></th>\n",
       "      <th>date</th>\n",
       "      <th>op_unique_carrier</th>\n",
       "      <th>origin</th>\n",
       "      <th>dest</th>\n",
       "      <th>crs_dep_time</th>\n",
       "      <th>crs_arr_time</th>\n",
       "      <th>crs_elapsed_time</th>\n",
       "      <th>flights</th>\n",
       "      <th>distance</th>\n",
       "      <th>arr_delay</th>\n",
       "      <th>is_arr_delay</th>\n",
       "    </tr>\n",
       "  </thead>\n",
       "  <tbody>\n",
       "    <tr>\n",
       "      <th>0</th>\n",
       "      <td>2018-03-31</td>\n",
       "      <td>UA</td>\n",
       "      <td>EWR</td>\n",
       "      <td>FLL</td>\n",
       "      <td>1705</td>\n",
       "      <td>2017</td>\n",
       "      <td>192.0</td>\n",
       "      <td>1</td>\n",
       "      <td>1065</td>\n",
       "      <td>38.0</td>\n",
       "      <td>1</td>\n",
       "    </tr>\n",
       "    <tr>\n",
       "      <th>1</th>\n",
       "      <td>2018-11-27</td>\n",
       "      <td>DL</td>\n",
       "      <td>GEG</td>\n",
       "      <td>SLC</td>\n",
       "      <td>544</td>\n",
       "      <td>847</td>\n",
       "      <td>123.0</td>\n",
       "      <td>1</td>\n",
       "      <td>546</td>\n",
       "      <td>-10.0</td>\n",
       "      <td>0</td>\n",
       "    </tr>\n",
       "    <tr>\n",
       "      <th>2</th>\n",
       "      <td>2018-09-17</td>\n",
       "      <td>YV</td>\n",
       "      <td>DFW</td>\n",
       "      <td>VPS</td>\n",
       "      <td>1650</td>\n",
       "      <td>1846</td>\n",
       "      <td>116.0</td>\n",
       "      <td>1</td>\n",
       "      <td>641</td>\n",
       "      <td>47.0</td>\n",
       "      <td>1</td>\n",
       "    </tr>\n",
       "    <tr>\n",
       "      <th>3</th>\n",
       "      <td>2018-10-19</td>\n",
       "      <td>G4</td>\n",
       "      <td>ABE</td>\n",
       "      <td>MYR</td>\n",
       "      <td>1108</td>\n",
       "      <td>1239</td>\n",
       "      <td>91.0</td>\n",
       "      <td>1</td>\n",
       "      <td>518</td>\n",
       "      <td>654.0</td>\n",
       "      <td>1</td>\n",
       "    </tr>\n",
       "    <tr>\n",
       "      <th>4</th>\n",
       "      <td>2018-04-24</td>\n",
       "      <td>EV</td>\n",
       "      <td>CLE</td>\n",
       "      <td>LGA</td>\n",
       "      <td>912</td>\n",
       "      <td>1048</td>\n",
       "      <td>96.0</td>\n",
       "      <td>1</td>\n",
       "      <td>419</td>\n",
       "      <td>-8.0</td>\n",
       "      <td>0</td>\n",
       "    </tr>\n",
       "  </tbody>\n",
       "</table>\n",
       "</div>"
      ],
      "text/plain": [
       "        date op_unique_carrier origin dest  crs_dep_time  crs_arr_time  \\\n",
       "0 2018-03-31                UA    EWR  FLL          1705          2017   \n",
       "1 2018-11-27                DL    GEG  SLC           544           847   \n",
       "2 2018-09-17                YV    DFW  VPS          1650          1846   \n",
       "3 2018-10-19                G4    ABE  MYR          1108          1239   \n",
       "4 2018-04-24                EV    CLE  LGA           912          1048   \n",
       "\n",
       "   crs_elapsed_time  flights  distance  arr_delay  is_arr_delay  \n",
       "0             192.0        1      1065       38.0             1  \n",
       "1             123.0        1       546      -10.0             0  \n",
       "2             116.0        1       641       47.0             1  \n",
       "3              91.0        1       518      654.0             1  \n",
       "4              96.0        1       419       -8.0             0  "
      ]
     },
     "execution_count": 225,
     "metadata": {},
     "output_type": "execute_result"
    }
   ],
   "source": [
    "features.head()"
   ]
  },
  {
   "cell_type": "code",
   "execution_count": 226,
   "metadata": {},
   "outputs": [],
   "source": [
    "origin_flights = features.groupby(['date', 'origin']).size().reset_index().rename(columns={0:'num_dep_flights'})"
   ]
  },
  {
   "cell_type": "code",
   "execution_count": 227,
   "metadata": {},
   "outputs": [],
   "source": [
    "arrival_flights = features.groupby(['date', 'dest']).size().reset_index().rename(columns={0:'num_arr_flights'})"
   ]
  },
  {
   "cell_type": "code",
   "execution_count": 228,
   "metadata": {},
   "outputs": [],
   "source": [
    "features = pd.merge(features, origin_flights, on=['date', 'origin'], how='inner')"
   ]
  },
  {
   "cell_type": "code",
   "execution_count": 229,
   "metadata": {},
   "outputs": [],
   "source": [
    "features = pd.merge(features, arrival_flights, on=['date', 'dest'], how='inner')"
   ]
  },
  {
   "cell_type": "code",
   "execution_count": 230,
   "metadata": {},
   "outputs": [],
   "source": [
    "features.dropna(inplace=True)"
   ]
  },
  {
   "cell_type": "code",
   "execution_count": 231,
   "metadata": {},
   "outputs": [],
   "source": [
    "le = LabelEncoder()\n",
    "features['op_unique_carrier'] = le.fit_transform(features['op_unique_carrier'])"
   ]
  },
  {
   "cell_type": "code",
   "execution_count": 232,
   "metadata": {},
   "outputs": [],
   "source": [
    "le = LabelEncoder()\n",
    "features['origin'] = le.fit_transform(features['origin'])"
   ]
  },
  {
   "cell_type": "code",
   "execution_count": 233,
   "metadata": {},
   "outputs": [],
   "source": [
    "le = LabelEncoder()\n",
    "features['dest'] = le.fit_transform(features['dest'])"
   ]
  },
  {
   "cell_type": "code",
   "execution_count": 234,
   "metadata": {},
   "outputs": [
    {
     "data": {
      "text/plain": [
       "date                 False\n",
       "op_unique_carrier    False\n",
       "origin               False\n",
       "dest                 False\n",
       "crs_dep_time         False\n",
       "crs_arr_time         False\n",
       "crs_elapsed_time     False\n",
       "flights              False\n",
       "distance             False\n",
       "arr_delay            False\n",
       "is_arr_delay         False\n",
       "num_dep_flights      False\n",
       "num_arr_flights      False\n",
       "dtype: bool"
      ]
     },
     "execution_count": 234,
     "metadata": {},
     "output_type": "execute_result"
    }
   ],
   "source": [
    "features.isna().any()"
   ]
  },
  {
   "cell_type": "code",
   "execution_count": 235,
   "metadata": {},
   "outputs": [],
   "source": [
    "features.head()\n",
    "features.drop('date', axis=1, inplace=True)"
   ]
  },
  {
   "cell_type": "code",
   "execution_count": 236,
   "metadata": {},
   "outputs": [
    {
     "data": {
      "text/html": [
       "<div>\n",
       "<style scoped>\n",
       "    .dataframe tbody tr th:only-of-type {\n",
       "        vertical-align: middle;\n",
       "    }\n",
       "\n",
       "    .dataframe tbody tr th {\n",
       "        vertical-align: top;\n",
       "    }\n",
       "\n",
       "    .dataframe thead th {\n",
       "        text-align: right;\n",
       "    }\n",
       "</style>\n",
       "<table border=\"1\" class=\"dataframe\">\n",
       "  <thead>\n",
       "    <tr style=\"text-align: right;\">\n",
       "      <th></th>\n",
       "      <th>op_unique_carrier</th>\n",
       "      <th>origin</th>\n",
       "      <th>dest</th>\n",
       "      <th>crs_dep_time</th>\n",
       "      <th>crs_arr_time</th>\n",
       "      <th>crs_elapsed_time</th>\n",
       "      <th>flights</th>\n",
       "      <th>distance</th>\n",
       "      <th>arr_delay</th>\n",
       "      <th>is_arr_delay</th>\n",
       "      <th>num_dep_flights</th>\n",
       "      <th>num_arr_flights</th>\n",
       "    </tr>\n",
       "  </thead>\n",
       "  <tbody>\n",
       "    <tr>\n",
       "      <th>0</th>\n",
       "      <td>22</td>\n",
       "      <td>119</td>\n",
       "      <td>127</td>\n",
       "      <td>1705</td>\n",
       "      <td>2017</td>\n",
       "      <td>192.0</td>\n",
       "      <td>1</td>\n",
       "      <td>1065</td>\n",
       "      <td>38.0</td>\n",
       "      <td>1</td>\n",
       "      <td>27</td>\n",
       "      <td>16</td>\n",
       "    </tr>\n",
       "    <tr>\n",
       "      <th>1</th>\n",
       "      <td>5</td>\n",
       "      <td>119</td>\n",
       "      <td>127</td>\n",
       "      <td>1547</td>\n",
       "      <td>1856</td>\n",
       "      <td>189.0</td>\n",
       "      <td>1</td>\n",
       "      <td>1065</td>\n",
       "      <td>-14.0</td>\n",
       "      <td>0</td>\n",
       "      <td>27</td>\n",
       "      <td>16</td>\n",
       "    </tr>\n",
       "    <tr>\n",
       "      <th>2</th>\n",
       "      <td>5</td>\n",
       "      <td>47</td>\n",
       "      <td>127</td>\n",
       "      <td>1855</td>\n",
       "      <td>2220</td>\n",
       "      <td>205.0</td>\n",
       "      <td>1</td>\n",
       "      <td>1237</td>\n",
       "      <td>-13.0</td>\n",
       "      <td>0</td>\n",
       "      <td>23</td>\n",
       "      <td>16</td>\n",
       "    </tr>\n",
       "    <tr>\n",
       "      <th>3</th>\n",
       "      <td>24</td>\n",
       "      <td>291</td>\n",
       "      <td>127</td>\n",
       "      <td>1515</td>\n",
       "      <td>1830</td>\n",
       "      <td>195.0</td>\n",
       "      <td>1</td>\n",
       "      <td>1188</td>\n",
       "      <td>-7.0</td>\n",
       "      <td>0</td>\n",
       "      <td>8</td>\n",
       "      <td>16</td>\n",
       "    </tr>\n",
       "    <tr>\n",
       "      <th>4</th>\n",
       "      <td>5</td>\n",
       "      <td>185</td>\n",
       "      <td>127</td>\n",
       "      <td>600</td>\n",
       "      <td>903</td>\n",
       "      <td>183.0</td>\n",
       "      <td>1</td>\n",
       "      <td>1069</td>\n",
       "      <td>7.0</td>\n",
       "      <td>1</td>\n",
       "      <td>19</td>\n",
       "      <td>16</td>\n",
       "    </tr>\n",
       "  </tbody>\n",
       "</table>\n",
       "</div>"
      ],
      "text/plain": [
       "   op_unique_carrier  origin  dest  crs_dep_time  crs_arr_time  \\\n",
       "0                 22     119   127          1705          2017   \n",
       "1                  5     119   127          1547          1856   \n",
       "2                  5      47   127          1855          2220   \n",
       "3                 24     291   127          1515          1830   \n",
       "4                  5     185   127           600           903   \n",
       "\n",
       "   crs_elapsed_time  flights  distance  arr_delay  is_arr_delay  \\\n",
       "0             192.0        1      1065       38.0             1   \n",
       "1             189.0        1      1065      -14.0             0   \n",
       "2             205.0        1      1237      -13.0             0   \n",
       "3             195.0        1      1188       -7.0             0   \n",
       "4             183.0        1      1069        7.0             1   \n",
       "\n",
       "   num_dep_flights  num_arr_flights  \n",
       "0               27               16  \n",
       "1               27               16  \n",
       "2               23               16  \n",
       "3                8               16  \n",
       "4               19               16  "
      ]
     },
     "execution_count": 236,
     "metadata": {},
     "output_type": "execute_result"
    }
   ],
   "source": [
    "features.head()"
   ]
  },
  {
   "cell_type": "code",
   "execution_count": 237,
   "metadata": {},
   "outputs": [
    {
     "data": {
      "text/plain": [
       "980521"
      ]
     },
     "execution_count": 237,
     "metadata": {},
     "output_type": "execute_result"
    }
   ],
   "source": [
    "len(features)"
   ]
  },
  {
   "cell_type": "code",
   "execution_count": 238,
   "metadata": {},
   "outputs": [
    {
     "data": {
      "text/html": [
       "<div>\n",
       "<style scoped>\n",
       "    .dataframe tbody tr th:only-of-type {\n",
       "        vertical-align: middle;\n",
       "    }\n",
       "\n",
       "    .dataframe tbody tr th {\n",
       "        vertical-align: top;\n",
       "    }\n",
       "\n",
       "    .dataframe thead th {\n",
       "        text-align: right;\n",
       "    }\n",
       "</style>\n",
       "<table border=\"1\" class=\"dataframe\">\n",
       "  <thead>\n",
       "    <tr style=\"text-align: right;\">\n",
       "      <th></th>\n",
       "      <th>op_unique_carrier</th>\n",
       "      <th>origin</th>\n",
       "      <th>dest</th>\n",
       "      <th>crs_dep_time</th>\n",
       "      <th>crs_arr_time</th>\n",
       "      <th>crs_elapsed_time</th>\n",
       "      <th>flights</th>\n",
       "      <th>distance</th>\n",
       "      <th>arr_delay</th>\n",
       "      <th>is_arr_delay</th>\n",
       "      <th>num_dep_flights</th>\n",
       "      <th>num_arr_flights</th>\n",
       "    </tr>\n",
       "  </thead>\n",
       "  <tbody>\n",
       "    <tr>\n",
       "      <th>919669</th>\n",
       "      <td>19</td>\n",
       "      <td>29</td>\n",
       "      <td>103</td>\n",
       "      <td>810</td>\n",
       "      <td>922</td>\n",
       "      <td>72.0</td>\n",
       "      <td>1</td>\n",
       "      <td>113</td>\n",
       "      <td>-22.0</td>\n",
       "      <td>0</td>\n",
       "      <td>1</td>\n",
       "      <td>25</td>\n",
       "    </tr>\n",
       "    <tr>\n",
       "      <th>478160</th>\n",
       "      <td>26</td>\n",
       "      <td>271</td>\n",
       "      <td>228</td>\n",
       "      <td>2045</td>\n",
       "      <td>2207</td>\n",
       "      <td>82.0</td>\n",
       "      <td>1</td>\n",
       "      <td>289</td>\n",
       "      <td>-7.0</td>\n",
       "      <td>0</td>\n",
       "      <td>24</td>\n",
       "      <td>2</td>\n",
       "    </tr>\n",
       "    <tr>\n",
       "      <th>138752</th>\n",
       "      <td>2</td>\n",
       "      <td>74</td>\n",
       "      <td>93</td>\n",
       "      <td>920</td>\n",
       "      <td>1045</td>\n",
       "      <td>85.0</td>\n",
       "      <td>1</td>\n",
       "      <td>331</td>\n",
       "      <td>-13.0</td>\n",
       "      <td>0</td>\n",
       "      <td>45</td>\n",
       "      <td>36</td>\n",
       "    </tr>\n",
       "    <tr>\n",
       "      <th>875153</th>\n",
       "      <td>16</td>\n",
       "      <td>44</td>\n",
       "      <td>257</td>\n",
       "      <td>1013</td>\n",
       "      <td>1110</td>\n",
       "      <td>57.0</td>\n",
       "      <td>1</td>\n",
       "      <td>116</td>\n",
       "      <td>200.0</td>\n",
       "      <td>1</td>\n",
       "      <td>2</td>\n",
       "      <td>63</td>\n",
       "    </tr>\n",
       "    <tr>\n",
       "      <th>860120</th>\n",
       "      <td>8</td>\n",
       "      <td>243</td>\n",
       "      <td>93</td>\n",
       "      <td>2015</td>\n",
       "      <td>2343</td>\n",
       "      <td>148.0</td>\n",
       "      <td>1</td>\n",
       "      <td>931</td>\n",
       "      <td>-5.0</td>\n",
       "      <td>0</td>\n",
       "      <td>39</td>\n",
       "      <td>31</td>\n",
       "    </tr>\n",
       "  </tbody>\n",
       "</table>\n",
       "</div>"
      ],
      "text/plain": [
       "        op_unique_carrier  origin  dest  crs_dep_time  crs_arr_time  \\\n",
       "919669                 19      29   103           810           922   \n",
       "478160                 26     271   228          2045          2207   \n",
       "138752                  2      74    93           920          1045   \n",
       "875153                 16      44   257          1013          1110   \n",
       "860120                  8     243    93          2015          2343   \n",
       "\n",
       "        crs_elapsed_time  flights  distance  arr_delay  is_arr_delay  \\\n",
       "919669              72.0        1       113      -22.0             0   \n",
       "478160              82.0        1       289       -7.0             0   \n",
       "138752              85.0        1       331      -13.0             0   \n",
       "875153              57.0        1       116      200.0             1   \n",
       "860120             148.0        1       931       -5.0             0   \n",
       "\n",
       "        num_dep_flights  num_arr_flights  \n",
       "919669                1               25  \n",
       "478160               24                2  \n",
       "138752               45               36  \n",
       "875153                2               63  \n",
       "860120               39               31  "
      ]
     },
     "execution_count": 238,
     "metadata": {},
     "output_type": "execute_result"
    }
   ],
   "source": [
    "#Randomly select 10,000 rows for model building\n",
    "data = features.sample(frac=1)[:10000]\n",
    "data.head()"
   ]
  },
  {
   "cell_type": "code",
   "execution_count": 239,
   "metadata": {},
   "outputs": [
    {
     "data": {
      "text/plain": [
       "<AxesSubplot:>"
      ]
     },
     "execution_count": 239,
     "metadata": {},
     "output_type": "execute_result"
    },
    {
     "data": {
      "image/png": "[encoded data removed]",
      "text/plain": [
       "<Figure size 432x288 with 2 Axes>"
      ]
     },
     "metadata": {
      "needs_background": "light"
     },
     "output_type": "display_data"
    }
   ],
   "source": [
    "corr = data.corr()\n",
    "cmap = sns.diverging_palette(230, 20, as_cmap=True)\n",
    "mask = np.triu(np.ones_like(corr, dtype=bool))\n",
    "sns.heatmap(corr, mask=mask,cmap=cmap, vmax=.3, center=0,\n",
    "            square=True, linewidths=.5, cbar_kws={\"shrink\": .5})"
   ]
  },
  {
   "cell_type": "code",
   "execution_count": 240,
   "metadata": {},
   "outputs": [],
   "source": [
    "data.drop(['flights', 'num_dep_flights', 'num_arr_flights'], axis=1, inplace=True)"
   ]
  },
  {
   "cell_type": "code",
   "execution_count": 241,
   "metadata": {},
   "outputs": [
    {
     "data": {
      "text/plain": [
       "op_unique_carrier        73.199528\n",
       "origin                10349.995216\n",
       "dest                  10101.936586\n",
       "crs_dep_time         243028.234476\n",
       "crs_arr_time         273716.196327\n",
       "crs_elapsed_time       5030.382987\n",
       "distance             332298.189124\n",
       "arr_delay              2375.440123\n",
       "is_arr_delay              0.226614\n",
       "dtype: float64"
      ]
     },
     "execution_count": 241,
     "metadata": {},
     "output_type": "execute_result"
    }
   ],
   "source": [
    "data.var(axis=0)"
   ]
  },
  {
   "cell_type": "code",
   "execution_count": 242,
   "metadata": {},
   "outputs": [],
   "source": [
    "X = data.drop(['arr_delay', 'is_arr_delay'], axis=1).to_numpy()\n",
    "y_class = data['is_arr_delay'].to_numpy()\n",
    "y_reg = data['arr_delay'].to_numpy()"
   ]
  },
  {
   "cell_type": "markdown",
   "metadata": {},
   "source": [
    "## 2. Functions"
   ]
  },
  {
   "cell_type": "code",
   "execution_count": 280,
   "metadata": {},
   "outputs": [],
   "source": [
    "def scale_data(data):\n",
    "    scaler = StandardScaler()\n",
    "    return scaler.fit_transform(data)\n",
    "\n",
    "def linear_model(type, x_train, y_train, x_test, hyperparams={}):\n",
    "\n",
    "    if type.lower() == 'linear':\n",
    "        model = LinearRegression(**hyperparams)\n",
    "    elif type.lower() == 'ridge':\n",
    "        model = Ridge(**hyperparams)\n",
    "    elif type.lower() == 'lasso':\n",
    "        model = Lasso(**hyperparams)\n",
    "    elif type.lower() == 'polynomial':\n",
    "        polyreg = PolynomialFeatures(**hyperparams)\n",
    "        x_train = polyreg.fit_transform(x_train)\n",
    "        model = LinearRegression()\n",
    "        \n",
    "    model.fit(x_train, y_train)\n",
    "    y_pred = model.predict(x_test)\n",
    "\n",
    "    return model.coef_, y_pred\n",
    "\n",
    "def polynomial_regression(x, y, hyperparams={}):\n",
    "    polyreg = PolynomialFeatures(**hyperparams)\n",
    "    x = polyreg.fit_transform(x)\n",
    "\n",
    "    X = scale_data(x)\n",
    "    y = scale_data(y.reshape(-1,1))\n",
    "\n",
    "    X_train, X_test, y_train, y_test = train_test_split(X, y, train_size=0.75)\n",
    "\n",
    "    linreg = LinearRegression()\n",
    "    linreg.fit(X_train, y_train)\n",
    "    y_pred = linreg.predict(X_test)\n",
    "    \n",
    "    score = evaluate_regression(y_test, y_pred)\n",
    "\n",
    "    return linreg.coef_, y_pred, score\n",
    "\n",
    "def random_forest(type, x_train, y_train, x_test, hyperparams={}):\n",
    "\n",
    "    if type.lower() == 'classification':\n",
    "        model = RandomForestClassifier(**hyperparams)\n",
    "    elif type.lower() == 'regression':\n",
    "        model = RandomForestRegressor(**hyperparams)\n",
    "    \n",
    "    model.fit(x_train, y_train)\n",
    "    y_pred = model.predict(x_test)\n",
    "\n",
    "    return y_pred\n",
    "\n",
    "def gradient_boost(type, x_train, y_train, x_test, hyperparams={}):\n",
    "\n",
    "    if type.lower() == 'classification':\n",
    "        model = GradientBoostingClassifier(**hyperparams)\n",
    "    elif type.lower() == 'regression':\n",
    "        model = GradientBoostingRegressor(**hyperparams)\n",
    "    \n",
    "    model.fit(x_train, y_train)\n",
    "    y_pred = model.predict(x_test)\n",
    "    \n",
    "    return y_pred\n",
    "\n",
    "def evaluate_binary_classification(model_name, y_test, y_pred):\n",
    "\n",
    "    accuracy = accuracy_score(y_test, y_pred)\n",
    "    precision = precision_score(y_test, y_pred)\n",
    "    recall = recall_score(y_test, y_pred)\n",
    "    f1_score = recall_score(y_test, y_pred)\n",
    "    rocauc_score = roc_auc_score(y_test, y_pred)\n",
    "\n",
    "    cm = confusion_matrix(y_test, y_pred)\n",
    "    sns.heatmap(cm, annot=True)\n",
    "    plt.tight_layout()\n",
    "    plt.title(f'{model_name}', y=1.1)\n",
    "    plt.ylabel('Actual label')\n",
    "    plt.xlabel('Predicted label')\n",
    "    plt.show()\n",
    "\n",
    "    return accuracy, precision, recall, f1_score, rocauc_score\n",
    "\n",
    "def evaluate_regression(y_test, y_pred):\n",
    "\n",
    "    mae = mean_absolute_error(y_test, y_pred)\n",
    "    mse = mean_squared_error(y_test, y_pred)\n",
    "    r2 = r2_score(y_test, y_pred)\n",
    "\n",
    "    return mae, mse, r2"
   ]
  },
  {
   "cell_type": "markdown",
   "metadata": {},
   "source": [
    "## 5. Regression Models"
   ]
  },
  {
   "cell_type": "code",
   "execution_count": 244,
   "metadata": {},
   "outputs": [],
   "source": [
    "X_scaled = scale_data(X)\n",
    "y_reg_scaled = scale_data(y_reg.reshape(-1,1))"
   ]
  },
  {
   "cell_type": "code",
   "execution_count": 245,
   "metadata": {},
   "outputs": [],
   "source": [
    "X_train, X_test, y_train, y_test = train_test_split(X_scaled, y_reg_scaled, train_size=0.75)"
   ]
  },
  {
   "cell_type": "markdown",
   "metadata": {},
   "source": [
    "### 5.1 Linear Regression"
   ]
  },
  {
   "cell_type": "code",
   "execution_count": 246,
   "metadata": {},
   "outputs": [],
   "source": [
    "y_lin_coeffs, y_lin_pred = linear_model('linear', X_train, y_train, X_test)"
   ]
  },
  {
   "cell_type": "code",
   "execution_count": 247,
   "metadata": {},
   "outputs": [],
   "source": [
    "mae_lin, mse_lin, r2_lin = evaluate_regression(y_test, y_lin_pred)"
   ]
  },
  {
   "cell_type": "code",
   "execution_count": 248,
   "metadata": {},
   "outputs": [
    {
     "name": "stdout",
     "output_type": "stream",
     "text": [
      "0.5267371505038996 1.1957305036151857 0.010242422033119869\n"
     ]
    }
   ],
   "source": [
    "print(mae_lin, mse_lin, r2_lin)"
   ]
  },
  {
   "cell_type": "markdown",
   "metadata": {},
   "source": [
    "### 5.2 Ridge Regression"
   ]
  },
  {
   "cell_type": "code",
   "execution_count": 249,
   "metadata": {},
   "outputs": [],
   "source": [
    "y_ridge_coeffs, y_ridge_pred = linear_model('ridge', X_train, y_train, X_test, {'alpha': 0.5})"
   ]
  },
  {
   "cell_type": "code",
   "execution_count": 250,
   "metadata": {},
   "outputs": [],
   "source": [
    "mae_ridge, mse_ridge, r2_ridge = evaluate_regression(y_test, y_ridge_pred)"
   ]
  },
  {
   "cell_type": "code",
   "execution_count": 251,
   "metadata": {},
   "outputs": [
    {
     "name": "stdout",
     "output_type": "stream",
     "text": [
      "0.5267364506535088 1.195731207405871 0.010241839475292558\n"
     ]
    }
   ],
   "source": [
    "print(mae_ridge, mse_ridge, r2_ridge)"
   ]
  },
  {
   "cell_type": "markdown",
   "metadata": {},
   "source": [
    "### 5.3 Lasso Regression"
   ]
  },
  {
   "cell_type": "code",
   "execution_count": 252,
   "metadata": {},
   "outputs": [],
   "source": [
    "y_lasso_coeffs, y_lasso_pred = linear_model('lasso', X_train, y_train, X_test, {'alpha':0.5})"
   ]
  },
  {
   "cell_type": "code",
   "execution_count": 253,
   "metadata": {},
   "outputs": [],
   "source": [
    "mae_lasso, mse_lasso, r2_lasso = evaluate_regression(y_test, y_lasso_pred)"
   ]
  },
  {
   "cell_type": "code",
   "execution_count": 254,
   "metadata": {},
   "outputs": [
    {
     "name": "stdout",
     "output_type": "stream",
     "text": [
      "0.5314159540963483 1.2097558621916622 -0.0013669706291901118\n"
     ]
    }
   ],
   "source": [
    "print(mae_lasso, mse_lasso, r2_lasso )"
   ]
  },
  {
   "cell_type": "markdown",
   "metadata": {},
   "source": [
    "### 5.4 Polynomial Regression"
   ]
  },
  {
   "cell_type": "code",
   "execution_count": 255,
   "metadata": {},
   "outputs": [],
   "source": [
    "poly_coeffs, y_poly_pred, score = polynomial_regression(X, y_reg, {'degree': 3})"
   ]
  },
  {
   "cell_type": "code",
   "execution_count": 256,
   "metadata": {},
   "outputs": [
    {
     "name": "stdout",
     "output_type": "stream",
     "text": [
      "(0.5047753370980343, 0.9139089195971064, -0.0016893053402011748)\n"
     ]
    }
   ],
   "source": [
    "print(score)"
   ]
  },
  {
   "cell_type": "markdown",
   "metadata": {},
   "source": [
    "### 5.5 Random Forest Regressor"
   ]
  },
  {
   "cell_type": "code",
   "execution_count": 260,
   "metadata": {},
   "outputs": [],
   "source": [
    "y_pred_rfr = random_forest('regression', X_train, y_train, X_test) "
   ]
  },
  {
   "cell_type": "code",
   "execution_count": 261,
   "metadata": {},
   "outputs": [],
   "source": [
    "mae_rfr, mse_rfr, r2_rfr = evaluate_regression(y_test, y_pred_rfr)"
   ]
  },
  {
   "cell_type": "code",
   "execution_count": 262,
   "metadata": {},
   "outputs": [
    {
     "name": "stdout",
     "output_type": "stream",
     "text": [
      "0.5682595421752759 1.2433373985741314 -0.029163852964991133\n"
     ]
    }
   ],
   "source": [
    "print(mae_rfr, mse_rfr, r2_rfr )"
   ]
  },
  {
   "cell_type": "markdown",
   "metadata": {},
   "source": [
    "### 5.6 Gradient Boost Regressor"
   ]
  },
  {
   "cell_type": "code",
   "execution_count": 263,
   "metadata": {},
   "outputs": [],
   "source": [
    "y_pred_grad = gradient_boost('regression', X_train, y_train, X_test)"
   ]
  },
  {
   "cell_type": "code",
   "execution_count": 264,
   "metadata": {},
   "outputs": [],
   "source": [
    "mae_gbr, mse_gbr, r2_gbr = evaluate_regression(y_test, y_pred_grad)"
   ]
  },
  {
   "cell_type": "code",
   "execution_count": 265,
   "metadata": {},
   "outputs": [
    {
     "name": "stdout",
     "output_type": "stream",
     "text": [
      "0.5285470128817559 1.208847282821328 -0.0006149003974331713\n"
     ]
    }
   ],
   "source": [
    "print(mae_gbr, mse_gbr, r2_gbr)"
   ]
  },
  {
   "cell_type": "markdown",
   "metadata": {},
   "source": [
    "## 6. Classification"
   ]
  },
  {
   "cell_type": "code",
   "execution_count": 275,
   "metadata": {},
   "outputs": [],
   "source": [
    "X_train, X_test, y_train, y_test = train_test_split(X_scaled, y_class, train_size=0.75, stratify=y_class)"
   ]
  },
  {
   "cell_type": "markdown",
   "metadata": {},
   "source": [
    "### 6.1 Random Forest Classifier"
   ]
  },
  {
   "cell_type": "code",
   "execution_count": 276,
   "metadata": {},
   "outputs": [],
   "source": [
    "y_pred_rfc = random_forest('classification', X_train, y_train, X_test)"
   ]
  },
  {
   "cell_type": "code",
   "execution_count": 277,
   "metadata": {},
   "outputs": [
    {
     "data": {
      "image/png": "[encoded data removed]",
      "text/plain": [
       "<Figure size 432x288 with 2 Axes>"
      ]
     },
     "metadata": {
      "needs_background": "light"
     },
     "output_type": "display_data"
    }
   ],
   "source": [
    "accuracy_rfc, precision_rfc, recall_rfc, f1_score_rfc, rocauc_score_rfc = evaluate_binary_classification('Random Forest', y_test, y_pred_rfc)"
   ]
  },
  {
   "cell_type": "markdown",
   "metadata": {},
   "source": [
    "### 6.2 Gradient Boost Classifier "
   ]
  },
  {
   "cell_type": "code",
   "execution_count": 278,
   "metadata": {},
   "outputs": [],
   "source": [
    "y_pred_gbc = gradient_boost('classification', X_train, y_train, X_test)"
   ]
  },
  {
   "cell_type": "code",
   "execution_count": 279,
   "metadata": {},
   "outputs": [
    {
     "data": {
      "image/png": "[encoded data removed]",
      "text/plain": [
       "<Figure size 432x288 with 2 Axes>"
      ]
     },
     "metadata": {
      "needs_background": "light"
     },
     "output_type": "display_data"
    }
   ],
   "source": [
    "accuracy_gbc, precision_gbc, recall_gbc, f1_score_gbc, rocauc_score_gbc = evaluate_binary_classification('Gradient Boost', y_test, y_pred_gbc)"
   ]
  }
 ],
 "metadata": {
  "kernelspec": {
   "display_name": "lhl-bootcamp",
   "language": "python",
   "name": "lhl-bootcamp"
  },
  "language_info": {
   "codemirror_mode": {
    "name": "ipython",
    "version": 3
   },
   "file_extension": ".py",
   "mimetype": "text/x-python",
   "name": "python",
   "nbconvert_exporter": "python",
   "pygments_lexer": "ipython3",
   "version": "3.7.7"
  }
 },
 "nbformat": 4,
 "nbformat_minor": 4
}
