{
 "cells": [
  {
   "cell_type": "markdown",
   "metadata": {},
   "source": [
    "# Predicting Flight Delays: Regression Models"
   ]
  },
  {
   "cell_type": "code",
   "execution_count": 131,
   "metadata": {},
   "outputs": [],
   "source": [
    "import pandas as pd\n",
    "import numpy as np\n",
    "import datetime as dt\n",
    "import seaborn as sns\n",
    "import matplotlib.pyplot as plt\n",
    "import warnings\n",
    "%matplotlib inline\n",
    "warnings.filterwarnings('ignore')"
   ]
  },
  {
   "cell_type": "code",
   "execution_count": 2,
   "metadata": {},
   "outputs": [],
   "source": [
    "from sklearn.preprocessing import LabelEncoder, OneHotEncoder\n",
    "from sklearn.compose import ColumnTransformer\n",
    "from sklearn.model_selection import train_test_split"
   ]
  },
  {
   "cell_type": "code",
   "execution_count": 43,
   "metadata": {},
   "outputs": [],
   "source": [
    "from sklearn.ensemble import RandomForestRegressor, GradientBoostingRegressor"
   ]
  },
  {
   "cell_type": "code",
   "execution_count": 6,
   "metadata": {},
   "outputs": [],
   "source": [
    "flights = pd.read_csv('../data/data-feature/flights-feature-edit.csv')"
   ]
  },
  {
   "cell_type": "code",
   "execution_count": 108,
   "metadata": {},
   "outputs": [],
   "source": [
    "flights.rename(columns={'fl_date': 'date'}, inplace=True)"
   ]
  },
  {
   "cell_type": "code",
   "execution_count": 100,
   "metadata": {},
   "outputs": [],
   "source": [
    "weather = pd.read_csv('../data/data-feature/flights_weather_feature_engineering.csv')"
   ]
  },
  {
   "cell_type": "code",
   "execution_count": 105,
   "metadata": {},
   "outputs": [],
   "source": [
    "weather.drop('Unnamed: 0', axis=1, inplace=True)"
   ]
  },
  {
   "cell_type": "code",
   "execution_count": 106,
   "metadata": {},
   "outputs": [
    {
     "data": {
      "text/html": [
       "<div>\n",
       "<style scoped>\n",
       "    .dataframe tbody tr th:only-of-type {\n",
       "        vertical-align: middle;\n",
       "    }\n",
       "\n",
       "    .dataframe tbody tr th {\n",
       "        vertical-align: top;\n",
       "    }\n",
       "\n",
       "    .dataframe thead th {\n",
       "        text-align: right;\n",
       "    }\n",
       "</style>\n",
       "<table border=\"1\" class=\"dataframe\">\n",
       "  <thead>\n",
       "    <tr style=\"text-align: right;\">\n",
       "      <th></th>\n",
       "      <th>date</th>\n",
       "      <th>origin</th>\n",
       "      <th>dest</th>\n",
       "      <th>dep_delay</th>\n",
       "      <th>arr_delay</th>\n",
       "      <th>dep_avg_temp</th>\n",
       "      <th>dep_precip_mm</th>\n",
       "      <th>dep_humidity</th>\n",
       "      <th>dep_visibility</th>\n",
       "      <th>dep_total_snowcm</th>\n",
       "      <th>...</th>\n",
       "      <th>arr_snow</th>\n",
       "      <th>arr_rainy</th>\n",
       "      <th>arr_snow_bin</th>\n",
       "      <th>dep_snow_bin</th>\n",
       "      <th>arr_precip_bin</th>\n",
       "      <th>dep_precip_bin</th>\n",
       "      <th>dep_humidity_bin</th>\n",
       "      <th>arr_humidity_bin</th>\n",
       "      <th>dep_avgtemp_bin</th>\n",
       "      <th>arr_avgtemp_bin</th>\n",
       "    </tr>\n",
       "  </thead>\n",
       "  <tbody>\n",
       "    <tr>\n",
       "      <th>0</th>\n",
       "      <td>2018-06-21</td>\n",
       "      <td>DFW</td>\n",
       "      <td>LGA</td>\n",
       "      <td>2.0</td>\n",
       "      <td>-8.0</td>\n",
       "      <td>26</td>\n",
       "      <td>0.0</td>\n",
       "      <td>52</td>\n",
       "      <td>10</td>\n",
       "      <td>0.0</td>\n",
       "      <td>...</td>\n",
       "      <td>0</td>\n",
       "      <td>0</td>\n",
       "      <td>0</td>\n",
       "      <td>0</td>\n",
       "      <td>0</td>\n",
       "      <td>0</td>\n",
       "      <td>2</td>\n",
       "      <td>2</td>\n",
       "      <td>3</td>\n",
       "      <td>3</td>\n",
       "    </tr>\n",
       "    <tr>\n",
       "      <th>1</th>\n",
       "      <td>2018-06-21</td>\n",
       "      <td>DFW</td>\n",
       "      <td>LGA</td>\n",
       "      <td>159.0</td>\n",
       "      <td>162.0</td>\n",
       "      <td>26</td>\n",
       "      <td>0.0</td>\n",
       "      <td>52</td>\n",
       "      <td>10</td>\n",
       "      <td>0.0</td>\n",
       "      <td>...</td>\n",
       "      <td>0</td>\n",
       "      <td>0</td>\n",
       "      <td>0</td>\n",
       "      <td>0</td>\n",
       "      <td>0</td>\n",
       "      <td>0</td>\n",
       "      <td>2</td>\n",
       "      <td>2</td>\n",
       "      <td>3</td>\n",
       "      <td>3</td>\n",
       "    </tr>\n",
       "    <tr>\n",
       "      <th>2</th>\n",
       "      <td>2018-06-21</td>\n",
       "      <td>DFW</td>\n",
       "      <td>LGA</td>\n",
       "      <td>43.0</td>\n",
       "      <td>40.0</td>\n",
       "      <td>26</td>\n",
       "      <td>0.0</td>\n",
       "      <td>52</td>\n",
       "      <td>10</td>\n",
       "      <td>0.0</td>\n",
       "      <td>...</td>\n",
       "      <td>0</td>\n",
       "      <td>0</td>\n",
       "      <td>0</td>\n",
       "      <td>0</td>\n",
       "      <td>0</td>\n",
       "      <td>0</td>\n",
       "      <td>2</td>\n",
       "      <td>2</td>\n",
       "      <td>3</td>\n",
       "      <td>3</td>\n",
       "    </tr>\n",
       "    <tr>\n",
       "      <th>3</th>\n",
       "      <td>2018-06-21</td>\n",
       "      <td>DCA</td>\n",
       "      <td>LGA</td>\n",
       "      <td>-5.0</td>\n",
       "      <td>-25.0</td>\n",
       "      <td>26</td>\n",
       "      <td>0.0</td>\n",
       "      <td>52</td>\n",
       "      <td>10</td>\n",
       "      <td>0.0</td>\n",
       "      <td>...</td>\n",
       "      <td>0</td>\n",
       "      <td>0</td>\n",
       "      <td>0</td>\n",
       "      <td>0</td>\n",
       "      <td>0</td>\n",
       "      <td>0</td>\n",
       "      <td>2</td>\n",
       "      <td>2</td>\n",
       "      <td>3</td>\n",
       "      <td>3</td>\n",
       "    </tr>\n",
       "    <tr>\n",
       "      <th>4</th>\n",
       "      <td>2018-06-21</td>\n",
       "      <td>DCA</td>\n",
       "      <td>LGA</td>\n",
       "      <td>18.0</td>\n",
       "      <td>23.0</td>\n",
       "      <td>26</td>\n",
       "      <td>0.0</td>\n",
       "      <td>52</td>\n",
       "      <td>10</td>\n",
       "      <td>0.0</td>\n",
       "      <td>...</td>\n",
       "      <td>0</td>\n",
       "      <td>0</td>\n",
       "      <td>0</td>\n",
       "      <td>0</td>\n",
       "      <td>0</td>\n",
       "      <td>0</td>\n",
       "      <td>2</td>\n",
       "      <td>2</td>\n",
       "      <td>3</td>\n",
       "      <td>3</td>\n",
       "    </tr>\n",
       "  </tbody>\n",
       "</table>\n",
       "<p>5 rows × 35 columns</p>\n",
       "</div>"
      ],
      "text/plain": [
       "         date origin dest  dep_delay  arr_delay  dep_avg_temp  dep_precip_mm  \\\n",
       "0  2018-06-21    DFW  LGA        2.0       -8.0            26            0.0   \n",
       "1  2018-06-21    DFW  LGA      159.0      162.0            26            0.0   \n",
       "2  2018-06-21    DFW  LGA       43.0       40.0            26            0.0   \n",
       "3  2018-06-21    DCA  LGA       -5.0      -25.0            26            0.0   \n",
       "4  2018-06-21    DCA  LGA       18.0       23.0            26            0.0   \n",
       "\n",
       "   dep_humidity  dep_visibility  dep_total_snowcm  ...  arr_snow arr_rainy  \\\n",
       "0            52              10               0.0  ...         0         0   \n",
       "1            52              10               0.0  ...         0         0   \n",
       "2            52              10               0.0  ...         0         0   \n",
       "3            52              10               0.0  ...         0         0   \n",
       "4            52              10               0.0  ...         0         0   \n",
       "\n",
       "   arr_snow_bin  dep_snow_bin  arr_precip_bin  dep_precip_bin  \\\n",
       "0             0             0               0               0   \n",
       "1             0             0               0               0   \n",
       "2             0             0               0               0   \n",
       "3             0             0               0               0   \n",
       "4             0             0               0               0   \n",
       "\n",
       "   dep_humidity_bin  arr_humidity_bin dep_avgtemp_bin  arr_avgtemp_bin  \n",
       "0                 2                 2               3                3  \n",
       "1                 2                 2               3                3  \n",
       "2                 2                 2               3                3  \n",
       "3                 2                 2               3                3  \n",
       "4                 2                 2               3                3  \n",
       "\n",
       "[5 rows x 35 columns]"
      ]
     },
     "execution_count": 106,
     "metadata": {},
     "output_type": "execute_result"
    }
   ],
   "source": [
    "weather.head()"
   ]
  },
  {
   "cell_type": "markdown",
   "metadata": {},
   "source": [
    "## Test 1: Only Flights Data! "
   ]
  },
  {
   "cell_type": "markdown",
   "metadata": {},
   "source": [
    "<b> Extract the following features: </b> carrier ID, tail num, origin, destination, arr delay, crs elapsed time"
   ]
  },
  {
   "cell_type": "code",
   "execution_count": 234,
   "metadata": {},
   "outputs": [
    {
     "data": {
      "text/plain": [
       "Index(['Unnamed: 0', 'date', 'mkt_unique_carrier', 'op_unique_carrier',\n",
       "       'tail_num', 'origin_airport_id', 'origin', 'origin_city_name',\n",
       "       'dest_airport_id', 'dest', 'dest_city_name', 'dep_delay', 'arr_delay',\n",
       "       'crs_elapsed_time', 'distance', 'month', 'day', 'month_arr_delay_avg',\n",
       "       'month_dep_delay_avg', 'is_weekend', 'dep_hour', 'dep_min', 'arr_hour',\n",
       "       'arr_min', 'dep_time_desc', 'arr_time_desc', 'plane_score', 'orr_busy',\n",
       "       'arr_busy', 'route', 'route_mean_delay', 'route_median_delay',\n",
       "       'route_lq_delay', 'route_uq_delay', 'total_routes',\n",
       "       'num_delayed_routes', 'route_prob_delay', 'route_mean_dep_delay',\n",
       "       'route_median_dep_delay', 'route_lq_dep_delay', 'route_uq_dep_delay'],\n",
       "      dtype='object')"
      ]
     },
     "execution_count": 234,
     "metadata": {},
     "output_type": "execute_result"
    }
   ],
   "source": [
    "flights.columns"
   ]
  },
  {
   "cell_type": "code",
   "execution_count": 251,
   "metadata": {},
   "outputs": [],
   "source": [
    "flights_df1 = flights.drop(['Unnamed: 0', 'date', 'mkt_unique_carrier', 'origin_airport_id', 'origin_city_name',\n",
    "                           'dest_airport_id', 'dest_city_name', 'dep_delay', 'route', 'total_routes', 'num_delayed_routes'], axis=1)"
   ]
  },
  {
   "cell_type": "code",
   "execution_count": null,
   "metadata": {},
   "outputs": [],
   "source": []
  },
  {
   "cell_type": "code",
   "execution_count": 252,
   "metadata": {},
   "outputs": [
    {
     "data": {
      "text/plain": [
       "(980258, 30)"
      ]
     },
     "execution_count": 252,
     "metadata": {},
     "output_type": "execute_result"
    }
   ],
   "source": [
    "flights_df1.shape"
   ]
  },
  {
   "cell_type": "code",
   "execution_count": 253,
   "metadata": {},
   "outputs": [
    {
     "data": {
      "text/plain": [
       "Index(['op_unique_carrier', 'tail_num', 'origin', 'dest', 'arr_delay',\n",
       "       'crs_elapsed_time', 'distance', 'month', 'day', 'month_arr_delay_avg',\n",
       "       'month_dep_delay_avg', 'is_weekend', 'dep_hour', 'dep_min', 'arr_hour',\n",
       "       'arr_min', 'dep_time_desc', 'arr_time_desc', 'plane_score', 'orr_busy',\n",
       "       'arr_busy', 'route_mean_delay', 'route_median_delay', 'route_lq_delay',\n",
       "       'route_uq_delay', 'route_prob_delay', 'route_mean_dep_delay',\n",
       "       'route_median_dep_delay', 'route_lq_dep_delay', 'route_uq_dep_delay'],\n",
       "      dtype='object')"
      ]
     },
     "execution_count": 253,
     "metadata": {},
     "output_type": "execute_result"
    }
   ],
   "source": [
    "flights_df1.columns"
   ]
  },
  {
   "cell_type": "code",
   "execution_count": 254,
   "metadata": {},
   "outputs": [],
   "source": [
    "flights_df1 = flights_df1.sample(frac=1)[:100000]"
   ]
  },
  {
   "cell_type": "code",
   "execution_count": 255,
   "metadata": {},
   "outputs": [],
   "source": [
    "X = flights_df1.drop('arr_delay', axis=1)\n",
    "y = flights_df1['arr_delay']"
   ]
  },
  {
   "cell_type": "code",
   "execution_count": 257,
   "metadata": {},
   "outputs": [],
   "source": [
    "tail_num_le = LabelEncoder()\n",
    "X['tail_num'] = tail_num_le.fit_transform(X['tail_num'])\n",
    "\n",
    "# Label encode origin and destination\n",
    "airports_le = LabelEncoder()\n",
    "X['origin'] = airports_le.fit_transform(X['origin'])\n",
    "X['dest'] = airports_le.fit_transform(X['dest'])\n",
    "\n",
    "# label encode mkt_carrier\n",
    "mkt_carrier_le = LabelEncoder()\n",
    "X['op_unique_carrier'] = mkt_carrier_le.fit_transform(X['op_unique_carrier'])"
   ]
  },
  {
   "cell_type": "code",
   "execution_count": 258,
   "metadata": {},
   "outputs": [],
   "source": [
    "dummies = pd.get_dummies(X[['dep_time_desc', 'arr_time_desc', 'orr_busy', 'arr_busy']])\n",
    "X = pd.concat([X, dummies], axis=1)"
   ]
  },
  {
   "cell_type": "code",
   "execution_count": 259,
   "metadata": {},
   "outputs": [],
   "source": [
    "X.drop(['dep_time_desc', 'arr_time_desc', 'orr_busy', 'arr_busy'], axis=1, inplace=True)"
   ]
  },
  {
   "cell_type": "code",
   "execution_count": 260,
   "metadata": {},
   "outputs": [
    {
     "data": {
      "text/plain": [
       "45"
      ]
     },
     "execution_count": 260,
     "metadata": {},
     "output_type": "execute_result"
    }
   ],
   "source": [
    "len(X.columns)"
   ]
  },
  {
   "cell_type": "code",
   "execution_count": 261,
   "metadata": {},
   "outputs": [
    {
     "data": {
      "text/html": [
       "<div>\n",
       "<style scoped>\n",
       "    .dataframe tbody tr th:only-of-type {\n",
       "        vertical-align: middle;\n",
       "    }\n",
       "\n",
       "    .dataframe tbody tr th {\n",
       "        vertical-align: top;\n",
       "    }\n",
       "\n",
       "    .dataframe thead th {\n",
       "        text-align: right;\n",
       "    }\n",
       "</style>\n",
       "<table border=\"1\" class=\"dataframe\">\n",
       "  <thead>\n",
       "    <tr style=\"text-align: right;\">\n",
       "      <th></th>\n",
       "      <th>op_unique_carrier</th>\n",
       "      <th>tail_num</th>\n",
       "      <th>origin</th>\n",
       "      <th>dest</th>\n",
       "      <th>crs_elapsed_time</th>\n",
       "      <th>distance</th>\n",
       "      <th>month</th>\n",
       "      <th>day</th>\n",
       "      <th>month_arr_delay_avg</th>\n",
       "      <th>month_dep_delay_avg</th>\n",
       "      <th>...</th>\n",
       "      <th>arr_time_desc_morning</th>\n",
       "      <th>arr_time_desc_noon</th>\n",
       "      <th>orr_busy_high</th>\n",
       "      <th>orr_busy_low</th>\n",
       "      <th>orr_busy_medium</th>\n",
       "      <th>orr_busy_medium-high</th>\n",
       "      <th>arr_busy_high</th>\n",
       "      <th>arr_busy_low</th>\n",
       "      <th>arr_busy_medium</th>\n",
       "      <th>arr_busy_medium-high</th>\n",
       "    </tr>\n",
       "  </thead>\n",
       "  <tbody>\n",
       "    <tr>\n",
       "      <th>454477</th>\n",
       "      <td>16</td>\n",
       "      <td>4362</td>\n",
       "      <td>201</td>\n",
       "      <td>295</td>\n",
       "      <td>89.0</td>\n",
       "      <td>292</td>\n",
       "      <td>2</td>\n",
       "      <td>13</td>\n",
       "      <td>-6.0</td>\n",
       "      <td>-2.0</td>\n",
       "      <td>...</td>\n",
       "      <td>0</td>\n",
       "      <td>0</td>\n",
       "      <td>0</td>\n",
       "      <td>0</td>\n",
       "      <td>0</td>\n",
       "      <td>1</td>\n",
       "      <td>0</td>\n",
       "      <td>0</td>\n",
       "      <td>1</td>\n",
       "      <td>0</td>\n",
       "    </tr>\n",
       "    <tr>\n",
       "      <th>411123</th>\n",
       "      <td>5</td>\n",
       "      <td>3367</td>\n",
       "      <td>116</td>\n",
       "      <td>326</td>\n",
       "      <td>231.0</td>\n",
       "      <td>1608</td>\n",
       "      <td>5</td>\n",
       "      <td>15</td>\n",
       "      <td>-6.0</td>\n",
       "      <td>-2.0</td>\n",
       "      <td>...</td>\n",
       "      <td>0</td>\n",
       "      <td>0</td>\n",
       "      <td>0</td>\n",
       "      <td>0</td>\n",
       "      <td>0</td>\n",
       "      <td>1</td>\n",
       "      <td>0</td>\n",
       "      <td>0</td>\n",
       "      <td>1</td>\n",
       "      <td>0</td>\n",
       "    </tr>\n",
       "    <tr>\n",
       "      <th>882734</th>\n",
       "      <td>21</td>\n",
       "      <td>3109</td>\n",
       "      <td>263</td>\n",
       "      <td>308</td>\n",
       "      <td>135.0</td>\n",
       "      <td>784</td>\n",
       "      <td>8</td>\n",
       "      <td>12</td>\n",
       "      <td>-5.0</td>\n",
       "      <td>-2.0</td>\n",
       "      <td>...</td>\n",
       "      <td>0</td>\n",
       "      <td>0</td>\n",
       "      <td>0</td>\n",
       "      <td>0</td>\n",
       "      <td>1</td>\n",
       "      <td>0</td>\n",
       "      <td>0</td>\n",
       "      <td>1</td>\n",
       "      <td>0</td>\n",
       "      <td>0</td>\n",
       "    </tr>\n",
       "    <tr>\n",
       "      <th>856290</th>\n",
       "      <td>8</td>\n",
       "      <td>6180</td>\n",
       "      <td>21</td>\n",
       "      <td>234</td>\n",
       "      <td>81.0</td>\n",
       "      <td>302</td>\n",
       "      <td>4</td>\n",
       "      <td>22</td>\n",
       "      <td>-7.0</td>\n",
       "      <td>-3.0</td>\n",
       "      <td>...</td>\n",
       "      <td>0</td>\n",
       "      <td>0</td>\n",
       "      <td>1</td>\n",
       "      <td>0</td>\n",
       "      <td>0</td>\n",
       "      <td>0</td>\n",
       "      <td>0</td>\n",
       "      <td>1</td>\n",
       "      <td>0</td>\n",
       "      <td>0</td>\n",
       "    </tr>\n",
       "    <tr>\n",
       "      <th>46751</th>\n",
       "      <td>8</td>\n",
       "      <td>1748</td>\n",
       "      <td>21</td>\n",
       "      <td>92</td>\n",
       "      <td>103.0</td>\n",
       "      <td>547</td>\n",
       "      <td>3</td>\n",
       "      <td>10</td>\n",
       "      <td>-6.0</td>\n",
       "      <td>-2.0</td>\n",
       "      <td>...</td>\n",
       "      <td>0</td>\n",
       "      <td>0</td>\n",
       "      <td>1</td>\n",
       "      <td>0</td>\n",
       "      <td>0</td>\n",
       "      <td>0</td>\n",
       "      <td>0</td>\n",
       "      <td>0</td>\n",
       "      <td>0</td>\n",
       "      <td>1</td>\n",
       "    </tr>\n",
       "    <tr>\n",
       "      <th>...</th>\n",
       "      <td>...</td>\n",
       "      <td>...</td>\n",
       "      <td>...</td>\n",
       "      <td>...</td>\n",
       "      <td>...</td>\n",
       "      <td>...</td>\n",
       "      <td>...</td>\n",
       "      <td>...</td>\n",
       "      <td>...</td>\n",
       "      <td>...</td>\n",
       "      <td>...</td>\n",
       "      <td>...</td>\n",
       "      <td>...</td>\n",
       "      <td>...</td>\n",
       "      <td>...</td>\n",
       "      <td>...</td>\n",
       "      <td>...</td>\n",
       "      <td>...</td>\n",
       "      <td>...</td>\n",
       "      <td>...</td>\n",
       "      <td>...</td>\n",
       "    </tr>\n",
       "    <tr>\n",
       "      <th>679891</th>\n",
       "      <td>22</td>\n",
       "      <td>3851</td>\n",
       "      <td>192</td>\n",
       "      <td>71</td>\n",
       "      <td>267.0</td>\n",
       "      <td>2052</td>\n",
       "      <td>4</td>\n",
       "      <td>5</td>\n",
       "      <td>-7.0</td>\n",
       "      <td>-3.0</td>\n",
       "      <td>...</td>\n",
       "      <td>0</td>\n",
       "      <td>0</td>\n",
       "      <td>1</td>\n",
       "      <td>0</td>\n",
       "      <td>0</td>\n",
       "      <td>0</td>\n",
       "      <td>0</td>\n",
       "      <td>0</td>\n",
       "      <td>1</td>\n",
       "      <td>0</td>\n",
       "    </tr>\n",
       "    <tr>\n",
       "      <th>893207</th>\n",
       "      <td>25</td>\n",
       "      <td>5222</td>\n",
       "      <td>268</td>\n",
       "      <td>122</td>\n",
       "      <td>93.0</td>\n",
       "      <td>493</td>\n",
       "      <td>8</td>\n",
       "      <td>2</td>\n",
       "      <td>-5.0</td>\n",
       "      <td>-2.0</td>\n",
       "      <td>...</td>\n",
       "      <td>0</td>\n",
       "      <td>0</td>\n",
       "      <td>0</td>\n",
       "      <td>0</td>\n",
       "      <td>0</td>\n",
       "      <td>1</td>\n",
       "      <td>0</td>\n",
       "      <td>0</td>\n",
       "      <td>1</td>\n",
       "      <td>0</td>\n",
       "    </tr>\n",
       "    <tr>\n",
       "      <th>588997</th>\n",
       "      <td>17</td>\n",
       "      <td>3467</td>\n",
       "      <td>93</td>\n",
       "      <td>202</td>\n",
       "      <td>218.0</td>\n",
       "      <td>1389</td>\n",
       "      <td>8</td>\n",
       "      <td>23</td>\n",
       "      <td>-5.0</td>\n",
       "      <td>-2.0</td>\n",
       "      <td>...</td>\n",
       "      <td>0</td>\n",
       "      <td>1</td>\n",
       "      <td>1</td>\n",
       "      <td>0</td>\n",
       "      <td>0</td>\n",
       "      <td>0</td>\n",
       "      <td>0</td>\n",
       "      <td>0</td>\n",
       "      <td>0</td>\n",
       "      <td>1</td>\n",
       "    </tr>\n",
       "    <tr>\n",
       "      <th>790954</th>\n",
       "      <td>2</td>\n",
       "      <td>152</td>\n",
       "      <td>181</td>\n",
       "      <td>193</td>\n",
       "      <td>369.0</td>\n",
       "      <td>2475</td>\n",
       "      <td>10</td>\n",
       "      <td>10</td>\n",
       "      <td>-7.0</td>\n",
       "      <td>-3.0</td>\n",
       "      <td>...</td>\n",
       "      <td>0</td>\n",
       "      <td>1</td>\n",
       "      <td>0</td>\n",
       "      <td>0</td>\n",
       "      <td>0</td>\n",
       "      <td>1</td>\n",
       "      <td>1</td>\n",
       "      <td>0</td>\n",
       "      <td>0</td>\n",
       "      <td>0</td>\n",
       "    </tr>\n",
       "    <tr>\n",
       "      <th>220708</th>\n",
       "      <td>8</td>\n",
       "      <td>1919</td>\n",
       "      <td>239</td>\n",
       "      <td>337</td>\n",
       "      <td>95.0</td>\n",
       "      <td>448</td>\n",
       "      <td>11</td>\n",
       "      <td>19</td>\n",
       "      <td>-7.0</td>\n",
       "      <td>-3.0</td>\n",
       "      <td>...</td>\n",
       "      <td>0</td>\n",
       "      <td>0</td>\n",
       "      <td>0</td>\n",
       "      <td>0</td>\n",
       "      <td>0</td>\n",
       "      <td>1</td>\n",
       "      <td>0</td>\n",
       "      <td>0</td>\n",
       "      <td>1</td>\n",
       "      <td>0</td>\n",
       "    </tr>\n",
       "  </tbody>\n",
       "</table>\n",
       "<p>100000 rows × 45 columns</p>\n",
       "</div>"
      ],
      "text/plain": [
       "        op_unique_carrier  tail_num  origin  dest  crs_elapsed_time  distance  \\\n",
       "454477                 16      4362     201   295              89.0       292   \n",
       "411123                  5      3367     116   326             231.0      1608   \n",
       "882734                 21      3109     263   308             135.0       784   \n",
       "856290                  8      6180      21   234              81.0       302   \n",
       "46751                   8      1748      21    92             103.0       547   \n",
       "...                   ...       ...     ...   ...               ...       ...   \n",
       "679891                 22      3851     192    71             267.0      2052   \n",
       "893207                 25      5222     268   122              93.0       493   \n",
       "588997                 17      3467      93   202             218.0      1389   \n",
       "790954                  2       152     181   193             369.0      2475   \n",
       "220708                  8      1919     239   337              95.0       448   \n",
       "\n",
       "        month  day  month_arr_delay_avg  month_dep_delay_avg  ...  \\\n",
       "454477      2   13                 -6.0                 -2.0  ...   \n",
       "411123      5   15                 -6.0                 -2.0  ...   \n",
       "882734      8   12                 -5.0                 -2.0  ...   \n",
       "856290      4   22                 -7.0                 -3.0  ...   \n",
       "46751       3   10                 -6.0                 -2.0  ...   \n",
       "...       ...  ...                  ...                  ...  ...   \n",
       "679891      4    5                 -7.0                 -3.0  ...   \n",
       "893207      8    2                 -5.0                 -2.0  ...   \n",
       "588997      8   23                 -5.0                 -2.0  ...   \n",
       "790954     10   10                 -7.0                 -3.0  ...   \n",
       "220708     11   19                 -7.0                 -3.0  ...   \n",
       "\n",
       "        arr_time_desc_morning  arr_time_desc_noon  orr_busy_high  \\\n",
       "454477                      0                   0              0   \n",
       "411123                      0                   0              0   \n",
       "882734                      0                   0              0   \n",
       "856290                      0                   0              1   \n",
       "46751                       0                   0              1   \n",
       "...                       ...                 ...            ...   \n",
       "679891                      0                   0              1   \n",
       "893207                      0                   0              0   \n",
       "588997                      0                   1              1   \n",
       "790954                      0                   1              0   \n",
       "220708                      0                   0              0   \n",
       "\n",
       "        orr_busy_low  orr_busy_medium  orr_busy_medium-high  arr_busy_high  \\\n",
       "454477             0                0                     1              0   \n",
       "411123             0                0                     1              0   \n",
       "882734             0                1                     0              0   \n",
       "856290             0                0                     0              0   \n",
       "46751              0                0                     0              0   \n",
       "...              ...              ...                   ...            ...   \n",
       "679891             0                0                     0              0   \n",
       "893207             0                0                     1              0   \n",
       "588997             0                0                     0              0   \n",
       "790954             0                0                     1              1   \n",
       "220708             0                0                     1              0   \n",
       "\n",
       "        arr_busy_low  arr_busy_medium  arr_busy_medium-high  \n",
       "454477             0                1                     0  \n",
       "411123             0                1                     0  \n",
       "882734             1                0                     0  \n",
       "856290             1                0                     0  \n",
       "46751              0                0                     1  \n",
       "...              ...              ...                   ...  \n",
       "679891             0                1                     0  \n",
       "893207             0                1                     0  \n",
       "588997             0                0                     1  \n",
       "790954             0                0                     0  \n",
       "220708             0                1                     0  \n",
       "\n",
       "[100000 rows x 45 columns]"
      ]
     },
     "execution_count": 261,
     "metadata": {},
     "output_type": "execute_result"
    }
   ],
   "source": [
    "X"
   ]
  },
  {
   "cell_type": "code",
   "execution_count": 262,
   "metadata": {},
   "outputs": [],
   "source": [
    "X_transformed = X.to_numpy()\n",
    "y_transformed = y.to_numpy().reshape(-1,1)"
   ]
  },
  {
   "cell_type": "code",
   "execution_count": 263,
   "metadata": {},
   "outputs": [
    {
     "data": {
      "text/plain": [
       "'\\nnumber_of_rows = X_transformed.shape[0]\\nrandom_indices = np.random.choice(number_of_rows, size=100000, replace=False)\\nX_transformed_sample = X_transformed[random_indices, :]\\n\\nnumber_of_rows = y.shape[0]\\ny_sample = y[random_indices]\\n\\nX_transformed_sample.shape, y_sample.shape\\n'"
      ]
     },
     "execution_count": 263,
     "metadata": {},
     "output_type": "execute_result"
    }
   ],
   "source": [
    "'''\n",
    "number_of_rows = X_transformed.shape[0]\n",
    "random_indices = np.random.choice(number_of_rows, size=100000, replace=False)\n",
    "X_transformed_sample = X_transformed[random_indices, :]\n",
    "\n",
    "number_of_rows = y.shape[0]\n",
    "y_sample = y[random_indices]\n",
    "\n",
    "X_transformed_sample.shape, y_sample.shape\n",
    "'''"
   ]
  },
  {
   "cell_type": "code",
   "execution_count": 264,
   "metadata": {},
   "outputs": [
    {
     "data": {
      "text/plain": [
       "array([[1.600e+01, 4.362e+03, 2.010e+02, ..., 0.000e+00, 1.000e+00,\n",
       "        0.000e+00],\n",
       "       [5.000e+00, 3.367e+03, 1.160e+02, ..., 0.000e+00, 1.000e+00,\n",
       "        0.000e+00],\n",
       "       [2.100e+01, 3.109e+03, 2.630e+02, ..., 1.000e+00, 0.000e+00,\n",
       "        0.000e+00],\n",
       "       ...,\n",
       "       [1.700e+01, 3.467e+03, 9.300e+01, ..., 0.000e+00, 0.000e+00,\n",
       "        1.000e+00],\n",
       "       [2.000e+00, 1.520e+02, 1.810e+02, ..., 0.000e+00, 0.000e+00,\n",
       "        0.000e+00],\n",
       "       [8.000e+00, 1.919e+03, 2.390e+02, ..., 0.000e+00, 1.000e+00,\n",
       "        0.000e+00]])"
      ]
     },
     "execution_count": 264,
     "metadata": {},
     "output_type": "execute_result"
    }
   ],
   "source": [
    "X_transformed"
   ]
  },
  {
   "cell_type": "code",
   "execution_count": 265,
   "metadata": {},
   "outputs": [],
   "source": [
    "xtrain, xtest, ytrain, ytest = train_test_split(X_transformed, y_transformed, test_size=0.2)"
   ]
  },
  {
   "cell_type": "code",
   "execution_count": 72,
   "metadata": {},
   "outputs": [],
   "source": [
    "import xgboost as xgb"
   ]
  },
  {
   "cell_type": "code",
   "execution_count": 73,
   "metadata": {},
   "outputs": [
    {
     "data": {
      "text/plain": [
       "0.09313127557387135"
      ]
     },
     "execution_count": 73,
     "metadata": {},
     "output_type": "execute_result"
    }
   ],
   "source": [
    "xg_reg = xgb.XGBRegressor()\n",
    "\n",
    "xg_reg.fit(xtrain, ytrain)\n",
    "xg_reg.score(xtest, ytest)"
   ]
  },
  {
   "cell_type": "code",
   "execution_count": 74,
   "metadata": {},
   "outputs": [],
   "source": [
    "rfr = RandomForestRegressor()"
   ]
  },
  {
   "cell_type": "code",
   "execution_count": 75,
   "metadata": {},
   "outputs": [
    {
     "data": {
      "text/plain": [
       "RandomForestRegressor()"
      ]
     },
     "execution_count": 75,
     "metadata": {},
     "output_type": "execute_result"
    }
   ],
   "source": [
    "rfr.fit(xtrain, ytrain)"
   ]
  },
  {
   "cell_type": "code",
   "execution_count": 77,
   "metadata": {},
   "outputs": [
    {
     "data": {
      "text/plain": [
       "0.09954940836433201"
      ]
     },
     "execution_count": 77,
     "metadata": {},
     "output_type": "execute_result"
    }
   ],
   "source": [
    "rfr.score(xtest, ytest)"
   ]
  },
  {
   "cell_type": "code",
   "execution_count": 50,
   "metadata": {},
   "outputs": [],
   "source": [
    "def plot_feature_importance(importance,names,model_type):\n",
    "\n",
    "#Create arrays from feature importance and feature names\n",
    "    feature_importance = np.array(importance)\n",
    "    feature_names = np.array(names)\n",
    "\n",
    "#Create a DataFrame using a Dictionary\n",
    "    data={'feature_names':feature_names,'feature_importance':feature_importance}\n",
    "    fi_df = pd.DataFrame(data)\n",
    "\n",
    "#Sort the DataFrame in order decreasing feature importance\n",
    "    fi_df.sort_values(by=['feature_importance'], ascending=False,inplace=True)\n",
    "\n",
    "#Define size of bar plot\n",
    "    plt.figure(figsize=(10,8))\n",
    "#Plot Searborn bar chart\n",
    "    sns.barplot(x=fi_df['feature_importance'], y=fi_df['feature_names'])\n",
    "#Add chart labels\n",
    "    plt.title(model_type + 'FEATURE IMPORTANCE')\n",
    "    plt.xlabel('FEATURE IMPORTANCE')\n",
    "    plt.ylabel('FEATURE NAMES')"
   ]
  },
  {
   "cell_type": "code",
   "execution_count": 81,
   "metadata": {},
   "outputs": [
    {
     "data": {
      "image/png": "[encoded data removed]",
      "text/plain": [
       "<Figure size 720x576 with 1 Axes>"
      ]
     },
     "metadata": {
      "needs_background": "light"
     },
     "output_type": "display_data"
    }
   ],
   "source": [
    "plot_feature_importance(rfr.feature_importances_, X.columns, 'Random Forest')"
   ]
  },
  {
   "cell_type": "code",
   "execution_count": 52,
   "metadata": {},
   "outputs": [
    {
     "data": {
      "text/plain": [
       "45"
      ]
     },
     "execution_count": 52,
     "metadata": {},
     "output_type": "execute_result"
    }
   ],
   "source": [
    "len(rfr.feature_importances_)"
   ]
  },
  {
   "cell_type": "code",
   "execution_count": 55,
   "metadata": {},
   "outputs": [
    {
     "data": {
      "text/plain": [
       "Index(['op_unique_carrier', 'tail_num', 'origin', 'dest', 'crs_elapsed_time',\n",
       "       'distance', 'month', 'day', 'month_arr_delay_avg',\n",
       "       'month_dep_delay_avg', 'is_weekend', 'dep_hour', 'dep_min', 'arr_hour',\n",
       "       'arr_min', 'dep_time_desc', 'arr_time_desc', 'plane_score', 'orr_busy',\n",
       "       'arr_busy', 'route_mean_delay', 'route_median_delay', 'route_lq_delay',\n",
       "       'route_uq_delay', 'route_prob_delay', 'route_mean_dep_delay',\n",
       "       'route_median_dep_delay', 'route_lq_dep_delay', 'route_uq_dep_delay'],\n",
       "      dtype='object')"
      ]
     },
     "execution_count": 55,
     "metadata": {},
     "output_type": "execute_result"
    }
   ],
   "source": [
    "X.columns"
   ]
  },
  {
   "cell_type": "code",
   "execution_count": 266,
   "metadata": {},
   "outputs": [],
   "source": [
    "gbr = GradientBoostingRegressor()"
   ]
  },
  {
   "cell_type": "code",
   "execution_count": 267,
   "metadata": {},
   "outputs": [
    {
     "data": {
      "text/plain": [
       "GradientBoostingRegressor()"
      ]
     },
     "execution_count": 267,
     "metadata": {},
     "output_type": "execute_result"
    }
   ],
   "source": [
    "gbr.fit(xtrain, ytrain)"
   ]
  },
  {
   "cell_type": "code",
   "execution_count": 268,
   "metadata": {},
   "outputs": [
    {
     "data": {
      "text/plain": [
       "0.14574806906254678"
      ]
     },
     "execution_count": 268,
     "metadata": {},
     "output_type": "execute_result"
    }
   ],
   "source": [
    "gbr.score(xtest, ytest)"
   ]
  },
  {
   "cell_type": "code",
   "execution_count": 269,
   "metadata": {},
   "outputs": [],
   "source": [
    "y_pred = gbr.predict(xtest)"
   ]
  },
  {
   "cell_type": "code",
   "execution_count": 274,
   "metadata": {},
   "outputs": [
    {
     "data": {
      "image/png": "[encoded data removed]",
      "text/plain": [
       "<Figure size 432x288 with 1 Axes>"
      ]
     },
     "metadata": {
      "needs_background": "light"
     },
     "output_type": "display_data"
    }
   ],
   "source": [
    "sns.scatterplot(x=y_pred, y=ytest.reshape(1,-1)[0])\n",
    "sns.despine()\n",
    "plt.show()"
   ]
  },
  {
   "cell_type": "code",
   "execution_count": 82,
   "metadata": {},
   "outputs": [
    {
     "data": {
      "image/png": "[encoded data removed]",
      "text/plain": [
       "<Figure size 720x576 with 1 Axes>"
      ]
     },
     "metadata": {
      "needs_background": "light"
     },
     "output_type": "display_data"
    }
   ],
   "source": [
    "plot_feature_importance(gbr.feature_importances_, X.columns, 'Gradient Boost')"
   ]
  },
  {
   "cell_type": "markdown",
   "metadata": {},
   "source": [
    "## Test 2: Only Flights Data - Drop a few features!"
   ]
  },
  {
   "cell_type": "code",
   "execution_count": 84,
   "metadata": {},
   "outputs": [],
   "source": [
    "flights_df2 = flights[['route_mean_delay', 'route_mean_dep_delay', 'plane_score', 'route_median_delay', 'crs_elapsed_time',\n",
    "                      'route_lq_delay', 'arr_hour', 'route_uq_delay', 'tail_num', 'dep_min', 'dep_hour', 'origin', 'route_prob_delay',\n",
    "                      'dest', 'arr_min', 'arr_delay']]"
   ]
  },
  {
   "cell_type": "code",
   "execution_count": null,
   "metadata": {},
   "outputs": [],
   "source": [
    "flights_df2 = flights_df2.sample(frac=1)[:100000]"
   ]
  },
  {
   "cell_type": "code",
   "execution_count": 93,
   "metadata": {},
   "outputs": [],
   "source": [
    "X = flights_df2.drop('arr_delay', axis=1)\n",
    "y = flights_df2['arr_delay']"
   ]
  },
  {
   "cell_type": "code",
   "execution_count": 95,
   "metadata": {},
   "outputs": [],
   "source": [
    "tail_num_le = LabelEncoder()\n",
    "X['tail_num'] = tail_num_le.fit_transform(X['tail_num'])\n",
    "\n",
    "# Label encode origin and destination\n",
    "airports_le = LabelEncoder()\n",
    "X['origin'] = airports_le.fit_transform(X['origin'])\n",
    "X['dest'] = airports_le.fit_transform(X['dest'])"
   ]
  },
  {
   "cell_type": "code",
   "execution_count": 96,
   "metadata": {},
   "outputs": [
    {
     "data": {
      "text/plain": [
       "((100000, 15), (100000,))"
      ]
     },
     "execution_count": 96,
     "metadata": {},
     "output_type": "execute_result"
    }
   ],
   "source": [
    "X_transformed = X.to_numpy()\n",
    "y_transformed = y.to_numpy().reshape(-1,1)"
   ]
  },
  {
   "cell_type": "code",
   "execution_count": 97,
   "metadata": {},
   "outputs": [],
   "source": [
    "xtrain, xtest, ytrain, ytest = train_test_split(X_transformed, y_transformed, test_size=0.2)"
   ]
  },
  {
   "cell_type": "code",
   "execution_count": 98,
   "metadata": {},
   "outputs": [],
   "source": [
    "gbr = GradientBoostingRegressor()"
   ]
  },
  {
   "cell_type": "code",
   "execution_count": 99,
   "metadata": {},
   "outputs": [
    {
     "data": {
      "text/plain": [
       "0.13102252051156782"
      ]
     },
     "execution_count": 99,
     "metadata": {},
     "output_type": "execute_result"
    }
   ],
   "source": [
    "gbr.fit(xtrain, ytrain)\n",
    "gbr.score(xtest, ytest)"
   ]
  },
  {
   "cell_type": "markdown",
   "metadata": {},
   "source": [
    "## Test 3: Incorporating Weather Data"
   ]
  },
  {
   "cell_type": "code",
   "execution_count": 275,
   "metadata": {},
   "outputs": [],
   "source": [
    "flights_df3 = pd.merge(flights, weather, on=['date','origin', 'dest'], how='inner')"
   ]
  },
  {
   "cell_type": "code",
   "execution_count": 276,
   "metadata": {},
   "outputs": [
    {
     "data": {
      "text/plain": [
       "(102479, 73)"
      ]
     },
     "execution_count": 276,
     "metadata": {},
     "output_type": "execute_result"
    }
   ],
   "source": [
    "flights_df3.shape"
   ]
  },
  {
   "cell_type": "code",
   "execution_count": 277,
   "metadata": {},
   "outputs": [],
   "source": [
    "flights_df3 = flights_df3.drop_duplicates()"
   ]
  },
  {
   "cell_type": "code",
   "execution_count": 278,
   "metadata": {},
   "outputs": [
    {
     "data": {
      "text/plain": [
       "(102263, 73)"
      ]
     },
     "execution_count": 278,
     "metadata": {},
     "output_type": "execute_result"
    }
   ],
   "source": [
    "flights_df3.shape"
   ]
  },
  {
   "cell_type": "code",
   "execution_count": 279,
   "metadata": {},
   "outputs": [],
   "source": [
    "flights_df3 = flights_df3[['op_unique_carrier', 'tail_num', 'origin', 'dest', 'arr_delay_x', 'crs_elapsed_time',\n",
    "                          'distance', 'month', 'day', 'month_arr_delay_avg', 'month_dep_delay_avg', 'is_weekend',\n",
    "                          'dep_hour', 'dep_min', 'arr_hour', 'arr_min', 'dep_time_desc', 'arr_time_desc',\n",
    "                          'plane_score', 'orr_busy', 'arr_busy', 'route_mean_delay', 'route_median_delay', 'route_lq_delay', 'route_uq_delay',\n",
    "                          'route_prob_delay','route_mean_dep_delay', 'route_median_dep_delay', 'route_lq_dep_delay',\n",
    "                           'route_uq_dep_delay','dep_avg_temp',\n",
    "                           'dep_precip_mm', 'dep_humidity', 'dep_visibility', 'dep_total_snowcm',\n",
    "                           'dep_windspeed', 'arr_avg_temp',\n",
    "                            'arr_precip_mm', 'arr_humidity', 'arr_visibility', 'arr_total_snowcm',\n",
    "                           'arr_windspeed']]"
   ]
  },
  {
   "cell_type": "code",
   "execution_count": 280,
   "metadata": {},
   "outputs": [],
   "source": [
    "flights_df3.rename(columns={'arr_delay_x': 'arr_delay'}, inplace=True)"
   ]
  },
  {
   "cell_type": "code",
   "execution_count": 281,
   "metadata": {},
   "outputs": [
    {
     "data": {
      "text/html": [
       "<div>\n",
       "<style scoped>\n",
       "    .dataframe tbody tr th:only-of-type {\n",
       "        vertical-align: middle;\n",
       "    }\n",
       "\n",
       "    .dataframe tbody tr th {\n",
       "        vertical-align: top;\n",
       "    }\n",
       "\n",
       "    .dataframe thead th {\n",
       "        text-align: right;\n",
       "    }\n",
       "</style>\n",
       "<table border=\"1\" class=\"dataframe\">\n",
       "  <thead>\n",
       "    <tr style=\"text-align: right;\">\n",
       "      <th></th>\n",
       "      <th>op_unique_carrier</th>\n",
       "      <th>tail_num</th>\n",
       "      <th>origin</th>\n",
       "      <th>dest</th>\n",
       "      <th>arr_delay</th>\n",
       "      <th>crs_elapsed_time</th>\n",
       "      <th>distance</th>\n",
       "      <th>month</th>\n",
       "      <th>day</th>\n",
       "      <th>month_arr_delay_avg</th>\n",
       "      <th>...</th>\n",
       "      <th>dep_humidity</th>\n",
       "      <th>dep_visibility</th>\n",
       "      <th>dep_total_snowcm</th>\n",
       "      <th>dep_windspeed</th>\n",
       "      <th>arr_avg_temp</th>\n",
       "      <th>arr_precip_mm</th>\n",
       "      <th>arr_humidity</th>\n",
       "      <th>arr_visibility</th>\n",
       "      <th>arr_total_snowcm</th>\n",
       "      <th>arr_windspeed</th>\n",
       "    </tr>\n",
       "  </thead>\n",
       "  <tbody>\n",
       "    <tr>\n",
       "      <th>0</th>\n",
       "      <td>UA</td>\n",
       "      <td>N76288</td>\n",
       "      <td>SEA</td>\n",
       "      <td>ORD</td>\n",
       "      <td>-19.0</td>\n",
       "      <td>239.0</td>\n",
       "      <td>1721</td>\n",
       "      <td>3</td>\n",
       "      <td>27</td>\n",
       "      <td>-6.0</td>\n",
       "      <td>...</td>\n",
       "      <td>57</td>\n",
       "      <td>10</td>\n",
       "      <td>0.0</td>\n",
       "      <td>13</td>\n",
       "      <td>24</td>\n",
       "      <td>0.0</td>\n",
       "      <td>48</td>\n",
       "      <td>10</td>\n",
       "      <td>0.0</td>\n",
       "      <td>5</td>\n",
       "    </tr>\n",
       "    <tr>\n",
       "      <th>1</th>\n",
       "      <td>UA</td>\n",
       "      <td>N845UA</td>\n",
       "      <td>SEA</td>\n",
       "      <td>ORD</td>\n",
       "      <td>-12.0</td>\n",
       "      <td>240.0</td>\n",
       "      <td>1721</td>\n",
       "      <td>3</td>\n",
       "      <td>12</td>\n",
       "      <td>-6.0</td>\n",
       "      <td>...</td>\n",
       "      <td>73</td>\n",
       "      <td>9</td>\n",
       "      <td>0.0</td>\n",
       "      <td>13</td>\n",
       "      <td>24</td>\n",
       "      <td>0.0</td>\n",
       "      <td>63</td>\n",
       "      <td>10</td>\n",
       "      <td>0.0</td>\n",
       "      <td>12</td>\n",
       "    </tr>\n",
       "    <tr>\n",
       "      <th>2</th>\n",
       "      <td>UA</td>\n",
       "      <td>N76269</td>\n",
       "      <td>SEA</td>\n",
       "      <td>ORD</td>\n",
       "      <td>-12.0</td>\n",
       "      <td>237.0</td>\n",
       "      <td>1721</td>\n",
       "      <td>3</td>\n",
       "      <td>26</td>\n",
       "      <td>-6.0</td>\n",
       "      <td>...</td>\n",
       "      <td>54</td>\n",
       "      <td>10</td>\n",
       "      <td>0.0</td>\n",
       "      <td>9</td>\n",
       "      <td>26</td>\n",
       "      <td>0.0</td>\n",
       "      <td>49</td>\n",
       "      <td>10</td>\n",
       "      <td>0.0</td>\n",
       "      <td>4</td>\n",
       "    </tr>\n",
       "    <tr>\n",
       "      <th>3</th>\n",
       "      <td>UA</td>\n",
       "      <td>N76269</td>\n",
       "      <td>SEA</td>\n",
       "      <td>ORD</td>\n",
       "      <td>-12.0</td>\n",
       "      <td>237.0</td>\n",
       "      <td>1721</td>\n",
       "      <td>3</td>\n",
       "      <td>26</td>\n",
       "      <td>-6.0</td>\n",
       "      <td>...</td>\n",
       "      <td>54</td>\n",
       "      <td>10</td>\n",
       "      <td>0.0</td>\n",
       "      <td>9</td>\n",
       "      <td>26</td>\n",
       "      <td>0.0</td>\n",
       "      <td>49</td>\n",
       "      <td>10</td>\n",
       "      <td>0.0</td>\n",
       "      <td>4</td>\n",
       "    </tr>\n",
       "    <tr>\n",
       "      <th>4</th>\n",
       "      <td>UA</td>\n",
       "      <td>N33262</td>\n",
       "      <td>SEA</td>\n",
       "      <td>ORD</td>\n",
       "      <td>-16.0</td>\n",
       "      <td>239.0</td>\n",
       "      <td>1721</td>\n",
       "      <td>3</td>\n",
       "      <td>26</td>\n",
       "      <td>-6.0</td>\n",
       "      <td>...</td>\n",
       "      <td>54</td>\n",
       "      <td>10</td>\n",
       "      <td>0.0</td>\n",
       "      <td>9</td>\n",
       "      <td>26</td>\n",
       "      <td>0.0</td>\n",
       "      <td>49</td>\n",
       "      <td>10</td>\n",
       "      <td>0.0</td>\n",
       "      <td>4</td>\n",
       "    </tr>\n",
       "  </tbody>\n",
       "</table>\n",
       "<p>5 rows × 42 columns</p>\n",
       "</div>"
      ],
      "text/plain": [
       "  op_unique_carrier tail_num origin dest  arr_delay  crs_elapsed_time  \\\n",
       "0                UA   N76288    SEA  ORD      -19.0             239.0   \n",
       "1                UA   N845UA    SEA  ORD      -12.0             240.0   \n",
       "2                UA   N76269    SEA  ORD      -12.0             237.0   \n",
       "3                UA   N76269    SEA  ORD      -12.0             237.0   \n",
       "4                UA   N33262    SEA  ORD      -16.0             239.0   \n",
       "\n",
       "   distance  month  day  month_arr_delay_avg  ...  dep_humidity  \\\n",
       "0      1721      3   27                 -6.0  ...            57   \n",
       "1      1721      3   12                 -6.0  ...            73   \n",
       "2      1721      3   26                 -6.0  ...            54   \n",
       "3      1721      3   26                 -6.0  ...            54   \n",
       "4      1721      3   26                 -6.0  ...            54   \n",
       "\n",
       "   dep_visibility  dep_total_snowcm  dep_windspeed  arr_avg_temp  \\\n",
       "0              10               0.0             13            24   \n",
       "1               9               0.0             13            24   \n",
       "2              10               0.0              9            26   \n",
       "3              10               0.0              9            26   \n",
       "4              10               0.0              9            26   \n",
       "\n",
       "   arr_precip_mm arr_humidity arr_visibility  arr_total_snowcm arr_windspeed  \n",
       "0            0.0           48             10               0.0             5  \n",
       "1            0.0           63             10               0.0            12  \n",
       "2            0.0           49             10               0.0             4  \n",
       "3            0.0           49             10               0.0             4  \n",
       "4            0.0           49             10               0.0             4  \n",
       "\n",
       "[5 rows x 42 columns]"
      ]
     },
     "execution_count": 281,
     "metadata": {},
     "output_type": "execute_result"
    }
   ],
   "source": [
    "flights_df3.head()"
   ]
  },
  {
   "cell_type": "code",
   "execution_count": 282,
   "metadata": {},
   "outputs": [],
   "source": [
    "flights_df3 = flights_df3.sample(frac=1)[:100000]"
   ]
  },
  {
   "cell_type": "code",
   "execution_count": 283,
   "metadata": {},
   "outputs": [],
   "source": [
    "X = flights_df3.drop('arr_delay', axis=1)\n",
    "y = flights_df3['arr_delay']"
   ]
  },
  {
   "cell_type": "code",
   "execution_count": 284,
   "metadata": {},
   "outputs": [],
   "source": [
    "tail_num_le = LabelEncoder()\n",
    "X['tail_num'] = tail_num_le.fit_transform(X['tail_num'])\n",
    "\n",
    "# Label encode origin and destination\n",
    "airports_le = LabelEncoder()\n",
    "X['origin'] = airports_le.fit_transform(X['origin'])\n",
    "X['dest'] = airports_le.transform(X['dest'])\n",
    "\n",
    "# label encode mkt_carrier\n",
    "mkt_carrier_le = LabelEncoder()\n",
    "X['op_unique_carrier'] = mkt_carrier_le.fit_transform(X['op_unique_carrier'])"
   ]
  },
  {
   "cell_type": "code",
   "execution_count": 285,
   "metadata": {},
   "outputs": [],
   "source": [
    "dummies = pd.get_dummies(X[['dep_time_desc', 'arr_time_desc', 'orr_busy', 'arr_busy']])\n",
    "X = pd.concat([X, dummies], axis=1)"
   ]
  },
  {
   "cell_type": "code",
   "execution_count": 286,
   "metadata": {},
   "outputs": [],
   "source": [
    "X.drop(['dep_time_desc', 'arr_time_desc', 'orr_busy', 'arr_busy'], axis=1, inplace=True)"
   ]
  },
  {
   "cell_type": "code",
   "execution_count": 287,
   "metadata": {},
   "outputs": [],
   "source": [
    "X_transformed = X.to_numpy()"
   ]
  },
  {
   "cell_type": "code",
   "execution_count": 288,
   "metadata": {},
   "outputs": [
    {
     "data": {
      "text/plain": [
       "array([[1.500e+01, 1.621e+03, 1.000e+00, ..., 1.000e+00, 1.000e+00,\n",
       "        0.000e+00],\n",
       "       [6.000e+00, 2.997e+03, 1.000e+00, ..., 1.000e+00, 1.000e+00,\n",
       "        0.000e+00],\n",
       "       [1.300e+01, 2.610e+02, 6.000e+00, ..., 1.000e+00, 1.000e+00,\n",
       "        0.000e+00],\n",
       "       ...,\n",
       "       [1.000e+00, 1.890e+02, 2.000e+00, ..., 0.000e+00, 0.000e+00,\n",
       "        1.000e+00],\n",
       "       [1.000e+00, 3.414e+03, 7.000e+00, ..., 0.000e+00, 0.000e+00,\n",
       "        1.000e+00],\n",
       "       [1.000e+00, 1.350e+02, 4.000e+00, ..., 0.000e+00, 1.000e+00,\n",
       "        0.000e+00]])"
      ]
     },
     "execution_count": 288,
     "metadata": {},
     "output_type": "execute_result"
    }
   ],
   "source": [
    "X_transformed"
   ]
  },
  {
   "cell_type": "code",
   "execution_count": 289,
   "metadata": {},
   "outputs": [],
   "source": [
    "y_transformed = y.to_numpy().reshape(-1,1)"
   ]
  },
  {
   "cell_type": "code",
   "execution_count": 290,
   "metadata": {},
   "outputs": [],
   "source": [
    "xtrain, xtest, ytrain, ytest = train_test_split(X_transformed, y_transformed, test_size=0.2)"
   ]
  },
  {
   "cell_type": "code",
   "execution_count": 291,
   "metadata": {},
   "outputs": [],
   "source": [
    "gbr = GradientBoostingRegressor()"
   ]
  },
  {
   "cell_type": "code",
   "execution_count": 292,
   "metadata": {},
   "outputs": [
    {
     "data": {
      "text/plain": [
       "0.14493702396483887"
      ]
     },
     "execution_count": 292,
     "metadata": {},
     "output_type": "execute_result"
    }
   ],
   "source": [
    "gbr.fit(xtrain, ytrain)\n",
    "gbr.score(xtest, ytest)"
   ]
  },
  {
   "cell_type": "code",
   "execution_count": 293,
   "metadata": {},
   "outputs": [],
   "source": [
    "y_pred_weather = gbr.predict(xtest)"
   ]
  },
  {
   "cell_type": "code",
   "execution_count": 294,
   "metadata": {},
   "outputs": [
    {
     "data": {
      "image/png": "[encoded data removed]",
      "text/plain": [
       "<Figure size 432x288 with 1 Axes>"
      ]
     },
     "metadata": {
      "needs_background": "light"
     },
     "output_type": "display_data"
    }
   ],
   "source": [
    "sns.scatterplot(x=y_pred_weather, y=ytest.reshape(1,-1)[0])\n",
    "sns.despine()\n",
    "plt.show()"
   ]
  },
  {
   "cell_type": "code",
   "execution_count": null,
   "metadata": {},
   "outputs": [],
   "source": []
  }
 ],
 "metadata": {
  "kernelspec": {
   "display_name": "lhl-bootcamp",
   "language": "python",
   "name": "lhl-bootcamp"
  },
  "language_info": {
   "codemirror_mode": {
    "name": "ipython",
    "version": 3
   },
   "file_extension": ".py",
   "mimetype": "text/x-python",
   "name": "python",
   "nbconvert_exporter": "python",
   "pygments_lexer": "ipython3",
   "version": "3.7.7"
  }
 },
 "nbformat": 4,
 "nbformat_minor": 4
}
